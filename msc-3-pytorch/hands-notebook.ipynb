{
 "cells": [
  {
   "cell_type": "code",
   "execution_count": 59,
   "metadata": {},
   "outputs": [
    {
     "name": "stdout",
     "output_type": "stream",
     "text": [
      "The autoreload extension is already loaded. To reload it, use:\n",
      "  %reload_ext autoreload\n"
     ]
    }
   ],
   "source": [
    "import warnings\n",
    "from datetime import datetime\n",
    "from pathlib import Path\n",
    "\n",
    "import numpy as np\n",
    "import torch\n",
    "import torch.nn as nn\n",
    "import torch.optim as optim\n",
    "from torch.cuda.amp import GradScaler, autocast\n",
    "from torch.utils.data import random_split, DataLoader\n",
    "\n",
    "import ignite\n",
    "import ignite.distributed as idist\n",
    "from ignite.contrib.engines import common\n",
    "from ignite.engine import Engine, Events\n",
    "from ignite.handlers import Checkpoint, global_step_from_engine\n",
    "from ignite.metrics import Bleu\n",
    "from ignite.utils import manual_seed, setup_logger\n",
    "\n",
    "from datasets import load_dataset\n",
    "from transformers import ViTConfig, ViTForMaskedImageModeling, ViTModel, ViTFeatureExtractor\n",
    "\n",
    "from ignite.engine import Events, create_supervised_trainer, create_supervised_evaluator\n",
    "from dotmap import DotMap as dm\n",
    "\n",
    "import matplotlib.pyplot as plt\n",
    "import math\n",
    "\n",
    "import hands_dataloader\n",
    "import hands_model\n",
    "\n",
    "%load_ext autoreload"
   ]
  },
  {
   "cell_type": "code",
   "execution_count": 60,
   "metadata": {},
   "outputs": [],
   "source": [
    "%matplotlib inline\n",
    "%autoreload 2"
   ]
  },
  {
   "cell_type": "code",
   "execution_count": 66,
   "metadata": {},
   "outputs": [
    {
     "name": "stdout",
     "output_type": "stream",
     "text": [
      "torch.Size([1, 1, 8])\n",
      "torch.Size([1, 21, 1])\n",
      "torch.Size([1, 21, 16])\n"
     ]
    },
    {
     "name": "stderr",
     "output_type": "stream",
     "text": [
      "/tmp/ipykernel_83598/1829898902.py:1: UserWarning: torch.range is deprecated and will be removed in a future release because its behavior is inconsistent with Python's range builtin. Instead, use torch.arange, which produces values in [start, end).\n",
      "  x = torch.range(-math.pi, math.pi, math.tau/20).unsqueeze(0).to(torch.float32)\n"
     ]
    },
    {
     "data": {
      "image/png": "[encoded data removed]",
      "text/plain": [
       "<Figure size 432x288 with 1 Axes>"
      ]
     },
     "metadata": {
      "needs_background": "light"
     },
     "output_type": "display_data"
    },
    {
     "data": {
      "text/plain": [
       "tensor([[-3.1416, -2.8274, -2.5133, -2.1991, -1.8850, -1.5708, -1.2566, -0.9425,\n",
       "         -0.6283, -0.3142,  0.0000,  0.3142,  0.6283,  0.9425,  1.2566,  1.5708,\n",
       "          1.8850,  2.1991,  2.5133,  2.8274,  3.1416]])"
      ]
     },
     "execution_count": 66,
     "metadata": {},
     "output_type": "execute_result"
    }
   ],
   "source": [
    "x = torch.range(-math.pi, math.pi, math.tau/20).unsqueeze(0).to(torch.float32)\n",
    "\n",
    "pos_embd = hands_model.CustomPositionalEncoding(16, math.tau)\n",
    "\n",
    "pos = pos_embd(x)\n",
    "\n",
    "fig, ax = plt.subplots()\n",
    "ax.imshow(np.array(torch.t(pos[0])))\n",
    "plt.show()\n",
    "\n",
    "x"
   ]
  },
  {
   "cell_type": "code",
   "execution_count": null,
   "metadata": {},
   "outputs": [],
   "source": []
  },
  {
   "cell_type": "code",
   "execution_count": null,
   "metadata": {},
   "outputs": [],
   "source": []
  }
 ],
 "metadata": {
  "interpreter": {
   "hash": "c087321e69f20e235e1e135272b387aff4e6cf387781a9272f81b32f19a71369"
  },
  "kernelspec": {
   "display_name": "Python 3.10.4 ('env': venv)",
   "language": "python",
   "name": "python3"
  },
  "language_info": {
   "codemirror_mode": {
    "name": "ipython",
    "version": 3
   },
   "file_extension": ".py",
   "mimetype": "text/x-python",
   "name": "python",
   "nbconvert_exporter": "python",
   "pygments_lexer": "ipython3",
   "version": "3.10.5"
  },
  "orig_nbformat": 4
 },
 "nbformat": 4,
 "nbformat_minor": 2
}
