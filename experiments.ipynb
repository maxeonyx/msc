{
 "cells": [
  {
   "cell_type": "code",
   "execution_count": 1,
   "metadata": {},
   "outputs": [
    {
     "ename": "AttributeError",
     "evalue": "module 'mx' has no attribute 'init'",
     "output_type": "error",
     "traceback": [
      "\u001b[0;31m---------------------------------------------------------------------------\u001b[0m",
      "\u001b[0;31mAttributeError\u001b[0m                            Traceback (most recent call last)",
      "Cell \u001b[0;32mIn [1], line 2\u001b[0m\n\u001b[1;32m      1\u001b[0m \u001b[39mimport\u001b[39;00m \u001b[39mmx\u001b[39;00m\n\u001b[0;32m----> 2\u001b[0m mx\u001b[39m.\u001b[39minit()\n\u001b[1;32m      3\u001b[0m \u001b[39mimport\u001b[39;00m \u001b[39mmx\u001b[39;00m\u001b[39m.\u001b[39;00m\u001b[39mtrain\u001b[39;00m\n\u001b[1;32m      4\u001b[0m \u001b[39mfrom\u001b[39;00m \u001b[39mmx\u001b[39;00m \u001b[39mimport\u001b[39;00m progress\n",
      "\u001b[0;31mAttributeError\u001b[0m: module 'mx' has no attribute 'init'"
     ]
    }
   ],
   "source": [
    "from mx.progress import init_with_progress\n",
    "init_with_progress()\n",
    "from mx.prelude import *"
   ]
  },
  {
   "cell_type": "code",
   "execution_count": null,
   "metadata": {},
   "outputs": [],
   "source": [
    "from mx import datasets as mxd, tasks as mxt, models as mxm, embedding as mxe, layers as mxl\n",
    "from mx.pipeline import Pipeline\n",
    "\n",
    "bavecdo = Pipeline(\n",
    "    name=\"bavecdo\",\n",
    "    desc=\"Decoder-only transformer for vector regression on BVH data\",\n",
    "    batch_size=32,\n",
    "    n_steps=1000,\n",
    "    model=mxm.DecoderOnlyTransformer(\n",
    "        n_layers=4,\n",
    "        n_heads=16,\n",
    "        n_hidden=2048,\n",
    "    ),\n",
    "    embedding=mxe.TransformerAngleVectorEmbedding(\n",
    "        n_embd=512,\n",
    "        n_repeats=12,\n",
    "    ),\n",
    "    task=mxt.NextUnitVectorPrediction(\n",
    "        chunk_size=32,\n",
    "    ),\n",
    "    dataset=mxd.BvhDataset(\n",
    "        recluster=False,\n",
    "        decimate=False,\n",
    "    ),\n",
    ")"
   ]
  },
  {
   "cell_type": "code",
   "execution_count": null,
   "metadata": {},
   "outputs": [],
   "source": [
    "pipeline = bavecdo"
   ]
  },
  {
   "cell_type": "code",
   "execution_count": null,
   "metadata": {},
   "outputs": [
    {
     "name": "stderr",
     "output_type": "stream",
     "text": [
      "/home/maxeonyx/.local/lib/python3.10/site-packages/keras/initializers/initializers_v2.py:120: UserWarning: The initializer GlorotUniform is unseeded and being called multiple times, which will return identical values  each time (even if the initializer is unseeded). Please update your code to provide a seed to the initializer, or avoid using the same initalizer instance more than once.\n",
      "  warnings.warn(\n"
     ]
    }
   ],
   "source": [
    "from mx.train import build_for_training\n",
    "(\n",
    "    model,\n",
    "    loss_fn,\n",
    "    data,\n",
    "    vizr,\n",
    "    train_loop,\n",
    ") = build_for_training(pipeline)"
   ]
  },
  {
   "cell_type": "code",
   "execution_count": null,
   "metadata": {},
   "outputs": [
    {
     "name": "stderr",
     "output_type": "stream",
     "text": [
      "\n",
      "KeyboardInterrupt\n",
      "\n"
     ]
    }
   ],
   "source": [
    "u.random_run_name()\n",
    "train_loop()"
   ]
  }
 ],
 "metadata": {
  "kernelspec": {
   "display_name": "Python 3.10.7 64-bit",
   "language": "python",
   "name": "python3"
  },
  "language_info": {
   "codemirror_mode": {
    "name": "ipython",
    "version": 3
   },
   "file_extension": ".py",
   "mimetype": "text/x-python",
   "name": "python",
   "nbconvert_exporter": "python",
   "pygments_lexer": "ipython3",
   "version": "3.10.7"
  },
  "orig_nbformat": 4,
  "vscode": {
   "interpreter": {
    "hash": "767d51c1340bd893661ea55ea3124f6de3c7a262a8b4abca0554b478b1e2ff90"
   }
  }
 },
 "nbformat": 4,
 "nbformat_minor": 2
}
