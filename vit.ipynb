{
 "cells": [
  {
   "cell_type": "markdown",
   "id": "36fc2784-4914-4428-bcb9-68d012eabcff",
   "metadata": {},
   "source": [
    "# Vision Transformer Notebook"
   ]
  },
  {
   "cell_type": "code",
   "execution_count": 1,
   "id": "cea50006-f28c-4892-bd2c-6f94df9440a6",
   "metadata": {},
   "outputs": [],
   "source": [
    "model_name = input()\n",
    "print()\n",
    "new_kernel = True\n",
    "\n",
    "use_wandb = True\n",
    "if use_wandb:\n",
    "    wandb_id = wandb.util.generate_id()"
   ]
  },
  {
   "cell_type": "code",
   "execution_count": null,
   "id": "9ef9fdc5-67e8-455c-98ae-7c5552e835e1",
   "metadata": {},
   "outputs": [],
   "source": [
    "config = {\n",
    "    'learning_rate': 0.001,\n",
    "    'model': {\n",
    "        'n_layers': 6,\n",
    "        'n_ff_dim': 200,\n",
    "        'n_embd_dim': 16,\n",
    "        'n_heads': 16,\n",
    "        'use_residual': True,\n",
    "    }\n",
    "}"
   ]
  },
  {
   "cell_type": "code",
   "execution_count": null,
   "id": "a29f7e86-51c3-4eb9-b53d-5d491ffbd476",
   "metadata": {},
   "outputs": [],
   "source": [
    "if use_wandb:\n",
    "    import wandb\n",
    "    resume = not new_kernel\n",
    "    wandb.init(project='conditional-mnist', entity='maxeonyx', name=model_name + '-' + wandb_id, config=config, resume=resume)\n"
   ]
  },
  {
   "cell_type": "code",
   "execution_count": null,
   "id": "1e9406f0-7862-4496-b898-5f2d7ccd927d",
   "metadata": {},
   "outputs": [],
   "source": [
    "import tensorflow as tf\n",
    "import numpy as np\n",
    "from tensorflow import keras\n",
    "from tensorflow.keras import Model, Input, layers\n",
    "from IPython.display import display\n",
    "from PIL import image"
   ]
  },
  {
   "cell_type": "code",
   "execution_count": null,
   "id": "6f007efe-223c-4d8c-bff8-1558f70fd085",
   "metadata": {},
   "outputs": [],
   "source": [
    "def create_patches(patch_size):\n",
    "    \n",
    "    def call(images):\n",
    "        batch_size = tf.shape(images)[0]\n",
    "        patches = tf.images.extract_patches(\n",
    "            images=images,\n",
    "            sizes=[1, patch_size, patch_size, 1],\n",
    "            strides=[1, patch_size, patch_size, 1],\n",
    "            rates=[1,1,1,1],\n",
    "            padding='VALID',\n",
    "        )\n",
    "        patch_dims=patches.shape[-1]\n",
    "        patches = tf.reshape(patches, [batch_size, -1, patch_dims])\n",
    "        return patches\n",
    "    \n",
    "    return call\n",
    "\n",
    "def positional_encoding(dims, scale=1000):\n",
    "    \n",
    "    i = tf.range(dims//2, dtype=tf.float32)\n",
    "    i = tf.expand_dims(i, -2)\n",
    "    \n",
    "    def call(vals):\n",
    "        vals = tf.expand_dims(vals, -1)\n",
    "\n",
    "        # the bit inside the sin / cos\n",
    "        rate = vals / tf.pow(scale, 2.*i/dims)\n",
    "\n",
    "        sin = tf.sin(rate)\n",
    "        cos = tf.cos(rate)\n",
    "\n",
    "        encoding = tf.concat([sin, cos], axis=-1)\n",
    "\n",
    "        return encoding\n",
    "    \n",
    "    return call\n",
    "\n",
    "def positional_embedding(length, output_dim):\n",
    "    embd = layers.Embedding(\n",
    "        input_dim=length,\n",
    "        output_dim=output_dim,\n",
    "    )\n",
    "    def call(vals):\n",
    "        return embd(vals)\n",
    "        \n",
    "\n",
    "def model():\n",
    "    \n",
    "    \n",
    "    \n",
    "    for _ in range(config['n_layers']):\n",
    "        m = transformer_block\n",
    "    "
   ]
  }
 ],
 "metadata": {
  "kernelspec": {
   "display_name": "Python 3 (ipykernel)",
   "language": "python",
   "name": "python3"
  },
  "language_info": {
   "codemirror_mode": {
    "name": "ipython",
    "version": 3
   },
   "file_extension": ".py",
   "mimetype": "text/x-python",
   "name": "python",
   "nbconvert_exporter": "python",
   "pygments_lexer": "ipython3",
   "version": "3.8.12"
  }
 },
 "nbformat": 4,
 "nbformat_minor": 5
}
