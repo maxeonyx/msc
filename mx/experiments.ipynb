{
 "cells": [
  {
   "cell_type": "code",
   "execution_count": null,
   "metadata": {},
   "outputs": [],
   "source": [
    "from mx.progress import init_with_progress\n",
    "init_with_progress()\n",
    "from mx.prelude import *\n",
    "# tf.config.run_functions_eagerly(True)\n",
    "# tf.data.experimental.enable_debug_mode()"
   ]
  },
  {
   "cell_type": "code",
   "execution_count": null,
   "metadata": {},
   "outputs": [],
   "source": []
  },
  {
   "cell_type": "code",
   "execution_count": null,
   "metadata": {},
   "outputs": [],
   "source": [
    "from mx import train\n",
    "\n",
    "rand_run_name = u.random_run_name()\n",
    "run_name_options = [\n",
    "    Box(\n",
    "        default=True,\n",
    "        name=\"dev\",\n",
    "        desc=\"Interactive development\",\n",
    "    ),\n",
    "    Box(\n",
    "        name=\"random\",\n",
    "        desc=f\"'{rand_run_name}' (Random name)\",\n",
    "    ),\n",
    "    Box(\n",
    "        name=\"prev\",\n",
    "        desc=\"Existing previous run\",\n",
    "    ),\n",
    "    Box(\n",
    "        name=\"interactive\",\n",
    "        desc=\"Interactive\",\n",
    "    ),\n",
    "]\n",
    "run_name = choose_from_iterator(run_name_options, \"Run Name\")\n",
    "if run_name.name == \"dev\":\n",
    "    u.set_run_name(\"dev\")\n",
    "    force_new = True\n",
    "    force_not_new = False\n",
    "elif run_name.name == \"prev\":\n",
    "    u.set_run_name(\"blessed\")\n",
    "    force_new = False\n",
    "    force_not_new = True\n",
    "elif run_name.name == \"random\":\n",
    "    u.set_run_name(rand_run_name)\n",
    "    force_new = True\n",
    "    force_not_new = False\n",
    "else:\n",
    "    # default run name is \"interactive-<date>\"\n",
    "    force_new = False\n",
    "    force_not_new = False\n",
    "\n",
    "pipeline = choose_pipeline()\n",
    "\n",
    "output_dir = pipeline.output_dir()\n",
    "\n",
    "if pipeline.use_float16:\n",
    "    tf.keras.mixed_precision.set_global_policy(\"mixed_float16\")\n",
    "\n",
    "if isinstance(pipeline.dataset, mxd.MxMNIST):\n",
    "    u.setregtype('mnist')\n",
    "elif isinstance(pipeline.dataset, mxd.BvhDataset):\n",
    "    u.setregtype('bvh')\n",
    "\n",
    "model = pipeline.make_or_load_model(force_new=force_new, force_not_new=force_not_new)\n",
    "loss_fn = pipeline.make_loss_fn()\n",
    "train_data, val_data = pipeline.make_train_data()\n",
    "predict_fn = pipeline.task.make_predict_fn(model)\n",
    "vizs = pipeline.dataset.get_visualizations(model, output_dir)\n",
    "# vizr = Visualizer(\n",
    "#     visualizations=vizs,\n",
    "#     configs={},\n",
    "# )\n",
    "vizr = None\n",
    "train_loop = train.make_train_loop(\n",
    "    model=model,\n",
    "    loss_fn=loss_fn,\n",
    "    data=train_data,\n",
    "    val_data=val_data,\n",
    "    output_dir=output_dir,\n",
    "    vizr=vizr,\n",
    "    log_interval=\"never\",\n",
    ")"
   ]
  },
  {
   "cell_type": "code",
   "execution_count": null,
   "metadata": {},
   "outputs": [],
   "source": [
    "from mx.progress import create_progress_manager\n",
    "\n",
    "\n",
    "if force_new:\n",
    "    train_loop()\n"
   ]
  }
 ],
 "metadata": {
  "kernelspec": {
   "display_name": "Python 3.10.7 64-bit",
   "language": "python",
   "name": "python3"
  },
  "language_info": {
   "codemirror_mode": {
    "name": "ipython",
    "version": 3
   },
   "file_extension": ".py",
   "mimetype": "text/x-python",
   "name": "python",
   "nbconvert_exporter": "python",
   "pygments_lexer": "ipython3",
   "version": "3.10.7"
  },
  "orig_nbformat": 4,
  "vscode": {
   "interpreter": {
    "hash": "767d51c1340bd893661ea55ea3124f6de3c7a262a8b4abca0554b478b1e2ff90"
   }
  }
 },
 "nbformat": 4,
 "nbformat_minor": 2
}
