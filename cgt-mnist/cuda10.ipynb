{
 "cells": [
  {
   "cell_type": "code",
   "execution_count": 1,
   "id": "a247b8c3-1a9d-42c1-bc9a-41c99ed78357",
   "metadata": {},
   "outputs": [
    {
     "name": "stdout",
     "output_type": "stream",
     "text": [
      "[PhysicalDevice(name='/physical_device:GPU:0', device_type='GPU'), PhysicalDevice(name='/physical_device:GPU:1', device_type='GPU')]\n"
     ]
    }
   ],
   "source": [
    "import os\n",
    "\n",
    "os.environ['CUDA_VISIBLE_DEVICES'] = '0,1'\n",
    "import tensorflow as tf\n",
    "physical_devices = tf.config.list_physical_devices('GPU')\n",
    "print(physical_devices)\n",
    "# assert len(physical_devices) == 3\n",
    "# to allow other tensorflow processes to use the gpu\n",
    "# https://stackoverflow.com/a/60699372/7989988\n",
    "tf.config.experimental.set_memory_growth(physical_devices[0], True)\n",
    "tf.config.experimental.set_memory_growth(physical_devices[1], True)\n",
    "# tf.config.experimental.set_memory_growth(physical_devices[2], True)\n",
    "\n",
    "import numpy as np\n",
    "from tensorflow import keras\n",
    "from tensorflow.keras import Model, Input, layers\n",
    "from IPython.display import display\n",
    "import tensorflow_datasets as tfds\n",
    "import time\n",
    "import matplotlib.pyplot as plt\n",
    "import enlighten\n",
    "import tensorflow_probability as tfp\n",
    "from dotmap import DotMap"
   ]
  },
  {
   "cell_type": "code",
   "execution_count": 2,
   "id": "0e9d8b7f-1fa3-4787-8eb7-a341e673ce60",
   "metadata": {},
   "outputs": [],
   "source": [
    "import models\n",
    "import training\n",
    "import datasets\n",
    "import vizualization\n",
    "import schedules\n",
    "\n",
    "# todo\n",
    "# - combine shuffled and unshuffled datasets into same thing\n",
    "# - add extra shuffled indices and noise\n",
    "# - add \"noise fraction\" parameter which can be changed the same way as the \"n\" parameter.\n",
    "# - add different amounts of noise to the data and see what happens"
   ]
  },
  {
   "cell_type": "code",
   "execution_count": 3,
   "id": "9664a41e-2373-4007-ad5b-04367635212a",
   "metadata": {},
   "outputs": [],
   "source": [
    "config = DotMap({\n",
    "    'ds': 'mnist_binary_7x7',\n",
    "    'distributed': True,\n",
    "    'minibatch_size': 700,\n",
    "    'n_steps': 20000,\n",
    "    'test_size': 300,\n",
    "    'test_minibatch_size': 300,\n",
    "    'test_interval': 100,\n",
    "    'test_n_shuf': [1, 8, 16, 32],\n",
    "    'test_n_seq': [1, 16, 32, 48],\n",
    "    'test_autoregressive': False,\n",
    "    'noise_fraction': 0,\n",
    "    'display_images': False,\n",
    "    'display_image_interval': 2000,\n",
    "    'dont_display_until_loss': 0.45,\n",
    "    'bg_color': [1.0, 0.4, 0.6],\n",
    "    'lr_schedule': None,\n",
    "    'lr_warmup_steps': 300,\n",
    "    'max_lr': 0.0001,\n",
    "    'min_lr': 0.0001,\n",
    "    'grad_accum_steps': None, #['exponential', 1, 4],\n",
    "    'max_accum_steps': 4,\n",
    "    'use_wandb': True,\n",
    "    'wandb_log_interval': 10,\n",
    "    'loss_window_size': 500,\n",
    "})\n",
    "\n",
    "# need to change for multiworkerstrategy\n",
    "if config.distributed:\n",
    "    config.num_devices = len(physical_devices)\n",
    "else:\n",
    "    config.num_devices = 1\n",
    "config.global_batch_size = config.minibatch_size * config.num_devices"
   ]
  },
  {
   "cell_type": "code",
   "execution_count": 4,
   "id": "3d3520fc-ca13-4318-8a43-9036938e8144",
   "metadata": {},
   "outputs": [],
   "source": [
    "gamma_dist, gamma_name = datasets.gamma_distribution_7x7()\n"
   ]
  },
  {
   "cell_type": "code",
   "execution_count": 5,
   "id": "fee847f8-c7e5-4889-af95-b4e635213d46",
   "metadata": {},
   "outputs": [
    {
     "data": {
      "text/html": [
       "<style>\n",
       "</style>\n",
       "<div class=\"enlighten\">\n",
       "  <div class=\"enlighten-bar\">\n",
       "    <pre>                          K-Means clustering to make 2-color MNIST Dataset                          </pre>\n",
       "  </div>\n",
       "  <div class=\"enlighten-bar\">\n",
       "    <pre>cen. 0    cen. 1                                                                                    </pre>\n",
       "  </div>\n",
       "  <div class=\"enlighten-bar\">\n",
       "    <pre>0.012     0.882                                                                                     </pre>\n",
       "  </div>\n",
       "  <div class=\"enlighten-bar\">\n",
       "    <pre>Discretize to 8 colors 100%|██████████████████████████████| 60/60 [00:04&lt;00:00, 16.05 minibatches/s]</pre>\n",
       "  </div>\n",
       "</div>\n"
      ],
      "text/plain": [
       "<IPython.core.display.HTML object>"
      ]
     },
     "metadata": {},
     "output_type": "display_data"
    },
    {
     "name": "stdout",
     "output_type": "stream",
     "text": [
      "WARNING:tensorflow:@custom_gradient grad_fn has 'variables' in signature, but no ResourceVariables were used on the forward pass.\n"
     ]
    },
    {
     "name": "stderr",
     "output_type": "stream",
     "text": [
      "WARNING:tensorflow:@custom_gradient grad_fn has 'variables' in signature, but no ResourceVariables were used on the forward pass.\n"
     ]
    },
    {
     "name": "stdout",
     "output_type": "stream",
     "text": [
      "Not using gradient accumulation\n"
     ]
    }
   ],
   "source": [
    "# idea is to not have to re-run this cell for subsequent training runs unless the centroids change\n",
    "\n",
    "ds_configs = DotMap({\n",
    "    'mnist': {\n",
    "        'buffer_size': 60000,\n",
    "        'name': 'mnist',\n",
    "        'n_colors': 4,\n",
    "        'image_size': (28, 28),\n",
    "    },\n",
    "    'mnist_7x7': {\n",
    "        'buffer_size': 60000,\n",
    "        'name': 'mnist',\n",
    "        'n_colors': 4,\n",
    "        'rescale': (7, 7),\n",
    "    },\n",
    "    'mnist_binary_7x7': {\n",
    "        'buffer_size': 60000,\n",
    "        'name': 'mnist',\n",
    "        'n_colors': 2,\n",
    "        'rescale': (7, 7),\n",
    "    },\n",
    "})\n",
    "\n",
    "config.dataset = ds_configs[config.ds]\n",
    "\n",
    "dataset, metadata = tfds.load(config.dataset.name, with_info=True, as_supervised=True)\n",
    "\n",
    "ds_train_original = dataset['train']\n",
    "ds_test_original = dataset['test']\n",
    "\n",
    "centroids = datasets.find_centroids(ds_train_original, num_clusters=config.dataset.n_colors, batch_size=1000)\n",
    "\n",
    "ds = datasets.Datasets(config, ds_train_original, ds_test_original, centroids, gamma_dist)\n",
    "viz = vizualization.Viz(config, ds, centroids)\n",
    "ds_train, ds_test = ds.make_datasets()\n"
   ]
  },
  {
   "cell_type": "code",
   "execution_count": 6,
   "id": "462f03d4-5dbc-4c9e-b1a5-2f70381fbd94",
   "metadata": {},
   "outputs": [
    {
     "data": {
      "image/png": "[encoded data removed]",
      "text/plain": [
       "<Figure size 1944x216 with 9 Axes>"
      ]
     },
     "metadata": {
      "needs_background": "light"
     },
     "output_type": "display_data"
    }
   ],
   "source": [
    "display_colors, display_idxs, *_ = next(iter(ds_train))\n",
    "if config.grad_accum_steps:\n",
    "    display_colors,display_idxs = display_colors[0],display_idxs[0]\n",
    "viz.showSeq(display_colors, display_idxs, config.dataset.image_size, max_images=9)"
   ]
  },
  {
   "cell_type": "code",
   "execution_count": null,
   "id": "636a3bbc-bc94-4fa4-9966-45fd3e96fa02",
   "metadata": {
    "tags": []
   },
   "outputs": [
    {
     "name": "stdout",
     "output_type": "stream",
     "text": [
      "INFO:tensorflow:Using MirroredStrategy with devices ('/job:localhost/replica:0/task:0/device:GPU:0', '/job:localhost/replica:0/task:0/device:GPU:1')\n"
     ]
    },
    {
     "name": "stderr",
     "output_type": "stream",
     "text": [
      "INFO:tensorflow:Using MirroredStrategy with devices ('/job:localhost/replica:0/task:0/device:GPU:0', '/job:localhost/replica:0/task:0/device:GPU:1')\n"
     ]
    },
    {
     "name": "stdout",
     "output_type": "stream",
     "text": [
      "cuda10-mnist-7x7-n2-bs2x1x700-newgamma\n"
     ]
    },
    {
     "data": {
      "text/html": [
       "Finishing last run (ID:qndvpj5t) before initializing another..."
      ],
      "text/plain": [
       "<IPython.core.display.HTML object>"
      ]
     },
     "metadata": {},
     "output_type": "display_data"
    },
    {
     "data": {
      "text/html": [
       "<br/>Waiting for W&B process to finish, PID 325274... <strong style=\"color:green\">(success).</strong>"
      ],
      "text/plain": [
       "<IPython.core.display.HTML object>"
      ]
     },
     "metadata": {},
     "output_type": "display_data"
    },
    {
     "data": {
      "text/html": [
       "<style>\n",
       "    table.wandb td:nth-child(1) { padding: 0 10px; text-align: right }\n",
       "    .wandb-row { display: flex; flex-direction: row; flex-wrap: wrap; width: 100% }\n",
       "    .wandb-col { display: flex; flex-direction: column; flex-basis: 100%; flex: 1; padding: 10px; }\n",
       "    </style>\n",
       "<div class=\"wandb-row\"><div class=\"wandb-col\">\n",
       "<h3>Run history:</h3><br/><table class=\"wandb\"><tr><td>learning_rate</td><td>▁▁▁▁▁▁▁▁▁▁▁▁▁▁▁▁▁▁▁▁▁▁▁▁▁▁▁▁▁▁▁▁▁▁▁▁▁▁▁▁</td></tr><tr><td>log_loss</td><td>█▆▅▄▃▃▂▂▂▂▂▂▂▁▃▂▂▁▁▁▂▁▁▁▁▁▁▁▁▁▁▁▁▁▁▁▁▁▁▁</td></tr><tr><td>loss_seq_1</td><td>█▇▅▄▃▂▂▂▂▁</td></tr><tr><td>loss_seq_16</td><td>█▄▃▂▁▁▂▂▂▁</td></tr><tr><td>loss_seq_32</td><td>█▁▂▂▁▁▁▂▂▁</td></tr><tr><td>loss_seq_48</td><td>█▁▁▁▁▁▁▁▁▁</td></tr><tr><td>loss_shuf_1</td><td>█▅▃▂▁▁▁▁▁▁</td></tr><tr><td>loss_shuf_16</td><td>█▄▂▃▂▁▂▁▁▂</td></tr><tr><td>loss_shuf_32</td><td>█▃▁▂▁▂▁▂▂▁</td></tr><tr><td>loss_shuf_8</td><td>█▃▁▂▂▁▁▂▂▁</td></tr></table><br/></div><div class=\"wandb-col\">\n",
       "<h3>Run summary:</h3><br/><table class=\"wandb\"><tr><td>learning_rate</td><td>0.0001</td></tr><tr><td>log_loss</td><td>-1.33715</td></tr><tr><td>loss_seq_1</td><td>0.27398</td></tr><tr><td>loss_seq_16</td><td>0.3182</td></tr><tr><td>loss_seq_32</td><td>0.21983</td></tr><tr><td>loss_seq_48</td><td>0.0003</td></tr><tr><td>loss_shuf_1</td><td>0.2757</td></tr><tr><td>loss_shuf_16</td><td>0.26938</td></tr><tr><td>loss_shuf_32</td><td>0.25834</td></tr><tr><td>loss_shuf_8</td><td>0.26849</td></tr></table>\n",
       "</div></div>\n",
       "Synced 5 W&B file(s), 0 media file(s), 0 artifact file(s) and 0 other file(s)\n",
       "<br/>Synced <strong style=\"color:#cdcd00\">cuda10-mnist-7x7-n2-bs2x1x700</strong>: <a href=\"https://wandb.ai/maxeonyx/dist-mnist/runs/qndvpj5t\" target=\"_blank\">https://wandb.ai/maxeonyx/dist-mnist/runs/qndvpj5t</a><br/>\n",
       "Find logs at: <code>./wandb/run-20211216_173322-qndvpj5t/logs</code><br/>\n"
      ],
      "text/plain": [
       "<IPython.core.display.HTML object>"
      ]
     },
     "metadata": {},
     "output_type": "display_data"
    },
    {
     "data": {
      "text/html": [
       "Successfully finished last run (ID:qndvpj5t). Initializing new run:<br/>"
      ],
      "text/plain": [
       "<IPython.core.display.HTML object>"
      ]
     },
     "metadata": {},
     "output_type": "display_data"
    },
    {
     "name": "stderr",
     "output_type": "stream",
     "text": [
      "\u001b[34m\u001b[1mwandb\u001b[0m: wandb version 0.12.7 is available!  To upgrade, please run:\n",
      "\u001b[34m\u001b[1mwandb\u001b[0m:  $ pip install wandb --upgrade\n"
     ]
    },
    {
     "data": {
      "text/html": [
       "\n",
       "                    Syncing run <strong><a href=\"https://wandb.ai/maxeonyx/dist-mnist/runs/20hxwlry\" target=\"_blank\">cuda10-mnist-7x7-n2-bs2x1x700-newgamma</a></strong> to <a href=\"https://wandb.ai/maxeonyx/dist-mnist\" target=\"_blank\">Weights & Biases</a> (<a href=\"https://docs.wandb.com/integrations/jupyter.html\" target=\"_blank\">docs</a>).<br/>\n",
       "\n",
       "                "
      ],
      "text/plain": [
       "<IPython.core.display.HTML object>"
      ]
     },
     "metadata": {},
     "output_type": "display_data"
    },
    {
     "data": {
      "text/html": [
       "<style>\n",
       "</style>\n",
       "<div class=\"enlighten\">\n",
       "  <div class=\"enlighten-bar\">\n",
       "    <pre>                      Training model 'cuda10-mnist-7x7-n2-bs2x1x700-newgamma'                       </pre>\n",
       "  </div>\n",
       "  <div class=\"enlighten-bar\">\n",
       "    <pre>Loss: &#63;&#63;&#63;&#63;&#63;&#63;, Learning Rate: &#63;&#63;&#63;&#63;&#63;&#63;&#63;, Batch Size: &#63;&#63;&#63;*&#63;&#63;&#63;&#63;&#63;                                         </pre>\n",
       "  </div>\n",
       "  <div class=\"enlighten-bar\">\n",
       "    <pre></pre>\n",
       "  </div>\n",
       "</div>\n"
      ],
      "text/plain": [
       "<IPython.core.display.HTML object>"
      ]
     },
     "metadata": {},
     "output_type": "display_data"
    }
   ],
   "source": [
    "\n",
    "\n",
    "# model config\n",
    "config.model = DotMap({\n",
    "    'n_colors': config.dataset.n_colors,\n",
    "    'seq_length': config.dataset.n_colors,\n",
    "    'n_enc_a_layers': 3,\n",
    "    'n_enc_b_layers': 3,\n",
    "    'ffl_dim': 128,\n",
    "    'embd_dim': 64,\n",
    "    'n_dec_layers': 3,\n",
    "    'dec_dim': 600,\n",
    "    'n_heads': 4,\n",
    "    'dropout_rate': 0.1,\n",
    "    'use_idxs_input': True,\n",
    "    'architecture': 'anp',\n",
    "    'position_embedding': 'pos_enc',\n",
    "    'activation': 'swish',\n",
    "})\n",
    "\n",
    "if config.distributed == False:\n",
    "    strategy = tf.distribute.get_strategy()\n",
    "else:\n",
    "    strategy = tf.distribute.MirroredStrategy()\n",
    "\n",
    "with strategy.scope():\n",
    "    model = models.transformer(config.model)\n",
    "    # Adam params taken from the linked notebook\n",
    "    optimizer = keras.optimizers.Adam(learning_rate=config.max_lr)\n",
    "\n",
    "ds_train_dist = strategy.experimental_distribute_dataset(ds_train)\n",
    "\n",
    "config.training_mode = 'combination'\n",
    "\n",
    "model_name = models.model_name('cuda10', config)\n",
    "model_name += \"-newgamma\"\n",
    "print(model_name)\n",
    "\n",
    "training.wandb_init(config, model_name, resume=False)\n",
    "\n",
    "training_loop = training.TrainingLoop(config, viz, model, optimizer, ds, ds_train_dist, ds_test, model_name)\n",
    "\n",
    "with strategy.scope():\n",
    "    training_loop.train()"
   ]
  },
  {
   "cell_type": "code",
   "execution_count": null,
   "id": "5666655d-f24d-43c1-a085-a13d6df25fd6",
   "metadata": {},
   "outputs": [],
   "source": [
    "model.save(f\"models/{model_name}\")"
   ]
  },
  {
   "cell_type": "code",
   "execution_count": null,
   "id": "abec3144-404e-4772-92f1-7038a1772270",
   "metadata": {
    "tags": []
   },
   "outputs": [],
   "source": [
    "training_loop.process_batch(show_input=True)\n",
    "training_loop.new_test_batch()\n",
    "training_loop.process_batch(show_input=True)\n"
   ]
  },
  {
   "cell_type": "code",
   "execution_count": null,
   "id": "e7c19055-3dc4-460b-bc73-7555ddf1b3e2",
   "metadata": {},
   "outputs": [],
   "source": []
  }
 ],
 "metadata": {
  "kernelspec": {
   "display_name": "Python 3 (ipykernel)",
   "language": "python",
   "name": "python3"
  },
  "language_info": {
   "codemirror_mode": {
    "name": "ipython",
    "version": 3
   },
   "file_extension": ".py",
   "mimetype": "text/x-python",
   "name": "python",
   "nbconvert_exporter": "python",
   "pygments_lexer": "ipython3",
   "version": "3.8.12"
  }
 },
 "nbformat": 4,
 "nbformat_minor": 5
}
