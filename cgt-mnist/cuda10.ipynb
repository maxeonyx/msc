{
 "cells": [
  {
   "cell_type": "code",
   "execution_count": 1,
   "id": "a247b8c3-1a9d-42c1-bc9a-41c99ed78357",
   "metadata": {},
   "outputs": [
    {
     "name": "stdout",
     "output_type": "stream",
     "text": [
      "[PhysicalDevice(name='/physical_device:GPU:0', device_type='GPU'), PhysicalDevice(name='/physical_device:GPU:1', device_type='GPU'), PhysicalDevice(name='/physical_device:GPU:2', device_type='GPU')]\n"
     ]
    }
   ],
   "source": [
    "import os\n",
    "\n",
    "import tensorflow as tf\n",
    "physical_devices = tf.config.list_physical_devices('GPU')\n",
    "print(physical_devices)\n",
    "assert len(physical_devices) == 3\n",
    "\n",
    "# to allow other tensorflow processes to use the gpu\n",
    "# https://stackoverflow.com/a/60699372/7989988\n",
    "tf.config.experimental.set_memory_growth(physical_devices[0], True)\n",
    "tf.config.experimental.set_memory_growth(physical_devices[1], True)\n",
    "tf.config.experimental.set_memory_growth(physical_devices[2], True)\n",
    "\n",
    "import numpy as np\n",
    "from tensorflow import keras\n",
    "from tensorflow.keras import Model, Input, layers\n",
    "from IPython.display import display\n",
    "import tensorflow_datasets as tfds\n",
    "import time\n",
    "import matplotlib.pyplot as plt\n",
    "import enlighten\n",
    "import tensorflow_probability as tfp\n",
    "from dotmap import DotMap"
   ]
  },
  {
   "cell_type": "code",
   "execution_count": 2,
   "id": "0e9d8b7f-1fa3-4787-8eb7-a341e673ce60",
   "metadata": {},
   "outputs": [],
   "source": [
    "import models\n",
    "import training\n",
    "import datasets\n",
    "import vizualization\n",
    "import schedules"
   ]
  },
  {
   "cell_type": "code",
   "execution_count": 3,
   "id": "9664a41e-2373-4007-ad5b-04367635212a",
   "metadata": {},
   "outputs": [],
   "source": [
    "config = DotMap({\n",
    "    'distributed': True,\n",
    "    'minibatch_size': 32,\n",
    "    'num_devices': 3,\n",
    "    'n_steps': 120000,\n",
    "    'test_size': 1000,\n",
    "    'test_minibatch_size': 10,\n",
    "    'test_interval': 10,\n",
    "    'display_images': False,\n",
    "    'n_colors': 4,\n",
    "    'dataset': {\n",
    "        'buffer_size': 60000,\n",
    "    },\n",
    "    'lr_schedule': None,\n",
    "    'lr_warmup_steps': 300,\n",
    "    'max_lr': 0.001,\n",
    "    'min_lr': 0.000001,\n",
    "    'batch_size_schedule': None,\n",
    "    'start_accum_steps': 1,\n",
    "    'end_accum_steps': 30,\n",
    "    'seq_length': 784,\n",
    "    'image_width': 28,\n",
    "    'image_height': 28,\n",
    "    'use_wandb': True,\n",
    "    'wandb_log_interval': 10,\n",
    "    'loss_window_size': 500,\n",
    "})\n",
    "\n",
    "# need to change for multiworkerstrategy\n",
    "if config.distributed:\n",
    "    config.num_devices = len(physical_devices)\n",
    "else:\n",
    "    config.num_devices = 1\n",
    "config.global_batch_size = config.minibatch_size * config.num_devices"
   ]
  },
  {
   "cell_type": "code",
   "execution_count": 4,
   "id": "fee847f8-c7e5-4889-af95-b4e635213d46",
   "metadata": {},
   "outputs": [
    {
     "data": {
      "text/html": [
       "<style>\n",
       "</style>\n",
       "<div class=\"enlighten\">\n",
       "  <div class=\"enlighten-bar\">\n",
       "    <pre>                          K-Means clustering to make 4-color MNIST Dataset                          </pre>\n",
       "  </div>\n",
       "  <div class=\"enlighten-bar\">\n",
       "    <pre>cen. 0    cen. 1    cen. 2    cen. 3                                                                </pre>\n",
       "  </div>\n",
       "  <div class=\"enlighten-bar\">\n",
       "    <pre>0.002     0.272     0.605     0.971                                                                 </pre>\n",
       "  </div>\n",
       "  <div class=\"enlighten-bar\">\n",
       "    <pre>Discretize to 8 colors 100%|██████████████████████████████| 60/60 [00:04&lt;00:00, 15.09 minibatches/s]</pre>\n",
       "  </div>\n",
       "</div>\n"
      ],
      "text/plain": [
       "<IPython.core.display.HTML object>"
      ]
     },
     "metadata": {},
     "output_type": "display_data"
    }
   ],
   "source": [
    "# idea is to not have to re-run this cell for subsequent training runs unless the centroids change\n",
    "dataset, metadata = tfds.load('mnist', with_info=True, as_supervised=True)\n",
    "ds_train_original = dataset['train']\n",
    "ds_test_original = dataset['test']\n",
    "\n",
    "centroids = datasets.find_centroids(ds_train_original, num_clusters=config['n_colors'], batch_size=1000)\n"
   ]
  },
  {
   "cell_type": "code",
   "execution_count": 5,
   "id": "3d3520fc-ca13-4318-8a43-9036938e8144",
   "metadata": {},
   "outputs": [],
   "source": [
    "gamma_dist, gamma_name = datasets.mnist_gamma_distribution()\n",
    "ds = datasets.Datasets(config, ds_train_original, ds_test_original, centroids, gamma_dist)\n",
    "viz = vizualization.Viz(config, ds, centroids)"
   ]
  },
  {
   "cell_type": "code",
   "execution_count": 6,
   "id": "d1eff212-a982-456d-b8ac-30aed2cd39cb",
   "metadata": {},
   "outputs": [
    {
     "name": "stdout",
     "output_type": "stream",
     "text": [
      "WARNING:tensorflow:@custom_gradient grad_fn has 'variables' in signature, but no ResourceVariables were used on the forward pass.\n"
     ]
    },
    {
     "name": "stderr",
     "output_type": "stream",
     "text": [
      "WARNING:tensorflow:@custom_gradient grad_fn has 'variables' in signature, but no ResourceVariables were used on the forward pass.\n"
     ]
    }
   ],
   "source": [
    "ds_train, ds_test, ds_test_shuffled = ds.make_datasets('random_split_shuffled')"
   ]
  },
  {
   "cell_type": "code",
   "execution_count": 7,
   "id": "636a3bbc-bc94-4fa4-9966-45fd3e96fa02",
   "metadata": {},
   "outputs": [
    {
     "name": "stdout",
     "output_type": "stream",
     "text": [
      "INFO:tensorflow:Using MirroredStrategy with devices ('/job:localhost/replica:0/task:0/device:GPU:0', '/job:localhost/replica:0/task:0/device:GPU:1', '/job:localhost/replica:0/task:0/device:GPU:2')\n"
     ]
    },
    {
     "name": "stderr",
     "output_type": "stream",
     "text": [
      "INFO:tensorflow:Using MirroredStrategy with devices ('/job:localhost/replica:0/task:0/device:GPU:0', '/job:localhost/replica:0/task:0/device:GPU:1', '/job:localhost/replica:0/task:0/device:GPU:2')\n"
     ]
    },
    {
     "name": "stdout",
     "output_type": "stream",
     "text": [
      "test\n"
     ]
    },
    {
     "name": "stderr",
     "output_type": "stream",
     "text": [
      "\u001b[34m\u001b[1mwandb\u001b[0m: Currently logged in as: \u001b[33mmaxeonyx\u001b[0m (use `wandb login --relogin` to force relogin)\n",
      "\u001b[34m\u001b[1mwandb\u001b[0m: wandb version 0.12.7 is available!  To upgrade, please run:\n",
      "\u001b[34m\u001b[1mwandb\u001b[0m:  $ pip install wandb --upgrade\n"
     ]
    },
    {
     "data": {
      "text/html": [
       "\n",
       "                    Syncing run <strong><a href=\"https://wandb.ai/maxeonyx/dist-mnist/runs/2qbwxd5c\" target=\"_blank\">test-2r0iauhx</a></strong> to <a href=\"https://wandb.ai/maxeonyx/dist-mnist\" target=\"_blank\">Weights & Biases</a> (<a href=\"https://docs.wandb.com/integrations/jupyter.html\" target=\"_blank\">docs</a>).<br/>\n",
       "\n",
       "                "
      ],
      "text/plain": [
       "<IPython.core.display.HTML object>"
      ]
     },
     "metadata": {},
     "output_type": "display_data"
    }
   ],
   "source": [
    "\n",
    "# model config\n",
    "config.model = DotMap({\n",
    "        'n_colors': config.n_colors,\n",
    "        'n_enc_a_layers': 2,\n",
    "        'n_enc_b_layers': 2,\n",
    "        'ffl_dim': 1024,\n",
    "        'embd_dim': 512,\n",
    "        'n_heads': 4,\n",
    "        'dropout_rate': 0.1,\n",
    "        'use_idxs_input': True,\n",
    "        'architecture': 'anp',\n",
    "        'position_embedding': 'pos_enc',\n",
    "    })\n",
    "\n",
    "if config.distributed == False:\n",
    "    strategy = tf.distribute.get_strategy()\n",
    "else:\n",
    "    strategy = tf.distribute.MirroredStrategy()\n",
    "\n",
    "with strategy.scope():\n",
    "    model = models.transformer(config.model)\n",
    "    # Adam params taken from the linked notebook\n",
    "    optimizer = keras.optimizers.Adam(learning_rate=config.max_lr)\n",
    "\n",
    "ds_train_dist = strategy.experimental_distribute_dataset(ds_train)\n",
    "\n",
    "model_name = \"test\"\n",
    "print(model_name)\n",
    "\n",
    "training_loop = training.TrainingLoop(config, viz, model, optimizer, ds, ds_train_dist, ds_test, ds_test_shuffled, schedules.batch_size_schedule(config), model_name)"
   ]
  },
  {
   "cell_type": "code",
   "execution_count": null,
   "id": "9f3be492-e108-4029-bbab-2809cd2c866a",
   "metadata": {},
   "outputs": [
    {
     "data": {
      "image/png": "[encoded data removed]",
      "text/plain": [
       "<Figure size 2160x216 with 10 Axes>"
      ]
     },
     "metadata": {
      "needs_background": "light"
     },
     "output_type": "display_data"
    },
    {
     "data": {
      "image/png": "[encoded data removed]",
      "text/plain": [
       "<Figure size 2160x216 with 10 Axes>"
      ]
     },
     "metadata": {
      "needs_background": "light"
     },
     "output_type": "display_data"
    },
    {
     "data": {
      "text/html": [
       "<style>\n",
       ".enlighten-fg-green {\n",
       "  color: #00cd00;\n",
       "}\n",
       "</style>\n",
       "<div class=\"enlighten\">\n",
       "  <div class=\"enlighten-bar\">\n",
       "    <pre>                                       Training model 'test'                                        </pre>\n",
       "  </div>\n",
       "  <div class=\"enlighten-bar\">\n",
       "    <pre>Loss: 0.34251, Loss (500 step avg.): 0.36618, Test Loss (shuf): 0.28346, Test Loss (seq): 0.99169, #R*BS*GA:   3*32*1    </pre>\n",
       "  </div>\n",
       "  <div class=\"enlighten-bar\">\n",
       "    <pre>Steps   1%|<span class=\"enlighten-fg-green\">▍                                         </span>|    980/120000 [06:28&lt;19h 37:07, 1.69 steps/s]</pre>\n",
       "  </div>\n",
       "  <div class=\"enlighten-bar\">\n",
       "    <pre>Evaluating  70%|███████████████████████████████▌             |  70/100 [00:02&lt;00:01, 45.28 pixels/s]</pre>\n",
       "  </div>\n",
       "</div>\n"
      ],
      "text/plain": [
       "<IPython.core.display.HTML object>"
      ]
     },
     "metadata": {},
     "output_type": "display_data"
    }
   ],
   "source": [
    "with strategy.scope():\n",
    "    training_loop.train()"
   ]
  },
  {
   "cell_type": "code",
   "execution_count": null,
   "id": "04f30fd6-3f96-4a8c-b4ae-52ba26ea1a30",
   "metadata": {},
   "outputs": [],
   "source": [
    "training_loop.process_batch()"
   ]
  },
  {
   "cell_type": "code",
   "execution_count": null,
   "id": "95dbdbe9-460a-4826-b824-90c83bc5468f",
   "metadata": {},
   "outputs": [],
   "source": [
    "model.save(\"models/dist-anp-3x32x30\")"
   ]
  },
  {
   "cell_type": "code",
   "execution_count": null,
   "id": "c33bf5da-b78d-401d-9ab4-4cd7edfc0c74",
   "metadata": {},
   "outputs": [],
   "source": []
  }
 ],
 "metadata": {
  "kernelspec": {
   "display_name": "Python 3 (ipykernel)",
   "language": "python",
   "name": "python3"
  },
  "language_info": {
   "codemirror_mode": {
    "name": "ipython",
    "version": 3
   },
   "file_extension": ".py",
   "mimetype": "text/x-python",
   "name": "python",
   "nbconvert_exporter": "python",
   "pygments_lexer": "ipython3",
   "version": "3.8.12"
  }
 },
 "nbformat": 4,
 "nbformat_minor": 5
}
