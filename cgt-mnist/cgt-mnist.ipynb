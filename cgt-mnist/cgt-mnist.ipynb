{
 "cells": [
  {
   "cell_type": "markdown",
   "id": "6dee3ae3-fbbe-42aa-abd2-96ff6bcf38e4",
   "metadata": {},
   "source": [
    "# Conditional generative transformer: MNIST demo\n",
    "\n",
    "Based off https://github.com/GregorKobsik/ImageTransformer\n",
    "\n",
    "- mnist dataset\n",
    "    - quantize to 8 values\n",
    "    - random masking\n",
    "- model\n",
    "    - attention mask so that each pixel doesn't get itself as input?\n",
    "    - predict output distribution for particular pixel\n",
    "- training\n",
    "    - learning rate schedule"
   ]
  },
  {
   "cell_type": "code",
   "execution_count": 1,
   "id": "4c53df5c-78a7-4707-9552-7c9171e32ed9",
   "metadata": {},
   "outputs": [
    {
     "name": "stdin",
     "output_type": "stream",
     "text": [
      " shuffle\n"
     ]
    },
    {
     "name": "stdout",
     "output_type": "stream",
     "text": [
      "\n"
     ]
    }
   ],
   "source": [
    "model_name = input()\n",
    "print()\n",
    "new_kernel = True\n",
    "\n",
    "use_wandb = True\n",
    "if use_wandb:\n",
    "    import wandb\n",
    "    wandb_id = wandb.util.generate_id()"
   ]
  },
  {
   "cell_type": "code",
   "execution_count": 2,
   "id": "5740aeb7-c7ad-4af0-8f85-525a98cc44f5",
   "metadata": {},
   "outputs": [],
   "source": [
    "config = {\n",
    "    'learning_rate': 0.001,\n",
    "    'batch_size': 16,\n",
    "    'n_colors': 8,\n",
    "    'model': {\n",
    "        'n_layers': 8,\n",
    "        'ffl_dim': 256,\n",
    "        'embd_dim': 64,\n",
    "        'n_heads': 4,\n",
    "        'dropout_rate': 0.1,\n",
    "    },\n",
    "    'dataset': {\n",
    "        'buffer_size': 10000,\n",
    "        'min_mask': 100,\n",
    "        'max_mask': 740,\n",
    "        'square_regions': False,\n",
    "    },\n",
    "    'lr_warmup_steps': 2000,\n",
    "    'steps_per_epoch': 1000,\n",
    "    'n_epochs': 10,\n",
    "    'seq_length': 784,\n",
    "}"
   ]
  },
  {
   "cell_type": "code",
   "execution_count": 3,
   "id": "8541efbc-9c69-4d57-89e4-ebdeab69d710",
   "metadata": {},
   "outputs": [
    {
     "name": "stderr",
     "output_type": "stream",
     "text": [
      "\u001b[34m\u001b[1mwandb\u001b[0m: Currently logged in as: \u001b[33mmaxeonyx\u001b[0m (use `wandb login --relogin` to force relogin)\n",
      "/am/monterey/home1/clarkemaxw/.cache/pypoetry/virtualenvs/msc-4QRxScII-py3.8/lib/python3.8/site-packages/IPython/html.py:12: ShimWarning: The `IPython.html` package has been deprecated since IPython 4.0. You should import from `notebook` instead. `IPython.html.widgets` has moved to `ipywidgets`.\n",
      "  warn(\"The `IPython.html` package has been deprecated since IPython 4.0. \"\n",
      "\u001b[34m\u001b[1mwandb\u001b[0m: wandb version 0.12.5 is available!  To upgrade, please run:\n",
      "\u001b[34m\u001b[1mwandb\u001b[0m:  $ pip install wandb --upgrade\n"
     ]
    },
    {
     "data": {
      "text/html": [
       "\n",
       "                    Syncing run <strong><a href=\"https://wandb.ai/maxeonyx/cgt-mnist/runs/3legdx44\" target=\"_blank\">shuffle-ogqedrlk</a></strong> to <a href=\"https://wandb.ai/maxeonyx/cgt-mnist\" target=\"_blank\">Weights & Biases</a> (<a href=\"https://docs.wandb.com/integrations/jupyter.html\" target=\"_blank\">docs</a>).<br/>\n",
       "\n",
       "                "
      ],
      "text/plain": [
       "<IPython.core.display.HTML object>"
      ]
     },
     "metadata": {},
     "output_type": "display_data"
    }
   ],
   "source": [
    "if use_wandb:\n",
    "    resume = not new_kernel\n",
    "    wandb.init(project='cgt-mnist', entity='maxeonyx', name=model_name + '-' + wandb_id, config=config, resume=resume)"
   ]
  },
  {
   "cell_type": "code",
   "execution_count": 4,
   "id": "43453531-6931-4e17-bd71-4a32007b6b5d",
   "metadata": {},
   "outputs": [],
   "source": [
    "import os\n",
    "os.environ['CUDA_VISIBLE_DEVICES']='0'\n",
    "import tensorflow as tf\n",
    "# https://stackoverflow.com/a/60699372/7989988\n",
    "physical_devices = tf.config.list_physical_devices('GPU') \n",
    "tf.config.experimental.set_memory_growth(physical_devices[0], True)\n",
    "import numpy as np\n",
    "from tensorflow import keras\n",
    "from tensorflow.keras import Model, Input, layers\n",
    "from IPython.display import display\n",
    "import tensorflow_datasets as tfds\n",
    "import time\n",
    "import matplotlib.pyplot as plt\n",
    "import enlighten"
   ]
  },
  {
   "cell_type": "code",
   "execution_count": 5,
   "id": "b798f404-f9b6-4145-b04d-e518ef47f6d6",
   "metadata": {},
   "outputs": [
    {
     "name": "stderr",
     "output_type": "stream",
     "text": [
      "2021-10-20 15:20:35.471728: I tensorflow/core/platform/cpu_feature_guard.cc:142] This TensorFlow binary is optimized with oneAPI Deep Neural Network Library (oneDNN) to use the following CPU instructions in performance-critical operations:  AVX2 AVX512F FMA\n",
      "To enable them in other operations, rebuild TensorFlow with the appropriate compiler flags.\n",
      "2021-10-20 15:20:35.957988: I tensorflow/core/common_runtime/gpu/gpu_device.cc:1510] Created device /job:localhost/replica:0/task:0/device:GPU:0 with 10421 MB memory:  -> device: 0, name: NVIDIA GeForce GTX 1080 Ti, pci bus id: 0000:3b:00.0, compute capability: 6.1\n",
      "2021-10-20 15:20:36.026247: I tensorflow/compiler/mlir/mlir_graph_optimization_pass.cc:185] None of the MLIR Optimization Passes are enabled (registered 2)\n",
      "2021-10-20 15:20:36.062404: W tensorflow/core/kernels/data/cache_dataset_ops.cc:768] The calling iterator did not fully read the dataset being cached. In order to avoid unexpected truncation of the dataset, the partially cached contents of the dataset  will be discarded. This can happen if you have an input pipeline similar to `dataset.cache().take(k).repeat()`. You should use `dataset.take(k).cache().repeat()` instead.\n"
     ]
    },
    {
     "data": {
      "image/png": "[encoded data removed]",
      "text/plain": [
       "<Figure size 648x648 with 1 Axes>"
      ]
     },
     "metadata": {},
     "output_type": "display_data"
    },
    {
     "name": "stderr",
     "output_type": "stream",
     "text": [
      "2021-10-20 15:20:36.140707: W tensorflow/core/kernels/data/cache_dataset_ops.cc:768] The calling iterator did not fully read the dataset being cached. In order to avoid unexpected truncation of the dataset, the partially cached contents of the dataset  will be discarded. This can happen if you have an input pipeline similar to `dataset.cache().take(k).repeat()`. You should use `dataset.take(k).cache().repeat()` instead.\n"
     ]
    },
    {
     "data": {
      "image/png": "[encoded data removed]",
      "text/plain": [
       "<Figure size 648x648 with 1 Axes>"
      ]
     },
     "metadata": {},
     "output_type": "display_data"
    }
   ],
   "source": [
    "dataset, metadata = tfds.load('mnist', with_info=True, as_supervised=True)\n",
    "\n",
    "dataset_train_original = dataset['train']\n",
    "dataset_test_original = dataset['test']\n",
    "\n",
    "image_width=28\n",
    "image_height=28\n",
    "\n",
    "fig = tfds.show_examples(dataset_train_original.take(1), metadata)\n",
    "fig = tfds.show_examples(dataset_test_original.take(1), metadata)"
   ]
  },
  {
   "cell_type": "code",
   "execution_count": 6,
   "id": "c833c8c7-cd8a-4d0f-bdf0-a5b11dc4ab44",
   "metadata": {},
   "outputs": [
    {
     "data": {
      "text/html": [
       "<style>\n",
       "</style>\n",
       "<div class=\"enlighten\">\n",
       "  <div class=\"enlighten-bar\">\n",
       "    <pre>                          K-Means clustering to make 8-color MNIST Dataset                          </pre>\n",
       "  </div>\n",
       "  <div class=\"enlighten-bar\">\n",
       "    <pre>cen. 0    cen. 1    cen. 2    cen. 3    cen. 4    cen. 5    cen. 6    cen. 7                        </pre>\n",
       "  </div>\n",
       "  <div class=\"enlighten-bar\">\n",
       "    <pre>0.000     0.095     0.211     0.347     0.509     0.691     0.857     0.988                         </pre>\n",
       "  </div>\n",
       "  <div class=\"enlighten-bar\">\n",
       "    <pre>Discretize to 8 colors 100%|███████████████████████████████| 60/60 [00:16&lt;00:00, 3.72 minibatches/s]</pre>\n",
       "  </div>\n",
       "</div>\n"
      ],
      "text/plain": [
       "<IPython.core.display.HTML object>"
      ]
     },
     "metadata": {},
     "output_type": "display_data"
    },
    {
     "name": "stdout",
     "output_type": "stream",
     "text": [
      "(8, 1)\n"
     ]
    }
   ],
   "source": [
    "from sklearn.cluster import MiniBatchKMeans\n",
    "\n",
    "def normalize_image(image, label):\n",
    "    return tf.cast(image, dtype=tf.float16) / 255.0, label\n",
    "\n",
    "def find_centroids(ds_train, num_clusters, batch_size):\n",
    "    kmeans = MiniBatchKMeans(n_clusters=num_clusters, random_state=0, batch_size=batch_size, verbose=True)\n",
    "    ds_batched = ds_train.batch(batch_size)\n",
    "    with enlighten.get_manager() as manager:\n",
    "        title = manager.status_bar(f\"K-Means clustering to make {num_clusters}-color MNIST Dataset\", justify=enlighten.Justify.CENTER)\n",
    "        clusters_names = manager.status_bar(''.join('{:<10}'.format(f\"cen. {i}\") for i in range(num_clusters)))\n",
    "        clusters_status = manager.status_bar(''.join('{:<10}'.format('??????') for _ in range(num_clusters)))\n",
    "        pbar = manager.counter(total=60000//batch_size, desc='Discretize to 8 colors', unit='minibatches')\n",
    "        for img, _ in pbar(iter(ds_batched)):\n",
    "            pixels = img.numpy().reshape(-1, 1)\n",
    "            kmeans.partial_fit(pixels)\n",
    "            clusters_status.update(''.join('{:<10.3f}'.format(x[0]) for x in np.sort(kmeans.cluster_centers_, axis=0)))\n",
    "\n",
    "        return kmeans.cluster_centers_\n",
    "\n",
    "centroids = find_centroids(dataset_train_original.map(normalize_image), num_clusters=config['n_colors'], batch_size=1000)\n",
    "centroids = tf.convert_to_tensor(np.sort(centroids, axis=0), dtype=tf.float16)\n",
    "print(centroids.shape)"
   ]
  },
  {
   "cell_type": "code",
   "execution_count": 7,
   "id": "bc6d2879-99a8-4ecd-b0d2-fef0a0155c55",
   "metadata": {},
   "outputs": [],
   "source": [
    "def squared_euclidean_distance(a, b):\n",
    "    b = tf.transpose(b)        \n",
    "    a2 = tf.math.reduce_sum(tf.math.square(a), axis=1, keepdims=True)\n",
    "    b2 = tf.math.reduce_sum(tf.math.square(b), axis=0, keepdims=True)\n",
    "    ab = tf.linalg.matmul(a, b)\n",
    "    return a2 - 2 * ab + b2\n",
    "\n",
    "def flatten(image, label):\n",
    "    shape = tf.shape(image) # (height, width, color)\n",
    "    sequence = tf.reshape(image, (-1, shape[2])) # (height * width, color)\n",
    "    return sequence, label\n",
    "\n",
    "def quantize(sequence, label):\n",
    "    d = squared_euclidean_distance(sequence, centroids) # (height * width, centroids)\n",
    "    sequence = tf.math.argmin(d, axis=1)  # (height * width)\n",
    "    return sequence, label\n",
    "\n",
    "def unquantize(x):\n",
    "    x_one_hot = tf.cast(tf.one_hot(x, depth=len(centroids)), dtype=tf.float16)  # (seq, num_centroids)\n",
    "    return tf.linalg.matmul(x_one_hot,centroids)  # (seq, num_features)\n",
    "\n",
    "def shuffled_indices(sequence, label):\n",
    "    \n",
    "    idxs = tf.range(config['seq_length'], dtype=tf.int32)\n",
    "    idxs = tf.random.shuffle(idxs)\n",
    "    \n",
    "    sequence = tf.gather(sequence, idxs)\n",
    "    \n",
    "    return sequence, idxs, label\n",
    "\n",
    "def indices(sequence, label):\n",
    "    \n",
    "    idxs = tf.range(config['seq_length'], dtype=tf.int32)\n",
    "    \n",
    "    return sequence, idxs, label\n",
    "\n",
    "dataset_train = (\n",
    "    dataset_train_original\n",
    "    .map(normalize_image)\n",
    "    .map(flatten)\n",
    "    .map(quantize)\n",
    "    .map(shuffled_indices)\n",
    "    .cache()\n",
    "    .repeat()\n",
    "    .shuffle(config['dataset']['buffer_size'])\n",
    "    .batch(config['batch_size'], drop_remainder=True)\n",
    "    .prefetch(tf.data.experimental.AUTOTUNE)\n",
    ")\n",
    "dataset_test = (\n",
    "    dataset_test_original\n",
    "    .map(normalize_image)\n",
    "    .map(flatten)\n",
    "    .map(quantize)\n",
    "    .map(indices)\n",
    "    .cache()\n",
    "    .batch(config['batch_size'], drop_remainder=True)\n",
    "    .prefetch(tf.data.experimental.AUTOTUNE)\n",
    ")"
   ]
  },
  {
   "cell_type": "code",
   "execution_count": 8,
   "id": "5468d963-4285-4eed-97fc-40178e4f78a7",
   "metadata": {},
   "outputs": [
    {
     "name": "stdout",
     "output_type": "stream",
     "text": [
      "unquantized:\n"
     ]
    },
    {
     "name": "stderr",
     "output_type": "stream",
     "text": [
      "2021-10-20 15:20:53.066896: W tensorflow/core/kernels/data/cache_dataset_ops.cc:768] The calling iterator did not fully read the dataset being cached. In order to avoid unexpected truncation of the dataset, the partially cached contents of the dataset  will be discarded. This can happen if you have an input pipeline similar to `dataset.cache().take(k).repeat()`. You should use `dataset.take(k).cache().repeat()` instead.\n"
     ]
    },
    {
     "data": {
      "image/png": "[encoded data removed]",
      "text/plain": [
       "<Figure size 2160x216 with 10 Axes>"
      ]
     },
     "metadata": {
      "needs_background": "light"
     },
     "output_type": "display_data"
    },
    {
     "name": "stdout",
     "output_type": "stream",
     "text": [
      "quantized:\n"
     ]
    },
    {
     "name": "stderr",
     "output_type": "stream",
     "text": [
      "2021-10-20 15:20:53.592417: W tensorflow/core/kernels/data/cache_dataset_ops.cc:768] The calling iterator did not fully read the dataset being cached. In order to avoid unexpected truncation of the dataset, the partially cached contents of the dataset  will be discarded. This can happen if you have an input pipeline similar to `dataset.cache().take(k).repeat()`. You should use `dataset.take(k).cache().repeat()` instead.\n"
     ]
    },
    {
     "data": {
      "image/png": "[encoded data removed]",
      "text/plain": [
       "<Figure size 2160x216 with 10 Axes>"
      ]
     },
     "metadata": {
      "needs_background": "light"
     },
     "output_type": "display_data"
    }
   ],
   "source": [
    "def np_showSeq(seq, size, max_images=3, cmap=None):\n",
    "    \"\"\" Show one or more images encoded as sequence. (numpy version)\n",
    "\n",
    "        seq: numpy array of sequences which encode the image. Either a single sequence or multiple sequences.\n",
    "        size: the image size. e.g. (28, 28) for `mnist` images.\n",
    "        max_images: the maximum number of images to display.\n",
    "    \"\"\" \n",
    "    batch = seq.shape[0]\n",
    "    num_show_img = min(max_images, seq.shape[0])\n",
    "    img = np.reshape(seq, (batch, *size, -1))\n",
    "    if img.shape[-1] == 1:\n",
    "        img = np.squeeze(img, axis=-1)    \n",
    "    \n",
    "    fig=plt.figure(figsize=(3*num_show_img, 3))\n",
    "    for i in range(num_show_img):\n",
    "        ax = fig.add_subplot(1, num_show_img, i+1)\n",
    "        ax.set_axis_off()\n",
    "        plt.imshow(img[i], cmap=cmap)\n",
    "    plt.show()\n",
    "\n",
    "def showSeq(seq, size, max_images=3, cmap='gray', do_unquantize=True):\n",
    "    \"\"\" Show one or more images encoded as sequence. (tensorflow version)\n",
    "\n",
    "        seq: tensor of sequences which encode the image. Either a single sequence or multiple sequences.\n",
    "        size: the image size. e.g. (28, 28) for `mnist` images.\n",
    "        max_images: the maximum number of images to display.\n",
    "    \"\"\"\n",
    "    if do_unquantize:\n",
    "        seq = tf.map_fn(fn=unquantize, elems=seq, fn_output_signature=tf.float16)\n",
    "    seq = tf.cast(seq, float).numpy()\n",
    "\n",
    "    np_showSeq(seq, size, max_images, cmap)\n",
    "    \n",
    "NUM_SAMPLES = 10\n",
    "\n",
    "ds_test_unquantized = (\n",
    "    dataset_test_original\n",
    "    .map(normalize_image)\n",
    "    .map(flatten)\n",
    "    .batch(NUM_SAMPLES)\n",
    ")\n",
    "ds_test_quantized = (\n",
    "    dataset_test_original\n",
    "    .map(normalize_image)\n",
    "    .map(flatten)\n",
    "    .map(quantize)\n",
    "    .batch(NUM_SAMPLES)\n",
    ")\n",
    "print(\"unquantized:\")\n",
    "examples_unquantized, _ = next(iter(ds_test_unquantized))\n",
    "showSeq(examples_unquantized, (image_width, image_height), NUM_SAMPLES, do_unquantize=False)\n",
    "print(\"quantized:\")\n",
    "examples_quantized, _ = next(iter(ds_test_quantized))\n",
    "showSeq(examples_quantized, (image_width, image_height), NUM_SAMPLES)"
   ]
  },
  {
   "cell_type": "code",
   "execution_count": 16,
   "id": "1b8ccd56-8f1c-4773-abc3-6c39f478d315",
   "metadata": {},
   "outputs": [],
   "source": [
    "def create_look_ahead_mask(size_q, size_k):\n",
    "    mask = 1 - tf.linalg.band_part(tf.ones((size_q, size_k)), -1, 0)\n",
    "    return mask  # (seq_len, seq_len)\n",
    "\n",
    "def scaled_dot_product_attention(k, q, v, mask):\n",
    "    batch_size = tf.shape(k)[0]\n",
    "    seq_len_kv = tf.shape(k)[-2]\n",
    "    kq_dim = tf.shape(k)[-1]\n",
    "    seq_len_q = tf.shape(q)[-2]\n",
    "    v_dim = tf.shape(v)[-1]\n",
    "    \n",
    "    matmul_qk = tf.matmul(q, k, transpose_b=True)\n",
    "    # shape: (batch_size, n_heads, seq_len_q, seq_len_kv)\n",
    "    \n",
    "    dk = tf.cast(kq_dim, tf.float32)\n",
    "    scaled_attention_logits = matmul_qk / tf.math.sqrt(dk)\n",
    "    \n",
    "    if mask is not None:\n",
    "        mask = create_look_ahead_mask(seq_len_q, seq_len_kv)\n",
    "        scaled_attention_logits += mask * -1e9 # batch dim broadcast\n",
    "    \n",
    "    attention_weights = tf.nn.softmax(scaled_attention_logits, axis=-1) # sums to 1 along last axis\n",
    "    # shape: (batch_size, seq_len_q, seq_len_kv)\n",
    "    \n",
    "    output = tf.matmul(attention_weights, v)\n",
    "    # shape: (batch_size, seq_len_q, v_dim)\n",
    "    \n",
    "    return output, attention_weights\n",
    "\n",
    "def multi_head_attention(embd_dim, n_heads):\n",
    "    \n",
    "    wk = layers.Dense(embd_dim)\n",
    "    wq = layers.Dense(embd_dim)\n",
    "    wv = layers.Dense(embd_dim)\n",
    "    dense = layers.Dense(embd_dim)\n",
    "    \n",
    "    assert embd_dim % n_heads == 0, \"embd_dim must divide evenly into n_heads\"\n",
    "    head_width = embd_dim//n_heads\n",
    "    \n",
    "    def split_heads(x, batch_size):\n",
    "        # reshape from (batch_size, seq_length, embd_dim) to (batch_size, num_heads, seq_len, head_width)\n",
    "        x = tf.reshape(x, (batch_size, -1, n_heads, head_width))\n",
    "        return tf.transpose(x, perm=[0, 2, 1, 3])\n",
    "    \n",
    "    def call(k, q, v, mask):\n",
    "        batch_size = tf.shape(k)[0]\n",
    "        \n",
    "        k = wk(k)\n",
    "        q = wk(q)\n",
    "        v = wk(v)\n",
    "        # shape: (batch_size, seq_len_*, embd_dim)\n",
    "        \n",
    "        k = split_heads(k, batch_size)\n",
    "        q = split_heads(q, batch_size)\n",
    "        v = split_heads(v, batch_size)\n",
    "        # shape: (batch_size, num_heads, seq_len_*, head_width)\n",
    "        \n",
    "        scaled_attention, attention_weights = scaled_dot_product_attention(k, q, v, mask)\n",
    "        scaled_attention = tf.transpose(scaled_attention, perm=[0, 2, 1, 3])\n",
    "        # (batch_size, seq_len, num_heads, depth)\n",
    "        concat_attention = tf.reshape(scaled_attention, (batch_size, -1, embd_dim))\n",
    "        output = dense(concat_attention)\n",
    "        return output, attention_weights\n",
    "    return call\n",
    "    \n",
    "def pointwise_feedforward_layer(hidden_dim, out_dim):\n",
    "    dense1 = layers.Dense(hidden_dim, activation='relu')\n",
    "    dense2 = layers.Dense(out_dim)\n",
    "    def call(x):\n",
    "        x = dense1(x)\n",
    "        x = dense2(x)\n",
    "        return x\n",
    "    return call\n",
    "        \n",
    "\n",
    "def transformer(n_colors, seq_length, mask, embd_dim, ffl_dim, n_heads, n_layers, dropout_rate):\n",
    "    print(\"n_colors, seq_length, mask, embd_dim, ffl_dim, n_heads, n_layers, dropout_rate\")\n",
    "    print(n_colors, seq_length, mask, embd_dim, ffl_dim, n_heads, n_layers, dropout_rate)\n",
    "    def decoder_layer():\n",
    "        mha = multi_head_attention(embd_dim, n_heads)\n",
    "        ffl = pointwise_feedforward_layer(ffl_dim, embd_dim)\n",
    "        layernorm1 = layers.LayerNormalization(epsilon=1e-6)\n",
    "        layernorm2 = layers.LayerNormalization(epsilon=1e-6)\n",
    "        dropout1 = layers.Dropout(dropout_rate)\n",
    "        dropout2 = layers.Dropout(dropout_rate)\n",
    "        def call(x, mask):\n",
    "            out1 = layernorm1(dropout1(x))\n",
    "            attn_out, attn_weights = mha(out1, out1, out1, mask)\n",
    "            x += attn_out\n",
    "            \n",
    "            out2 = layernorm2(dropout2(x))\n",
    "            ffl_out = ffl(out2)\n",
    "            x += ffl_out\n",
    "            \n",
    "            return x\n",
    "        return call\n",
    "\n",
    "    def decoder_block():\n",
    "        color_embedding = layers.Embedding(n_colors, embd_dim)\n",
    "        position_embedding = layers.Embedding(seq_length, embd_dim)\n",
    "        dec_layers = [decoder_layer() for _ in range(n_layers)]\n",
    "        dropout = layers.Dropout(dropout_rate)\n",
    "        layer_norm = layers.LayerNormalization(epsilon=1e-6)\n",
    "        def call(colors, idxs, mask):\n",
    "            batch = tf.shape(colors)[0]\n",
    "            seq_len = tf.shape(colors)[1]\n",
    "            \n",
    "            col_embd = color_embedding(colors)\n",
    "            pos_embd = tf.tile(position_embedding(idxs), [batch, 1, 1])\n",
    "            x = col_embd + pos_embd\n",
    "            for i in range(n_layers):\n",
    "                x = dec_layers[i](x, mask)\n",
    "            x = layer_norm(dropout(x))\n",
    "            return x\n",
    "        return call\n",
    "    \n",
    "    colors = keras.Input([seq_length])    \n",
    "    idxs = keras.Input([seq_length])\n",
    "    x = decoder_block()(colors, idxs, mask)\n",
    "    final_layer = layers.Dense(n_colors)(x)\n",
    "    \n",
    "    return Model(inputs=[colors, idxs], outputs=[final_layer])\n",
    "\n"
   ]
  },
  {
   "cell_type": "code",
   "execution_count": 17,
   "id": "23adc812-dee5-4015-b446-23cb2e23257e",
   "metadata": {},
   "outputs": [
    {
     "name": "stdout",
     "output_type": "stream",
     "text": [
      "n_colors, seq_length, mask, embd_dim, ffl_dim, n_heads, n_layers, dropout_rate\n",
      "8 784 True 64 256 4 8 0.1\n"
     ]
    }
   ],
   "source": [
    "\n",
    "model = transformer(\n",
    "    config['n_colors'],\n",
    "    config['seq_length'],\n",
    "    mask=True,\n",
    "    **config['model'],\n",
    ")\n",
    "\n",
    "from keras.utils.vis_utils import plot_model\n",
    "\n",
    "# plot_model(model, to_file=\"model.png\", expand_nested=True, show_shapes=True, show_layer_names=True)\n"
   ]
  },
  {
   "cell_type": "code",
   "execution_count": 20,
   "id": "c804721a-eb63-4b93-82b4-49ee7b0e5394",
   "metadata": {},
   "outputs": [
    {
     "name": "stderr",
     "output_type": "stream",
     "text": [
      "2021-10-20 15:51:21.174045: W tensorflow/core/kernels/data/cache_dataset_ops.cc:768] The calling iterator did not fully read the dataset being cached. In order to avoid unexpected truncation of the dataset, the partially cached contents of the dataset  will be discarded. This can happen if you have an input pipeline similar to `dataset.cache().take(k).repeat()`. You should use `dataset.take(k).cache().repeat()` instead.\n",
      "2021-10-20 15:51:21.175013: W tensorflow/core/kernels/data/cache_dataset_ops.cc:768] The calling iterator did not fully read the dataset being cached. In order to avoid unexpected truncation of the dataset, the partially cached contents of the dataset  will be discarded. This can happen if you have an input pipeline similar to `dataset.cache().take(k).repeat()`. You should use `dataset.take(k).cache().repeat()` instead.\n"
     ]
    },
    {
     "data": {
      "image/png": "[encoded data removed]",
      "text/plain": [
       "<Figure size 2160x216 with 10 Axes>"
      ]
     },
     "metadata": {
      "needs_background": "light"
     },
     "output_type": "display_data"
    },
    {
     "data": {
      "image/png": "[encoded data removed]",
      "text/plain": [
       "<Figure size 2160x216 with 10 Axes>"
      ]
     },
     "metadata": {
      "needs_background": "light"
     },
     "output_type": "display_data"
    },
    {
     "name": "stderr",
     "output_type": "stream",
     "text": [
      "2021-10-20 15:51:22.077868: W tensorflow/core/kernels/data/cache_dataset_ops.cc:768] The calling iterator did not fully read the dataset being cached. In order to avoid unexpected truncation of the dataset, the partially cached contents of the dataset  will be discarded. This can happen if you have an input pipeline similar to `dataset.cache().take(k).repeat()`. You should use `dataset.take(k).cache().repeat()` instead.\n"
     ]
    },
    {
     "data": {
      "text/html": [
       "<style>\n",
       ".enlighten-fg-green {\n",
       "  color: #00cd00;\n",
       "}\n",
       "</style>\n",
       "<div class=\"enlighten\">\n",
       "  <div class=\"enlighten-bar\">\n",
       "    <pre>                                      Training model 'shuffle'                                      </pre>\n",
       "  </div>\n",
       "  <div class=\"enlighten-bar\">\n",
       "    <pre>Loss: &#63;&#63;&#63;&#63;&#63;&#63;, Learning Rate: &#63;&#63;&#63;&#63;&#63;&#63;&#63;                                                                </pre>\n",
       "  </div>\n",
       "  <div class=\"enlighten-bar\">\n",
       "    <pre>Epochs   0%|<span class=\"enlighten-fg-green\">                                                        </span>|  0/10 [00:00&lt;&#63;, 0.00 epochs/s]</pre>\n",
       "  </div>\n",
       "  <div class=\"enlighten-bar\">\n",
       "    <pre></pre>\n",
       "  </div>\n",
       "</div>\n"
      ],
      "text/plain": [
       "<IPython.core.display.HTML object>"
      ]
     },
     "metadata": {},
     "output_type": "display_data"
    },
    {
     "ename": "ValueError",
     "evalue": "in user code:\n\n    /tmp/ipykernel_1625192/1729363644.py:30 train_step  *\n        x_out = model(x_inp, i_inp)\n    /am/monterey/home1/clarkemaxw/.cache/pypoetry/virtualenvs/msc-4QRxScII-py3.8/lib/python3.8/site-packages/keras/engine/base_layer.py:1020 __call__  **\n        input_spec.assert_input_compatibility(self.input_spec, inputs, self.name)\n    /am/monterey/home1/clarkemaxw/.cache/pypoetry/virtualenvs/msc-4QRxScII-py3.8/lib/python3.8/site-packages/keras/engine/input_spec.py:199 assert_input_compatibility\n        raise ValueError('Layer ' + layer_name + ' expects ' +\n\n    ValueError: Layer model_1 expects 2 input(s), but it received 1 input tensors. Inputs received: [<tf.Tensor 'strided_slice:0' shape=(None, None) dtype=int64>]\n",
     "output_type": "error",
     "traceback": [
      "\u001b[0;31m---------------------------------------------------------------------------\u001b[0m",
      "\u001b[0;31mValueError\u001b[0m                                Traceback (most recent call last)",
      "\u001b[0;32m/tmp/ipykernel_1625192/1729363644.py\u001b[0m in \u001b[0;36m<module>\u001b[0;34m\u001b[0m\n\u001b[1;32m     95\u001b[0m         \u001b[0;32mfor\u001b[0m \u001b[0mstep\u001b[0m \u001b[0;32min\u001b[0m \u001b[0msteps\u001b[0m\u001b[0;34m(\u001b[0m\u001b[0mrange\u001b[0m\u001b[0;34m(\u001b[0m\u001b[0msteps_per_epoch\u001b[0m\u001b[0;34m)\u001b[0m\u001b[0;34m)\u001b[0m\u001b[0;34m:\u001b[0m\u001b[0;34m\u001b[0m\u001b[0;34m\u001b[0m\u001b[0m\n\u001b[1;32m     96\u001b[0m             \u001b[0mcolors\u001b[0m\u001b[0;34m,\u001b[0m \u001b[0midxs\u001b[0m\u001b[0;34m,\u001b[0m \u001b[0mlabel\u001b[0m \u001b[0;34m=\u001b[0m \u001b[0mnext\u001b[0m\u001b[0;34m(\u001b[0m\u001b[0mdataset_iterator\u001b[0m\u001b[0;34m)\u001b[0m\u001b[0;34m\u001b[0m\u001b[0;34m\u001b[0m\u001b[0m\n\u001b[0;32m---> 97\u001b[0;31m             \u001b[0mloss\u001b[0m \u001b[0;34m=\u001b[0m \u001b[0mtrain_step\u001b[0m\u001b[0;34m(\u001b[0m\u001b[0mcolors\u001b[0m\u001b[0;34m,\u001b[0m \u001b[0midxs\u001b[0m\u001b[0;34m)\u001b[0m\u001b[0;34m\u001b[0m\u001b[0;34m\u001b[0m\u001b[0m\n\u001b[0m\u001b[1;32m     98\u001b[0m             \u001b[0mstep_index\u001b[0m \u001b[0;34m=\u001b[0m \u001b[0mepoch\u001b[0m\u001b[0;34m*\u001b[0m\u001b[0msteps_per_epoch\u001b[0m \u001b[0;34m+\u001b[0m \u001b[0mstep\u001b[0m\u001b[0;34m\u001b[0m\u001b[0;34m\u001b[0m\u001b[0m\n\u001b[1;32m     99\u001b[0m             \u001b[0mloss_history\u001b[0m\u001b[0;34m[\u001b[0m\u001b[0mstep_index\u001b[0m\u001b[0;34m]\u001b[0m \u001b[0;34m=\u001b[0m \u001b[0mloss\u001b[0m\u001b[0;34m\u001b[0m\u001b[0;34m\u001b[0m\u001b[0m\n",
      "\u001b[0;32m/am/monterey/home1/clarkemaxw/.cache/pypoetry/virtualenvs/msc-4QRxScII-py3.8/lib/python3.8/site-packages/tensorflow/python/eager/def_function.py\u001b[0m in \u001b[0;36m__call__\u001b[0;34m(self, *args, **kwds)\u001b[0m\n\u001b[1;32m    883\u001b[0m \u001b[0;34m\u001b[0m\u001b[0m\n\u001b[1;32m    884\u001b[0m       \u001b[0;32mwith\u001b[0m \u001b[0mOptionalXlaContext\u001b[0m\u001b[0;34m(\u001b[0m\u001b[0mself\u001b[0m\u001b[0;34m.\u001b[0m\u001b[0m_jit_compile\u001b[0m\u001b[0;34m)\u001b[0m\u001b[0;34m:\u001b[0m\u001b[0;34m\u001b[0m\u001b[0;34m\u001b[0m\u001b[0m\n\u001b[0;32m--> 885\u001b[0;31m         \u001b[0mresult\u001b[0m \u001b[0;34m=\u001b[0m \u001b[0mself\u001b[0m\u001b[0;34m.\u001b[0m\u001b[0m_call\u001b[0m\u001b[0;34m(\u001b[0m\u001b[0;34m*\u001b[0m\u001b[0margs\u001b[0m\u001b[0;34m,\u001b[0m \u001b[0;34m**\u001b[0m\u001b[0mkwds\u001b[0m\u001b[0;34m)\u001b[0m\u001b[0;34m\u001b[0m\u001b[0;34m\u001b[0m\u001b[0m\n\u001b[0m\u001b[1;32m    886\u001b[0m \u001b[0;34m\u001b[0m\u001b[0m\n\u001b[1;32m    887\u001b[0m       \u001b[0mnew_tracing_count\u001b[0m \u001b[0;34m=\u001b[0m \u001b[0mself\u001b[0m\u001b[0;34m.\u001b[0m\u001b[0mexperimental_get_tracing_count\u001b[0m\u001b[0;34m(\u001b[0m\u001b[0;34m)\u001b[0m\u001b[0;34m\u001b[0m\u001b[0;34m\u001b[0m\u001b[0m\n",
      "\u001b[0;32m/am/monterey/home1/clarkemaxw/.cache/pypoetry/virtualenvs/msc-4QRxScII-py3.8/lib/python3.8/site-packages/tensorflow/python/eager/def_function.py\u001b[0m in \u001b[0;36m_call\u001b[0;34m(self, *args, **kwds)\u001b[0m\n\u001b[1;32m    931\u001b[0m       \u001b[0;31m# This is the first call of __call__, so we have to initialize.\u001b[0m\u001b[0;34m\u001b[0m\u001b[0;34m\u001b[0m\u001b[0;34m\u001b[0m\u001b[0m\n\u001b[1;32m    932\u001b[0m       \u001b[0minitializers\u001b[0m \u001b[0;34m=\u001b[0m \u001b[0;34m[\u001b[0m\u001b[0;34m]\u001b[0m\u001b[0;34m\u001b[0m\u001b[0;34m\u001b[0m\u001b[0m\n\u001b[0;32m--> 933\u001b[0;31m       \u001b[0mself\u001b[0m\u001b[0;34m.\u001b[0m\u001b[0m_initialize\u001b[0m\u001b[0;34m(\u001b[0m\u001b[0margs\u001b[0m\u001b[0;34m,\u001b[0m \u001b[0mkwds\u001b[0m\u001b[0;34m,\u001b[0m \u001b[0madd_initializers_to\u001b[0m\u001b[0;34m=\u001b[0m\u001b[0minitializers\u001b[0m\u001b[0;34m)\u001b[0m\u001b[0;34m\u001b[0m\u001b[0;34m\u001b[0m\u001b[0m\n\u001b[0m\u001b[1;32m    934\u001b[0m     \u001b[0;32mfinally\u001b[0m\u001b[0;34m:\u001b[0m\u001b[0;34m\u001b[0m\u001b[0;34m\u001b[0m\u001b[0m\n\u001b[1;32m    935\u001b[0m       \u001b[0;31m# At this point we know that the initialization is complete (or less\u001b[0m\u001b[0;34m\u001b[0m\u001b[0;34m\u001b[0m\u001b[0;34m\u001b[0m\u001b[0m\n",
      "\u001b[0;32m/am/monterey/home1/clarkemaxw/.cache/pypoetry/virtualenvs/msc-4QRxScII-py3.8/lib/python3.8/site-packages/tensorflow/python/eager/def_function.py\u001b[0m in \u001b[0;36m_initialize\u001b[0;34m(self, args, kwds, add_initializers_to)\u001b[0m\n\u001b[1;32m    757\u001b[0m     \u001b[0mself\u001b[0m\u001b[0;34m.\u001b[0m\u001b[0m_graph_deleter\u001b[0m \u001b[0;34m=\u001b[0m \u001b[0mFunctionDeleter\u001b[0m\u001b[0;34m(\u001b[0m\u001b[0mself\u001b[0m\u001b[0;34m.\u001b[0m\u001b[0m_lifted_initializer_graph\u001b[0m\u001b[0;34m)\u001b[0m\u001b[0;34m\u001b[0m\u001b[0;34m\u001b[0m\u001b[0m\n\u001b[1;32m    758\u001b[0m     self._concrete_stateful_fn = (\n\u001b[0;32m--> 759\u001b[0;31m         self._stateful_fn._get_concrete_function_internal_garbage_collected(  # pylint: disable=protected-access\n\u001b[0m\u001b[1;32m    760\u001b[0m             *args, **kwds))\n\u001b[1;32m    761\u001b[0m \u001b[0;34m\u001b[0m\u001b[0m\n",
      "\u001b[0;32m/am/monterey/home1/clarkemaxw/.cache/pypoetry/virtualenvs/msc-4QRxScII-py3.8/lib/python3.8/site-packages/tensorflow/python/eager/function.py\u001b[0m in \u001b[0;36m_get_concrete_function_internal_garbage_collected\u001b[0;34m(self, *args, **kwargs)\u001b[0m\n\u001b[1;32m   3064\u001b[0m       \u001b[0margs\u001b[0m\u001b[0;34m,\u001b[0m \u001b[0mkwargs\u001b[0m \u001b[0;34m=\u001b[0m \u001b[0;32mNone\u001b[0m\u001b[0;34m,\u001b[0m \u001b[0;32mNone\u001b[0m\u001b[0;34m\u001b[0m\u001b[0;34m\u001b[0m\u001b[0m\n\u001b[1;32m   3065\u001b[0m     \u001b[0;32mwith\u001b[0m \u001b[0mself\u001b[0m\u001b[0;34m.\u001b[0m\u001b[0m_lock\u001b[0m\u001b[0;34m:\u001b[0m\u001b[0;34m\u001b[0m\u001b[0;34m\u001b[0m\u001b[0m\n\u001b[0;32m-> 3066\u001b[0;31m       \u001b[0mgraph_function\u001b[0m\u001b[0;34m,\u001b[0m \u001b[0m_\u001b[0m \u001b[0;34m=\u001b[0m \u001b[0mself\u001b[0m\u001b[0;34m.\u001b[0m\u001b[0m_maybe_define_function\u001b[0m\u001b[0;34m(\u001b[0m\u001b[0margs\u001b[0m\u001b[0;34m,\u001b[0m \u001b[0mkwargs\u001b[0m\u001b[0;34m)\u001b[0m\u001b[0;34m\u001b[0m\u001b[0;34m\u001b[0m\u001b[0m\n\u001b[0m\u001b[1;32m   3067\u001b[0m     \u001b[0;32mreturn\u001b[0m \u001b[0mgraph_function\u001b[0m\u001b[0;34m\u001b[0m\u001b[0;34m\u001b[0m\u001b[0m\n\u001b[1;32m   3068\u001b[0m \u001b[0;34m\u001b[0m\u001b[0m\n",
      "\u001b[0;32m/am/monterey/home1/clarkemaxw/.cache/pypoetry/virtualenvs/msc-4QRxScII-py3.8/lib/python3.8/site-packages/tensorflow/python/eager/function.py\u001b[0m in \u001b[0;36m_maybe_define_function\u001b[0;34m(self, args, kwargs)\u001b[0m\n\u001b[1;32m   3461\u001b[0m \u001b[0;34m\u001b[0m\u001b[0m\n\u001b[1;32m   3462\u001b[0m           \u001b[0mself\u001b[0m\u001b[0;34m.\u001b[0m\u001b[0m_function_cache\u001b[0m\u001b[0;34m.\u001b[0m\u001b[0mmissed\u001b[0m\u001b[0;34m.\u001b[0m\u001b[0madd\u001b[0m\u001b[0;34m(\u001b[0m\u001b[0mcall_context_key\u001b[0m\u001b[0;34m)\u001b[0m\u001b[0;34m\u001b[0m\u001b[0;34m\u001b[0m\u001b[0m\n\u001b[0;32m-> 3463\u001b[0;31m           \u001b[0mgraph_function\u001b[0m \u001b[0;34m=\u001b[0m \u001b[0mself\u001b[0m\u001b[0;34m.\u001b[0m\u001b[0m_create_graph_function\u001b[0m\u001b[0;34m(\u001b[0m\u001b[0margs\u001b[0m\u001b[0;34m,\u001b[0m \u001b[0mkwargs\u001b[0m\u001b[0;34m)\u001b[0m\u001b[0;34m\u001b[0m\u001b[0;34m\u001b[0m\u001b[0m\n\u001b[0m\u001b[1;32m   3464\u001b[0m           \u001b[0mself\u001b[0m\u001b[0;34m.\u001b[0m\u001b[0m_function_cache\u001b[0m\u001b[0;34m.\u001b[0m\u001b[0mprimary\u001b[0m\u001b[0;34m[\u001b[0m\u001b[0mcache_key\u001b[0m\u001b[0;34m]\u001b[0m \u001b[0;34m=\u001b[0m \u001b[0mgraph_function\u001b[0m\u001b[0;34m\u001b[0m\u001b[0;34m\u001b[0m\u001b[0m\n\u001b[1;32m   3465\u001b[0m \u001b[0;34m\u001b[0m\u001b[0m\n",
      "\u001b[0;32m/am/monterey/home1/clarkemaxw/.cache/pypoetry/virtualenvs/msc-4QRxScII-py3.8/lib/python3.8/site-packages/tensorflow/python/eager/function.py\u001b[0m in \u001b[0;36m_create_graph_function\u001b[0;34m(self, args, kwargs, override_flat_arg_shapes)\u001b[0m\n\u001b[1;32m   3296\u001b[0m     \u001b[0marg_names\u001b[0m \u001b[0;34m=\u001b[0m \u001b[0mbase_arg_names\u001b[0m \u001b[0;34m+\u001b[0m \u001b[0mmissing_arg_names\u001b[0m\u001b[0;34m\u001b[0m\u001b[0;34m\u001b[0m\u001b[0m\n\u001b[1;32m   3297\u001b[0m     graph_function = ConcreteFunction(\n\u001b[0;32m-> 3298\u001b[0;31m         func_graph_module.func_graph_from_py_func(\n\u001b[0m\u001b[1;32m   3299\u001b[0m             \u001b[0mself\u001b[0m\u001b[0;34m.\u001b[0m\u001b[0m_name\u001b[0m\u001b[0;34m,\u001b[0m\u001b[0;34m\u001b[0m\u001b[0;34m\u001b[0m\u001b[0m\n\u001b[1;32m   3300\u001b[0m             \u001b[0mself\u001b[0m\u001b[0;34m.\u001b[0m\u001b[0m_python_function\u001b[0m\u001b[0;34m,\u001b[0m\u001b[0;34m\u001b[0m\u001b[0;34m\u001b[0m\u001b[0m\n",
      "\u001b[0;32m/am/monterey/home1/clarkemaxw/.cache/pypoetry/virtualenvs/msc-4QRxScII-py3.8/lib/python3.8/site-packages/tensorflow/python/framework/func_graph.py\u001b[0m in \u001b[0;36mfunc_graph_from_py_func\u001b[0;34m(name, python_func, args, kwargs, signature, func_graph, autograph, autograph_options, add_control_dependencies, arg_names, op_return_value, collections, capture_by_value, override_flat_arg_shapes, acd_record_initial_resource_uses)\u001b[0m\n\u001b[1;32m   1005\u001b[0m         \u001b[0m_\u001b[0m\u001b[0;34m,\u001b[0m \u001b[0moriginal_func\u001b[0m \u001b[0;34m=\u001b[0m \u001b[0mtf_decorator\u001b[0m\u001b[0;34m.\u001b[0m\u001b[0munwrap\u001b[0m\u001b[0;34m(\u001b[0m\u001b[0mpython_func\u001b[0m\u001b[0;34m)\u001b[0m\u001b[0;34m\u001b[0m\u001b[0;34m\u001b[0m\u001b[0m\n\u001b[1;32m   1006\u001b[0m \u001b[0;34m\u001b[0m\u001b[0m\n\u001b[0;32m-> 1007\u001b[0;31m       \u001b[0mfunc_outputs\u001b[0m \u001b[0;34m=\u001b[0m \u001b[0mpython_func\u001b[0m\u001b[0;34m(\u001b[0m\u001b[0;34m*\u001b[0m\u001b[0mfunc_args\u001b[0m\u001b[0;34m,\u001b[0m \u001b[0;34m**\u001b[0m\u001b[0mfunc_kwargs\u001b[0m\u001b[0;34m)\u001b[0m\u001b[0;34m\u001b[0m\u001b[0;34m\u001b[0m\u001b[0m\n\u001b[0m\u001b[1;32m   1008\u001b[0m \u001b[0;34m\u001b[0m\u001b[0m\n\u001b[1;32m   1009\u001b[0m       \u001b[0;31m# invariant: `func_outputs` contains only Tensors, CompositeTensors,\u001b[0m\u001b[0;34m\u001b[0m\u001b[0;34m\u001b[0m\u001b[0;34m\u001b[0m\u001b[0m\n",
      "\u001b[0;32m/am/monterey/home1/clarkemaxw/.cache/pypoetry/virtualenvs/msc-4QRxScII-py3.8/lib/python3.8/site-packages/tensorflow/python/eager/def_function.py\u001b[0m in \u001b[0;36mwrapped_fn\u001b[0;34m(*args, **kwds)\u001b[0m\n\u001b[1;32m    666\u001b[0m         \u001b[0;31m# the function a weak reference to itself to avoid a reference cycle.\u001b[0m\u001b[0;34m\u001b[0m\u001b[0;34m\u001b[0m\u001b[0;34m\u001b[0m\u001b[0m\n\u001b[1;32m    667\u001b[0m         \u001b[0;32mwith\u001b[0m \u001b[0mOptionalXlaContext\u001b[0m\u001b[0;34m(\u001b[0m\u001b[0mcompile_with_xla\u001b[0m\u001b[0;34m)\u001b[0m\u001b[0;34m:\u001b[0m\u001b[0;34m\u001b[0m\u001b[0;34m\u001b[0m\u001b[0m\n\u001b[0;32m--> 668\u001b[0;31m           \u001b[0mout\u001b[0m \u001b[0;34m=\u001b[0m \u001b[0mweak_wrapped_fn\u001b[0m\u001b[0;34m(\u001b[0m\u001b[0;34m)\u001b[0m\u001b[0;34m.\u001b[0m\u001b[0m__wrapped__\u001b[0m\u001b[0;34m(\u001b[0m\u001b[0;34m*\u001b[0m\u001b[0margs\u001b[0m\u001b[0;34m,\u001b[0m \u001b[0;34m**\u001b[0m\u001b[0mkwds\u001b[0m\u001b[0;34m)\u001b[0m\u001b[0;34m\u001b[0m\u001b[0;34m\u001b[0m\u001b[0m\n\u001b[0m\u001b[1;32m    669\u001b[0m         \u001b[0;32mreturn\u001b[0m \u001b[0mout\u001b[0m\u001b[0;34m\u001b[0m\u001b[0;34m\u001b[0m\u001b[0m\n\u001b[1;32m    670\u001b[0m \u001b[0;34m\u001b[0m\u001b[0m\n",
      "\u001b[0;32m/am/monterey/home1/clarkemaxw/.cache/pypoetry/virtualenvs/msc-4QRxScII-py3.8/lib/python3.8/site-packages/tensorflow/python/framework/func_graph.py\u001b[0m in \u001b[0;36mwrapper\u001b[0;34m(*args, **kwargs)\u001b[0m\n\u001b[1;32m    992\u001b[0m           \u001b[0;32mexcept\u001b[0m \u001b[0mException\u001b[0m \u001b[0;32mas\u001b[0m \u001b[0me\u001b[0m\u001b[0;34m:\u001b[0m  \u001b[0;31m# pylint:disable=broad-except\u001b[0m\u001b[0;34m\u001b[0m\u001b[0;34m\u001b[0m\u001b[0m\n\u001b[1;32m    993\u001b[0m             \u001b[0;32mif\u001b[0m \u001b[0mhasattr\u001b[0m\u001b[0;34m(\u001b[0m\u001b[0me\u001b[0m\u001b[0;34m,\u001b[0m \u001b[0;34m\"ag_error_metadata\"\u001b[0m\u001b[0;34m)\u001b[0m\u001b[0;34m:\u001b[0m\u001b[0;34m\u001b[0m\u001b[0;34m\u001b[0m\u001b[0m\n\u001b[0;32m--> 994\u001b[0;31m               \u001b[0;32mraise\u001b[0m \u001b[0me\u001b[0m\u001b[0;34m.\u001b[0m\u001b[0mag_error_metadata\u001b[0m\u001b[0;34m.\u001b[0m\u001b[0mto_exception\u001b[0m\u001b[0;34m(\u001b[0m\u001b[0me\u001b[0m\u001b[0;34m)\u001b[0m\u001b[0;34m\u001b[0m\u001b[0;34m\u001b[0m\u001b[0m\n\u001b[0m\u001b[1;32m    995\u001b[0m             \u001b[0;32melse\u001b[0m\u001b[0;34m:\u001b[0m\u001b[0;34m\u001b[0m\u001b[0;34m\u001b[0m\u001b[0m\n\u001b[1;32m    996\u001b[0m               \u001b[0;32mraise\u001b[0m\u001b[0;34m\u001b[0m\u001b[0;34m\u001b[0m\u001b[0m\n",
      "\u001b[0;31mValueError\u001b[0m: in user code:\n\n    /tmp/ipykernel_1625192/1729363644.py:30 train_step  *\n        x_out = model(x_inp, i_inp)\n    /am/monterey/home1/clarkemaxw/.cache/pypoetry/virtualenvs/msc-4QRxScII-py3.8/lib/python3.8/site-packages/keras/engine/base_layer.py:1020 __call__  **\n        input_spec.assert_input_compatibility(self.input_spec, inputs, self.name)\n    /am/monterey/home1/clarkemaxw/.cache/pypoetry/virtualenvs/msc-4QRxScII-py3.8/lib/python3.8/site-packages/keras/engine/input_spec.py:199 assert_input_compatibility\n        raise ValueError('Layer ' + layer_name + ' expects ' +\n\n    ValueError: Layer model_1 expects 2 input(s), but it received 1 input tensors. Inputs received: [<tf.Tensor 'strided_slice:0' shape=(None, None) dtype=int64>]\n"
     ]
    }
   ],
   "source": [
    "class TransformerLearningRateSchedule(tf.keras.optimizers.schedules.LearningRateSchedule):\n",
    "    def __init__(self, embd_dim, warmup_steps):\n",
    "        super(TransformerLearningRateSchedule, self).__init__()\n",
    "\n",
    "        self.d_model = embd_dim\n",
    "        self.d_model = tf.cast(self.d_model, tf.float32)\n",
    "\n",
    "        self.warmup_steps = warmup_steps\n",
    "\n",
    "    def __call__(self, step):\n",
    "        arg1 = tf.math.rsqrt(step)\n",
    "        arg2 = step * (self.warmup_steps ** -1.5)\n",
    "\n",
    "        return tf.math.rsqrt(self.d_model) * tf.math.minimum(arg1, arg2)\n",
    "\n",
    "lr_schedule = TransformerLearningRateSchedule(config['model']['embd_dim'], config['lr_warmup_steps'])\n",
    "# params taken from the linked notebook\n",
    "optimizer = keras.optimizers.Adam(learning_rate=lr_schedule, beta_1=0.9, beta_2=0.95, epsilon=1e-9)\n",
    "loss_function = keras.losses.SparseCategoricalCrossentropy(from_logits=True, reduction='sum_over_batch_size')\n",
    "train_step_signature = [\n",
    "    tf.TensorSpec(shape=(None, None), dtype=tf.int64),\n",
    "    tf.TensorSpec(shape=(None), dtype=tf.int64),\n",
    "]\n",
    "@tf.function(input_signature=train_step_signature)\n",
    "def train_step(colors, idxs):\n",
    "    x_inp = colors[:, :-1]\n",
    "    x_tar = colors[:, 1:]\n",
    "    i_inp = idxs[:, :-1]\n",
    "    with tf.GradientTape() as tape:\n",
    "        x_out = model(x_inp, i_inp)\n",
    "        loss = loss_function(x_tar, x_out)\n",
    "    gradients = tape.gradient(loss, model.trainable_variables)    \n",
    "    optimizer.apply_gradients(zip(gradients, model.trainable_variables))\n",
    "    return loss\n",
    "\n",
    "eval_step_signature = [\n",
    "    tf.TensorSpec(shape=(None, None), dtype=tf.int64),\n",
    "]\n",
    "@tf.function(input_signature=eval_step_signature)\n",
    "def eval_step(inp):\n",
    "    return model(inp, training=False)\n",
    "\n",
    "def evaluate(inp_colors, inp_idxs, manager=None):\n",
    "    \n",
    "    out_colors = inp_colors\n",
    "\n",
    "    # create target and transform to batched shape\n",
    "    target = tf.expand_dims(tf.cast([0], dtype=tf.int64), axis=0)\n",
    "    target = tf.tile(target, [seq.shape[0], 1])\n",
    "    if manager is None:\n",
    "        manager = enlighten.get_manager()\n",
    "    evaluate_counter = manager.counter(total=idx, desc=\"Evaluating\", unit='pixels', leave=False)\n",
    "    for _ in evaluate_counter(range(seq_length)):\n",
    "        logits = eval_step(out_colors, inp_idxs)\n",
    "        # apply softmax on the logits and return the result\n",
    "        predictions = tf.random.categorical(logits[:, -1], 1, dtype=tf.int64)\n",
    "        # append prediction\n",
    "        out_colors = tf.concat([out_colors, predictions], axis=-1)\n",
    "    evaluate_counter.close()\n",
    "    return out_colors\n",
    "\n",
    "def process_batch(inp_colors, inp_idxs, show_input=True, show_output=True, manager=None):\n",
    "    batch_size = inp_colors.shape[0]\n",
    "    n = int(inp_colors.shape[-1] / 2) \n",
    "    half_colors = inp_colors[:, :n]\n",
    "    half_idxs = inp_idxs[:, :n]\n",
    "    if show_input:\n",
    "        showSeq(half_colors, (image_width//2, image_height), batch_size)\n",
    "        showSeq(inp_colors, (image_width, image_height), batch_size)\n",
    "    if show_output:\n",
    "        result_seq = evaluate(inp_sequence, manager=manager)\n",
    "        showSeq(result_seq, (image_width, image_height), batch_size)\n",
    "\n",
    "batch_colors, batch_idxs, batch_labels = next(iter(dataset_test))\n",
    "process_batch(batch_colors[0:10], batch_idxs[0:10], show_output=False)\n",
    "\n",
    "n_epochs = config['n_epochs']\n",
    "steps_per_epoch = config['steps_per_epoch']\n",
    "loss_history = np.zeros([n_epochs*steps_per_epoch])\n",
    "window_size = 10\n",
    "\n",
    "dataset_iterator = iter(dataset_train)\n",
    "\n",
    "with enlighten.get_manager() as manager:\n",
    "    status = manager.status_bar(f\"Training model '{model_name}'\", justify=enlighten.Justify.CENTER)\n",
    "    info = manager.status_bar('Loss: ??????, Learning Rate: ???????')\n",
    "    def update_infobar(loss, learning_rate):\n",
    "        info.update(f'Loss (10 step avg.): {loss:.5f}, Learning Rate: {learning_rate:.6f}')\n",
    "    epochs = manager.counter(total=n_epochs, desc='Epochs', color='green', unit='epochs')\n",
    "    last_loss = None\n",
    "    last_step = 0\n",
    "    for epoch in epochs(range(n_epochs)):\n",
    "        steps = manager.counter(total=steps_per_epoch, desc=f'Epoch {epoch:<3}', color='blue', unit='steps')\n",
    "        for step in steps(range(steps_per_epoch)):\n",
    "            colors, idxs, label = next(dataset_iterator)\n",
    "            loss = train_step(colors, idxs)\n",
    "            step_index = epoch*steps_per_epoch + step\n",
    "            loss_history[step_index] = loss\n",
    "            running_mean = np.mean(loss_history[max(0, step_index-window_size) : step_index+1])\n",
    "            update_infobar(running_mean, optimizer._decayed_lr(tf.float32))\n",
    "            if last_loss is None or (running_mean <= last_loss * 0.9 and step_index >= last_step + 10):\n",
    "                last_loss = running_mean\n",
    "                last_step = step_index\n",
    "                print(f\"Step {step_index}, Loss (10 step avg.): {last_loss.numpy()}\")\n",
    "                process_batch(batch[0][0:10], show_input=False, manager=manager)\n",
    "\n",
    "        # todo eval model"
   ]
  },
  {
   "cell_type": "code",
   "execution_count": null,
   "id": "56e8fd21-7a5b-4d76-9946-8476c45c0a40",
   "metadata": {},
   "outputs": [],
   "source": []
  },
  {
   "cell_type": "code",
   "execution_count": null,
   "id": "c1117cd7-179c-4c0b-b800-4f7e799efe88",
   "metadata": {},
   "outputs": [],
   "source": []
  }
 ],
 "metadata": {
  "kernelspec": {
   "display_name": "Python 3 (ipykernel)",
   "language": "python",
   "name": "python3"
  },
  "language_info": {
   "codemirror_mode": {
    "name": "ipython",
    "version": 3
   },
   "file_extension": ".py",
   "mimetype": "text/x-python",
   "name": "python",
   "nbconvert_exporter": "python",
   "pygments_lexer": "ipython3",
   "version": "3.8.12"
  }
 },
 "nbformat": 4,
 "nbformat_minor": 5
}
