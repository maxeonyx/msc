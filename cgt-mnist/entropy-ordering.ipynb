{
 "cells": [
  {
   "cell_type": "code",
   "execution_count": 1,
   "id": "41a88e41-1cea-4765-9940-a6207022f2ec",
   "metadata": {},
   "outputs": [
    {
     "name": "stdout",
     "output_type": "stream",
     "text": [
      "[PhysicalDevice(name='/physical_device:GPU:0', device_type='GPU'), PhysicalDevice(name='/physical_device:GPU:1', device_type='GPU'), PhysicalDevice(name='/physical_device:GPU:2', device_type='GPU')]\n"
     ]
    }
   ],
   "source": [
    "import os\n",
    "\n",
    "import tensorflow as tf\n",
    "physical_devices = tf.config.list_physical_devices('GPU')\n",
    "print(physical_devices)\n",
    "assert len(physical_devices) == 3\n",
    "# to allow other tensorflow processes to use the gpu\n",
    "# https://stackoverflow.com/a/60699372/7989988\n",
    "tf.config.experimental.set_memory_growth(physical_devices[0], True)\n",
    "tf.config.experimental.set_memory_growth(physical_devices[1], True)\n",
    "tf.config.experimental.set_memory_growth(physical_devices[2], True)\n",
    "\n",
    "import numpy as np\n",
    "from tensorflow import keras\n",
    "from tensorflow.keras import Model, Input, layers\n",
    "from IPython.display import display\n",
    "import tensorflow_datasets as tfds\n",
    "import time\n",
    "import matplotlib.pyplot as plt\n",
    "import enlighten\n",
    "import tensorflow_probability as tfp\n",
    "from dotmap import DotMap"
   ]
  },
  {
   "cell_type": "code",
   "execution_count": 2,
   "id": "de094d06-1ee6-4026-9219-45a8ce1a87bc",
   "metadata": {},
   "outputs": [],
   "source": [
    "import models\n",
    "import training\n",
    "import datasets\n",
    "import vizualization\n",
    "import schedules"
   ]
  },
  {
   "cell_type": "code",
   "execution_count": 3,
   "id": "13283113-0525-4e57-966c-db3d1a26f4ea",
   "metadata": {},
   "outputs": [],
   "source": [
    "config = DotMap({\n",
    "    'ds': 'mnist',\n",
    "    'distributed': True,\n",
    "    'minibatch_size': 8,\n",
    "    'n_steps': 120001,\n",
    "    'test_size': 300,\n",
    "    'test_minibatch_size': 25,\n",
    "    'test_interval': 500,\n",
    "    'test_n_shuf': [392, 1, 64, 128, 256],\n",
    "    'test_n_seq': [392, 1, 128, 256, 512],\n",
    "    'test_autoregressive': False,\n",
    "    'noise_fraction': 0,\n",
    "    'display_images': True,\n",
    "    'display_image_interval': 5000,\n",
    "    'dont_display_until_loss': 0.48,\n",
    "    'bg_color': [1.0, 0.4, 0.6],\n",
    "    'lr_schedule': ['constant', 0.0004],\n",
    "    'lr_warmup': 100,\n",
    "    'grad_accum_steps': None, #['exponential', 1, 4],\n",
    "    'max_accum_steps': 4,\n",
    "    'use_wandb': True,\n",
    "    'wandb_log_interval': 10,\n",
    "    'loss_window_size': 80,\n",
    "    'kmeans_batch_size': 1000,\n",
    "    'mixed_float': False,\n",
    "    'continuous': False,\n",
    "})\n",
    "\n",
    "config.discrete = not config.continuous\n",
    "\n",
    "# need to change for multiworkerstrategy\n",
    "if config.distributed:\n",
    "    config.num_devices = len(physical_devices)\n",
    "else:\n",
    "    config.num_devices = 1\n",
    "config.global_batch_size = config.minibatch_size * config.num_devices"
   ]
  },
  {
   "cell_type": "code",
   "execution_count": 4,
   "id": "e1139b16-cf69-49e1-a84b-388f2fb6a1a8",
   "metadata": {},
   "outputs": [
    {
     "name": "stdout",
     "output_type": "stream",
     "text": [
      "Example integers sampled from gamma distribution.\n",
      "tf.Tensor(\n",
      "[149 140 324  53 371 111 100 375 225  85 456  42  38 226 135  82  11 369\n",
      "  91  10 104  76 175  64 113  20 111 294  86  28  31  84  70 339  49 201\n",
      " 222 228 105 321 272  43 101 412 197 369  82  68 208 361  13 151  50  37\n",
      " 261 347 408 374 150 117 166  69  50  27 237 287 144  43 179  30 386  41\n",
      " 108 139  60  53 286  26 110 105 164 154  72 144 175 122 135  24 775  93\n",
      "  31 370   7  39 278 190  74   9 366 558], shape=(100,), dtype=int32)\n",
      "Init 1/3 with method k-means++\n",
      "Inertia for init 1/3: 0.8447982326401808\n",
      "Init 2/3 with method k-means++\n",
      "Inertia for init 2/3: 0.6975778442443431\n",
      "Init 3/3 with method k-means++\n",
      "Inertia for init 3/3: 0.5303959852703146\n",
      "Minibatch step 1/100: mean batch inertia: 0.0009197403936053571\n",
      "Minibatch step 2/100: mean batch inertia: 0.0007484282452446271, ewa inertia: 0.0007484282452446271\n",
      "Minibatch step 3/100: mean batch inertia: 0.0010213445187639563, ewa inertia: 0.0010213445187639563\n",
      "Minibatch step 4/100: mean batch inertia: 0.000709348609865712, ewa inertia: 0.000709348609865712\n",
      "Minibatch step 5/100: mean batch inertia: 0.0008458715713485476, ewa inertia: 0.0008458715713485476\n",
      "Minibatch step 6/100: mean batch inertia: 0.0006865048377918892, ewa inertia: 0.0006865048377918892\n",
      "Minibatch step 7/100: mean batch inertia: 0.0008658436933086711, ewa inertia: 0.0008658436933086711\n",
      "Minibatch step 8/100: mean batch inertia: 0.0007570460149674163, ewa inertia: 0.0007570460149674163\n",
      "Minibatch step 9/100: mean batch inertia: 0.0008161889568265222, ewa inertia: 0.0008161889568265222\n",
      "Minibatch step 10/100: mean batch inertia: 0.000741350045632006, ewa inertia: 0.000741350045632006\n",
      "Minibatch step 11/100: mean batch inertia: 0.0009139585969743774, ewa inertia: 0.0009139585969743774\n",
      "Minibatch step 12/100: mean batch inertia: 0.0006990986252369704, ewa inertia: 0.0006990986252369704\n",
      "Minibatch step 13/100: mean batch inertia: 0.0009311900449041654, ewa inertia: 0.0009311900449041654\n",
      "Minibatch step 14/100: mean batch inertia: 0.0008879695819046471, ewa inertia: 0.0008879695819046471\n",
      "Minibatch step 15/100: mean batch inertia: 0.0006529169277261261, ewa inertia: 0.0006529169277261261\n",
      "Minibatch step 16/100: mean batch inertia: 0.0008306486742651841, ewa inertia: 0.0008306486742651841\n",
      "Minibatch step 17/100: mean batch inertia: 0.0006714677371990941, ewa inertia: 0.0006714677371990941\n",
      "Minibatch step 18/100: mean batch inertia: 0.0007518873643584086, ewa inertia: 0.0007518873643584086\n",
      "Minibatch step 19/100: mean batch inertia: 0.0007702321002671531, ewa inertia: 0.0007702321002671531\n",
      "Minibatch step 20/100: mean batch inertia: 0.0005621197485974809, ewa inertia: 0.0005621197485974809\n",
      "Minibatch step 21/100: mean batch inertia: 0.0006967504726268879, ewa inertia: 0.0006967504726268879\n",
      "Minibatch step 22/100: mean batch inertia: 0.00071738361973112, ewa inertia: 0.00071738361973112\n",
      "Minibatch step 23/100: mean batch inertia: 0.0006946645006178653, ewa inertia: 0.0006946645006178653\n",
      "Minibatch step 24/100: mean batch inertia: 0.0007604140622696334, ewa inertia: 0.0007604140622696334\n",
      "Minibatch step 25/100: mean batch inertia: 0.0007001787615131187, ewa inertia: 0.0007001787615131187\n",
      "Minibatch step 26/100: mean batch inertia: 0.0007821022207910495, ewa inertia: 0.0007821022207910495\n",
      "Minibatch step 27/100: mean batch inertia: 0.0007210688636550371, ewa inertia: 0.0007210688636550371\n",
      "Minibatch step 28/100: mean batch inertia: 0.0006450333477616596, ewa inertia: 0.0006450333477616596\n",
      "Minibatch step 29/100: mean batch inertia: 0.0007223194162829322, ewa inertia: 0.0007223194162829322\n",
      "Minibatch step 30/100: mean batch inertia: 0.0009420569501820246, ewa inertia: 0.0009420569501820246\n",
      "Converged (lack of improvement in inertia) at step 30/100\n",
      "centroids.shape (4, 1)\n",
      "before quant (784, 1)\n",
      "after  quant (784,)\n",
      "before quant (784, 1)\n",
      "after  quant (784,)\n",
      "WARNING:tensorflow:@custom_gradient grad_fn has 'variables' in signature, but no ResourceVariables were used on the forward pass.\n"
     ]
    },
    {
     "name": "stderr",
     "output_type": "stream",
     "text": [
      "WARNING:tensorflow:@custom_gradient grad_fn has 'variables' in signature, but no ResourceVariables were used on the forward pass.\n"
     ]
    },
    {
     "name": "stdout",
     "output_type": "stream",
     "text": [
      "Not using gradient accumulation\n",
      "INFO:tensorflow:Using MirroredStrategy with devices ('/job:localhost/replica:0/task:0/device:GPU:0', '/job:localhost/replica:0/task:0/device:GPU:1', '/job:localhost/replica:0/task:0/device:GPU:2')\n"
     ]
    },
    {
     "name": "stderr",
     "output_type": "stream",
     "text": [
      "INFO:tensorflow:Using MirroredStrategy with devices ('/job:localhost/replica:0/task:0/device:GPU:0', '/job:localhost/replica:0/task:0/device:GPU:1', '/job:localhost/replica:0/task:0/device:GPU:2')\n"
     ]
    },
    {
     "data": {
      "image/png": "[encoded data removed]",
      "text/plain": [
       "<Figure size 432x288 with 1 Axes>"
      ]
     },
     "metadata": {
      "needs_background": "light"
     },
     "output_type": "display_data"
    },
    {
     "data": {
      "image/png": "[encoded data removed]",
      "text/plain": [
       "<Figure size 432x288 with 1 Axes>"
      ]
     },
     "metadata": {
      "needs_background": "light"
     },
     "output_type": "display_data"
    }
   ],
   "source": [
    "\n",
    "    \n",
    "ds_configs = DotMap({\n",
    "    'mnist': {\n",
    "        'buffer_size': 60000,\n",
    "        'name': 'mnist',\n",
    "        'n_colors': 4,\n",
    "        'n_color_dims': 1,\n",
    "        'image_size': (28, 28),\n",
    "    },\n",
    "    'mnist_7x7': {\n",
    "        'buffer_size': 60000,\n",
    "        'name': 'mnist',\n",
    "        'n_colors': 4,\n",
    "        'n_color_dims': 1,\n",
    "        'rescale': (7, 7),\n",
    "    },\n",
    "    'mnist_binary_7x7': {\n",
    "        'buffer_size': 60000,\n",
    "        'name': 'mnist',\n",
    "        'n_colors': 2,\n",
    "        'n_color_dims': 1,\n",
    "        'rescale': (7, 7),\n",
    "    },\n",
    "    'celeb': {\n",
    "        'name': 'celeb_a',\n",
    "        'buffer_size': 10000,\n",
    "        'n_colors': 16,\n",
    "        'n_color_dims': 3,\n",
    "        'image_size': (218, 178),\n",
    "        'rescale': (32, 39),\n",
    "    }\n",
    "})\n",
    "\n",
    "config.dataset = ds_configs[config.ds]\n",
    "config.dataset.seq_length = config.dataset.image_size[0]*config.dataset.image_size[1]*config.dataset.n_color_dims\n",
    "gamma_dist, gamma_name = datasets.mnist_gamma_distribution()\n",
    "datasets.plot_distribution(config, gamma_dist, gamma_name)\n",
    "\n",
    "dataset, metadata = tfds.load(config.dataset.name, with_info=True, as_supervised=True)\n",
    "\n",
    "ds_train_original = dataset['train']\n",
    "ds_test_original = dataset['test']\n",
    "\n",
    "centroids = datasets.find_centroids(config, ds_train_original)\n",
    "\n",
    "ds = datasets.Datasets(config, ds_train_original, ds_test_original, centroids, gamma_dist)\n",
    "viz = vizualization.Viz(config, ds, centroids)\n",
    "ds_train, ds_test = ds.make_datasets()\n",
    "\n",
    "# # model config\n",
    "# config.model = DotMap({\n",
    "#     'n_colors': config.dataset.n_colors,\n",
    "#     'n_enc_a_layers': 3,\n",
    "#     'n_enc_b_layers': 3,\n",
    "#     'ffl_dim': 128,\n",
    "#     'embd_dim': 512,\n",
    "#     'n_dec_layers': 3,\n",
    "#     'dec_dim': 600,\n",
    "#     'n_heads': 4,\n",
    "#     'dropout_rate': 0.1,\n",
    "#     'use_idxs_input': True,\n",
    "#     'architecture': 'anp',\n",
    "#     'position_embedding': 'pos_enc',\n",
    "#     'activation': 'swish',\n",
    "# })\n",
    "\n",
    "if config.distributed == False:\n",
    "    strategy = tf.distribute.get_strategy()\n",
    "else:\n",
    "    strategy = tf.distribute.MirroredStrategy()\n",
    "\n",
    "# with strategy.scope():\n",
    "#     model = models.transformer(config.model)\n",
    "#     # Adam params taken from the linked notebook\n",
    "#     optimizer = keras.optimizers.Adam(learning_rate=config.max_lr)\n",
    "\n",
    "ds_train_dist = strategy.experimental_distribute_dataset(ds_train)\n",
    "\n",
    "# config.training_mode = 'combination'\n",
    "\n",
    "# model_name = models.model_name('cuda10', config)\n",
    "# model_name += \"-newgamma\"\n",
    "# print(model_name)\n"
   ]
  },
  {
   "cell_type": "code",
   "execution_count": 5,
   "id": "4d203a9c-8d40-4e6f-b337-985e3e639ede",
   "metadata": {},
   "outputs": [
    {
     "name": "stderr",
     "output_type": "stream",
     "text": [
      "WARNING:absl:Importing a function (__inference__wrapped_model_2457447) with ops with unsaved custom gradients. Will likely fail if a gradient is requested.\n",
      "WARNING:absl:Importing a function (__inference_model_layer_call_and_return_conditional_losses_2471864) with ops with unsaved custom gradients. Will likely fail if a gradient is requested.\n",
      "WARNING:absl:Importing a function (__inference_model_layer_call_and_return_conditional_losses_2469231) with ops with unsaved custom gradients. Will likely fail if a gradient is requested.\n",
      "WARNING:absl:Importing a function (__inference_model_layer_call_and_return_conditional_losses_2463735) with ops with unsaved custom gradients. Will likely fail if a gradient is requested.\n",
      "WARNING:absl:Importing a function (__inference_model_layer_call_and_return_conditional_losses_2460815) with ops with unsaved custom gradients. Will likely fail if a gradient is requested.\n"
     ]
    },
    {
     "name": "stdout",
     "output_type": "stream",
     "text": [
      "WARNING:tensorflow:No training configuration found in save file, so the model was *not* compiled. Compile it manually.\n"
     ]
    },
    {
     "name": "stderr",
     "output_type": "stream",
     "text": [
      "WARNING:tensorflow:No training configuration found in save file, so the model was *not* compiled. Compile it manually.\n"
     ]
    }
   ],
   "source": [
    "\n",
    "model_name = 'models/best-tue-feb-8-standard-anp-with-bugfixes'\n",
    "model = keras.models.load_model(model_name)\n"
   ]
  },
  {
   "cell_type": "code",
   "execution_count": 6,
   "id": "c732fdf2-8664-4f08-8fb4-914fd6aff9d1",
   "metadata": {},
   "outputs": [],
   "source": [
    "optimizer = keras.optimizers.Adam(learning_rate=schedules.learning_rate_schedule(config))\n",
    "evaler = training.Evaluator(config, model, optimizer, viz, ds, ds_train_dist, ds_test)\n"
   ]
  },
  {
   "cell_type": "code",
   "execution_count": 7,
   "id": "1e4a32df-23b9-4a23-83a3-3473ff4606fd",
   "metadata": {},
   "outputs": [
    {
     "name": "stdout",
     "output_type": "stream",
     "text": [
      "p(x) = [0.5, 0.5]\n",
      "log p(x) = tf.Tensor([-1. -1.], shape=(2,), dtype=float32)\n",
      "H(X) = tf.Tensor(1.0, shape=(), dtype=float32)\n",
      "logits = [1.0, 1]\n",
      "p(x) = tf.Tensor([0.5 0.5], shape=(2,), dtype=float32)\n",
      "log p(x) = tf.Tensor([-1. -1.], shape=(2,), dtype=float32)\n",
      "H(X) = tf.Tensor(1.0, shape=(), dtype=float32)\n",
      "logits = [4.0, 4]\n",
      "p(x) = tf.Tensor([0.5 0.5], shape=(2,), dtype=float32)\n",
      "log p(x) = tf.Tensor([-1. -1.], shape=(2,), dtype=float32)\n",
      "H(X) = tf.Tensor(1.0, shape=(), dtype=float32)\n",
      "p(x) = [0.1, 0.9]\n",
      "log p(x) = tf.Tensor([-3.321928   -0.15200314], shape=(2,), dtype=float32)\n",
      "H(X) = tf.Tensor(0.46899563, shape=(), dtype=float32)\n",
      "p(x) = tf.Tensor(\n",
      "[[0.1 0.9]\n",
      " [0.1 0.9]], shape=(2, 2), dtype=float32)\n",
      "log p(x) = tf.Tensor(\n",
      "[[-3.321928   -0.15200314]\n",
      " [-3.321928   -0.15200314]], shape=(2, 2), dtype=float32)\n",
      "H(X) = tf.Tensor([0.46899563 0.46899563], shape=(2,), dtype=float32)\n"
     ]
    },
    {
     "data": {
      "text/plain": [
       "<tf.Tensor: shape=(2,), dtype=float32, numpy=array([0.46899563, 0.46899563], dtype=float32)>"
      ]
     },
     "execution_count": 7,
     "metadata": {},
     "output_type": "execute_result"
    }
   ],
   "source": [
    "def log2(x):\n",
    "    numerator = tf.math.log(x)\n",
    "    denominator = tf.math.log(tf.constant(2, dtype=numerator.dtype))\n",
    "    return numerator / denominator\n",
    "\n",
    "def entropy_of_probabilities(probabilities, do_print=False):\n",
    "    if do_print:\n",
    "        print(\"p(x) =\", probabilities)\n",
    "    log_probabilities = log2(probabilities)\n",
    "    if do_print:\n",
    "        print(\"log p(x) =\", log_probabilities)\n",
    "    entropies = -1 * tf.reduce_sum(probabilities*log_probabilities, axis=-1)\n",
    "    if do_print:\n",
    "        print(\"H(X) =\", entropies)\n",
    "    return entropies\n",
    "\n",
    "def entropy_of_logits(logits, do_print=False):\n",
    "    if do_print:\n",
    "        print(\"logits =\", logits)\n",
    "    \n",
    "    probabilities = tf.nn.softmax(logits, axis=-1)\n",
    "    \n",
    "    return entropy_of_probabilities(probabilities, do_print)\n",
    "\n",
    "entropy_of_probabilities([0.5, 0.5], do_print=True)\n",
    "entropy_of_logits([1., 1], do_print=True)\n",
    "entropy_of_logits([4., 4], do_print=True)\n",
    "\n",
    "entropy_of_probabilities([0.1, 0.9], do_print=True)\n",
    "entropy_of_probabilities(tf.constant([[0.1, 0.9], [0.1, 0.9]]), do_print=True)\n",
    "# checks out from https://machinelearningmastery.com/information-gain-and-mutual-information/\n",
    "\n",
    "\n"
   ]
  },
  {
   "cell_type": "code",
   "execution_count": 8,
   "id": "44203455-2213-4dab-ad1f-ee0c3bd4ee43",
   "metadata": {},
   "outputs": [],
   "source": [
    "def autoreg_sample(m, t_loop, modes=[\"sequential\"], seed_colors=None, all_idxs=None, manager=None):\n",
    "    \n",
    "    if seed_colors is None:\n",
    "        n = 1\n",
    "        batch_size = 9\n",
    "        seed_colors = tf.zeros([9, n], tf.int32)\n",
    "    else:\n",
    "        batch_size = seed_colors.shape[0]\n",
    "        n = seed_colors.shape[1]\n",
    "    if all_idxs is None:\n",
    "        n_total = config.dataset.image_size[0] * config.dataset.image_size[1]\n",
    "        all_idxs = tf.tile(tf.range(n_total)[None, :], [batch_size, 1])\n",
    "    else:\n",
    "        n_total = all_idxs.shape[1]\n",
    "    assert all_idxs.shape[0] == batch_size, f\"seed_colors and all_idxs must have the same batch_size dim. Got {batch_size} and {all_idxs.shape[0]}.\"\n",
    "    seed_idxs = all_idxs[:, :n]\n",
    "    tar_idxs = all_idxs[:, 1:]\n",
    "\n",
    "    if manager is None:\n",
    "        manager = enlighten.get_manager()\n",
    "    \n",
    "    steps_counter = manager.counter(total=len(modes) + 1, desc=\"Running Experiments\", unit='steps', leave=False)\n",
    "    \n",
    "    # produce expected value visualization\n",
    "    inp_idxs = all_idxs[:1, :n]\n",
    "    tar_idxs = all_idxs[:1, n:]\n",
    "    inp_colors = seed_colors[:1]\n",
    "    logits = t_loop.eval_step(inp_colors, inp_idxs, tar_idxs)\n",
    "    probabilities = tf.nn.softmax(logits, axis=2)\n",
    "    expected_col = ds.expected_col(probabilities)\n",
    "    \n",
    "    steps_counter.update()\n",
    "    \n",
    "    viz.showSeq(inp_colors[:1],                all_idxs[:1, :n], config.dataset.image_size, 1,          unshuffle=True)\n",
    "    viz.showSeq(expected_col,                  all_idxs[:1, n:], config.dataset.image_size, 1,          unshuffle=True, do_unquantize=False)\n",
    "    \n",
    "    if \"sequential\" in modes:\n",
    "        # produce autoregressive samples in index order. Left -> Right, Top -> Bottom\n",
    "        mode = \"sequential\"\n",
    "        evaluate_counter = manager.counter(total=n_total-n, desc=f\"Sampling - '{mode}' order\", unit='pixels', leave=True)\n",
    "        \n",
    "        autoregressive_samples = seed_colors\n",
    "        for i in evaluate_counter(range(n, n_total)):\n",
    "\n",
    "            inp_idxs = all_idxs[:, :i]\n",
    "            tar_idxs = all_idxs[:, i:i+1]\n",
    "\n",
    "            logits = t_loop.eval_step(autoregressive_samples, inp_idxs, tar_idxs)\n",
    "\n",
    "            # apply softmax on the logits and sample from the distribution\n",
    "            samples = tf.random.categorical(logits[:, 0], 1, dtype=tf.int32)\n",
    "            autoregressive_samples = tf.concat([autoregressive_samples, samples], axis=-1)\n",
    "        \n",
    "        evaluate_counter.close()\n",
    "        steps_counter.update()\n",
    "        \n",
    "        viz.showSeq(autoregressive_samples[:, n:], all_idxs[:, n:],  config.dataset.image_size, batch_size, unshuffle=True)\n",
    "        # create a colouring for the order that the pixels were sampled in\n",
    "        order_coloring = tf.cast(tf.tile(tf.range(784)[None, :], [batch_size, 1]), tf.float32) / n_total\n",
    "        order_coloring = order_coloring[:, :, None] # add color dim\n",
    "        viz.showSeq(order_coloring, all_idxs, config.dataset.image_size, batch_size, do_unquantize=False, unshuffle=True)\n",
    "    \n",
    "    if \"sequential_argmax\" in modes:\n",
    "        # produce autoregressive samples in index order. Left -> Right, Top -> Bottom\n",
    "        mode = \"sequential\"\n",
    "        evaluate_counter = manager.counter(total=n_total-n, desc=f\"Sampling - '{mode}' order\", unit='pixels', leave=True)\n",
    "        \n",
    "        autoregressive_samples = seed_colors\n",
    "        for i in evaluate_counter(range(n, n_total)):\n",
    "\n",
    "            inp_idxs = all_idxs[:, :i]\n",
    "            tar_idxs = all_idxs[:, i:i+1]\n",
    "\n",
    "            logits = t_loop.eval_step(autoregressive_samples, inp_idxs, tar_idxs)\n",
    "\n",
    "            # apply softmax on the logits and sample from the distribution\n",
    "            samples = tf.argmax(logits[:, 0])\n",
    "            autoregressive_samples = tf.concat([autoregressive_samples, samples], axis=-1)\n",
    "        \n",
    "        evaluate_counter.close()\n",
    "        steps_counter.update()\n",
    "        \n",
    "        viz.showSeq(autoregressive_samples[:, n:], all_idxs[:, n:],  config.dataset.image_size, batch_size, unshuffle=True)\n",
    "        # create a colouring for the order that the pixels were sampled in\n",
    "        order_coloring = tf.cast(tf.tile(tf.range(784)[None, :], [batch_size, 1]), tf.float32) / n_total\n",
    "        order_coloring = order_coloring[:, :, None] # add color dim\n",
    "        viz.showSeq(order_coloring, all_idxs, config.dataset.image_size, batch_size, do_unquantize=False, unshuffle=True)\n",
    "    \n",
    "    if \"random\" in modes:\n",
    "        # produce autoregressive samples in random order\n",
    "        mode = \"random\"\n",
    "        evaluate_counter = manager.counter(total=n_total-n, desc=f\"Sampling - '{mode}' order\", unit='pixels', leave=True)\n",
    "        \n",
    "        # the [n:] is so we don't shuffle the seed pixels\n",
    "        shuf_idxs = [tf.random.shuffle(all_idxs[i, n:])[None, :] for i in range(batch_size)]\n",
    "        shuf_idxs = tf.concat(shuf_idxs, axis=0)\n",
    "        shuf_idxs = tf.concat([seed_idxs, shuf_idxs], axis=-1)\n",
    "        \n",
    "        autoregressive_samples = seed_colors\n",
    "        for i in evaluate_counter(range(n, n_total)):\n",
    "            \n",
    "            inp_idxs = shuf_idxs[:, :i]\n",
    "            tar_idxs = shuf_idxs[:, i:i+1]\n",
    "\n",
    "            logits = t_loop.eval_step(autoregressive_samples, inp_idxs, tar_idxs)\n",
    "\n",
    "            # apply softmax on the logits and sample from the distribution\n",
    "            samples = tf.random.categorical(logits[:, 0], 1, dtype=tf.int32)\n",
    "            samples = tf.concat(samples, axis=0)\n",
    "            autoregressive_samples = tf.concat([autoregressive_samples, samples], axis=-1)\n",
    "\n",
    "        evaluate_counter.close()\n",
    "        steps_counter.update()\n",
    "    \n",
    "        viz.showSeq(autoregressive_samples[:, n:], shuf_idxs[:, n:],  config.dataset.image_size, batch_size, unshuffle=True)\n",
    "        # create a colouring for the order that the pixels were sampled in\n",
    "        order_coloring = tf.cast(tf.tile(tf.range(784)[None, :], [batch_size, 1]), tf.float32) / n_total\n",
    "        order_coloring = order_coloring[:, :, None] # add color dim\n",
    "        viz.showSeq(order_coloring, shuf_idxs, config.dataset.image_size, batch_size, do_unquantize=False, unshuffle=True)\n",
    "\n",
    "    \n",
    "    if \"highest_entropy\" in modes:\n",
    "        # produce autoregressive samples in order of the highest entropy sample next\n",
    "        mode = \"highest_entropy\"\n",
    "        evaluate_counter = manager.counter(total=n_total-n, desc=f\"Sampling - '{mode}' order\", unit='pixels', leave=True)\n",
    "        \n",
    "        used_idxs = seed_idxs\n",
    "        unused_idxs = all_idxs[:, n:]\n",
    "        \n",
    "        autoregressive_samples = seed_colors\n",
    "        for i in evaluate_counter(range(n, n_total)):\n",
    "            \n",
    "            inp_idxs = used_idxs\n",
    "            tar_idxs = unused_idxs\n",
    "\n",
    "            logits = t_loop.eval_step(autoregressive_samples, inp_idxs, tar_idxs)\n",
    "            \n",
    "            entropies = entropy_of_logits(logits)\n",
    "            \n",
    "            sample_idxs = tf.cast(tf.math.argmax(entropies, axis=-1), tf.int32)\n",
    "            sample_idxs_nd = tf.stack([tf.range(batch_size), sample_idxs], axis=-1)\n",
    "            \n",
    "            logit_distributions = tf.gather_nd(logits, sample_idxs_nd)\n",
    "            this_used_idxs = tf.gather_nd(tar_idxs, sample_idxs_nd)\n",
    "            \n",
    "            # apply softmax on the logits and sample from the distribution\n",
    "            samples = tf.random.categorical(logit_distributions, 1, dtype=tf.int32)\n",
    "            autoregressive_samples = tf.concat([autoregressive_samples, samples], axis=-1)\n",
    "            used_idxs = tf.concat([used_idxs, this_used_idxs[:, None]], axis=-1)\n",
    "            unused_idxs = tf.sparse.to_dense(tf.sets.difference(all_idxs, used_idxs))\n",
    "\n",
    "        evaluate_counter.close()\n",
    "        steps_counter.update()\n",
    "        \n",
    "        viz.showSeq(autoregressive_samples[:, n:], used_idxs[:, n:],  config.dataset.image_size, batch_size, unshuffle=True)\n",
    "        # create a colouring for the order that the pixels were sampled in\n",
    "        order_coloring = tf.cast(tf.tile(tf.range(784)[None, :], [batch_size, 1]), tf.float32) / n_total\n",
    "        order_coloring = order_coloring[:, :, None] # add color dim\n",
    "        viz.showSeq(order_coloring, used_idxs, config.dataset.image_size, batch_size, do_unquantize=False, unshuffle=True)\n",
    "    \n",
    "    if \"lowest_entropy\" in modes:\n",
    "        # produce autoregressive samples in order of the highest entropy sample next\n",
    "        mode = \"lowest_entropy\"\n",
    "        evaluate_counter = manager.counter(total=n_total-n, desc=f\"Sampling - '{mode}' order\", unit='pixels', leave=True)\n",
    "        \n",
    "        used_idxs = seed_idxs\n",
    "        unused_idxs = all_idxs[:, n:]\n",
    "                    \n",
    "        entropies = entropy_of_logits(logits)\n",
    "        \n",
    "        autoregressive_samples = seed_colors\n",
    "        for i in evaluate_counter(range(n, n_total)):\n",
    "            \n",
    "            inp_idxs = used_idxs\n",
    "            tar_idxs = unused_idxs\n",
    "\n",
    "            logits = t_loop.eval_step(autoregressive_samples, inp_idxs, tar_idxs)\n",
    "            \n",
    "            entropies = entropy_of_logits(logits)\n",
    "            \n",
    "            sample_idxs = tf.cast(tf.math.argmin(entropies, axis=-1), tf.int32)\n",
    "            sample_idxs_nd = tf.stack([tf.range(batch_size), sample_idxs], axis=-1)\n",
    "            \n",
    "            logit_distributions = tf.gather_nd(logits, sample_idxs_nd)\n",
    "            this_used_idxs = tf.gather_nd(tar_idxs, sample_idxs_nd)\n",
    "            \n",
    "            # apply softmax on the logits and sample from the distribution\n",
    "            samples = tf.random.categorical(logit_distributions, 1, dtype=tf.int32)\n",
    "            autoregressive_samples = tf.concat([autoregressive_samples, samples], axis=-1)\n",
    "            used_idxs = tf.concat([used_idxs, this_used_idxs[:, None]], axis=-1)\n",
    "            unused_idxs = tf.sparse.to_dense(tf.sets.difference(all_idxs, used_idxs))\n",
    "\n",
    "        evaluate_counter.close()\n",
    "        steps_counter.update()\n",
    "    \n",
    "        viz.showSeq(autoregressive_samples[:, n:], used_idxs[:, n:],  config.dataset.image_size, batch_size, unshuffle=True)\n",
    "        # create a colouring for the order that the pixels were sampled in\n",
    "        order_coloring = tf.cast(tf.tile(tf.range(784)[None, :], [batch_size, 1]), tf.float32) / n_total\n",
    "        order_coloring = order_coloring[:, :, None] # add color dim\n",
    "        viz.showSeq(order_coloring, used_idxs, config.dataset.image_size, batch_size, do_unquantize=False, unshuffle=True)\n",
    "\n"
   ]
  },
  {
   "cell_type": "code",
   "execution_count": 9,
   "id": "d49a191f-cbcb-4f62-b852-a76f6f88c206",
   "metadata": {},
   "outputs": [
    {
     "data": {
      "text/html": [
       "<style>\n",
       "</style>\n",
       "<div class=\"enlighten\">\n",
       "  <div class=\"enlighten-bar\">\n",
       "    <pre>Running Experiments  33%|██████████████                            | 2/6 [00:35&lt;01:09, 0.06 steps/s]</pre>\n",
       "  </div>\n",
       "  <div class=\"enlighten-bar\">\n",
       "    <pre>Sampling - 'sequential' order 100%|██████████████████████████| 783/783 [00:32&lt;00:00, 24.60 pixels/s]</pre>\n",
       "  </div>\n",
       "  <div class=\"enlighten-bar\">\n",
       "    <pre></pre>\n",
       "  </div>\n",
       "</div>\n"
      ],
      "text/plain": [
       "<IPython.core.display.HTML object>"
      ]
     },
     "metadata": {},
     "output_type": "display_data"
    },
    {
     "data": {
      "image/png": "[encoded data removed]",
      "text/plain": [
       "<Figure size 216x216 with 1 Axes>"
      ]
     },
     "metadata": {
      "needs_background": "light"
     },
     "output_type": "display_data"
    },
    {
     "data": {
      "image/png": "[encoded data removed]",
      "text/plain": [
       "<Figure size 216x216 with 1 Axes>"
      ]
     },
     "metadata": {
      "needs_background": "light"
     },
     "output_type": "display_data"
    },
    {
     "data": {
      "image/png": "[encoded data removed]",
      "text/plain": [
       "<Figure size 1944x216 with 9 Axes>"
      ]
     },
     "metadata": {
      "needs_background": "light"
     },
     "output_type": "display_data"
    },
    {
     "data": {
      "image/png": "[encoded data removed]",
      "text/plain": [
       "<Figure size 1944x216 with 9 Axes>"
      ]
     },
     "metadata": {
      "needs_background": "light"
     },
     "output_type": "display_data"
    },
    {
     "ename": "InvalidArgumentError",
     "evalue": "cannot compute ConcatV2 as input #1(zero-based) was expected to be a int32 tensor but is a int64 tensor [Op:ConcatV2] name: concat",
     "output_type": "error",
     "traceback": [
      "\u001b[0;31m---------------------------------------------------------------------------\u001b[0m",
      "\u001b[0;31mInvalidArgumentError\u001b[0m                      Traceback (most recent call last)",
      "\u001b[0;32m/tmp/ipykernel_1732776/640724613.py\u001b[0m in \u001b[0;36m<module>\u001b[0;34m\u001b[0m\n\u001b[0;32m----> 1\u001b[0;31m \u001b[0mautoreg_sample\u001b[0m\u001b[0;34m(\u001b[0m\u001b[0mmodel\u001b[0m\u001b[0;34m,\u001b[0m \u001b[0mevaler\u001b[0m\u001b[0;34m,\u001b[0m \u001b[0;34m{\u001b[0m\u001b[0;34m\"sequential\"\u001b[0m\u001b[0;34m,\u001b[0m \u001b[0;34m\"sequential_argmax\"\u001b[0m\u001b[0;34m,\u001b[0m \u001b[0;34m\"random\"\u001b[0m\u001b[0;34m,\u001b[0m \u001b[0;34m\"highest_entropy\"\u001b[0m\u001b[0;34m,\u001b[0m \u001b[0;34m\"lowest_entropy\"\u001b[0m\u001b[0;34m}\u001b[0m\u001b[0;34m)\u001b[0m\u001b[0;34m\u001b[0m\u001b[0;34m\u001b[0m\u001b[0m\n\u001b[0m",
      "\u001b[0;32m/tmp/ipykernel_1732776/3698214636.py\u001b[0m in \u001b[0;36mautoreg_sample\u001b[0;34m(m, t_loop, modes, seed_colors, all_idxs, manager)\u001b[0m\n\u001b[1;32m     76\u001b[0m             \u001b[0;31m# apply softmax on the logits and sample from the distribution\u001b[0m\u001b[0;34m\u001b[0m\u001b[0;34m\u001b[0m\u001b[0;34m\u001b[0m\u001b[0m\n\u001b[1;32m     77\u001b[0m             \u001b[0msamples\u001b[0m \u001b[0;34m=\u001b[0m \u001b[0mtf\u001b[0m\u001b[0;34m.\u001b[0m\u001b[0margmax\u001b[0m\u001b[0;34m(\u001b[0m\u001b[0mlogits\u001b[0m\u001b[0;34m[\u001b[0m\u001b[0;34m:\u001b[0m\u001b[0;34m,\u001b[0m \u001b[0;36m0\u001b[0m\u001b[0;34m]\u001b[0m\u001b[0;34m)\u001b[0m\u001b[0;34m\u001b[0m\u001b[0;34m\u001b[0m\u001b[0m\n\u001b[0;32m---> 78\u001b[0;31m             \u001b[0mautoregressive_samples\u001b[0m \u001b[0;34m=\u001b[0m \u001b[0mtf\u001b[0m\u001b[0;34m.\u001b[0m\u001b[0mconcat\u001b[0m\u001b[0;34m(\u001b[0m\u001b[0;34m[\u001b[0m\u001b[0mautoregressive_samples\u001b[0m\u001b[0;34m,\u001b[0m \u001b[0msamples\u001b[0m\u001b[0;34m]\u001b[0m\u001b[0;34m,\u001b[0m \u001b[0maxis\u001b[0m\u001b[0;34m=\u001b[0m\u001b[0;34m-\u001b[0m\u001b[0;36m1\u001b[0m\u001b[0;34m)\u001b[0m\u001b[0;34m\u001b[0m\u001b[0;34m\u001b[0m\u001b[0m\n\u001b[0m\u001b[1;32m     79\u001b[0m \u001b[0;34m\u001b[0m\u001b[0m\n\u001b[1;32m     80\u001b[0m         \u001b[0mevaluate_counter\u001b[0m\u001b[0;34m.\u001b[0m\u001b[0mclose\u001b[0m\u001b[0;34m(\u001b[0m\u001b[0;34m)\u001b[0m\u001b[0;34m\u001b[0m\u001b[0;34m\u001b[0m\u001b[0m\n",
      "\u001b[0;32m~/.cache/pypoetry/virtualenvs/msc-Wq9zJYZB-py3.8/lib/python3.8/site-packages/tensorflow/python/util/dispatch.py\u001b[0m in \u001b[0;36mwrapper\u001b[0;34m(*args, **kwargs)\u001b[0m\n\u001b[1;32m    204\u001b[0m     \u001b[0;34m\"\"\"Call target, and fall back on dispatchers if there is a TypeError.\"\"\"\u001b[0m\u001b[0;34m\u001b[0m\u001b[0;34m\u001b[0m\u001b[0m\n\u001b[1;32m    205\u001b[0m     \u001b[0;32mtry\u001b[0m\u001b[0;34m:\u001b[0m\u001b[0;34m\u001b[0m\u001b[0;34m\u001b[0m\u001b[0m\n\u001b[0;32m--> 206\u001b[0;31m       \u001b[0;32mreturn\u001b[0m \u001b[0mtarget\u001b[0m\u001b[0;34m(\u001b[0m\u001b[0;34m*\u001b[0m\u001b[0margs\u001b[0m\u001b[0;34m,\u001b[0m \u001b[0;34m**\u001b[0m\u001b[0mkwargs\u001b[0m\u001b[0;34m)\u001b[0m\u001b[0;34m\u001b[0m\u001b[0;34m\u001b[0m\u001b[0m\n\u001b[0m\u001b[1;32m    207\u001b[0m     \u001b[0;32mexcept\u001b[0m \u001b[0;34m(\u001b[0m\u001b[0mTypeError\u001b[0m\u001b[0;34m,\u001b[0m \u001b[0mValueError\u001b[0m\u001b[0;34m)\u001b[0m\u001b[0;34m:\u001b[0m\u001b[0;34m\u001b[0m\u001b[0;34m\u001b[0m\u001b[0m\n\u001b[1;32m    208\u001b[0m       \u001b[0;31m# Note: convert_to_eager_tensor currently raises a ValueError, not a\u001b[0m\u001b[0;34m\u001b[0m\u001b[0;34m\u001b[0m\u001b[0;34m\u001b[0m\u001b[0m\n",
      "\u001b[0;32m~/.cache/pypoetry/virtualenvs/msc-Wq9zJYZB-py3.8/lib/python3.8/site-packages/tensorflow/python/ops/array_ops.py\u001b[0m in \u001b[0;36mconcat\u001b[0;34m(values, axis, name)\u001b[0m\n\u001b[1;32m   1767\u001b[0m           dtype=dtypes.int32).get_shape().assert_has_rank(0)\n\u001b[1;32m   1768\u001b[0m       \u001b[0;32mreturn\u001b[0m \u001b[0midentity\u001b[0m\u001b[0;34m(\u001b[0m\u001b[0mvalues\u001b[0m\u001b[0;34m[\u001b[0m\u001b[0;36m0\u001b[0m\u001b[0;34m]\u001b[0m\u001b[0;34m,\u001b[0m \u001b[0mname\u001b[0m\u001b[0;34m=\u001b[0m\u001b[0mname\u001b[0m\u001b[0;34m)\u001b[0m\u001b[0;34m\u001b[0m\u001b[0;34m\u001b[0m\u001b[0m\n\u001b[0;32m-> 1769\u001b[0;31m   \u001b[0;32mreturn\u001b[0m \u001b[0mgen_array_ops\u001b[0m\u001b[0;34m.\u001b[0m\u001b[0mconcat_v2\u001b[0m\u001b[0;34m(\u001b[0m\u001b[0mvalues\u001b[0m\u001b[0;34m=\u001b[0m\u001b[0mvalues\u001b[0m\u001b[0;34m,\u001b[0m \u001b[0maxis\u001b[0m\u001b[0;34m=\u001b[0m\u001b[0maxis\u001b[0m\u001b[0;34m,\u001b[0m \u001b[0mname\u001b[0m\u001b[0;34m=\u001b[0m\u001b[0mname\u001b[0m\u001b[0;34m)\u001b[0m\u001b[0;34m\u001b[0m\u001b[0;34m\u001b[0m\u001b[0m\n\u001b[0m\u001b[1;32m   1770\u001b[0m \u001b[0;34m\u001b[0m\u001b[0m\n\u001b[1;32m   1771\u001b[0m \u001b[0;34m\u001b[0m\u001b[0m\n",
      "\u001b[0;32m~/.cache/pypoetry/virtualenvs/msc-Wq9zJYZB-py3.8/lib/python3.8/site-packages/tensorflow/python/ops/gen_array_ops.py\u001b[0m in \u001b[0;36mconcat_v2\u001b[0;34m(values, axis, name)\u001b[0m\n\u001b[1;32m   1211\u001b[0m       \u001b[0;32mreturn\u001b[0m \u001b[0m_result\u001b[0m\u001b[0;34m\u001b[0m\u001b[0;34m\u001b[0m\u001b[0m\n\u001b[1;32m   1212\u001b[0m     \u001b[0;32mexcept\u001b[0m \u001b[0m_core\u001b[0m\u001b[0;34m.\u001b[0m\u001b[0m_NotOkStatusException\u001b[0m \u001b[0;32mas\u001b[0m \u001b[0me\u001b[0m\u001b[0;34m:\u001b[0m\u001b[0;34m\u001b[0m\u001b[0;34m\u001b[0m\u001b[0m\n\u001b[0;32m-> 1213\u001b[0;31m       \u001b[0m_ops\u001b[0m\u001b[0;34m.\u001b[0m\u001b[0mraise_from_not_ok_status\u001b[0m\u001b[0;34m(\u001b[0m\u001b[0me\u001b[0m\u001b[0;34m,\u001b[0m \u001b[0mname\u001b[0m\u001b[0;34m)\u001b[0m\u001b[0;34m\u001b[0m\u001b[0;34m\u001b[0m\u001b[0m\n\u001b[0m\u001b[1;32m   1214\u001b[0m     \u001b[0;32mexcept\u001b[0m \u001b[0m_core\u001b[0m\u001b[0;34m.\u001b[0m\u001b[0m_FallbackException\u001b[0m\u001b[0;34m:\u001b[0m\u001b[0;34m\u001b[0m\u001b[0;34m\u001b[0m\u001b[0m\n\u001b[1;32m   1215\u001b[0m       \u001b[0;32mpass\u001b[0m\u001b[0;34m\u001b[0m\u001b[0;34m\u001b[0m\u001b[0m\n",
      "\u001b[0;32m~/.cache/pypoetry/virtualenvs/msc-Wq9zJYZB-py3.8/lib/python3.8/site-packages/tensorflow/python/framework/ops.py\u001b[0m in \u001b[0;36mraise_from_not_ok_status\u001b[0;34m(e, name)\u001b[0m\n\u001b[1;32m   6939\u001b[0m   \u001b[0mmessage\u001b[0m \u001b[0;34m=\u001b[0m \u001b[0me\u001b[0m\u001b[0;34m.\u001b[0m\u001b[0mmessage\u001b[0m \u001b[0;34m+\u001b[0m \u001b[0;34m(\u001b[0m\u001b[0;34m\" name: \"\u001b[0m \u001b[0;34m+\u001b[0m \u001b[0mname\u001b[0m \u001b[0;32mif\u001b[0m \u001b[0mname\u001b[0m \u001b[0;32mis\u001b[0m \u001b[0;32mnot\u001b[0m \u001b[0;32mNone\u001b[0m \u001b[0;32melse\u001b[0m \u001b[0;34m\"\"\u001b[0m\u001b[0;34m)\u001b[0m\u001b[0;34m\u001b[0m\u001b[0;34m\u001b[0m\u001b[0m\n\u001b[1;32m   6940\u001b[0m   \u001b[0;31m# pylint: disable=protected-access\u001b[0m\u001b[0;34m\u001b[0m\u001b[0;34m\u001b[0m\u001b[0;34m\u001b[0m\u001b[0m\n\u001b[0;32m-> 6941\u001b[0;31m   \u001b[0msix\u001b[0m\u001b[0;34m.\u001b[0m\u001b[0mraise_from\u001b[0m\u001b[0;34m(\u001b[0m\u001b[0mcore\u001b[0m\u001b[0;34m.\u001b[0m\u001b[0m_status_to_exception\u001b[0m\u001b[0;34m(\u001b[0m\u001b[0me\u001b[0m\u001b[0;34m.\u001b[0m\u001b[0mcode\u001b[0m\u001b[0;34m,\u001b[0m \u001b[0mmessage\u001b[0m\u001b[0;34m)\u001b[0m\u001b[0;34m,\u001b[0m \u001b[0;32mNone\u001b[0m\u001b[0;34m)\u001b[0m\u001b[0;34m\u001b[0m\u001b[0;34m\u001b[0m\u001b[0m\n\u001b[0m\u001b[1;32m   6942\u001b[0m   \u001b[0;31m# pylint: enable=protected-access\u001b[0m\u001b[0;34m\u001b[0m\u001b[0;34m\u001b[0m\u001b[0;34m\u001b[0m\u001b[0m\n\u001b[1;32m   6943\u001b[0m \u001b[0;34m\u001b[0m\u001b[0m\n",
      "\u001b[0;32m~/.cache/pypoetry/virtualenvs/msc-Wq9zJYZB-py3.8/lib/python3.8/site-packages/six.py\u001b[0m in \u001b[0;36mraise_from\u001b[0;34m(value, from_value)\u001b[0m\n",
      "\u001b[0;31mInvalidArgumentError\u001b[0m: cannot compute ConcatV2 as input #1(zero-based) was expected to be a int32 tensor but is a int64 tensor [Op:ConcatV2] name: concat"
     ]
    }
   ],
   "source": [
    "\n",
    "autoreg_sample(model, evaler, {\"sequential\", \"sequential_argmax\", \"random\", \"highest_entropy\", \"lowest_entropy\"})"
   ]
  },
  {
   "cell_type": "code",
   "execution_count": null,
   "id": "f2576022-00c0-4d5c-9971-f2e3e120d99e",
   "metadata": {},
   "outputs": [],
   "source": [
    "all_colors = training_loop.test_colors\n",
    "all_idxs = training_loop.test_idxs\n",
    "batch_size = all_colors.shape[0]\n",
    "n = all_colors.shape[-1] // 2\n",
    "half_colors = all_colors[:, :n]\n",
    "half_idxs = all_idxs[:, :n]\n",
    "autoreg_sample(model, training_loop, {\"sequential\", \"random\", \"highest_entropy\", \"lowest_entropy\"}, seed_colors=half_colors, )"
   ]
  },
  {
   "cell_type": "code",
   "execution_count": null,
   "id": "dc0181f2-1d0f-4cc1-a698-3a3939c05939",
   "metadata": {},
   "outputs": [],
   "source": [
    "training_loop.process_batch()"
   ]
  },
  {
   "cell_type": "code",
   "execution_count": null,
   "id": "9d1c5c2f-5ea9-40af-afcb-f2d8a8e949cd",
   "metadata": {},
   "outputs": [],
   "source": [
    "entropies = tf.constant([[0.1, 0.3], [0.3, 0.2], [0.2, 0.2]])\n",
    "sample_idxs = tf.cast(tf.math.argmax(entropies, axis=-1), tf.int32)\n",
    "sample_idxs_nd = tf.stack([tf.range(entropies.shape[0]), sample_idxs], axis=-1)\n",
    "print(sample_idxs_nd)\n",
    "\n",
    "logits = tf.constant([[[1, 3, 4], [2, 2, 2]], [[5, 5, 5], [5, 5, 4]], [[1, 4, 3], [3, 4, 1]]])\n",
    "\n",
    "dists = tf.gather_nd(logits, sample_idxs_nd)\n",
    "print(dists)"
   ]
  },
  {
   "cell_type": "code",
   "execution_count": null,
   "id": "616b376b-8fd2-43b4-b4f1-b80deafa46f2",
   "metadata": {},
   "outputs": [],
   "source": [
    "x = tf.sets.difference(tf.concat([tf.range(10)[None, :], (tf.range(10) + 3)[None, :]], axis=0), tf.constant([[1, 2, 3], [6, 7, 8]], dtype=tf.int32))\n",
    "tf.sparse.to_dense(x)"
   ]
  },
  {
   "cell_type": "code",
   "execution_count": null,
   "id": "1e6d32d1-4854-4b06-ad64-02b9474e0e81",
   "metadata": {},
   "outputs": [],
   "source": []
  }
 ],
 "metadata": {
  "kernelspec": {
   "display_name": "Python 3 (ipykernel)",
   "language": "python",
   "name": "python3"
  },
  "language_info": {
   "codemirror_mode": {
    "name": "ipython",
    "version": 3
   },
   "file_extension": ".py",
   "mimetype": "text/x-python",
   "name": "python",
   "nbconvert_exporter": "python",
   "pygments_lexer": "ipython3",
   "version": "3.8.12"
  }
 },
 "nbformat": 4,
 "nbformat_minor": 5
}
