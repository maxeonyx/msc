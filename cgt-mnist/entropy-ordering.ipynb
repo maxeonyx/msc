{
 "cells": [
  {
   "cell_type": "code",
   "execution_count": 1,
   "id": "41a88e41-1cea-4765-9940-a6207022f2ec",
   "metadata": {},
   "outputs": [
    {
     "name": "stdout",
     "output_type": "stream",
     "text": [
      "[PhysicalDevice(name='/physical_device:GPU:0', device_type='GPU'), PhysicalDevice(name='/physical_device:GPU:1', device_type='GPU'), PhysicalDevice(name='/physical_device:GPU:2', device_type='GPU')]\n"
     ]
    }
   ],
   "source": [
    "import os\n",
    "\n",
    "import tensorflow as tf\n",
    "physical_devices = tf.config.list_physical_devices('GPU')\n",
    "print(physical_devices)\n",
    "assert len(physical_devices) == 3\n",
    "# to allow other tensorflow processes to use the gpu\n",
    "# https://stackoverflow.com/a/60699372/7989988\n",
    "tf.config.experimental.set_memory_growth(physical_devices[0], True)\n",
    "tf.config.experimental.set_memory_growth(physical_devices[1], True)\n",
    "tf.config.experimental.set_memory_growth(physical_devices[2], True)\n",
    "\n",
    "import numpy as np\n",
    "from tensorflow import keras\n",
    "from tensorflow.keras import Model, Input, layers\n",
    "from IPython.display import display\n",
    "import tensorflow_datasets as tfds\n",
    "import time\n",
    "import matplotlib.pyplot as plt\n",
    "import enlighten\n",
    "import tensorflow_probability as tfp\n",
    "from dotmap import DotMap"
   ]
  },
  {
   "cell_type": "code",
   "execution_count": 2,
   "id": "de094d06-1ee6-4026-9219-45a8ce1a87bc",
   "metadata": {},
   "outputs": [],
   "source": [
    "import models\n",
    "import training\n",
    "import datasets\n",
    "import vizualization\n",
    "import schedules"
   ]
  },
  {
   "cell_type": "code",
   "execution_count": 3,
   "id": "13283113-0525-4e57-966c-db3d1a26f4ea",
   "metadata": {},
   "outputs": [],
   "source": [
    "config = DotMap({\n",
    "    'ds': 'mnist_4',\n",
    "    'distributed': False,\n",
    "    'minibatch_size': 32,\n",
    "    'n_steps': 20000,\n",
    "    'test_size': 300,\n",
    "    'test_minibatch_size': 100,\n",
    "    'test_interval': 100,\n",
    "    'test_n_shuf': [1, 8, 16, 32],\n",
    "    'test_n_seq': [1, 16, 32, 48],\n",
    "    'test_autoregressive': False,\n",
    "    'noise_fraction': 0,\n",
    "    'display_images': False,\n",
    "    'display_image_interval': 2000,\n",
    "    'dont_display_until_loss': 0.45,\n",
    "    'bg_color': [1.0, 0.4, 0.6],\n",
    "    'lr_schedule': None,\n",
    "    'lr_warmup_steps': 300,\n",
    "    'max_lr': 0.0001,\n",
    "    'min_lr': 0.0001,\n",
    "    'grad_accum_steps': None, #['exponential', 1, 4],\n",
    "    'max_accum_steps': 4,\n",
    "    'use_wandb': True,\n",
    "    'wandb_log_interval': 10,\n",
    "    'loss_window_size': 500,\n",
    "})\n",
    "\n",
    "# need to change for multiworkerstrategy\n",
    "if config.distributed:\n",
    "    config.num_devices = len(physical_devices)\n",
    "else:\n",
    "    config.num_devices = 1\n",
    "config.global_batch_size = config.minibatch_size * config.num_devices"
   ]
  },
  {
   "cell_type": "code",
   "execution_count": 4,
   "id": "e1139b16-cf69-49e1-a84b-388f2fb6a1a8",
   "metadata": {},
   "outputs": [
    {
     "data": {
      "text/html": [
       "<style>\n",
       "</style>\n",
       "<div class=\"enlighten\">\n",
       "  <div class=\"enlighten-bar\">\n",
       "    <pre>                          K-Means clustering to make 4-color MNIST Dataset                          </pre>\n",
       "  </div>\n",
       "  <div class=\"enlighten-bar\">\n",
       "    <pre>cen. 0    cen. 1    cen. 2    cen. 3                                                                </pre>\n",
       "  </div>\n",
       "  <div class=\"enlighten-bar\">\n",
       "    <pre>0.002     0.272     0.605     0.972                                                                 </pre>\n",
       "  </div>\n",
       "  <div class=\"enlighten-bar\">\n",
       "    <pre>Discretize to 8 colors 100%|██████████████████████████████| 60/60 [00:04&lt;00:00, 16.18 minibatches/s]</pre>\n",
       "  </div>\n",
       "</div>\n"
      ],
      "text/plain": [
       "<IPython.core.display.HTML object>"
      ]
     },
     "metadata": {},
     "output_type": "display_data"
    },
    {
     "name": "stdout",
     "output_type": "stream",
     "text": [
      "WARNING:tensorflow:@custom_gradient grad_fn has 'variables' in signature, but no ResourceVariables were used on the forward pass.\n"
     ]
    },
    {
     "name": "stderr",
     "output_type": "stream",
     "text": [
      "WARNING:tensorflow:@custom_gradient grad_fn has 'variables' in signature, but no ResourceVariables were used on the forward pass.\n"
     ]
    },
    {
     "name": "stdout",
     "output_type": "stream",
     "text": [
      "Not using gradient accumulation\n",
      "cuda10-mnist-DotMap()xDotMap()-bs1x1x32-newgamma\n"
     ]
    }
   ],
   "source": [
    "\n",
    "    \n",
    "ds_configs = DotMap({\n",
    "    'mnist_4': {\n",
    "        'buffer_size': 60000,\n",
    "        'name': 'mnist',\n",
    "        'n_colors': 4,\n",
    "        'image_size': (28, 28),\n",
    "    },\n",
    "    'mnist_4_7x7': {\n",
    "        'buffer_size': 60000,\n",
    "        'name': 'mnist',\n",
    "        'n_colors': 4,\n",
    "        'rescale': (7, 7),\n",
    "    },\n",
    "    'mnist_binary_7x7': {\n",
    "        'buffer_size': 60000,\n",
    "        'name': 'mnist',\n",
    "        'n_colors': 2,\n",
    "        'rescale': (7, 7),\n",
    "    },\n",
    "})\n",
    "\n",
    "config.dataset = ds_configs[config.ds]\n",
    "\n",
    "dataset, metadata = tfds.load(config.dataset.name, with_info=True, as_supervised=True)\n",
    "\n",
    "ds_train_original = dataset['train']\n",
    "ds_test_original = dataset['test']\n",
    "\n",
    "centroids = datasets.find_centroids(ds_train_original, num_clusters=config.dataset.n_colors, batch_size=1000)\n",
    "gamma_dist, gamma_name = datasets.gamma_distribution_7x7()\n",
    "ds = datasets.Datasets(config, ds_train_original, ds_test_original, centroids, gamma_dist)\n",
    "viz = vizualization.Viz(config, ds, centroids)\n",
    "ds_train, ds_test = ds.make_datasets()\n",
    "\n",
    "# model config\n",
    "config.model = DotMap({\n",
    "    'n_colors': config.dataset.n_colors,\n",
    "    'n_enc_a_layers': 3,\n",
    "    'n_enc_b_layers': 3,\n",
    "    'ffl_dim': 128,\n",
    "    'embd_dim': 512,\n",
    "    'n_dec_layers': 3,\n",
    "    'dec_dim': 600,\n",
    "    'n_heads': 4,\n",
    "    'dropout_rate': 0.1,\n",
    "    'use_idxs_input': True,\n",
    "    'architecture': 'anp',\n",
    "    'position_embedding': 'pos_enc',\n",
    "    'activation': 'swish',\n",
    "})\n",
    "\n",
    "if config.distributed == False:\n",
    "    strategy = tf.distribute.get_strategy()\n",
    "else:\n",
    "    strategy = tf.distribute.MirroredStrategy()\n",
    "\n",
    "with strategy.scope():\n",
    "    model = models.transformer(config.model)\n",
    "    # Adam params taken from the linked notebook\n",
    "    optimizer = keras.optimizers.Adam(learning_rate=config.max_lr)\n",
    "\n",
    "ds_train_dist = strategy.experimental_distribute_dataset(ds_train)\n",
    "\n",
    "config.training_mode = 'combination'\n",
    "\n",
    "model_name = models.model_name('cuda10', config)\n",
    "model_name += \"-newgamma\"\n",
    "print(model_name)\n"
   ]
  },
  {
   "cell_type": "code",
   "execution_count": 31,
   "id": "4d203a9c-8d40-4e6f-b337-985e3e639ede",
   "metadata": {},
   "outputs": [
    {
     "name": "stderr",
     "output_type": "stream",
     "text": [
      "WARNING:absl:Importing a function (__inference_model_layer_call_and_return_conditional_losses_3321750) with ops with unsaved custom gradients. Will likely fail if a gradient is requested.\n",
      "WARNING:absl:Importing a function (__inference__wrapped_model_3314568) with ops with unsaved custom gradients. Will likely fail if a gradient is requested.\n",
      "WARNING:absl:Importing a function (__inference_model_layer_call_and_return_conditional_losses_3320365) with ops with unsaved custom gradients. Will likely fail if a gradient is requested.\n",
      "WARNING:absl:Importing a function (__inference_model_layer_call_and_return_conditional_losses_3317349) with ops with unsaved custom gradients. Will likely fail if a gradient is requested.\n",
      "WARNING:absl:Importing a function (__inference_model_layer_call_and_return_conditional_losses_3316040) with ops with unsaved custom gradients. Will likely fail if a gradient is requested.\n"
     ]
    },
    {
     "name": "stdout",
     "output_type": "stream",
     "text": [
      "WARNING:tensorflow:No training configuration found in save file, so the model was *not* compiled. Compile it manually.\n"
     ]
    },
    {
     "name": "stderr",
     "output_type": "stream",
     "text": [
      "WARNING:tensorflow:No training configuration found in save file, so the model was *not* compiled. Compile it manually.\n"
     ]
    }
   ],
   "source": [
    "\n",
    "model_name = 'models/cuda10-noise-0'\n",
    "model = keras.models.load_model(model_name)\n",
    "training_loop = training.TrainingLoop(config, viz, model, optimizer, ds, ds_train_dist, ds_test, model_name)\n"
   ]
  },
  {
   "cell_type": "code",
   "execution_count": 32,
   "id": "1e4a32df-23b9-4a23-83a3-3473ff4606fd",
   "metadata": {},
   "outputs": [
    {
     "name": "stdout",
     "output_type": "stream",
     "text": [
      "p(x) = [0.5, 0.5]\n",
      "log p(x) = tf.Tensor([-1. -1.], shape=(2,), dtype=float32)\n",
      "H(X) = tf.Tensor(1.0, shape=(), dtype=float32)\n",
      "logits = [1.0, 1]\n",
      "p(x) = tf.Tensor([0.5 0.5], shape=(2,), dtype=float32)\n",
      "log p(x) = tf.Tensor([-1. -1.], shape=(2,), dtype=float32)\n",
      "H(X) = tf.Tensor(1.0, shape=(), dtype=float32)\n",
      "logits = [4.0, 4]\n",
      "p(x) = tf.Tensor([0.5 0.5], shape=(2,), dtype=float32)\n",
      "log p(x) = tf.Tensor([-1. -1.], shape=(2,), dtype=float32)\n",
      "H(X) = tf.Tensor(1.0, shape=(), dtype=float32)\n",
      "p(x) = [0.1, 0.9]\n",
      "log p(x) = tf.Tensor([-3.321928   -0.15200314], shape=(2,), dtype=float32)\n",
      "H(X) = tf.Tensor(0.46899563, shape=(), dtype=float32)\n",
      "p(x) = tf.Tensor(\n",
      "[[0.1 0.9]\n",
      " [0.1 0.9]], shape=(2, 2), dtype=float32)\n",
      "log p(x) = tf.Tensor(\n",
      "[[-3.321928   -0.15200314]\n",
      " [-3.321928   -0.15200314]], shape=(2, 2), dtype=float32)\n",
      "H(X) = tf.Tensor([0.46899563 0.46899563], shape=(2,), dtype=float32)\n"
     ]
    },
    {
     "data": {
      "text/plain": [
       "<tf.Tensor: shape=(2,), dtype=float32, numpy=array([0.46899563, 0.46899563], dtype=float32)>"
      ]
     },
     "execution_count": 32,
     "metadata": {},
     "output_type": "execute_result"
    }
   ],
   "source": [
    "def log2(x):\n",
    "    numerator = tf.math.log(x)\n",
    "    denominator = tf.math.log(tf.constant(2, dtype=numerator.dtype))\n",
    "    return numerator / denominator\n",
    "\n",
    "def entropy_of_probabilities(probabilities, do_print=False):\n",
    "    if do_print:\n",
    "        print(\"p(x) =\", probabilities)\n",
    "    log_probabilities = log2(probabilities)\n",
    "    if do_print:\n",
    "        print(\"log p(x) =\", log_probabilities)\n",
    "    entropies = -1 * tf.reduce_sum(probabilities*log_probabilities, axis=-1)\n",
    "    if do_print:\n",
    "        print(\"H(X) =\", entropies)\n",
    "    return entropies\n",
    "\n",
    "def entropy_of_logits(logits, do_print=False):\n",
    "    if do_print:\n",
    "        print(\"logits =\", logits)\n",
    "    \n",
    "    probabilities = tf.nn.softmax(logits, axis=-1)\n",
    "    \n",
    "    return entropy_of_probabilities(probabilities, do_print)\n",
    "\n",
    "entropy_of_probabilities([0.5, 0.5], do_print=True)\n",
    "entropy_of_logits([1., 1], do_print=True)\n",
    "entropy_of_logits([4., 4], do_print=True)\n",
    "\n",
    "entropy_of_probabilities([0.1, 0.9], do_print=True)\n",
    "entropy_of_probabilities(tf.constant([[0.1, 0.9], [0.1, 0.9]]), do_print=True)\n",
    "# checks out from https://machinelearningmastery.com/information-gain-and-mutual-information/\n",
    "\n",
    "\n"
   ]
  },
  {
   "cell_type": "code",
   "execution_count": 48,
   "id": "44203455-2213-4dab-ad1f-ee0c3bd4ee43",
   "metadata": {},
   "outputs": [],
   "source": [
    "def autoreg_sample(m, t_loop, modes=[\"sequential\"], seed_colors=None, all_idxs=None, manager=None):\n",
    "    \n",
    "    if seed_colors is None:\n",
    "        n = 1\n",
    "        batch_size = 9\n",
    "        seed_colors = tf.zeros([9, n], tf.int32)\n",
    "    else:\n",
    "        batch_size = seed_colors.shape[0]\n",
    "        n = seed_colors.shape[1]\n",
    "    if all_idxs is None:\n",
    "        n_total = config.dataset.image_size[0] * config.dataset.image_size[1]\n",
    "        all_idxs = tf.tile(tf.range(n_total)[None, :], [batch_size, 1])\n",
    "    else:\n",
    "        n_total = all_idxs.shape[1]\n",
    "    assert all_idxs.shape[0] == batch_size, f\"seed_colors and all_idxs must have the same batch_size dim. Got {batch_size} and {all_idxs.shape[0]}.\"\n",
    "    seed_idxs = all_idxs[:, :n]\n",
    "    tar_idxs = all_idxs[:, 1:]\n",
    "\n",
    "    if manager is None:\n",
    "        manager = enlighten.get_manager()\n",
    "    \n",
    "    steps_counter = manager.counter(total=len(modes) + 1, desc=\"Running Experiments\", unit='steps', leave=False)\n",
    "    \n",
    "    # produce expected value visualization\n",
    "    inp_idxs = all_idxs[:1, :n]\n",
    "    tar_idxs = all_idxs[:1, n:]\n",
    "    inp_colors = seed_colors[:1]\n",
    "    logits = t_loop.eval_step(inp_colors, inp_idxs, tar_idxs)\n",
    "    probabilities = tf.nn.softmax(logits, axis=2)\n",
    "    expected_col = ds.expected_col(probabilities)\n",
    "    \n",
    "    steps_counter.update()\n",
    "    \n",
    "    viz.showSeq(inp_colors[:1],                all_idxs[:1, :n], config.dataset.image_size, 1,          unshuffle=True)\n",
    "    viz.showSeq(expected_col,                  all_idxs[:1, n:], config.dataset.image_size, 1,          unshuffle=True, do_unquantize=False)\n",
    "    \n",
    "    if \"sequential\" in modes:\n",
    "        # produce autoregressive samples in index order. Left -> Right, Top -> Bottom\n",
    "        mode = \"sequential\"\n",
    "        evaluate_counter = manager.counter(total=n_total-n, desc=f\"Sampling - '{mode}' order\", unit='pixels', leave=True)\n",
    "        \n",
    "        autoregressive_samples = seed_colors\n",
    "        for i in evaluate_counter(range(n, n_total)):\n",
    "\n",
    "            inp_idxs = all_idxs[:, :i]\n",
    "            tar_idxs = all_idxs[:, i:i+1]\n",
    "\n",
    "            logits = t_loop.eval_step(autoregressive_samples, inp_idxs, tar_idxs)\n",
    "\n",
    "            # apply softmax on the logits and sample from the distribution\n",
    "            samples = tf.random.categorical(logits[:, 0], 1, dtype=tf.int32)\n",
    "            autoregressive_samples = tf.concat([autoregressive_samples, samples], axis=-1)\n",
    "        \n",
    "        evaluate_counter.close()\n",
    "        steps_counter.update()\n",
    "        \n",
    "        viz.showSeq(autoregressive_samples[:, n:], all_idxs[:, n:],  config.dataset.image_size, batch_size, unshuffle=True)\n",
    "        viz.showSeq(tf.cast(tf.tile(tf.range(784)[None, :], [batch_size, 1]), tf.float32) / n_total, all_idxs, config.dataset.image_size, batch_size, do_unquantize=False, unshuffle=True)\n",
    "    \n",
    "    if \"random\" in modes:\n",
    "        # produce autoregressive samples in random order\n",
    "        mode = \"random\"\n",
    "        evaluate_counter = manager.counter(total=n_total-n, desc=f\"Sampling - '{mode}' order\", unit='pixels', leave=True)\n",
    "        \n",
    "        # the [n:] is so we don't shuffle the seed pixels\n",
    "        shuf_idxs = [tf.random.shuffle(all_idxs[i, n:])[None, :] for i in range(batch_size)]\n",
    "        shuf_idxs = tf.concat(shuf_idxs, axis=0)\n",
    "        shuf_idxs = tf.concat([seed_idxs, shuf_idxs], axis=-1)\n",
    "        \n",
    "        autoregressive_samples = seed_colors\n",
    "        for i in evaluate_counter(range(n, n_total)):\n",
    "            \n",
    "            inp_idxs = shuf_idxs[:, :i]\n",
    "            tar_idxs = shuf_idxs[:, i:i+1]\n",
    "\n",
    "            logits = t_loop.eval_step(autoregressive_samples, inp_idxs, tar_idxs)\n",
    "\n",
    "            # apply softmax on the logits and sample from the distribution\n",
    "            samples = tf.random.categorical(logits[:, 0], 1, dtype=tf.int32)\n",
    "            samples = tf.concat(samples, axis=0)\n",
    "            autoregressive_samples = tf.concat([autoregressive_samples, samples], axis=-1)\n",
    "\n",
    "        evaluate_counter.close()\n",
    "        steps_counter.update()\n",
    "    \n",
    "        viz.showSeq(autoregressive_samples[:, n:], shuf_idxs[:, n:],  config.dataset.image_size, batch_size, unshuffle=True)\n",
    "        viz.showSeq(tf.cast(tf.tile(tf.range(784)[None, :], [batch_size, 1]), tf.float32) / n_total, shuf_idxs, config.dataset.image_size, batch_size, do_unquantize=False, unshuffle=True)\n",
    "\n",
    "    \n",
    "    if \"highest_entropy\" in modes:\n",
    "        # produce autoregressive samples in order of the highest entropy sample next\n",
    "        mode = \"highest_entropy\"\n",
    "        evaluate_counter = manager.counter(total=n_total-n, desc=f\"Sampling - '{mode}' order\", unit='pixels', leave=True)\n",
    "        \n",
    "        used_idxs = seed_idxs\n",
    "        unused_idxs = all_idxs[:, n:]\n",
    "        \n",
    "        autoregressive_samples = seed_colors\n",
    "        for i in evaluate_counter(range(n, n_total)):\n",
    "            \n",
    "            inp_idxs = used_idxs\n",
    "            tar_idxs = unused_idxs\n",
    "\n",
    "            logits = t_loop.eval_step(autoregressive_samples, inp_idxs, tar_idxs)\n",
    "            \n",
    "            entropies = entropy_of_logits(logits)\n",
    "            \n",
    "            sample_idxs = tf.cast(tf.math.argmax(entropies, axis=-1), tf.int32)\n",
    "            sample_idxs_nd = tf.stack([tf.range(batch_size), sample_idxs], axis=-1)\n",
    "            \n",
    "            logit_distributions = tf.gather_nd(logits, sample_idxs_nd)\n",
    "            this_used_idxs = tf.gather_nd(tar_idxs, sample_idxs_nd)\n",
    "            \n",
    "            # apply softmax on the logits and sample from the distribution\n",
    "            samples = tf.random.categorical(logit_distributions, 1, dtype=tf.int32)\n",
    "            autoregressive_samples = tf.concat([autoregressive_samples, samples], axis=-1)\n",
    "            used_idxs = tf.concat([used_idxs, this_used_idxs[:, None]], axis=-1)\n",
    "            unused_idxs = tf.sparse.to_dense(tf.sets.difference(all_idxs, used_idxs))\n",
    "\n",
    "        evaluate_counter.close()\n",
    "        steps_counter.update()\n",
    "        \n",
    "        viz.showSeq(autoregressive_samples[:, n:], used_idxs[:, n:],  config.dataset.image_size, batch_size, unshuffle=True)\n",
    "        viz.showSeq(tf.cast(tf.tile(tf.range(784)[None, :], [batch_size, 1]), tf.float32) / n_total, used_idxs, config.dataset.image_size, batch_size, do_unquantize=False, unshuffle=True)\n",
    "    \n",
    "    if \"lowest_entropy\" in modes:\n",
    "        # produce autoregressive samples in order of the highest entropy sample next\n",
    "        mode = \"lowest_entropy\"\n",
    "        evaluate_counter = manager.counter(total=n_total-n, desc=f\"Sampling - '{mode}' order\", unit='pixels', leave=True)\n",
    "        \n",
    "        used_idxs = seed_idxs\n",
    "        unused_idxs = all_idxs[:, n:]\n",
    "                    \n",
    "        entropies = entropy_of_logits(logits)\n",
    "        \n",
    "        autoregressive_samples = seed_colors\n",
    "        for i in evaluate_counter(range(n, n_total)):\n",
    "            \n",
    "            inp_idxs = used_idxs\n",
    "            tar_idxs = unused_idxs\n",
    "\n",
    "            logits = t_loop.eval_step(autoregressive_samples, inp_idxs, tar_idxs)\n",
    "            \n",
    "            entropies = entropy_of_logits(logits)\n",
    "            \n",
    "            sample_idxs = tf.cast(tf.math.argmin(entropies, axis=-1), tf.int32)\n",
    "            sample_idxs_nd = tf.stack([tf.range(batch_size), sample_idxs], axis=-1)\n",
    "            \n",
    "            logit_distributions = tf.gather_nd(logits, sample_idxs_nd)\n",
    "            this_used_idxs = tf.gather_nd(tar_idxs, sample_idxs_nd)\n",
    "            \n",
    "            # apply softmax on the logits and sample from the distribution\n",
    "            samples = tf.random.categorical(logit_distributions, 1, dtype=tf.int32)\n",
    "            autoregressive_samples = tf.concat([autoregressive_samples, samples], axis=-1)\n",
    "            used_idxs = tf.concat([used_idxs, this_used_idxs[:, None]], axis=-1)\n",
    "            unused_idxs = tf.sparse.to_dense(tf.sets.difference(all_idxs, used_idxs))\n",
    "\n",
    "        evaluate_counter.close()\n",
    "        steps_counter.update()\n",
    "    \n",
    "        viz.showSeq(autoregressive_samples[:, n:], used_idxs[:, n:],  config.dataset.image_size, batch_size, unshuffle=True)\n",
    "        viz.showSeq(tf.cast(tf.tile(tf.range(784)[None, :], [batch_size, 1]), tf.float32) / n_total, used_idxs, config.dataset.image_size, batch_size, do_unquantize=False, unshuffle=True)\n",
    "\n"
   ]
  },
  {
   "cell_type": "code",
   "execution_count": 49,
   "id": "d49a191f-cbcb-4f62-b852-a76f6f88c206",
   "metadata": {},
   "outputs": [
    {
     "data": {
      "text/html": [
       "<style>\n",
       "</style>\n",
       "<div class=\"enlighten\">\n",
       "  <div class=\"enlighten-bar\">\n",
       "    <pre>Running Experiments 100%|██████████████████████████████████████████| 5/5 [01:05&lt;00:00, 0.08 steps/s]</pre>\n",
       "  </div>\n",
       "  <div class=\"enlighten-bar\">\n",
       "    <pre>Sampling - 'sequential' order 100%|██████████████████████████| 783/783 [00:47&lt;00:00, 16.81 pixels/s]</pre>\n",
       "  </div>\n",
       "  <div class=\"enlighten-bar\">\n",
       "    <pre>Sampling - 'random' order 100%|██████████████████████████████| 783/783 [00:33&lt;00:00, 23.77 pixels/s]</pre>\n",
       "  </div>\n",
       "  <div class=\"enlighten-bar\">\n",
       "    <pre>Sampling - 'highest_entropy' order 100%|█████████████████████| 783/783 [00:19&lt;00:00, 40.74 pixels/s]</pre>\n",
       "  </div>\n",
       "  <div class=\"enlighten-bar\">\n",
       "    <pre>Sampling - 'lowest_entropy' order 100%|██████████████████████| 783/783 [00:18&lt;00:00, 42.46 pixels/s]</pre>\n",
       "  </div>\n",
       "</div>\n"
      ],
      "text/plain": [
       "<IPython.core.display.HTML object>"
      ]
     },
     "metadata": {},
     "output_type": "display_data"
    },
    {
     "data": {
      "image/png": "[encoded data removed]",
      "text/plain": [
       "<Figure size 216x216 with 1 Axes>"
      ]
     },
     "metadata": {
      "needs_background": "light"
     },
     "output_type": "display_data"
    },
    {
     "data": {
      "image/png": "[encoded data removed]",
      "text/plain": [
       "<Figure size 216x216 with 1 Axes>"
      ]
     },
     "metadata": {
      "needs_background": "light"
     },
     "output_type": "display_data"
    },
    {
     "data": {
      "image/png": "[encoded data removed]",
      "text/plain": [
       "<Figure size 1944x216 with 9 Axes>"
      ]
     },
     "metadata": {
      "needs_background": "light"
     },
     "output_type": "display_data"
    },
    {
     "data": {
      "image/png": "[encoded data removed]",
      "text/plain": [
       "<Figure size 1944x216 with 9 Axes>"
      ]
     },
     "metadata": {
      "needs_background": "light"
     },
     "output_type": "display_data"
    },
    {
     "data": {
      "image/png": "[encoded data removed]",
      "text/plain": [
       "<Figure size 1944x216 with 9 Axes>"
      ]
     },
     "metadata": {
      "needs_background": "light"
     },
     "output_type": "display_data"
    },
    {
     "data": {
      "image/png": "[encoded data removed]",
      "text/plain": [
       "<Figure size 1944x216 with 9 Axes>"
      ]
     },
     "metadata": {
      "needs_background": "light"
     },
     "output_type": "display_data"
    },
    {
     "data": {
      "image/png": "[encoded data removed]",
      "text/plain": [
       "<Figure size 1944x216 with 9 Axes>"
      ]
     },
     "metadata": {
      "needs_background": "light"
     },
     "output_type": "display_data"
    },
    {
     "data": {
      "image/png": "[encoded data removed]",
      "text/plain": [
       "<Figure size 1944x216 with 9 Axes>"
      ]
     },
     "metadata": {
      "needs_background": "light"
     },
     "output_type": "display_data"
    },
    {
     "data": {
      "image/png": "[encoded data removed]",
      "text/plain": [
       "<Figure size 1944x216 with 9 Axes>"
      ]
     },
     "metadata": {
      "needs_background": "light"
     },
     "output_type": "display_data"
    },
    {
     "data": {
      "image/png": "[encoded data removed]",
      "text/plain": [
       "<Figure size 1944x216 with 9 Axes>"
      ]
     },
     "metadata": {
      "needs_background": "light"
     },
     "output_type": "display_data"
    }
   ],
   "source": [
    "\n",
    "autoreg_sample(model, training_loop, {\"sequential\", \"random\", \"highest_entropy\", \"lowest_entropy\"})"
   ]
  },
  {
   "cell_type": "code",
   "execution_count": null,
   "id": "f2576022-00c0-4d5c-9971-f2e3e120d99e",
   "metadata": {},
   "outputs": [],
   "source": [
    "all_colors = training_loop.test_colors\n",
    "all_idxs = training_loop.test_idxs\n",
    "batch_size = all_colors.shape[0]\n",
    "n = all_colors.shape[-1] // 2\n",
    "half_colors = all_colors[:, :n]\n",
    "half_idxs = all_idxs[:, :n]\n",
    "autoreg_sample(model, training_loop, {\"sequential\", \"random\", \"highest_entropy\", \"lowest_entropy\"}, seed_colors=half_colors, )"
   ]
  },
  {
   "cell_type": "code",
   "execution_count": 51,
   "id": "dc0181f2-1d0f-4cc1-a698-3a3939c05939",
   "metadata": {},
   "outputs": [
    {
     "ename": "AttributeError",
     "evalue": "'TrainingLoop' object has no attribute 'process_batch'",
     "output_type": "error",
     "traceback": [
      "\u001b[0;31m---------------------------------------------------------------------------\u001b[0m",
      "\u001b[0;31mAttributeError\u001b[0m                            Traceback (most recent call last)",
      "\u001b[0;32m/tmp/ipykernel_2599502/2551127272.py\u001b[0m in \u001b[0;36m<module>\u001b[0;34m\u001b[0m\n\u001b[0;32m----> 1\u001b[0;31m \u001b[0mtraining_loop\u001b[0m\u001b[0;34m.\u001b[0m\u001b[0mprocess_batch\u001b[0m\u001b[0;34m(\u001b[0m\u001b[0;34m)\u001b[0m\u001b[0;34m\u001b[0m\u001b[0;34m\u001b[0m\u001b[0m\n\u001b[0m",
      "\u001b[0;31mAttributeError\u001b[0m: 'TrainingLoop' object has no attribute 'process_batch'"
     ]
    }
   ],
   "source": [
    "training_loop.process_batch()"
   ]
  },
  {
   "cell_type": "code",
   "execution_count": null,
   "id": "9d1c5c2f-5ea9-40af-afcb-f2d8a8e949cd",
   "metadata": {},
   "outputs": [],
   "source": [
    "entropies = tf.constant([[0.1, 0.3], [0.3, 0.2], [0.2, 0.2]])\n",
    "sample_idxs = tf.cast(tf.math.argmax(entropies, axis=-1), tf.int32)\n",
    "sample_idxs_nd = tf.stack([tf.range(entropies.shape[0]), sample_idxs], axis=-1)\n",
    "print(sample_idxs_nd)\n",
    "\n",
    "logits = tf.constant([[[1, 3, 4], [2, 2, 2]], [[5, 5, 5], [5, 5, 4]], [[1, 4, 3], [3, 4, 1]]])\n",
    "\n",
    "dists = tf.gather_nd(logits, sample_idxs_nd)\n",
    "print(dists)"
   ]
  },
  {
   "cell_type": "code",
   "execution_count": null,
   "id": "616b376b-8fd2-43b4-b4f1-b80deafa46f2",
   "metadata": {},
   "outputs": [],
   "source": [
    "x = tf.sets.difference(tf.concat([tf.range(10)[None, :], (tf.range(10) + 3)[None, :]], axis=0), tf.constant([[1, 2, 3], [6, 7, 8]], dtype=tf.int32))\n",
    "tf.sparse.to_dense(x)"
   ]
  },
  {
   "cell_type": "code",
   "execution_count": null,
   "id": "1e6d32d1-4854-4b06-ad64-02b9474e0e81",
   "metadata": {},
   "outputs": [],
   "source": []
  }
 ],
 "metadata": {
  "kernelspec": {
   "display_name": "Python 3 (ipykernel)",
   "language": "python",
   "name": "python3"
  },
  "language_info": {
   "codemirror_mode": {
    "name": "ipython",
    "version": 3
   },
   "file_extension": ".py",
   "mimetype": "text/x-python",
   "name": "python",
   "nbconvert_exporter": "python",
   "pygments_lexer": "ipython3",
   "version": "3.8.12"
  }
 },
 "nbformat": 4,
 "nbformat_minor": 5
}
