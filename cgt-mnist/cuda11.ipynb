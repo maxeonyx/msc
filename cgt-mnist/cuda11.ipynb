{
 "cells": [
  {
   "cell_type": "code",
   "execution_count": 1,
   "id": "a247b8c3-1a9d-42c1-bc9a-41c99ed78357",
   "metadata": {},
   "outputs": [
    {
     "ename": "KeyboardInterrupt",
     "evalue": "",
     "output_type": "error",
     "traceback": [
      "\u001b[0;31m---------------------------------------------------------------------------\u001b[0m",
      "\u001b[0;31mKeyboardInterrupt\u001b[0m                         Traceback (most recent call last)",
      "Input \u001b[0;32mIn [1]\u001b[0m, in \u001b[0;36m<module>\u001b[0;34m\u001b[0m\n\u001b[1;32m      3\u001b[0m os\u001b[38;5;241m.\u001b[39menviron[\u001b[38;5;124m'\u001b[39m\u001b[38;5;124mCUDA_VISIBLE_DEVICES\u001b[39m\u001b[38;5;124m'\u001b[39m] \u001b[38;5;241m=\u001b[39m \u001b[38;5;124m'\u001b[39m\u001b[38;5;124m0,1,2\u001b[39m\u001b[38;5;124m'\u001b[39m\n\u001b[1;32m      4\u001b[0m \u001b[38;5;28;01mimport\u001b[39;00m \u001b[38;5;21;01mtensorflow\u001b[39;00m \u001b[38;5;28;01mas\u001b[39;00m \u001b[38;5;21;01mtf\u001b[39;00m\n\u001b[0;32m----> 5\u001b[0m physical_devices \u001b[38;5;241m=\u001b[39m \u001b[43mtf\u001b[49m\u001b[38;5;241;43m.\u001b[39;49m\u001b[43mconfig\u001b[49m\u001b[38;5;241;43m.\u001b[39;49m\u001b[43mlist_physical_devices\u001b[49m\u001b[43m(\u001b[49m\u001b[38;5;124;43m'\u001b[39;49m\u001b[38;5;124;43mGPU\u001b[39;49m\u001b[38;5;124;43m'\u001b[39;49m\u001b[43m)\u001b[49m\n\u001b[1;32m      6\u001b[0m \u001b[38;5;28mprint\u001b[39m(physical_devices)\n\u001b[1;32m      7\u001b[0m \u001b[38;5;28;01massert\u001b[39;00m \u001b[38;5;28mlen\u001b[39m(physical_devices) \u001b[38;5;241m==\u001b[39m \u001b[38;5;241m3\u001b[39m\n",
      "File \u001b[0;32m~/.cache/pypoetry/virtualenvs/msc-r6Gz9mJU-py3.8/lib/python3.8/site-packages/tensorflow/python/framework/config.py:414\u001b[0m, in \u001b[0;36mlist_physical_devices\u001b[0;34m(device_type)\u001b[0m\n\u001b[1;32m    383\u001b[0m \u001b[38;5;129m@tf_export\u001b[39m(\u001b[38;5;124m'\u001b[39m\u001b[38;5;124mconfig.list_physical_devices\u001b[39m\u001b[38;5;124m'\u001b[39m,\n\u001b[1;32m    384\u001b[0m            \u001b[38;5;124m'\u001b[39m\u001b[38;5;124mconfig.experimental.list_physical_devices\u001b[39m\u001b[38;5;124m'\u001b[39m)\n\u001b[1;32m    385\u001b[0m \u001b[38;5;129m@deprecation\u001b[39m\u001b[38;5;241m.\u001b[39mdeprecated_endpoints(\u001b[38;5;124m'\u001b[39m\u001b[38;5;124mconfig.experimental.list_physical_devices\u001b[39m\u001b[38;5;124m'\u001b[39m)\n\u001b[1;32m    386\u001b[0m \u001b[38;5;28;01mdef\u001b[39;00m \u001b[38;5;21mlist_physical_devices\u001b[39m(device_type\u001b[38;5;241m=\u001b[39m\u001b[38;5;28;01mNone\u001b[39;00m):\n\u001b[1;32m    387\u001b[0m   \u001b[38;5;124;03m\"\"\"Return a list of physical devices visible to the host runtime.\u001b[39;00m\n\u001b[1;32m    388\u001b[0m \n\u001b[1;32m    389\u001b[0m \u001b[38;5;124;03m  Physical devices are hardware devices present on the host machine. By default\u001b[39;00m\n\u001b[0;32m   (...)\u001b[0m\n\u001b[1;32m    412\u001b[0m \u001b[38;5;124;03m    List of discovered `tf.config.PhysicalDevice` objects\u001b[39;00m\n\u001b[1;32m    413\u001b[0m \u001b[38;5;124;03m  \"\"\"\u001b[39;00m\n\u001b[0;32m--> 414\u001b[0m   \u001b[38;5;28;01mreturn\u001b[39;00m \u001b[43mcontext\u001b[49m\u001b[38;5;241;43m.\u001b[39;49m\u001b[43mcontext\u001b[49m\u001b[43m(\u001b[49m\u001b[43m)\u001b[49m\u001b[38;5;241;43m.\u001b[39;49m\u001b[43mlist_physical_devices\u001b[49m\u001b[43m(\u001b[49m\u001b[43mdevice_type\u001b[49m\u001b[43m)\u001b[49m\n",
      "File \u001b[0;32m~/.cache/pypoetry/virtualenvs/msc-r6Gz9mJU-py3.8/lib/python3.8/site-packages/tensorflow/python/eager/context.py:1329\u001b[0m, in \u001b[0;36mContext.list_physical_devices\u001b[0;34m(self, device_type)\u001b[0m\n\u001b[1;32m   1316\u001b[0m \u001b[38;5;28;01mdef\u001b[39;00m \u001b[38;5;21mlist_physical_devices\u001b[39m(\u001b[38;5;28mself\u001b[39m, device_type\u001b[38;5;241m=\u001b[39m\u001b[38;5;28;01mNone\u001b[39;00m):\n\u001b[1;32m   1317\u001b[0m   \u001b[38;5;124;03m\"\"\"List local devices visible to the system.\u001b[39;00m\n\u001b[1;32m   1318\u001b[0m \n\u001b[1;32m   1319\u001b[0m \u001b[38;5;124;03m  This API allows a client to query the devices before they have been\u001b[39;00m\n\u001b[0;32m   (...)\u001b[0m\n\u001b[1;32m   1327\u001b[0m \u001b[38;5;124;03m    List of PhysicalDevice objects.\u001b[39;00m\n\u001b[1;32m   1328\u001b[0m \u001b[38;5;124;03m  \"\"\"\u001b[39;00m\n\u001b[0;32m-> 1329\u001b[0m   \u001b[38;5;28;43mself\u001b[39;49m\u001b[38;5;241;43m.\u001b[39;49m\u001b[43m_initialize_physical_devices\u001b[49m\u001b[43m(\u001b[49m\u001b[43m)\u001b[49m\n\u001b[1;32m   1331\u001b[0m   \u001b[38;5;28;01mif\u001b[39;00m device_type \u001b[38;5;129;01mis\u001b[39;00m \u001b[38;5;28;01mNone\u001b[39;00m:\n\u001b[1;32m   1332\u001b[0m     \u001b[38;5;28;01mreturn\u001b[39;00m \u001b[38;5;28mlist\u001b[39m(\u001b[38;5;28mself\u001b[39m\u001b[38;5;241m.\u001b[39m_physical_devices)\n",
      "File \u001b[0;32m~/.cache/pypoetry/virtualenvs/msc-r6Gz9mJU-py3.8/lib/python3.8/site-packages/tensorflow/python/eager/context.py:1293\u001b[0m, in \u001b[0;36mContext._initialize_physical_devices\u001b[0;34m(self, reinitialize)\u001b[0m\n\u001b[1;32m   1290\u001b[0m \u001b[38;5;28;01mif\u001b[39;00m \u001b[38;5;129;01mnot\u001b[39;00m reinitialize \u001b[38;5;129;01mand\u001b[39;00m \u001b[38;5;28mself\u001b[39m\u001b[38;5;241m.\u001b[39m_physical_devices \u001b[38;5;129;01mis\u001b[39;00m \u001b[38;5;129;01mnot\u001b[39;00m \u001b[38;5;28;01mNone\u001b[39;00m:\n\u001b[1;32m   1291\u001b[0m   \u001b[38;5;28;01mreturn\u001b[39;00m\n\u001b[0;32m-> 1293\u001b[0m devs \u001b[38;5;241m=\u001b[39m \u001b[43mpywrap_tfe\u001b[49m\u001b[38;5;241;43m.\u001b[39;49m\u001b[43mTF_ListPhysicalDevices\u001b[49m\u001b[43m(\u001b[49m\u001b[43m)\u001b[49m\n\u001b[1;32m   1294\u001b[0m \u001b[38;5;28mself\u001b[39m\u001b[38;5;241m.\u001b[39m_physical_devices \u001b[38;5;241m=\u001b[39m [\n\u001b[1;32m   1295\u001b[0m     PhysicalDevice(name\u001b[38;5;241m=\u001b[39md\u001b[38;5;241m.\u001b[39mdecode(), device_type\u001b[38;5;241m=\u001b[39md\u001b[38;5;241m.\u001b[39mdecode()\u001b[38;5;241m.\u001b[39msplit(\u001b[38;5;124m\"\u001b[39m\u001b[38;5;124m:\u001b[39m\u001b[38;5;124m\"\u001b[39m)[\u001b[38;5;241m1\u001b[39m])\n\u001b[1;32m   1296\u001b[0m     \u001b[38;5;28;01mfor\u001b[39;00m d \u001b[38;5;129;01min\u001b[39;00m devs\n\u001b[1;32m   1297\u001b[0m ]\n\u001b[1;32m   1298\u001b[0m \u001b[38;5;28mself\u001b[39m\u001b[38;5;241m.\u001b[39m_physical_device_to_index \u001b[38;5;241m=\u001b[39m {\n\u001b[1;32m   1299\u001b[0m     p: i \u001b[38;5;28;01mfor\u001b[39;00m i, p \u001b[38;5;129;01min\u001b[39;00m \u001b[38;5;28menumerate\u001b[39m(\u001b[38;5;28mself\u001b[39m\u001b[38;5;241m.\u001b[39m_physical_devices)\n\u001b[1;32m   1300\u001b[0m }\n",
      "\u001b[0;31mKeyboardInterrupt\u001b[0m: "
     ]
    }
   ],
   "source": [
    "import os\n",
    "\n",
    "os.environ['CUDA_VISIBLE_DEVICES'] = '0,1,2'\n",
    "import tensorflow as tf\n",
    "physical_devices = tf.config.list_physical_devices('GPU')\n",
    "print(physical_devices)\n",
    "assert len(physical_devices) == 3\n",
    "# to allow other tensorflow processes to use the gpu\n",
    "# https://stackoverflow.com/a/60699372/7989988\n",
    "tf.config.experimental.set_memory_growth(physical_devices[0], True)\n",
    "tf.config.experimental.set_memory_growth(physical_devices[1], True)\n",
    "tf.config.experimental.set_memory_growth(physical_devices[2], True)\n",
    "\n",
    "import numpy as np\n",
    "from tensorflow import keras\n",
    "from tensorflow.keras import Model, Input, layers\n",
    "from IPython.display import display\n",
    "import tensorflow_datasets as tfds\n",
    "import time\n",
    "import matplotlib.pyplot as plt\n",
    "import enlighten\n",
    "import tensorflow_probability as tfp\n",
    "from dotmap import DotMap"
   ]
  },
  {
   "cell_type": "code",
   "execution_count": null,
   "id": "0e9d8b7f-1fa3-4787-8eb7-a341e673ce60",
   "metadata": {},
   "outputs": [],
   "source": [
    "import models\n",
    "import training\n",
    "import datasets\n",
    "import vizualization\n",
    "import schedules\n",
    "\n",
    "# todo\n",
    "# - combine shuffled and unshuffled datasets into same thing\n",
    "# - add extra shuffled indices and noise\n",
    "# - add \"noise fraction\" parameter which can be changed the same way as the \"n\" parameter.\n",
    "# - add different amounts of noise to the data and see what happens"
   ]
  },
  {
   "cell_type": "code",
   "execution_count": null,
   "id": "9664a41e-2373-4007-ad5b-04367635212a",
   "metadata": {},
   "outputs": [],
   "source": [
    "config = DotMap({\n",
    "    'ds': 'mnist',\n",
    "    'distributed': True,\n",
    "    'minibatch_size': 8,\n",
    "    'n_steps': 120001,\n",
    "    'test_size': 300,\n",
    "    'test_minibatch_size': 100,\n",
    "    'test_interval': 500,\n",
    "    'test_n_shuf': [392, 1, 64, 128, 256],\n",
    "    'test_n_seq': [392, 1, 128, 256, 512],\n",
    "    'test_autoregressive': False,\n",
    "    'noise_fraction': 0.04,\n",
    "    'display_images': True,\n",
    "    'display_image_interval': 5000,\n",
    "    'dont_display_until_loss': 0.45,\n",
    "    'bg_color': [1.0, 0.4, 0.6],\n",
    "    'lr_schedule': ['warmup_exponential', ,\n",
    "    'lr_warmup_steps': 300,\n",
    "    'max_lr': 0.00001,\n",
    "    'min_lr': 0.00001,\n",
    "    'grad_accum_steps': None, #['exponential', 1, 4],\n",
    "    'max_accum_steps': 4,\n",
    "    'use_wandb': True,\n",
    "    'wandb_log_interval': 10,\n",
    "    'loss_window_size': 80,\n",
    "    'kmeans_batch_size': 1000,\n",
    "})\n",
    "\n",
    "# need to change for multiworkerstrategy\n",
    "if config.distributed:\n",
    "    config.num_devices = len(physical_devices)\n",
    "else:\n",
    "    config.num_devices = 1\n",
    "config.global_batch_size = config.minibatch_size * config.num_devices"
   ]
  },
  {
   "cell_type": "code",
   "execution_count": null,
   "id": "3d3520fc-ca13-4318-8a43-9036938e8144",
   "metadata": {},
   "outputs": [],
   "source": [
    "gamma_dist, gamma_name = datasets.gamma_distribution_7x7()\n"
   ]
  },
  {
   "cell_type": "code",
   "execution_count": null,
   "id": "fee847f8-c7e5-4889-af95-b4e635213d46",
   "metadata": {},
   "outputs": [],
   "source": [
    "# idea is to not have to re-run this cell for subsequent training runs unless the centroids change\n",
    "\n",
    "ds_configs = DotMap({\n",
    "    'mnist': {\n",
    "        'buffer_size': 60000,\n",
    "        'name': 'mnist',\n",
    "        'n_colors': 4,\n",
    "        'n_color_dims': 1,\n",
    "        'image_size': (28, 28),\n",
    "    },\n",
    "    'mnist_7x7': {\n",
    "        'buffer_size': 60000,\n",
    "        'name': 'mnist',\n",
    "        'n_colors': 4,\n",
    "        'n_color_dims': 1,\n",
    "        'rescale': (7, 7),\n",
    "    },\n",
    "    'mnist_binary_7x7': {\n",
    "        'buffer_size': 60000,\n",
    "        'name': 'mnist',\n",
    "        'n_colors': 2,\n",
    "        'n_color_dims': 1,\n",
    "        'rescale': (7, 7),\n",
    "    },\n",
    "    'celeb': {\n",
    "        'name': 'celeb_a',\n",
    "        'buffer_size': 10000,\n",
    "        'n_colors': 16,\n",
    "        'n_color_dims': 3,\n",
    "        'image_size': (218, 178),\n",
    "        'rescale': (32, 39),\n",
    "    }\n",
    "})\n",
    "\n",
    "config.dataset = ds_configs[config.ds]\n",
    "\n",
    "dataset, metadata = tfds.load(config.dataset.name, with_info=True, as_supervised=True)\n",
    "\n",
    "ds_train_original = dataset['train']\n",
    "ds_test_original = dataset['test']\n",
    "\n",
    "centroids = datasets.find_centroids(config, ds_train_original)\n",
    "\n",
    "ds = datasets.Datasets(config, ds_train_original, ds_test_original, centroids, gamma_dist)\n",
    "viz = vizualization.Viz(config, ds, centroids)\n",
    "ds_train, ds_test = ds.make_datasets()\n"
   ]
  },
  {
   "cell_type": "code",
   "execution_count": null,
   "id": "462f03d4-5dbc-4c9e-b1a5-2f70381fbd94",
   "metadata": {},
   "outputs": [],
   "source": [
    "display_colors, display_idxs, *_ = next(iter(ds_train))\n",
    "if config.grad_accum_steps:\n",
    "    display_colors,display_idxs = display_colors[0],display_idxs[0]\n",
    "viz.showSeq(display_colors, display_idxs, config.dataset.image_size, max_images=9)"
   ]
  },
  {
   "cell_type": "code",
   "execution_count": null,
   "id": "636a3bbc-bc94-4fa4-9966-45fd3e96fa02",
   "metadata": {
    "tags": []
   },
   "outputs": [],
   "source": [
    "\n",
    "\n",
    "# model config\n",
    "config.model = DotMap({\n",
    "    'n_colors': config.dataset.n_colors,\n",
    "    'n_color_dims': config.dataset.n_color_dims,\n",
    "    'image_size': config.dataset.image_size,\n",
    "    'seq_len': config.dataset.image_size[0] * config.dataset.image_size[1],\n",
    "    'n_enc_a_layers': 3,\n",
    "    'n_enc_b_layers': 2,\n",
    "    'ffl_dim': 1536,\n",
    "    'embd_dim': 1024,\n",
    "    'n_dec_layers': 2,\n",
    "    'dec_dim': 600,\n",
    "    'n_heads': 32,\n",
    "    'dropout_rate': 0.04,\n",
    "    'use_idxs_input': True,\n",
    "    'architecture': 'anp',\n",
    "    'position_embedding': 'pos_enc',\n",
    "    'activation': 'swish',\n",
    "})\n",
    "\n",
    "if config.distributed == False:\n",
    "    strategy = tf.distribute.get_strategy()\n",
    "else:\n",
    "    strategy = tf.distribute.MirroredStrategy()\n",
    "\n",
    "with strategy.scope():\n",
    "    model = models.transformer(config.model)\n",
    "    # Adam params taken from the linked notebook\n",
    "    optimizer = keras.optimizers.Adam(learning_rate=config.max_lr)\n",
    "\n",
    "ds_train_dist = strategy.experimental_distribute_dataset(ds_train)\n",
    "\n",
    "config.training_mode = 'full_combination'\n",
    "\n",
    "import socket\n",
    "model_name = models.model_name(socket.gethostname(), config)\n",
    "print(model_name)"
   ]
  },
  {
   "cell_type": "code",
   "execution_count": null,
   "id": "d62aed9f-9442-46ac-884e-2dd4be134cbc",
   "metadata": {},
   "outputs": [],
   "source": [
    "evaler = training.Evaluator(config, model, optimizer, viz, ds, ds_train_dist, ds_test)\n",
    "\n",
    "training_loop = training.TrainingLoop(config, evaler, model_name)"
   ]
  },
  {
   "cell_type": "code",
   "execution_count": null,
   "id": "d75d115b-dc33-4894-aa46-824a0446e2d5",
   "metadata": {},
   "outputs": [],
   "source": [
    "\n",
    "\n",
    "with strategy.scope():\n",
    "    training_loop.train()"
   ]
  },
  {
   "cell_type": "code",
   "execution_count": null,
   "id": "5666655d-f24d-43c1-a085-a13d6df25fd6",
   "metadata": {},
   "outputs": [],
   "source": [
    "model.save(f\"models/{model_name}\")"
   ]
  },
  {
   "cell_type": "code",
   "execution_count": null,
   "id": "abec3144-404e-4772-92f1-7038a1772270",
   "metadata": {
    "tags": []
   },
   "outputs": [],
   "source": [
    "evaler.process_batch(show_input=True)\n",
    "evaler.new_test_batch()\n",
    "evaler.process_batch(show_input=True)"
   ]
  },
  {
   "cell_type": "code",
   "execution_count": null,
   "id": "e7c19055-3dc4-460b-bc73-7555ddf1b3e2",
   "metadata": {},
   "outputs": [],
   "source": []
  },
  {
   "cell_type": "code",
   "execution_count": null,
   "id": "37ffeacb-7ace-440f-9338-80db930ccf0a",
   "metadata": {},
   "outputs": [],
   "source": []
  },
  {
   "cell_type": "code",
   "execution_count": null,
   "id": "b34faacf-0f85-4b25-ad66-bd292cd08b5d",
   "metadata": {},
   "outputs": [],
   "source": []
  }
 ],
 "metadata": {
  "kernelspec": {
   "display_name": "Python 3 (ipykernel)",
   "language": "python",
   "name": "python3"
  },
  "language_info": {
   "codemirror_mode": {
    "name": "ipython",
    "version": 3
   },
   "file_extension": ".py",
   "mimetype": "text/x-python",
   "name": "python",
   "nbconvert_exporter": "python",
   "pygments_lexer": "ipython3",
   "version": "3.8.12"
  }
 },
 "nbformat": 4,
 "nbformat_minor": 5
}
