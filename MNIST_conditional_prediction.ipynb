{
 "cells": [
  {
   "cell_type": "markdown",
   "metadata": {
    "id": "Lx9vGgfSkcpL"
   },
   "source": [
    "\n",
    "# Conditional autoregressive transformer\n",
    "\n",
    "Train a transformer to predict missing pixel from mnist \n",
    "\n",
    "### plan\n",
    "\n",
    "* note to try padded mnist (relative encoding might require black padding???)\n",
    "* probably don't need positional encoding?\n",
    "* create transformer model\n",
    "* masking \n",
    "* randomised masking\n",
    "* relative position encoding (x - current_x, y - current_y, val)\n",
    "* train to predict when current pixel missing\n",
    "* train to predict when 10% are missing\n",
    "* train to predict when 90% are missing\n",
    "* train to predict when 99% are missing\n",
    "\n"
   ]
  },
  {
   "cell_type": "code",
   "execution_count": 1,
   "metadata": {
    "id": "QOGwXO1EUsAz"
   },
   "outputs": [
    {
     "name": "stderr",
     "output_type": "stream",
     "text": [
      "WARNING:root:Limited tf.compat.v2.summary API due to missing TensorBoard installation.\n",
      "WARNING:root:Limited tf.compat.v2.summary API due to missing TensorBoard installation.\n",
      "WARNING:root:Limited tf.compat.v2.summary API due to missing TensorBoard installation.\n",
      "WARNING:root:Limited tf.summary API due to missing TensorBoard installation.\n"
     ]
    }
   ],
   "source": [
    "import tensorflow as tf\n",
    "import tensorflow.keras as keras\n",
    "\n",
    "from PIL import Image, ImageDraw\n",
    "from IPython.display import display\n",
    "import numpy as np\n",
    "import itertools\n",
    "\n",
    "def display_uint8_image(image):\n",
    "    if len(image.shape) == 3:\n",
    "        image = image[:, :, 0]\n",
    "    if tf.is_tensor(image):\n",
    "        image = image.numpy()\n",
    "    display(Image.fromarray(image, \"L\"))\n",
    "\n",
    "def display_float32_image(image):\n",
    "    if len(image.shape) == 3:\n",
    "        image = image[:, :, 0]\n",
    "    if tf.is_tensor(image):\n",
    "        image = image.numpy()\n",
    "    display_uint8_image(image.astype(np.uint8))\n",
    "\n",
    "\n",
    "\n"
   ]
  },
  {
   "cell_type": "code",
   "execution_count": 2,
   "metadata": {
    "colab": {
     "base_uri": "https://localhost:8080/",
     "height": 1000
    },
    "id": "qr9uxXbhzo9g",
    "outputId": "158a591e-46a3-4307-e49a-12b0052586f3"
   },
   "outputs": [
    {
     "name": "stdout",
     "output_type": "stream",
     "text": [
      "[659]\n",
      "[ 88 676 746 659 399 376 156 415 605 553 565  41 502  45 529 433 333 149\n",
      " 260 610 408 251  35 104 777 361 420 436  41 722  94 527  50  40 692 408\n",
      " 288 660 375 446  92 136  46 213 263 309 746  31 221  33 327 339 732  94\n",
      " 555   3 272 229 733 134 557 370 436 699 523 167  14 210 553 265 343 701\n",
      " 725 308  44 742 236 319 120 403 672 584 213 390 546  99 184 162 770 299\n",
      "  22  47 119 666 335 750 511  54 494 285 759 532 102 293 604 237 754 562\n",
      " 685 339 171 207 385 374 340 412 464 450  86 313 340 389 256 714 333 447\n",
      " 555 459 762 762 574 291 220 301 169 434 500 212 519 684 486 321 755  89\n",
      " 631 597 399  11 583 147 688 470   0 506 739 661 642 266 243 421 781 647\n",
      " 676 319  98 512 678 120 408  88 349 604 451 586 572 391  13 326 577 590\n",
      " 284 490 578  35 212 656 315  31 492  80  21 695 335 470 778 280 180  21\n",
      " 231 328 165 413 409 387 175 357 389 192 398 655 689 105 664  96 351 365\n",
      " 555 103 490 266 671 151 308 380 464 619 709   2 307  73 605 463 211 522\n",
      " 400 709  40   7 703 291 493 475 357 622 127 386  92 259 738 139 432 292\n",
      " 429 387 205 644 239 539 238 280 624 698 118 712 159 452 251  66 382 733\n",
      "  82  44 205 302 395 278 720 550  35 203 169 509 340 164  90  72 281 777\n",
      " 128 605 573 272 235 313 362 480 602 263 363 572 554 454 367 260  47  80\n",
      " 100 336 720 524 311 303 713 562 539  18 501 359 600 489 697 330 709  24\n",
      " 518 444  70 479 155 201 152 494 676  34 303 403 379 559 490 275 410 739\n",
      " 147 454 527 693 596 559 690 709 360 576 302 740 693 165 228 699 636 566\n",
      " 731 691 746 425 688 440 395 375  26 339 691 492 209 206 305 600 105 663\n",
      " 747 594 462 130 620 203 135 516 697 727 185 697 529 431 425 113  38 537\n",
      " 563 160 738 156]\n",
      "[414 540  28 397 445  15 357 716 725 336 228 271 757 176 330  61 308 110\n",
      " 341 672 310 462  70 693 123 529 170 610 754 395 468 352 364 264  69 199\n",
      " 241 425 199 243 708 308  73 277 208  31 418 162 735 117 100 205  21 600\n",
      " 447 206 432 649 586 607 683 740 522  96 644 772 652 298 301 727 155 710\n",
      " 650 501 264 382 510 571 384 741 468 517 454  77   8 654 229  57 424 613\n",
      "  83 580 162  16 230 138 748 138 621  91 663 322 321 343 213 236 767 517\n",
      " 227  75 411 183 770 268 778  10 276 204 238 597 370 725 531 649 691  48\n",
      "  84 780 467  57 594 584 475 394 501 353 391 628 663 238 765 458 481 347\n",
      " 255 302 474 289 256 549 591 530 528 407 317 586 450  49 120 376 197 177\n",
      " 607 635 552 378 645 211 343 623 743 287 713 602 467 732 606  69 213 432\n",
      " 400 412 286 547 426 309 194 213 655 205 605   8  31 584 574 196 218  13\n",
      " 507   6 480 110 461  37 571 489 173 773 563 270 325 146 514 289 677 575\n",
      " 345  38 588 637 623 606 351  86 722  53 151 270 142  49  90 584 410 461\n",
      " 664 256 404 479  46 294  77 254 462 718   7 285 303 595  37  93  79 689\n",
      "  94 481 284 276  66  66 410 526  45  59 509 306 462 205 683 636 477  26\n",
      " 123 752 384 549 595 781 546 543 761 351 342 466 458 155  30  10  31  76\n",
      "  82 739 319 259 424 591  41 353 349 543 248 181 602 667  95 761 335 341\n",
      " 124 443 581 399 121  47 245 782 697 543 763 471  68 581 589 335 500 123\n",
      " 169 430 538 419 714 685 487 381 641 470 589 627 466 550 223 110 764 751\n",
      " 524 213 596 377  45 776 460 697 140 369 137 213 475 180 167 372 142  49\n",
      " 487 478 151 188 123 501 204 572 724  89 656 300 108  59 688   4 349 484\n",
      " 627 406 314 522  10 526 168 122  55 552 227 704  53  71  23 614 453 338\n",
      " 427 160 375 326  38 347 264 707  74 564 105 224 228 284 565 705 717 333\n",
      " 136 353 766 280 267 315 475 659 630 502  13 564 577 621 740 332 424 115\n",
      " 773 637  65  21 656 324 425 344 122 636 340 619 203 544 378  25 224 119\n",
      "  25 181 713 314 230 749  32 345 126 122 598  48 273 684 301 472 712 712\n",
      " 482 703 731 221 536 398 125 726 452 572 414 694 679 545 162 747 548  44\n",
      " 447 132 428  17  43 232 313 230 721 567 598 519 285 683   7 556 237 410\n",
      " 130  11  89 478 769 504 349 556 608 229 590 284 259 295 283 266 545  52\n",
      " 427 557 570   1 195  97  87 108 764 725 735 696 591 428 102  86 384 351\n",
      " 167 255 542 633 619 124 302 270  89 261 355 360 140 311 334 181 598  56\n",
      "  12 435 129 287 429 648 180 709 120 166 527 187 544 394 728 715 329 306\n",
      " 315 161 452 558 465 150  70  76 765 188 335 341 272 412 747 433 346 624\n",
      " 660 512 512 772 494 196 363 580  20 126 304 206 371 267 394 464  79 689\n",
      " 349 557 667 777 540 181 201  77 376 707  77 279 470 317 768 119 615 234\n",
      " 470   0 567 434 249 566 664 278 352 414 732 543  74 460 334 373 458 328\n",
      " 323  73 430 692 406 512 275 446 425 392 391 703 658  87 564 733 641 239\n",
      " 751 478 687 250 388 585 248 503 589 418 435 330 657 135 325 635 674 762\n",
      " 734 471 268 221 696 345 248 308 316   0 168 544 417 455  40 280]\n"
     ]
    },
    {
     "data": {
      "image/png": "[encoded data removed]",
      "text/plain": [
       "<PIL.Image.Image image mode=L size=28x28 at 0x7F62259090D0>"
      ]
     },
     "metadata": {},
     "output_type": "display_data"
    },
    {
     "data": {
      "image/png": "[encoded data removed]",
      "text/plain": [
       "<PIL.Image.Image image mode=L size=28x28 at 0x7F62259091C0>"
      ]
     },
     "metadata": {},
     "output_type": "display_data"
    },
    {
     "name": "stdout",
     "output_type": "stream",
     "text": [
      "[[[ -7.  -4.   0.]\n",
      "  [ -7.  -3.   0.]\n",
      "  [ -7.  -2.   0.]\n",
      "  ...\n",
      "  [ 20.  21.   0.]\n",
      "  [ 20.  22.   0.]\n",
      "  [ 20.  23.   0.]]\n",
      "\n",
      " [[ -8. -13.   0.]\n",
      "  [ -8. -12.   0.]\n",
      "  [ -8. -11.   0.]\n",
      "  ...\n",
      "  [ 19.  12.   0.]\n",
      "  [ 19.  13.   0.]\n",
      "  [ 19.  14.   0.]]\n",
      "\n",
      " [[-23. -15.   0.]\n",
      "  [-23. -14.   0.]\n",
      "  [-23. -13.   0.]\n",
      "  ...\n",
      "  [  4.  10.   0.]\n",
      "  [  4.  11.   0.]\n",
      "  [  4.  12.   0.]]\n",
      "\n",
      " ...\n",
      "\n",
      " [[ -3. -15.   0.]\n",
      "  [ -3. -14.   0.]\n",
      "  [ -3. -13.   0.]\n",
      "  ...\n",
      "  [ 24.  10.   0.]\n",
      "  [ 24.  11.   0.]\n",
      "  [ 24.  12.   0.]]\n",
      "\n",
      " [[-16. -20.   0.]\n",
      "  [-16. -19.   0.]\n",
      "  [-16. -18.   0.]\n",
      "  ...\n",
      "  [ 11.   5.   0.]\n",
      "  [ 11.   6.   0.]\n",
      "  [ 11.   7.   0.]]\n",
      "\n",
      " [[-25.  -4.   0.]\n",
      "  [-25.  -3.   0.]\n",
      "  [-25.  -2.   0.]\n",
      "  ...\n",
      "  [  2.  21.   0.]\n",
      "  [  2.  22.   0.]\n",
      "  [  2.  23.   0.]]]\n"
     ]
    }
   ],
   "source": [
    "# reformat MNIST data into (x, y, val) tuples\n",
    "\n",
    "(x_train, y_train), (x_test, y_test) = tf.keras.datasets.mnist.load_data(\n",
    "    path='mnist.npz'\n",
    ")\n",
    "# [row, col, value] tuples\n",
    "def mnist_to_rcv_tuples(dataset):\n",
    "    # positional encoding is just indices as floats\n",
    "    x_idx = np.arange(dataset.shape[1]).astype(np.float32)\n",
    "    y_idx = np.arange(dataset.shape[2]).astype(np.float32)\n",
    "\n",
    "    # make 28x28 cartesian product and repeat N times\n",
    "    idxs = np.transpose([np.repeat(y_idx, len(x_idx)),np.tile(x_idx, len(y_idx))])\n",
    "    \n",
    "    all_idxs = np.tile(idxs.reshape(-1), dataset.shape[0]).reshape(-1,784,2)\n",
    "    # pixel data as float between 0 and 255\n",
    "    all = dataset.astype(np.float32).reshape(-1, 784, 1)\n",
    "    \n",
    "    big = np.dstack((all_idxs, all))\n",
    "    \n",
    "    return big\n",
    "\n",
    "def random_offset_tuples(dataset, n_masked_px=1):\n",
    "    tuples = mnist_to_rcv_tuples(dataset)\n",
    "    offsets = np.random.randint(0, 28, [dataset.shape[0], 2])\n",
    "    tuples[:, :, 0] -= offsets[:, 0, np.newaxis] # row (y) offset\n",
    "    tuples[:, :, 1] -= offsets[:, 1, np.newaxis] # col (x) offset\n",
    "    mask_idxs = offsets[:, 0] * 28 + offsets[:, 1]\n",
    "    mask_idxs = mask_idxs[:, np.newaxis] # support multiple idxs\n",
    "    if n_masked_px > 1:\n",
    "        multiple_mask_idxs = np.random.randint(0, 28, [dataset.shape[0], n_masked_px-1, 2])\n",
    "        multiple_mask_idxs = multiple_mask_idxs[:, :, 0] * 28 + multiple_mask_idxs[:, :, 1]\n",
    "        mask_idxs = np.concatenate([multiple_mask_idxs, mask_idxs], axis=1)\n",
    "    target_pxs = dataset[np.arange(dataset.shape[0]), offsets[:, 0], offsets[:, 1]].astype(np.float32)\n",
    "    return { \"imgs\": dataset, \"tuples\": tuples, \"offsets\": offsets, \"target_pxs\": target_pxs, \"mask_idxs\": mask_idxs }\n",
    "\n",
    "dataset1 = random_offset_tuples(x_train)\n",
    "dataset2 = random_offset_tuples(x_train, n_masked_px=400)\n",
    "dataset3 = random_offset_tuples(x_train, n_masked_px=700)\n",
    "\n",
    "print(dataset1[\"mask_idxs\"][2])\n",
    "print(dataset2[\"mask_idxs\"][2])\n",
    "print(dataset3[\"mask_idxs\"][2])\n",
    "\n",
    "# should be the same\n",
    "display_uint8_image(x_train[0])\n",
    "display_uint8_image(x_train[2])\n",
    "\n",
    "print(dataset1[\"tuples\"][:100, :])"
   ]
  },
  {
   "cell_type": "code",
   "execution_count": 3,
   "metadata": {
    "colab": {
     "base_uri": "https://localhost:8080/"
    },
    "id": "fNNZdCnizvLU",
    "outputId": "8472bdb9-66be-4f7a-8b8a-66ac282bb160"
   },
   "outputs": [
    {
     "name": "stdout",
     "output_type": "stream",
     "text": [
      "(60000, 784, 3) (60000, 2) (60000,)\n",
      "[[-7. -4.  0.]\n",
      " [-7. -3.  0.]\n",
      " [-7. -2.  0.]\n",
      " ...\n",
      " [20. 21.  0.]\n",
      " [20. 22.  0.]\n",
      " [20. 23.  0.]]\n",
      "[7 4]\n",
      "0.0\n"
     ]
    }
   ],
   "source": [
    "\n",
    "print(dataset1[\"tuples\"].shape, dataset1[\"offsets\"].shape, dataset1[\"target_pxs\"].shape)\n",
    "print(dataset1[\"tuples\"][0])\n",
    "print(dataset1[\"offsets\"][0])\n",
    "print(dataset1[\"target_pxs\"][0])\n",
    "\n",
    "# actual training dataset is 784 x,y,v tuples, but with the spatial location changed so the the pixel to predict is in the center\n",
    "# and the pixel value to predict removed (via masking)\n",
    "\n",
    "# then, can mask more and more stuff and compare performance\n",
    "\n",
    "# we can also use the model in an \"iterative\" mode to generate images, in an arbitrary order."
   ]
  },
  {
   "cell_type": "code",
   "execution_count": 4,
   "metadata": {
    "id": "W3nKMxnPe6cc"
   },
   "outputs": [],
   "source": [
    "from tensorflow import keras\n",
    "from tensorflow.keras import layers"
   ]
  },
  {
   "cell_type": "code",
   "execution_count": 5,
   "metadata": {
    "colab": {
     "base_uri": "https://localhost:8080/"
    },
    "id": "1Kts0JBfWfGa",
    "outputId": "6cbeb178-e0bf-4ce1-8313-9875c6025a04"
   },
   "outputs": [
    {
     "name": "stdout",
     "output_type": "stream",
     "text": [
      "mask_idxs shape      (1, 400)\n",
      "onehot shape         (1, 400, 784)\n",
      "multihot shape       (1, 784)\n",
      "attention_mask shape (1, 784, 784)\n",
      "image_mask shape     (1, 28, 28)\n"
     ]
    },
    {
     "name": "stderr",
     "output_type": "stream",
     "text": [
      "2021-08-26 12:56:19.555969: I tensorflow/stream_executor/cuda/cuda_gpu_executor.cc:937] successful NUMA node read from SysFS had negative value (-1), but there must be at least one NUMA node, so returning NUMA node zero\n",
      "2021-08-26 12:56:19.564505: I tensorflow/stream_executor/cuda/cuda_gpu_executor.cc:937] successful NUMA node read from SysFS had negative value (-1), but there must be at least one NUMA node, so returning NUMA node zero\n",
      "2021-08-26 12:56:19.565091: I tensorflow/stream_executor/cuda/cuda_gpu_executor.cc:937] successful NUMA node read from SysFS had negative value (-1), but there must be at least one NUMA node, so returning NUMA node zero\n",
      "2021-08-26 12:56:19.566035: I tensorflow/core/platform/cpu_feature_guard.cc:142] This TensorFlow binary is optimized with oneAPI Deep Neural Network Library (oneDNN) to use the following CPU instructions in performance-critical operations:  FMA\n",
      "To enable them in other operations, rebuild TensorFlow with the appropriate compiler flags.\n",
      "2021-08-26 12:56:19.566962: I tensorflow/stream_executor/cuda/cuda_gpu_executor.cc:937] successful NUMA node read from SysFS had negative value (-1), but there must be at least one NUMA node, so returning NUMA node zero\n",
      "2021-08-26 12:56:19.567490: I tensorflow/stream_executor/cuda/cuda_gpu_executor.cc:937] successful NUMA node read from SysFS had negative value (-1), but there must be at least one NUMA node, so returning NUMA node zero\n",
      "2021-08-26 12:56:19.567976: I tensorflow/stream_executor/cuda/cuda_gpu_executor.cc:937] successful NUMA node read from SysFS had negative value (-1), but there must be at least one NUMA node, so returning NUMA node zero\n",
      "2021-08-26 12:56:19.876630: I tensorflow/stream_executor/cuda/cuda_gpu_executor.cc:937] successful NUMA node read from SysFS had negative value (-1), but there must be at least one NUMA node, so returning NUMA node zero\n",
      "2021-08-26 12:56:19.876954: I tensorflow/stream_executor/cuda/cuda_gpu_executor.cc:937] successful NUMA node read from SysFS had negative value (-1), but there must be at least one NUMA node, so returning NUMA node zero\n",
      "2021-08-26 12:56:19.877235: I tensorflow/stream_executor/cuda/cuda_gpu_executor.cc:937] successful NUMA node read from SysFS had negative value (-1), but there must be at least one NUMA node, so returning NUMA node zero\n",
      "2021-08-26 12:56:19.877508: I tensorflow/core/common_runtime/gpu/gpu_device.cc:1510] Created device /job:localhost/replica:0/task:0/device:GPU:0 with 3945 MB memory:  -> device: 0, name: NVIDIA GeForce RTX 2060, pci bus id: 0000:26:00.0, compute capability: 7.5\n",
      "2021-08-26 12:56:19.877716: I tensorflow/core/common_runtime/process_util.cc:146] Creating new thread pool with default inter op setting: 2. Tune using inter_op_parallelism_threads for best performance.\n"
     ]
    }
   ],
   "source": [
    "# attention masking test\n",
    "\n",
    "def idxs_to_onehots(idxs):\n",
    "    onehots = tf.one_hot(idxs, depth=784, dtype=tf.bool, on_value=False, off_value=True)\n",
    "    return onehots\n",
    "\n",
    "# takes 2D tensor (batch and index list)\n",
    "def idxs_to_multihot(idxs):\n",
    "    onehots = idxs_to_onehots(idxs)\n",
    "    multihot = tf.reduce_all(onehots, axis=1)\n",
    "    return multihot\n",
    "\n",
    "def idxs_to_attention_mask(idxs):\n",
    "    multihot = idxs_to_multihot(idxs)\n",
    "    attn_mask = tf.logical_and(multihot[:, :, None], multihot[:, None, :])\n",
    "    return attn_mask\n",
    "\n",
    "def idxs_to_image_mask(idxs):\n",
    "    multihot = idxs_to_multihot(idxs)\n",
    "    multihot = tf.reshape(multihot, [-1, 28, 28])\n",
    "    return multihot\n",
    "\n",
    "print(\"mask_idxs shape     \", dataset2[\"mask_idxs\"][:1].shape)\n",
    "print(\"onehot shape        \", idxs_to_onehots(dataset2[\"mask_idxs\"][:1]).shape)\n",
    "print(\"multihot shape      \", idxs_to_multihot(dataset2[\"mask_idxs\"][:1]).shape)\n",
    "print(\"attention_mask shape\", idxs_to_attention_mask(dataset2[\"mask_idxs\"][:1]).shape)\n",
    "print(\"image_mask shape    \", idxs_to_image_mask(dataset2[\"mask_idxs\"][:1]).shape)\n"
   ]
  },
  {
   "cell_type": "code",
   "execution_count": 6,
   "metadata": {
    "id": "5noipvB9oe8v"
   },
   "outputs": [],
   "source": [
    "# example from keras docs https://keras.io/examples/nlp/text_classification_with_transformer/\n",
    "# uses built-in MultiHeadAttention https://keras.io/api/layers/attention_layers/multi_head_attention/\n",
    "\n",
    "class TransformerBlock(layers.Layer):\n",
    "    def __init__(self, n_embed_dim, n_heads, n_dense_dim, dropout_rate, **kwargs):\n",
    "        super(TransformerBlock, self).__init__(**kwargs)\n",
    "        self.att = layers.MultiHeadAttention(num_heads=n_heads, key_dim=n_embed_dim)\n",
    "        self.dense_net = keras.Sequential([\n",
    "            layers.Dense(n_dense_dim, activation='relu'),\n",
    "            layers.Dense(n_embed_dim),\n",
    "        ])\n",
    "        self.layernorm1 = layers.LayerNormalization(epsilon=1e-6)\n",
    "        self.layernorm2 = layers.LayerNormalization(epsilon=1e-6)\n",
    "        self.dropout1 = layers.Dropout(dropout_rate)\n",
    "        self.dropout2 = layers.Dropout(dropout_rate)\n",
    "    \n",
    "    def call(self, inputs, mask_idxs, is_training):\n",
    "#         print(\"mask_idxs shape\", mask_idxs.shape)\n",
    "        mask = tf.one_hot(mask_idxs, depth=inputs.shape[1], on_value=False, off_value=True, dtype=tf.bool)\n",
    "#         print(\"onehot shape\", mask.shape)\n",
    "        mask = tf.reduce_all(mask, axis=1)\n",
    "#         print(\"multihot shape\", mask.shape)\n",
    "        # make mask 2D\n",
    "        mask = tf.logical_and(mask[:, :, None], mask[:, None, :])\n",
    "#         print(\"squaremultihot shape\", mask.shape)\n",
    "        attn_output = self.att(inputs, inputs, attention_mask=mask)\n",
    "        attn_output = self.dropout1(attn_output, training=is_training)\n",
    "        out1 = self.layernorm1(inputs + attn_output)\n",
    "        dense_output = self.dense_net(out1)\n",
    "        dense_output = self.dropout2(dense_output, training=is_training)\n",
    "        return self.layernorm2(out1 + dense_output)\n",
    "\n",
    "class TokenAndPositionEmbedding(layers.Layer):\n",
    "    def __init__(self, maxlen, vocab_size, embed_dim):\n",
    "        super(TokenAndPositionEmbedding, self).__init__()\n",
    "        self.token_emb = layers.Embedding(input_dim=vocab_size, output_dim=embed_dim)\n",
    "        self.pos_emb = layers.Embedding(input_dim=maxlen, output_dim=embed_dim)\n",
    "\n",
    "    def call(self, x):\n",
    "        maxlen = tf.shape(x)[-1]\n",
    "        positions = tf.range(start=0, limit=maxlen, delta=1)\n",
    "        positions = self.pos_emb(positions)\n",
    "        x = self.token_emb(x)\n",
    "        return x + positions\n",
    "\n"
   ]
  },
  {
   "cell_type": "code",
   "execution_count": 7,
   "metadata": {
    "colab": {
     "base_uri": "https://localhost:8080/"
    },
    "id": "QfcvlCuCLUbM",
    "outputId": "d4d6f3de-eef7-4cb5-b6db-ae0ac89603ae"
   },
   "outputs": [
    {
     "data": {
      "text/plain": [
       "tf.bool"
      ]
     },
     "execution_count": 7,
     "metadata": {},
     "output_type": "execute_result"
    }
   ],
   "source": [
    "tf.constant([True, False]).dtype"
   ]
  },
  {
   "cell_type": "code",
   "execution_count": 8,
   "metadata": {
    "id": "-Xi5wBCwEVHp"
   },
   "outputs": [],
   "source": [
    "def model(batch_size):\n",
    "\n",
    "    # no batch size to start makes it simpler\n",
    "    n_embd = 10\n",
    "\n",
    "    data_input = keras.Input(shape=[784, 3], batch_size=None)\n",
    "    mask_input = keras.Input(shape=[None], batch_size=None, dtype=tf.int32)\n",
    "    m = data_input\n",
    "\n",
    "    # make n_embd-dimensional input embeddings per pixel from [x, y, v]\n",
    "    m = layers.Dense(20, activation='relu')(m)\n",
    "    m = layers.Dense(20, activation='relu')(m)\n",
    "    m = layers.Dense(n_embd, activation=None)(m)\n",
    "    m = TransformerBlock(n_embed_dim=n_embd, n_heads=7, n_dense_dim=16, dropout_rate=0.1, name=\"txform1\")(m, mask_idxs=mask_input, is_training=True)\n",
    "    m = TransformerBlock(n_embed_dim=n_embd, n_heads=7, n_dense_dim=16, dropout_rate=0.1, name=\"txform2\")(m, mask_idxs=mask_input, is_training=True)\n",
    "    m = layers.Flatten()(m)\n",
    "    # m = layers.Dense(10, activation='relu')(m)\n",
    "    m = layers.Dense(1, activation=None)(m)\n",
    "\n",
    "    model = keras.Model(inputs=[data_input, mask_input], outputs=[m])\n",
    "\n",
    "    return model\n"
   ]
  },
  {
   "cell_type": "code",
   "execution_count": 10,
   "metadata": {
    "colab": {
     "base_uri": "https://localhost:8080/"
    },
    "id": "JAoKvpfStPPH",
    "outputId": "9a668532-642d-4a64-8044-13ed1fb53daa"
   },
   "outputs": [
    {
     "name": "stdout",
     "output_type": "stream",
     "text": [
      "nvcc: NVIDIA (R) Cuda compiler driver\n",
      "Copyright (c) 2005-2021 NVIDIA Corporation\n",
      "Built on Wed_Jun__2_19:15:15_PDT_2021\n",
      "Cuda compilation tools, release 11.4, V11.4.48\n",
      "Build cuda_11.4.r11.4/compiler.30033411_0\n",
      "Thu Aug 26 12:56:50 2021       \n",
      "+-----------------------------------------------------------------------------+\n",
      "| NVIDIA-SMI 470.63.01    Driver Version: 470.63.01    CUDA Version: 11.4     |\n",
      "|-------------------------------+----------------------+----------------------+\n",
      "| GPU  Name        Persistence-M| Bus-Id        Disp.A | Volatile Uncorr. ECC |\n",
      "| Fan  Temp  Perf  Pwr:Usage/Cap|         Memory-Usage | GPU-Util  Compute M. |\n",
      "|                               |                      |               MIG M. |\n",
      "|===============================+======================+======================|\n",
      "|   0  NVIDIA GeForce ...  Off  | 00000000:26:00.0  On |                  N/A |\n",
      "|  0%   40C    P5    17W / 170W |   4840MiB /  5926MiB |     41%      Default |\n",
      "|                               |                      |                  N/A |\n",
      "+-------------------------------+----------------------+----------------------+\n",
      "                                                                               \n",
      "+-----------------------------------------------------------------------------+\n",
      "| Processes:                                                                  |\n",
      "|  GPU   GI   CI        PID   Type   Process name                  GPU Memory |\n",
      "|        ID   ID                                                   Usage      |\n",
      "|=============================================================================|\n",
      "|    0   N/A  N/A       730      G   /usr/lib/Xorg                     221MiB |\n",
      "|    0   N/A  N/A      1397      G   /usr/bin/gnome-shell               85MiB |\n",
      "|    0   N/A  N/A      1913      G   ...AAAAAAAAA= --shared-files        5MiB |\n",
      "|    0   N/A  N/A      2030      G   ...e/Steam/ubuntu12_32/steam        9MiB |\n",
      "|    0   N/A  N/A      2091      G   ./steamwebhelper                    2MiB |\n",
      "|    0   N/A  N/A      2103      G   ...token=3152982585380697522       12MiB |\n",
      "|    0   N/A  N/A      2275      G   /usr/lib/firefox/firefox          332MiB |\n",
      "|    0   N/A  N/A      2697      G   /usr/lib/firefox/firefox            1MiB |\n",
      "|    0   N/A  N/A      3811      G   /usr/lib/firefox/firefox            1MiB |\n",
      "|    0   N/A  N/A      4156      G   /usr/lib/firefox/firefox            1MiB |\n",
      "|    0   N/A  N/A      4387      G   /usr/lib/firefox/firefox            1MiB |\n",
      "|    0   N/A  N/A      5008      C   ...onal-mnist/env/bin/python     4153MiB |\n",
      "+-----------------------------------------------------------------------------+\n"
     ]
    }
   ],
   "source": [
    "!nvcc --version\n",
    "!nvidia-smi"
   ]
  },
  {
   "cell_type": "code",
   "execution_count": 11,
   "metadata": {
    "colab": {
     "base_uri": "https://localhost:8080/"
    },
    "id": "1rOqsXnxifpG",
    "outputId": "e1fee0a6-197b-4ca4-92a0-1d23c1906133"
   },
   "outputs": [
    {
     "name": "stdout",
     "output_type": "stream",
     "text": [
      "Model: \"model\"\n",
      "__________________________________________________________________________________________________\n",
      "Layer (type)                    Output Shape         Param #     Connected to                     \n",
      "==================================================================================================\n",
      "input_1 (InputLayer)            [(None, 784, 3)]     0                                            \n",
      "__________________________________________________________________________________________________\n",
      "dense (Dense)                   (None, 784, 20)      80          input_1[0][0]                    \n",
      "__________________________________________________________________________________________________\n",
      "dense_1 (Dense)                 (None, 784, 20)      420         dense[0][0]                      \n",
      "__________________________________________________________________________________________________\n",
      "dense_2 (Dense)                 (None, 784, 10)      210         dense_1[0][0]                    \n",
      "__________________________________________________________________________________________________\n",
      "input_2 (InputLayer)            [(None, None)]       0                                            \n",
      "__________________________________________________________________________________________________\n",
      "txform1 (TransformerBlock)      (None, 784, 10)      3406        dense_2[0][0]                    \n",
      "                                                                 input_2[0][0]                    \n",
      "__________________________________________________________________________________________________\n",
      "txform2 (TransformerBlock)      (None, 784, 10)      3406        txform1[0][0]                    \n",
      "                                                                 input_2[0][0]                    \n",
      "__________________________________________________________________________________________________\n",
      "flatten (Flatten)               (None, 7840)         0           txform2[0][0]                    \n",
      "__________________________________________________________________________________________________\n",
      "dense_7 (Dense)                 (None, 1)            7841        flatten[0][0]                    \n",
      "==================================================================================================\n",
      "Total params: 15,363\n",
      "Trainable params: 15,363\n",
      "Non-trainable params: 0\n",
      "__________________________________________________________________________________________________\n"
     ]
    }
   ],
   "source": [
    "batch_size=16\n",
    "\n",
    "def get_lr_metric(optimizer):\n",
    "    def lr(y_true, y_pred):\n",
    "        return optimizer.lr\n",
    "    return lr\n",
    "optimizer = tf.keras.optimizers.Adam(learning_rate=1e-3)\n",
    "lr_metric = get_lr_metric(optimizer)\n",
    "\n",
    "txformer = model(batch_size)\n",
    "txformer.compile(optimizer=optimizer, loss='mse', metrics=['MeanAbsoluteError', lr_metric])\n",
    "load_saved = True\n",
    "if load_saved:\n",
    "    txformer.load_weights(\"./models/txformer\")\n",
    "\n",
    "txformer.summary()\n"
   ]
  },
  {
   "cell_type": "code",
   "execution_count": 12,
   "metadata": {
    "colab": {
     "base_uri": "https://localhost:8080/",
     "height": 101
    },
    "id": "fzuSaIstGU0A",
    "outputId": "765dc0e1-e241-4363-8f90-c06fe21ea4e0"
   },
   "outputs": [
    {
     "data": {
      "image/png": "[encoded data removed]",
      "text/plain": [
       "<PIL.Image.Image image mode=L size=28x28 at 0x7F62F80FF130>"
      ]
     },
     "metadata": {},
     "output_type": "display_data"
    },
    {
     "data": {
      "image/png": "[encoded data removed]",
      "text/plain": [
       "<PIL.Image.Image image mode=L size=28x28 at 0x7F620C0ED1C0>"
      ]
     },
     "metadata": {},
     "output_type": "display_data"
    },
    {
     "data": {
      "image/png": "[encoded data removed]",
      "text/plain": [
       "<PIL.Image.Image image mode=L size=28x28 at 0x7F620C0ED1C0>"
      ]
     },
     "metadata": {},
     "output_type": "display_data"
    },
    {
     "name": "stdout",
     "output_type": "stream",
     "text": [
      "# px masked out: 2\n"
     ]
    },
    {
     "data": {
      "image/png": "[encoded data removed]",
      "text/plain": [
       "<PIL.Image.Image image mode=L size=28x28 at 0x7F620C0C17C0>"
      ]
     },
     "metadata": {},
     "output_type": "display_data"
    },
    {
     "data": {
      "image/png": "[encoded data removed]",
      "text/plain": [
       "<PIL.Image.Image image mode=L size=28x28 at 0x7F620C0C1460>"
      ]
     },
     "metadata": {},
     "output_type": "display_data"
    },
    {
     "data": {
      "image/png": "[encoded data removed]",
      "text/plain": [
       "<PIL.Image.Image image mode=L size=28x28 at 0x7F620C0C1460>"
      ]
     },
     "metadata": {},
     "output_type": "display_data"
    },
    {
     "data": {
      "image/png": "[encoded data removed]",
      "text/plain": [
       "<PIL.Image.Image image mode=L size=28x28 at 0x7F620C0C1460>"
      ]
     },
     "metadata": {},
     "output_type": "display_data"
    },
    {
     "name": "stdout",
     "output_type": "stream",
     "text": [
      "# px masked out: 401\n"
     ]
    },
    {
     "data": {
      "image/png": "[encoded data removed]",
      "text/plain": [
       "<PIL.Image.Image image mode=L size=28x28 at 0x7F620C0C1460>"
      ]
     },
     "metadata": {},
     "output_type": "display_data"
    },
    {
     "data": {
      "image/png": "[encoded data removed]",
      "text/plain": [
       "<PIL.Image.Image image mode=L size=28x28 at 0x7F620C0C2BE0>"
      ]
     },
     "metadata": {},
     "output_type": "display_data"
    },
    {
     "data": {
      "image/png": "[encoded data removed]",
      "text/plain": [
       "<PIL.Image.Image image mode=L size=28x28 at 0x7F620C0C2BE0>"
      ]
     },
     "metadata": {},
     "output_type": "display_data"
    },
    {
     "data": {
      "image/png": "[encoded data removed]",
      "text/plain": [
       "<PIL.Image.Image image mode=L size=28x28 at 0x7F620C0C2BE0>"
      ]
     },
     "metadata": {},
     "output_type": "display_data"
    },
    {
     "name": "stdout",
     "output_type": "stream",
     "text": [
      "# px masked out: 701\n"
     ]
    },
    {
     "data": {
      "image/png": "[encoded data removed]",
      "text/plain": [
       "<PIL.Image.Image image mode=L size=28x28 at 0x7F620C198490>"
      ]
     },
     "metadata": {},
     "output_type": "display_data"
    }
   ],
   "source": [
    "def fit_one_epoch(dataset):\n",
    "    txformer.fit(x=[dataset[\"tuples\"], dataset[\"mask_idxs\"]], y=dataset[\"target_pxs\"], epochs=1, batch_size=batch_size)\n",
    "\n",
    "# display:\n",
    "# - before mask\n",
    "# - mask\n",
    "# - after mask\n",
    "# - prediction\n",
    "def gen_image(dataset, idx):\n",
    "    img = np.zeros([28, 28])\n",
    "    mask = dataset[\"mask_idxs\"][idx]\n",
    "    erow, ecol = dataset[\"offsets\"][idx]\n",
    "\n",
    "    image_mask = np.array(idxs_to_image_mask(mask[np.newaxis, :]), np.uint8)[0]\n",
    "    masked_image = np.copy(dataset[\"imgs\"][idx])\n",
    "    display_uint8_image(masked_image) # before mask\n",
    "    display_uint8_image(image_mask * 255) # mask\n",
    "    masked_image = masked_image * image_mask\n",
    "    display_uint8_image(masked_image) # after mask\n",
    "    \n",
    "    for row in range(28):\n",
    "        for col in range(28):\n",
    "            img_tups = np.copy(dataset[\"tuples\"][idx])\n",
    "            img_tups[:, 0] += erow\n",
    "            img_tups[:, 1] += ecol\n",
    "            img_tups[:, 0] -= row\n",
    "            img_tups[:, 1] -= col\n",
    "            mask_idx = row*28+col\n",
    "            \n",
    "            this_mask = np.concatenate([mask, np.array([mask_idx])])\n",
    "            px = txformer([img_tups[np.newaxis, :, :], this_mask[np.newaxis, :]])\n",
    "            img[row, col] = np.clip(px[0, 0], 0, 255)\n",
    "    print(\"# px masked out:\", len(this_mask))\n",
    "    display_float32_image(img)\n",
    "\n",
    "gen_image(dataset1, 2)\n",
    "gen_image(dataset2, 2)\n",
    "gen_image(dataset3, 2)"
   ]
  },
  {
   "cell_type": "code",
   "execution_count": 15,
   "metadata": {
    "colab": {
     "base_uri": "https://localhost:8080/",
     "height": 437
    },
    "id": "Qc-55LXO8Dtl",
    "outputId": "47b797e1-67ca-440b-c252-7e961a14c6ee"
   },
   "outputs": [
    {
     "name": "stderr",
     "output_type": "stream",
     "text": [
      "2021-08-25 17:26:40.113714: I tensorflow/compiler/mlir/mlir_graph_optimization_pass.cc:185] None of the MLIR Optimization Passes are enabled (registered 2)\n"
     ]
    },
    {
     "name": "stdout",
     "output_type": "stream",
     "text": [
      "3750/3750 [==============================] - 234s 62ms/step - loss: 1265.7607 - mean_absolute_error: 16.6550 - lr: 9.9998e-04\n",
      "3750/3750 [==============================] - 238s 64ms/step - loss: 924.8143 - mean_absolute_error: 14.0071 - lr: 9.9998e-04\n"
     ]
    }
   ],
   "source": [
    "fit_one_epoch(dataset1)\n",
    "fit_one_epoch(dataset1)"
   ]
  },
  {
   "cell_type": "code",
   "execution_count": 16,
   "metadata": {},
   "outputs": [
    {
     "name": "stdout",
     "output_type": "stream",
     "text": [
      "(1,)\n",
      "(28, 28)\n"
     ]
    },
    {
     "data": {
      "image/png": "[encoded data removed]",
      "text/plain": [
       "<PIL.Image.Image image mode=L size=28x28 at 0x7FD5BC25CEB0>"
      ]
     },
     "metadata": {},
     "output_type": "display_data"
    },
    {
     "data": {
      "image/png": "[encoded data removed]",
      "text/plain": [
       "<PIL.Image.Image image mode=L size=28x28 at 0x7FD5BC25CEB0>"
      ]
     },
     "metadata": {},
     "output_type": "display_data"
    },
    {
     "data": {
      "image/png": "[encoded data removed]",
      "text/plain": [
       "<PIL.Image.Image image mode=L size=28x28 at 0x7FD5BC25CEB0>"
      ]
     },
     "metadata": {},
     "output_type": "display_data"
    },
    {
     "data": {
      "image/png": "[encoded data removed]",
      "text/plain": [
       "<PIL.Image.Image image mode=L size=28x28 at 0x7FD46B840100>"
      ]
     },
     "metadata": {},
     "output_type": "display_data"
    },
    {
     "name": "stdout",
     "output_type": "stream",
     "text": [
      "(400,)\n",
      "(28, 28)\n"
     ]
    },
    {
     "data": {
      "image/png": "[encoded data removed]",
      "text/plain": [
       "<PIL.Image.Image image mode=L size=28x28 at 0x7FD4D035E580>"
      ]
     },
     "metadata": {},
     "output_type": "display_data"
    },
    {
     "data": {
      "image/png": "[encoded data removed]",
      "text/plain": [
       "<PIL.Image.Image image mode=L size=28x28 at 0x7FD4D035E580>"
      ]
     },
     "metadata": {},
     "output_type": "display_data"
    },
    {
     "data": {
      "image/png": "[encoded data removed]",
      "text/plain": [
       "<PIL.Image.Image image mode=L size=28x28 at 0x7FD4D035E580>"
      ]
     },
     "metadata": {},
     "output_type": "display_data"
    },
    {
     "data": {
      "image/png": "[encoded data removed]",
      "text/plain": [
       "<PIL.Image.Image image mode=L size=28x28 at 0x7FD4D0265190>"
      ]
     },
     "metadata": {},
     "output_type": "display_data"
    },
    {
     "name": "stdout",
     "output_type": "stream",
     "text": [
      "(700,)\n",
      "(28, 28)\n"
     ]
    },
    {
     "data": {
      "image/png": "[encoded data removed]",
      "text/plain": [
       "<PIL.Image.Image image mode=L size=28x28 at 0x7FD5BC25C040>"
      ]
     },
     "metadata": {},
     "output_type": "display_data"
    },
    {
     "data": {
      "image/png": "[encoded data removed]",
      "text/plain": [
       "<PIL.Image.Image image mode=L size=28x28 at 0x7FD5BC25C040>"
      ]
     },
     "metadata": {},
     "output_type": "display_data"
    },
    {
     "data": {
      "image/png": "[encoded data removed]",
      "text/plain": [
       "<PIL.Image.Image image mode=L size=28x28 at 0x7FD5BC25C040>"
      ]
     },
     "metadata": {},
     "output_type": "display_data"
    },
    {
     "data": {
      "image/png": "[encoded data removed]",
      "text/plain": [
       "<PIL.Image.Image image mode=L size=28x28 at 0x7FD5C314F1F0>"
      ]
     },
     "metadata": {},
     "output_type": "display_data"
    }
   ],
   "source": [
    "gen_image(dataset1, 2)\n",
    "gen_image(dataset2, 2)\n",
    "gen_image(dataset3, 2)"
   ]
  },
  {
   "cell_type": "code",
   "execution_count": 17,
   "metadata": {
    "id": "Po6NnXshwaCj"
   },
   "outputs": [
    {
     "name": "stdout",
     "output_type": "stream",
     "text": [
      "3750/3750 [==============================] - 242s 64ms/step - loss: 1759.8699 - mean_absolute_error: 23.5656 - lr: 9.9998e-04\n"
     ]
    }
   ],
   "source": [
    "fit_one_epoch(dataset2)"
   ]
  },
  {
   "cell_type": "code",
   "execution_count": 18,
   "metadata": {},
   "outputs": [
    {
     "name": "stdout",
     "output_type": "stream",
     "text": [
      "(1,)\n",
      "(28, 28)\n"
     ]
    },
    {
     "data": {
      "image/png": "[encoded data removed]",
      "text/plain": [
       "<PIL.Image.Image image mode=L size=28x28 at 0x7FD4D02B32E0>"
      ]
     },
     "metadata": {},
     "output_type": "display_data"
    },
    {
     "data": {
      "image/png": "[encoded data removed]",
      "text/plain": [
       "<PIL.Image.Image image mode=L size=28x28 at 0x7FD46B7D8EE0>"
      ]
     },
     "metadata": {},
     "output_type": "display_data"
    },
    {
     "data": {
      "image/png": "[encoded data removed]",
      "text/plain": [
       "<PIL.Image.Image image mode=L size=28x28 at 0x7FD46B7D8EE0>"
      ]
     },
     "metadata": {},
     "output_type": "display_data"
    },
    {
     "data": {
      "image/png": "[encoded data removed]",
      "text/plain": [
       "<PIL.Image.Image image mode=L size=28x28 at 0x7FD46B87E760>"
      ]
     },
     "metadata": {},
     "output_type": "display_data"
    },
    {
     "name": "stdout",
     "output_type": "stream",
     "text": [
      "(400,)\n",
      "(28, 28)\n"
     ]
    },
    {
     "data": {
      "image/png": "[encoded data removed]",
      "text/plain": [
       "<PIL.Image.Image image mode=L size=28x28 at 0x7FD46B840B80>"
      ]
     },
     "metadata": {},
     "output_type": "display_data"
    },
    {
     "data": {
      "image/png": "[encoded data removed]",
      "text/plain": [
       "<PIL.Image.Image image mode=L size=28x28 at 0x7FD46B840B80>"
      ]
     },
     "metadata": {},
     "output_type": "display_data"
    },
    {
     "data": {
      "image/png": "[encoded data removed]",
      "text/plain": [
       "<PIL.Image.Image image mode=L size=28x28 at 0x7FD46B840B80>"
      ]
     },
     "metadata": {},
     "output_type": "display_data"
    },
    {
     "data": {
      "image/png": "[encoded data removed]",
      "text/plain": [
       "<PIL.Image.Image image mode=L size=28x28 at 0x7FD46B840CD0>"
      ]
     },
     "metadata": {},
     "output_type": "display_data"
    },
    {
     "name": "stdout",
     "output_type": "stream",
     "text": [
      "(700,)\n",
      "(28, 28)\n"
     ]
    },
    {
     "data": {
      "image/png": "[encoded data removed]",
      "text/plain": [
       "<PIL.Image.Image image mode=L size=28x28 at 0x7FD46B66EFA0>"
      ]
     },
     "metadata": {},
     "output_type": "display_data"
    },
    {
     "data": {
      "image/png": "[encoded data removed]",
      "text/plain": [
       "<PIL.Image.Image image mode=L size=28x28 at 0x7FD4EAC021C0>"
      ]
     },
     "metadata": {},
     "output_type": "display_data"
    },
    {
     "data": {
      "image/png": "[encoded data removed]",
      "text/plain": [
       "<PIL.Image.Image image mode=L size=28x28 at 0x7FD4EAC021C0>"
      ]
     },
     "metadata": {},
     "output_type": "display_data"
    },
    {
     "data": {
      "image/png": "[encoded data removed]",
      "text/plain": [
       "<PIL.Image.Image image mode=L size=28x28 at 0x7FD46BA16A90>"
      ]
     },
     "metadata": {},
     "output_type": "display_data"
    }
   ],
   "source": [
    "gen_image(dataset1, 2)\n",
    "gen_image(dataset2, 2)\n",
    "gen_image(dataset3, 2)"
   ]
  },
  {
   "cell_type": "code",
   "execution_count": 19,
   "metadata": {
    "id": "fhSfq8VcPOEW"
   },
   "outputs": [
    {
     "name": "stdout",
     "output_type": "stream",
     "text": [
      "3750/3750 [==============================] - 245s 65ms/step - loss: 1393.4340 - mean_absolute_error: 19.5466 - lr: 9.9998e-04\n"
     ]
    }
   ],
   "source": [
    "fit_one_epoch(dataset3)"
   ]
  },
  {
   "cell_type": "code",
   "execution_count": 20,
   "metadata": {
    "id": "DD2oRg5MMrmK"
   },
   "outputs": [
    {
     "name": "stdout",
     "output_type": "stream",
     "text": [
      "(1,)\n",
      "(28, 28)\n"
     ]
    },
    {
     "data": {
      "image/png": "[encoded data removed]",
      "text/plain": [
       "<PIL.Image.Image image mode=L size=28x28 at 0x7FD46BA16A90>"
      ]
     },
     "metadata": {},
     "output_type": "display_data"
    },
    {
     "data": {
      "image/png": "[encoded data removed]",
      "text/plain": [
       "<PIL.Image.Image image mode=L size=28x28 at 0x7FD46BA16A90>"
      ]
     },
     "metadata": {},
     "output_type": "display_data"
    },
    {
     "data": {
      "image/png": "[encoded data removed]",
      "text/plain": [
       "<PIL.Image.Image image mode=L size=28x28 at 0x7FD46BA16A90>"
      ]
     },
     "metadata": {},
     "output_type": "display_data"
    },
    {
     "data": {
      "image/png": "[encoded data removed]",
      "text/plain": [
       "<PIL.Image.Image image mode=L size=28x28 at 0x7FD46B834670>"
      ]
     },
     "metadata": {},
     "output_type": "display_data"
    },
    {
     "name": "stdout",
     "output_type": "stream",
     "text": [
      "(400,)\n",
      "(28, 28)\n"
     ]
    },
    {
     "data": {
      "image/png": "[encoded data removed]",
      "text/plain": [
       "<PIL.Image.Image image mode=L size=28x28 at 0x7FD4D0263820>"
      ]
     },
     "metadata": {},
     "output_type": "display_data"
    },
    {
     "data": {
      "image/png": "[encoded data removed]",
      "text/plain": [
       "<PIL.Image.Image image mode=L size=28x28 at 0x7FD46B800760>"
      ]
     },
     "metadata": {},
     "output_type": "display_data"
    },
    {
     "data": {
      "image/png": "[encoded data removed]",
      "text/plain": [
       "<PIL.Image.Image image mode=L size=28x28 at 0x7FD46B800760>"
      ]
     },
     "metadata": {},
     "output_type": "display_data"
    },
    {
     "data": {
      "image/png": "[encoded data removed]",
      "text/plain": [
       "<PIL.Image.Image image mode=L size=28x28 at 0x7FD46BA16A90>"
      ]
     },
     "metadata": {},
     "output_type": "display_data"
    },
    {
     "name": "stdout",
     "output_type": "stream",
     "text": [
      "(700,)\n",
      "(28, 28)\n"
     ]
    },
    {
     "data": {
      "image/png": "[encoded data removed]",
      "text/plain": [
       "<PIL.Image.Image image mode=L size=28x28 at 0x7FD4D0265F10>"
      ]
     },
     "metadata": {},
     "output_type": "display_data"
    },
    {
     "data": {
      "image/png": "[encoded data removed]",
      "text/plain": [
       "<PIL.Image.Image image mode=L size=28x28 at 0x7FD4D0265F10>"
      ]
     },
     "metadata": {},
     "output_type": "display_data"
    },
    {
     "data": {
      "image/png": "[encoded data removed]",
      "text/plain": [
       "<PIL.Image.Image image mode=L size=28x28 at 0x7FD46B649940>"
      ]
     },
     "metadata": {},
     "output_type": "display_data"
    },
    {
     "data": {
      "image/png": "[encoded data removed]",
      "text/plain": [
       "<PIL.Image.Image image mode=L size=28x28 at 0x7FD46B649C70>"
      ]
     },
     "metadata": {},
     "output_type": "display_data"
    }
   ],
   "source": [
    "gen_image(dataset1, 2)\n",
    "gen_image(dataset2, 2)\n",
    "gen_image(dataset3, 2)"
   ]
  },
  {
   "cell_type": "code",
   "execution_count": 21,
   "metadata": {
    "id": "HNhU_P0QPWPt"
   },
   "outputs": [],
   "source": [
    "txformer.save_weights(\"./models/txformer\")"
   ]
  },
  {
   "cell_type": "code",
   "execution_count": null,
   "metadata": {},
   "outputs": [],
   "source": []
  }
 ],
 "metadata": {
  "accelerator": "GPU",
  "colab": {
   "collapsed_sections": [],
   "name": "MNIST conditional prediction.ipynb",
   "provenance": []
  },
  "kernelspec": {
   "display_name": "Python 3 (ipykernel)",
   "language": "python",
   "name": "python3"
  },
  "language_info": {
   "codemirror_mode": {
    "name": "ipython",
    "version": 3
   },
   "file_extension": ".py",
   "mimetype": "text/x-python",
   "name": "python",
   "nbconvert_exporter": "python",
   "pygments_lexer": "ipython3",
   "version": "3.9.6"
  }
 },
 "nbformat": 4,
 "nbformat_minor": 4
}
