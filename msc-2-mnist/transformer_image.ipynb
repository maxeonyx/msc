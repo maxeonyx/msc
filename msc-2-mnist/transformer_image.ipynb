{
 "cells": [
  {
   "cell_type": "markdown",
   "metadata": {},
   "source": [
    "Author: Gregor Kobsik\n",
    "\n",
    "Date: 15.12.2020\n",
    "\n",
    "Description: This notebook shows a basic implementation of a transformer (decoder) architecture for image generation in TensorFlow 2.\n",
    "\n",
    "References:\n",
    "\n",
    "[Transformers Tutorial](https://www.tensorflow.org/tutorials/text/transformer) - This notebook is based on this tutorial.\n",
    "\n",
    "[Illustrated Transformers Guide](http://jalammar.github.io/illustrated-transformer/) - Quick visuall explanation.\n",
    "\n",
    "[ImageGPT in PyTorch](https://github.com/teddykoker/image-gpt) - Other reference implementation in PyTorch.\n"
   ]
  },
  {
   "cell_type": "markdown",
   "metadata": {},
   "source": [
    "# Transformer Decoder for Images aka ImageGPT"
   ]
  },
  {
   "cell_type": "code",
   "execution_count": 2,
   "metadata": {
    "id": "JjJJyJTZYebt"
   },
   "outputs": [],
   "source": [
    "\n",
    "import os\n",
    "\n",
    "os.environ['CUDA_VISIBLE_DEVICES']='0'\n",
    "\n",
    "import tensorflow as tf\n",
    "# https://stackoverflow.com/a/60699372/7989988\n",
    "physical_devices = tf.config.list_physical_devices('GPU') \n",
    "tf.config.experimental.set_memory_growth(physical_devices[0], True)\n",
    "\n",
    "import tensorflow_datasets as tfds\n",
    "\n",
    "import time\n",
    "import numpy as np\n",
    "import matplotlib.pyplot as plt\n",
    "\n",
    "from tqdm.notebook import tqdm\n",
    "from sklearn.cluster import MiniBatchKMeans"
   ]
  },
  {
   "cell_type": "markdown",
   "metadata": {
    "id": "fd1NWMxjfsDd"
   },
   "source": [
    "## Setup input pipeline"
   ]
  },
  {
   "cell_type": "markdown",
   "metadata": {
    "id": "t4_Qt8W1hJE_"
   },
   "source": [
    "### Download data\n",
    "\n",
    "This dataset contains 60000 training examples. [MNIST](https://www.tensorflow.org/datasets/catalog/mnist)-Reference."
   ]
  },
  {
   "cell_type": "code",
   "execution_count": 3,
   "metadata": {
    "id": "8q9t4FmN96eN"
   },
   "outputs": [
    {
     "name": "stderr",
     "output_type": "stream",
     "text": [
      "2021-10-29 17:28:49.564870: I tensorflow/core/platform/cpu_feature_guard.cc:142] This TensorFlow binary is optimized with oneAPI Deep Neural Network Library (oneDNN) to use the following CPU instructions in performance-critical operations:  AVX2 AVX512F FMA\n",
      "To enable them in other operations, rebuild TensorFlow with the appropriate compiler flags.\n",
      "2021-10-29 17:28:50.113583: I tensorflow/core/common_runtime/gpu/gpu_device.cc:1510] Created device /job:localhost/replica:0/task:0/device:GPU:0 with 6668 MB memory:  -> device: 0, name: NVIDIA GeForce RTX 2080, pci bus id: 0000:3b:00.0, compute capability: 7.5\n",
      "2021-10-29 17:28:50.183321: I tensorflow/compiler/mlir/mlir_graph_optimization_pass.cc:185] None of the MLIR Optimization Passes are enabled (registered 2)\n",
      "2021-10-29 17:28:50.220848: W tensorflow/core/kernels/data/cache_dataset_ops.cc:768] The calling iterator did not fully read the dataset being cached. In order to avoid unexpected truncation of the dataset, the partially cached contents of the dataset  will be discarded. This can happen if you have an input pipeline similar to `dataset.cache().take(k).repeat()`. You should use `dataset.take(k).cache().repeat()` instead.\n"
     ]
    },
    {
     "data": {
      "image/png": "[encoded data removed]",
      "text/plain": [
       "<Figure size 648x648 with 3 Axes>"
      ]
     },
     "metadata": {},
     "output_type": "display_data"
    },
    {
     "name": "stderr",
     "output_type": "stream",
     "text": [
      "2021-10-29 17:28:50.460315: W tensorflow/core/kernels/data/cache_dataset_ops.cc:768] The calling iterator did not fully read the dataset being cached. In order to avoid unexpected truncation of the dataset, the partially cached contents of the dataset  will be discarded. This can happen if you have an input pipeline similar to `dataset.cache().take(k).repeat()`. You should use `dataset.take(k).cache().repeat()` instead.\n"
     ]
    },
    {
     "data": {
      "image/png": "[encoded data removed]",
      "text/plain": [
       "<Figure size 648x648 with 3 Axes>"
      ]
     },
     "metadata": {},
     "output_type": "display_data"
    }
   ],
   "source": [
    "DATASET = 'mnist'\n",
    "image_width = 28\n",
    "image_height = 28\n",
    "\n",
    "examples, metadata = tfds.load(DATASET, with_info=True, as_supervised=True)\n",
    "\n",
    "train_examples = examples['train']\n",
    "val_examples = examples['test']\n",
    "\n",
    "fig = tfds.show_examples(train_examples.take(3), metadata)\n",
    "fig = tfds.show_examples(val_examples.take(3), metadata)"
   ]
  },
  {
   "cell_type": "markdown",
   "metadata": {},
   "source": [
    "### Compute centroids\n",
    "Perform K-Means clustering to find `k` cluster centers of the given images/pixels. \n",
    "\n",
    "First map pixel values to a range `[0, 1]`."
   ]
  },
  {
   "cell_type": "code",
   "execution_count": 4,
   "metadata": {
    "tags": []
   },
   "outputs": [
    {
     "data": {
      "application/vnd.jupyter.widget-view+json": {
       "model_id": "834adb5a39b847e997e0b2517255f27c",
       "version_major": 2,
       "version_minor": 0
      },
      "text/plain": [
       "0it [00:00, ?it/s]"
      ]
     },
     "metadata": {},
     "output_type": "display_data"
    },
    {
     "name": "stdout",
     "output_type": "stream",
     "text": [
      "(8, 1)\n"
     ]
    }
   ],
   "source": [
    "NUM_CLUSTERS = 8\n",
    "\n",
    "def normalize_image(image, label):\n",
    "    return tf.cast(image, dtype=tf.float16) / 255.0, label\n",
    "\n",
    "def find_centroids(ds_train, num_clusters=16, batch_size=1024):\n",
    "    kmeans = MiniBatchKMeans(n_clusters=num_clusters, random_state=0, batch_size=batch_size, verbose=True)\n",
    "    ds_batched = ds_train.batch(batch_size)\n",
    "    for img, _ in tqdm(iter(ds_batched)):\n",
    "        pixels = img.numpy().reshape(-1, img.shape[-1])\n",
    "        kmeans.partial_fit(pixels)\n",
    "\n",
    "    return kmeans.cluster_centers_\n",
    "\n",
    "centroids = find_centroids(train_examples.map(normalize_image), NUM_CLUSTERS, 1000)\n",
    "centroids = tf.convert_to_tensor(centroids, dtype=tf.float16)\n",
    "print(centroids.shape)"
   ]
  },
  {
   "cell_type": "markdown",
   "metadata": {
    "id": "RCEKotqosGfq"
   },
   "source": [
    "### Quantize images\n",
    "\n",
    "Quantize all samples to create a training dataset.\n",
    "\n",
    "- First, flatten each input batch.\n",
    "- Next, compute the euclidean distance to the centroid for each pixel.\n",
    "- Last, take the index with the smallest distance as the resulting label.\n",
    "\n",
    "The size of the tensor shape is given in brackets."
   ]
  },
  {
   "cell_type": "code",
   "execution_count": 5,
   "metadata": {},
   "outputs": [],
   "source": [
    "def squared_euclidean_distance(a, b):\n",
    "    b = tf.transpose(b)        \n",
    "    a2 = tf.math.reduce_sum(tf.math.square(a), axis=1, keepdims=True)\n",
    "    b2 = tf.math.reduce_sum(tf.math.square(b), axis=0, keepdims=True)\n",
    "    ab = tf.linalg.matmul(a, b)\n",
    "    return a2 - 2 * ab + b2\n",
    "\n",
    "def quantize(image, label):\n",
    "    shape = tf.shape(image) # (height, width, color)\n",
    "    x = tf.reshape(image, (-1, shape[2])) # (height * width, color)\n",
    "    d = squared_euclidean_distance(x, centroids) # (height * width, centroids)\n",
    "    sequence = tf.math.argmin(d, axis=1)  # (height * width)\n",
    "    return sequence, label"
   ]
  },
  {
   "cell_type": "code",
   "execution_count": 6,
   "metadata": {},
   "outputs": [],
   "source": [
    "AUTOTUNE = tf.data.experimental.AUTOTUNE\n",
    "BUFFER_SIZE = 1000\n",
    "BATCH_SIZE = 16\n",
    "\n",
    "train_dataset = (\n",
    "    train_examples\n",
    "    .map(normalize_image)\n",
    "    .map(quantize)\n",
    "    .cache()\n",
    "    .shuffle(BUFFER_SIZE)\n",
    "    .padded_batch(BATCH_SIZE)\n",
    "    .prefetch(AUTOTUNE)\n",
    ")\n",
    "val_dataset = (\n",
    "    val_examples\n",
    "    .map(normalize_image)\n",
    "    .map(quantize)\n",
    "    .cache()\n",
    "    .padded_batch(BATCH_SIZE)\n",
    "    .prefetch(AUTOTUNE)\n",
    ")"
   ]
  },
  {
   "cell_type": "markdown",
   "metadata": {},
   "source": [
    "Inspect a random data sequence sample."
   ]
  },
  {
   "cell_type": "code",
   "execution_count": 7,
   "metadata": {},
   "outputs": [
    {
     "name": "stdout",
     "output_type": "stream",
     "text": [
      "tf.Tensor(\n",
      "[[0 0 0 0 0 0 0 0 0 0 0 0 0 0 0 0 0 0 0 0 0 0 0 0 0 0 0 0 0 0 0 0 0 0 0 0\n",
      "  0 0 0 0 0 0 0 0 0 0 0 0 0 0 0 0 0 0 0 0 0 0 0 0 0 0 0 0 0 0 0 0 0 0 0 0\n",
      "  0 0 0 0 0 0 0 0 0 0 0 0 0 0 0 0 0 0 0 0 0 0 0 0 0 0 0 0 0 0 0 0 0 0 0 0\n",
      "  0 0 0 0 0 0 0 0 0 0 0 0 0 0 0 0 0 0 0 0 0 0 0 0 0 0 0 0 0 0 0 0 0 0 0 0\n",
      "  0 0 0 0 0 0 0 3 4 0 0 0 0 0 0 0 0 0 0 0 0 0 0 0 0 0 0 0 0 0 0 0 0 0 0 2\n",
      "  5 2 0 0 0 0 0 0 0 0 0 0 0 0 0 0 0 0 0 0 0 0 0 0 0 0 0 0 5 4 0 0 0 0 0 0\n",
      "  0 0 0 0 0 0 0 0 0 0 0 0 0 0 0 0 0 0 0 0 2 5 3 0 0 0 0 0 0 0 0 0 0 0 0 0\n",
      "  0 0 0 0 0 0 0 0 0 0 0 0 2 5 2 0 0 0 0 0 0 0 0 0 0 0 0 0 0 0 0 0 0 0 0 0\n",
      "  0 0 0 0 2 5 5 0 0 0 0 0 0 0 0 0 0 0 0 0 0 0 0 0 0 0 0 0 0 0 0 0 0 5 5 2\n",
      "  0 0 0 0 0 0 0 0 0 0 0 0 0 0 0 0 0 0 0 0 0 0 0 0 0 4 5 2 0 0 0 0 0 0 0 0\n",
      "  0 0 0 0 0 0 0 0 0 0 0 0 0 0 0 0 0 2 5 2 0 0 0 0 0 0 0 0 0 0 0 0 0 0 0 0\n",
      "  0 0 0 0 0 0 0 0 0 2 5 5 0 0 0 0 0 0 0 0 0 0 0 0 0 0 0 0 0 0 0 0 0 0 0 0\n",
      "  0 3 5 5 0 0 0 0 0 0 0 0 0 0 0 0 0 0 0 0 0 0 0 0 0 0 0 0 0 3 5 4 0 0 0 0\n",
      "  0 0 0 0 0 0 0 0 0 0 0 0 0 0 0 0 0 0 0 0 0 2 5 5 0 0 0 0 0 0 0 0 0 0 0 0\n",
      "  0 0 0 0 0 0 0 0 0 0 0 0 0 2 5 5 0 0 0 0 0 0 0 0 0 0 0 0 0 0 0 0 0 0 0 0\n",
      "  0 0 0 0 0 3 5 5 0 0 0 0 0 0 0 0 0 0 0 0 0 0 0 0 0 0 0 0 0 0 0 0 0 0 5 5\n",
      "  0 0 0 0 0 0 0 0 0 0 0 0 0 0 0 0 0 0 0 0 0 0 0 0 0 0 4 5 0 0 0 0 0 0 0 0\n",
      "  0 0 0 0 0 0 0 0 0 0 0 0 0 0 0 0 0 0 2 4 0 0 0 0 0 0 0 0 0 0 0 0 0 0 0 0\n",
      "  0 0 0 0 0 0 0 0 0 0 2 5 3 0 0 0 0 0 0 0 0 0 0 0 0 0 0 0 0 0 0 0 0 0 0 0\n",
      "  0 0 3 4 3 0 0 0 0 0 0 0 0 0 0 0 0 0 0 0 0 0 0 0 0 0 0 0 0 0 0 0 0 0 0 0\n",
      "  0 0 0 0 0 0 0 0 0 0 0 0 0 0 0 0 0 0 0 0 0 0 0 0 0 0 0 0 0 0 0 0 0 0 0 0\n",
      "  0 0 0 0 0 0 0 0 0 0 0 0 0 0 0 0 0 0 0 0 0 0 0 0 0 0 0 0]], shape=(1, 784), dtype=int64)\n"
     ]
    },
    {
     "name": "stderr",
     "output_type": "stream",
     "text": [
      "2021-10-29 17:29:06.733072: W tensorflow/core/kernels/data/cache_dataset_ops.cc:768] The calling iterator did not fully read the dataset being cached. In order to avoid unexpected truncation of the dataset, the partially cached contents of the dataset  will be discarded. This can happen if you have an input pipeline similar to `dataset.cache().take(k).repeat()`. You should use `dataset.take(k).cache().repeat()` instead.\n"
     ]
    }
   ],
   "source": [
    "NUM_SAMPLES = 1\n",
    "\n",
    "image_batch, _ = next(iter(train_dataset))\n",
    "print(image_batch[:NUM_SAMPLES])"
   ]
  },
  {
   "cell_type": "markdown",
   "metadata": {},
   "source": [
    "And now show some quantitized and unquantized images. \n",
    "\n",
    "First, define a function to revert the quantization."
   ]
  },
  {
   "cell_type": "code",
   "execution_count": 8,
   "metadata": {},
   "outputs": [],
   "source": [
    "def unquantize(x):\n",
    "    x_one_hot = tf.cast(tf.one_hot(x, depth=len(centroids)), dtype=tf.float16)  # (seq, num_centroids)\n",
    "    return tf.linalg.matmul(x_one_hot,centroids)  # (seq, num_features)\n",
    "\n",
    "def np_showSeq(seq, size, max_images=3, cmap=None):\n",
    "    \"\"\" Show one or more images encoded as sequence. (numpy version)\n",
    "\n",
    "        seq: numpy array of sequences which encode the image. Either a single sequence or multiple sequences.\n",
    "        size: the image size. e.g. (28, 28) for `mnist` images.\n",
    "        max_images: the maximum number of images to display.\n",
    "    \"\"\" \n",
    "    batch = seq.shape[0]\n",
    "    num_show_img = min(max_images, seq.shape[0])\n",
    "    img = np.reshape(seq, (batch, *size, -1))\n",
    "    if img.shape[-1] == 1:\n",
    "      img = np.squeeze(img, axis=-1)    \n",
    "    \n",
    "    fig=plt.figure(figsize=(3*num_show_img, 3))\n",
    "    for i in range(num_show_img):\n",
    "        ax = fig.add_subplot(1, num_show_img, i+1)\n",
    "        ax.set_axis_off()\n",
    "        plt.imshow(img[i], cmap=cmap)\n",
    "    plt.show()\n",
    "\n",
    "def showSeq(seq, size, max_images=3, cmap=None):\n",
    "    \"\"\" Show one or more images encoded as sequence. (tensorflow version)\n",
    "\n",
    "        seq: tensor of sequences which encode the image. Either a single sequence or multiple sequences.\n",
    "        size: the image size. e.g. (28, 28) for `mnist` images.\n",
    "        max_images: the maximum number of images to display.\n",
    "    \"\"\"\n",
    "    if cmap:\n",
    "        seq = tf.map_fn(fn=unquantize, elems=seq, fn_output_signature=tf.float16)\n",
    "    seq = tf.cast(seq, float).numpy()\n",
    "\n",
    "    np_showSeq(seq, size, max_images, cmap)"
   ]
  },
  {
   "cell_type": "code",
   "execution_count": 9,
   "metadata": {
    "id": "4DYWukNFkGQN",
    "tags": []
   },
   "outputs": [
    {
     "name": "stderr",
     "output_type": "stream",
     "text": [
      "2021-10-29 17:29:06.865138: W tensorflow/core/kernels/data/cache_dataset_ops.cc:768] The calling iterator did not fully read the dataset being cached. In order to avoid unexpected truncation of the dataset, the partially cached contents of the dataset  will be discarded. This can happen if you have an input pipeline similar to `dataset.cache().take(k).repeat()`. You should use `dataset.take(k).cache().repeat()` instead.\n"
     ]
    },
    {
     "name": "stdout",
     "output_type": "stream",
     "text": [
      "quantized:\n"
     ]
    },
    {
     "data": {
      "image/png": "[encoded data removed]",
      "text/plain": [
       "<Figure size 2160x216 with 10 Axes>"
      ]
     },
     "metadata": {
      "needs_background": "light"
     },
     "output_type": "display_data"
    },
    {
     "name": "stdout",
     "output_type": "stream",
     "text": [
      "unquantized\n"
     ]
    },
    {
     "data": {
      "image/png": "[encoded data removed]",
      "text/plain": [
       "<Figure size 2160x216 with 10 Axes>"
      ]
     },
     "metadata": {
      "needs_background": "light"
     },
     "output_type": "display_data"
    }
   ],
   "source": [
    "NUM_SAMPLES = 10\n",
    "\n",
    "image_batch, _ = next(iter(train_dataset))\n",
    "image_batch = image_batch[:NUM_SAMPLES]\n",
    "\n",
    "print(\"quantized:\")\n",
    "showSeq(image_batch, (image_width, image_height), NUM_SAMPLES)\n",
    "print(\"unquantized\")\n",
    "showSeq(image_batch, (image_width, image_height), NUM_SAMPLES, cmap='gray')"
   ]
  },
  {
   "cell_type": "markdown",
   "metadata": {
    "id": "Z0hzukDBgVom"
   },
   "source": [
    "## Masking\n",
    "\n",
    "The look-ahead mask is used to mask the future tokens in a sequence. In other words, the mask indicates which entries should not be used.\n",
    "\n",
    "e.g. If we predict the third token, we use only the first and second token as reference. \n",
    "All future tokens will be masked in the seöf-attention by subtracting a very big number from the corresponding attention logits."
   ]
  },
  {
   "cell_type": "code",
   "execution_count": 10,
   "metadata": {
    "id": "dVxS8OPI9uI0"
   },
   "outputs": [],
   "source": [
    "def create_look_ahead_mask(size_q, size_k):\n",
    "  mask = 1 - tf.linalg.band_part(tf.ones((size_q, size_k)), -1, 0)\n",
    "  return mask  # (seq_len, seq_len)"
   ]
  },
  {
   "cell_type": "code",
   "execution_count": 11,
   "metadata": {},
   "outputs": [
    {
     "name": "stdout",
     "output_type": "stream",
     "text": [
      "tf.Tensor(\n",
      "[[0. 1. 1. 1. 1. 1.]\n",
      " [0. 0. 1. 1. 1. 1.]\n",
      " [0. 0. 0. 1. 1. 1.]], shape=(3, 6), dtype=float32)\n"
     ]
    },
    {
     "data": {
      "text/plain": [
       "array([[1., 1., 1., 1., 1.],\n",
       "       [0., 1., 1., 1., 1.],\n",
       "       [0., 0., 1., 1., 1.],\n",
       "       [0., 0., 0., 1., 1.],\n",
       "       [0., 0., 0., 0., 1.]], dtype=float32)"
      ]
     },
     "execution_count": 11,
     "metadata": {},
     "output_type": "execute_result"
    }
   ],
   "source": [
    "print(create_look_ahead_mask(3, 6))\n",
    "tf.linalg.band_part(tf.ones((5,5)), 0, -1).numpy()"
   ]
  },
  {
   "cell_type": "markdown",
   "metadata": {
    "id": "xluDl5cXYy4y"
   },
   "source": [
    "## Scaled dot product attention\n",
    "\n",
    "The attention function used by the transformer takes three inputs: Q (query), K (key), V (value). The equation used to calculate the attention weights is:\n",
    "\n",
    "$$\\Large{Attention(Q, K, V) = softmax_k(\\frac{QK^T}{\\sqrt{d_k}}) V} $$\n",
    "\n",
    "We call the function Self-Attention if we use the same input for Q, K and V.\n",
    "\n",
    "The mask is applied by multiplying it with -1e9 (close to negative infinity) and subtracting it from the attention logits. The following softmax function will render the corresponding positions to zero or almost zero and thus ignore them."
   ]
  },
  {
   "cell_type": "code",
   "execution_count": 12,
   "metadata": {
    "id": "LazzUq3bJ5SH"
   },
   "outputs": [],
   "source": [
    "def scaled_dot_product_attention(q, k, v, mask):\n",
    "  \"\"\"Calculate the attention weights.\n",
    "  q, k, v must have matching leading dimensions.\n",
    "  k, v must have matching penultimate dimension, i.e.: seq_len_k = seq_len_v.\n",
    "  The mask has different shapes depending on its type(padding or look ahead) \n",
    "  but it must be broadcastable for addition.\n",
    "  \n",
    "  Args:\n",
    "    q: query shape == (..., seq_len_q, depth)\n",
    "    k: key shape == (..., seq_len_k, depth)\n",
    "    v: value shape == (..., seq_len_v, depth_v)\n",
    "    mask: Any value to create and use a lookahead mask. \n",
    "          Defaults to None.\n",
    "    \n",
    "  Returns:\n",
    "    output, attention_weights\n",
    "  \"\"\"\n",
    "\n",
    "  matmul_qk = tf.matmul(q, k, transpose_b=True)  # (..., seq_len_q, seq_len_k)\n",
    "  \n",
    "  # scale matmul_qk\n",
    "  dk = tf.cast(tf.shape(k)[-1], tf.float32)\n",
    "  scaled_attention_logits = matmul_qk / tf.math.sqrt(dk)\n",
    "\n",
    "  # add the mask to the scaled tensor.\n",
    "  if mask is not None:\n",
    "    mask = create_look_ahead_mask(tf.shape(q)[-2], tf.shape(k)[-2])\n",
    "    scaled_attention_logits += (mask * -1e9)\n",
    "\n",
    "  # softmax is normalized on the last axis (seq_len_k) so that the scores\n",
    "  # add up to 1.\n",
    "  attention_weights = tf.nn.softmax(scaled_attention_logits, axis=-1)  # (..., seq_len_q, seq_len_k)\n",
    "\n",
    "  output = tf.matmul(attention_weights, v)  # (..., seq_len_q, depth_v)\n",
    "\n",
    "  return output, attention_weights"
   ]
  },
  {
   "cell_type": "code",
   "execution_count": 13,
   "metadata": {},
   "outputs": [
    {
     "name": "stdout",
     "output_type": "stream",
     "text": [
      "Attention weights are:\n",
      "tf.Tensor(\n",
      "[[1.000000e+00 0.000000e+00 0.000000e+00]\n",
      " [8.433274e-26 1.000000e+00 0.000000e+00]\n",
      " [8.433274e-26 8.433274e-26 1.000000e+00]], shape=(3, 3), dtype=float32)\n",
      "Output is:\n",
      "tf.Tensor(\n",
      "[[1.000000e+01 0.000000e+00 0.000000e+00]\n",
      " [8.433274e-25 1.000000e+01 0.000000e+00]\n",
      " [8.433274e-25 8.433274e-25 1.000000e+01]], shape=(3, 3), dtype=float32)\n"
     ]
    }
   ],
   "source": [
    "temp_x = tf.constant([[10,0,0],\n",
    "                      [0,10,0],\n",
    "                      [0,0,10]], dtype=tf.float32)  # (3, 3)\n",
    "temp_mask = create_look_ahead_mask(3, 3)\n",
    "\n",
    "temp_out, temp_attn = scaled_dot_product_attention(\n",
    "      temp_x, temp_x, temp_x, temp_mask)\n",
    "print ('Attention weights are:')\n",
    "print (temp_attn)\n",
    "print ('Output is:')\n",
    "print (temp_out)"
   ]
  },
  {
   "cell_type": "markdown",
   "metadata": {
    "id": "kmzGPEy64qmA"
   },
   "source": [
    "## Multi-head attention\n",
    "\n",
    "Multi-head attention consists of four parts:\n",
    "*    Linear layers and split into heads.\n",
    "*    Scaled dot-product attention.\n",
    "*    Concatenation of heads.\n",
    "*    Final linear layer.\n",
    "\n",
    "Each multi-head attention block gets three inputs; Q (query), K (key), V (value). These are put through linear (Dense) layers and split up into multiple heads.\n",
    "\n",
    "The `scaled_dot_product_attention` defined above is applied to each head (broadcasted for efficiency). An appropriate mask must be used in the attention step.  The attention output for each head is then concatenated (using `tf.transpose`, and `tf.reshape`) and put through a final `Dense` layer.\n",
    "\n",
    "TODO: Use directly [MultiHeadAttention](https://www.tensorflow.org/api_docs/python/tf/keras/layers/MultiHeadAttention)"
   ]
  },
  {
   "cell_type": "code",
   "execution_count": 14,
   "metadata": {
    "id": "BSV3PPKsYecw"
   },
   "outputs": [],
   "source": [
    "class MultiHeadAttention(tf.keras.layers.Layer):\n",
    "  def __init__(self, d_model, num_heads):\n",
    "    super(MultiHeadAttention, self).__init__()\n",
    "    self.num_heads = num_heads\n",
    "    self.d_model = d_model\n",
    "    \n",
    "    assert d_model % self.num_heads == 0\n",
    "    \n",
    "    self.depth = d_model // self.num_heads\n",
    "    \n",
    "    self.wq = tf.keras.layers.Dense(d_model)\n",
    "    self.wk = tf.keras.layers.Dense(d_model)\n",
    "    self.wv = tf.keras.layers.Dense(d_model)\n",
    "    \n",
    "    self.dense = tf.keras.layers.Dense(d_model)\n",
    "        \n",
    "  def split_heads(self, x, batch_size):\n",
    "    \"\"\"Split the last dimension into (num_heads, depth).\n",
    "    Transpose the result such that the shape is (batch_size, num_heads, seq_len, depth)\n",
    "    \"\"\"\n",
    "    x = tf.reshape(x, (batch_size, -1, self.num_heads, self.depth))\n",
    "    return tf.transpose(x, perm=[0, 2, 1, 3])\n",
    "    \n",
    "  def call(self, v, k, q, mask):\n",
    "    batch_size = tf.shape(q)[0]\n",
    "    \n",
    "    q = self.wq(q)  # (batch_size, seq_len, d_model)\n",
    "    k = self.wk(k)  # (batch_size, seq_len, d_model)\n",
    "    v = self.wv(v)  # (batch_size, seq_len, d_model)\n",
    "    \n",
    "    q = self.split_heads(q, batch_size)  # (batch_size, num_heads, seq_len_q, depth)\n",
    "    k = self.split_heads(k, batch_size)  # (batch_size, num_heads, seq_len_k, depth)\n",
    "    v = self.split_heads(v, batch_size)  # (batch_size, num_heads, seq_len_v, depth)\n",
    "    \n",
    "    # scaled_attention.shape == (batch_size, num_heads, seq_len_q, depth)\n",
    "    # attention_weights.shape == (batch_size, num_heads, seq_len_q, seq_len_k)\n",
    "    scaled_attention, attention_weights = scaled_dot_product_attention(\n",
    "        q, k, v, mask)\n",
    "    \n",
    "    scaled_attention = tf.transpose(scaled_attention, perm=[0, 2, 1, 3])  # (batch_size, seq_len_q, num_heads, depth)\n",
    "\n",
    "    concat_attention = tf.reshape(scaled_attention, \n",
    "                                  (batch_size, -1, self.d_model))  # (batch_size, seq_len_q, d_model)\n",
    "\n",
    "    output = self.dense(concat_attention)  # (batch_size, seq_len_q, d_model)\n",
    "        \n",
    "    return output, attention_weights"
   ]
  },
  {
   "cell_type": "code",
   "execution_count": 15,
   "metadata": {},
   "outputs": [
    {
     "data": {
      "text/plain": [
       "(TensorShape([32, 50, 64]), TensorShape([32, 8, 50, 50]))"
      ]
     },
     "execution_count": 15,
     "metadata": {},
     "output_type": "execute_result"
    }
   ],
   "source": [
    "temp_mha = MultiHeadAttention(d_model=64, num_heads=8)\n",
    "y = tf.random.uniform((32, 50, 64))  # (batch_size, encoder_sequence, d_model)\n",
    "out, attn = temp_mha(y, k=y, q=y, mask=None)\n",
    "out.shape, attn.shape\n"
   ]
  },
  {
   "cell_type": "markdown",
   "metadata": {
    "id": "gBqzJXGfHK3X"
   },
   "source": [
    "## Point wise feed forward network\n",
    "\n",
    "Point wise feed forward network consists of two fully-connected layers with a ReLU activation in between.\n",
    "\n",
    "`TODO`: Use gelu activation function instead of relu."
   ]
  },
  {
   "cell_type": "code",
   "execution_count": 16,
   "metadata": {
    "id": "ET7xLt0yCT6Z"
   },
   "outputs": [],
   "source": [
    "def point_wise_feed_forward_network(d_model, dff):\n",
    "  return tf.keras.Sequential([\n",
    "      tf.keras.layers.Dense(dff, activation='relu'),  # (batch_size, seq_len, dff)\n",
    "      # tf.keras.activations.gelu(approximate=False), # tf-nightly\n",
    "      tf.keras.layers.Dense(d_model)  # (batch_size, seq_len, d_model)\n",
    "  ])"
   ]
  },
  {
   "cell_type": "markdown",
   "metadata": {
    "id": "7e7hKcxn6-zd"
   },
   "source": [
    "## Decoder"
   ]
  },
  {
   "cell_type": "markdown",
   "metadata": {
    "id": "QFv-FNYUmvpn"
   },
   "source": [
    "### Decoder Layer\n",
    "\n",
    "Each `DecoderLayer` consists of sublayers:\n",
    "\n",
    "-   Multi-head attention (with masking) \n",
    "-   Point wise feed forward networks. \n",
    "\n",
    "Each of these sublayers has a residual connection around it preceeded by a layer normalization and dropout. Residual connections help in avoiding the vanishing gradient problem in deep networks."
   ]
  },
  {
   "cell_type": "code",
   "execution_count": 17,
   "metadata": {
    "id": "ncyS-Ms3i2x_"
   },
   "outputs": [],
   "source": [
    "class DecoderLayer(tf.keras.layers.Layer):\n",
    "  def __init__(self, d_model, num_heads, dff, rate=0.1):\n",
    "    super(DecoderLayer, self).__init__()\n",
    "\n",
    "    self.mha = MultiHeadAttention(d_model, num_heads)\n",
    "    self.ffn = point_wise_feed_forward_network(d_model, dff)\n",
    "\n",
    "    self.layernorm1 = tf.keras.layers.LayerNormalization(epsilon=1e-6)\n",
    "    self.layernorm2 = tf.keras.layers.LayerNormalization(epsilon=1e-6)\n",
    "    \n",
    "    self.dropout1 = tf.keras.layers.Dropout(rate)\n",
    "    self.dropout2 = tf.keras.layers.Dropout(rate)\n",
    "    \n",
    "  def call(self, x, training, mask):\n",
    "    # t.shape == (batch_size, input_seq_len, d_model)\n",
    "    # for t in [x, out1, attn_out, res1, out2, ffn_out, res2]\n",
    "    \n",
    "    # masked multihead self-attention with residual connection\n",
    "    out1 = self.layernorm1(self.dropout1(x, training=training)) \n",
    "    attn_out, attn_weights = self.mha(out1, out1, out1, mask) \n",
    "    res1 = x + attn_out\n",
    "\n",
    "    # feed forward neural network with residual connection\n",
    "    out2 = self.layernorm2(self.dropout2(res1, training=training))\n",
    "    ffn_out = self.ffn(out2)\n",
    "    res2 = res1 + ffn_out\n",
    "    \n",
    "    return res2, attn_weights"
   ]
  },
  {
   "cell_type": "markdown",
   "metadata": {},
   "source": [
    "### Decoder Block\n",
    "\n",
    "The `Decoder` consists of:\n",
    "-   Input Embedding\n",
    "-   Positional Embedding\n",
    "-   N Decoder Layers\n",
    "\n",
    "The input is put through an token embedding which is summed with the positional embedding. \n",
    "The position of each token is simply encoded by their embedded position number, e.g. (0, 1, 2, 3, ...)\n",
    "\n",
    "The output of this summation is the input to the decoder layers. Afterwards the output is put through a dropout and normalization layer."
   ]
  },
  {
   "cell_type": "code",
   "execution_count": 18,
   "metadata": {},
   "outputs": [],
   "source": [
    "class DecoderBlock(tf.keras.layers.Layer):\n",
    "  def __init__(self, num_layers, d_model, num_heads, dff, vocab_size,\n",
    "               maximum_position_encoding, rate=0.1):\n",
    "    super(DecoderBlock, self).__init__()\n",
    "\n",
    "    self.d_model = d_model\n",
    "    self.num_layers = num_layers\n",
    "    \n",
    "    self.tok_embedding = tf.keras.layers.Embedding(vocab_size, d_model)\n",
    "    self.pos_embedding = tf.keras.layers.Embedding(maximum_position_encoding, d_model)                                            \n",
    "        \n",
    "    self.enc_layers = [DecoderLayer(d_model, num_heads, dff, rate) \n",
    "                       for _ in range(num_layers)]\n",
    "  \n",
    "    self.dropout = tf.keras.layers.Dropout(rate)\n",
    "    self.layer_norm = tf.keras.layers.LayerNormalization(epsilon=1e-6)\n",
    "        \n",
    "  def call(self, x, training, mask):\n",
    "\n",
    "    batch = tf.shape(x)[0]\n",
    "    seq_len = tf.shape(x)[1]\n",
    "    attention_weights = {}  \n",
    "\n",
    "    # token and positional embedding\n",
    "    positions = tf.expand_dims(tf.range(seq_len), axis=0)\n",
    "    x = self.tok_embedding(x)  # (batch_size, input_seq_len, d_model)\n",
    "    x = x + tf.tile(self.pos_embedding(positions), [batch, 1, 1])  # (batch_size, input_seq_len, d_model)\n",
    "    \n",
    "    # n * decoder layers\n",
    "    for i in range(self.num_layers):\n",
    "      x, attn_w = self.enc_layers[i](x, training, mask)\n",
    "      attention_weights['decoder_layer{}'.format(i+1)] = attn_w\n",
    "\n",
    "    # dropout and layer normalization\n",
    "    x = self.dropout(x, training=training)\n",
    "    x = self.layer_norm(x)\n",
    "              \n",
    "    return x, attention_weights  # (batch_size, input_seq_len, d_model)"
   ]
  },
  {
   "cell_type": "code",
   "execution_count": 19,
   "metadata": {
    "tags": []
   },
   "outputs": [
    {
     "name": "stdout",
     "output_type": "stream",
     "text": [
      "(32, 783, 16)\n"
     ]
    }
   ],
   "source": [
    "sample_encoder = DecoderBlock(num_layers=4, d_model=16, num_heads=2, \n",
    "                         dff=64, vocab_size=8,\n",
    "                         maximum_position_encoding=783)\n",
    "temp_input = tf.random.uniform((32, 783), dtype=tf.int64, minval=0, maxval=8)\n",
    "\n",
    "sample_encoder_output, _ = sample_encoder(temp_input, training=False, mask=True)\n",
    "\n",
    "print (sample_encoder_output.shape)  # (batch_size, input_seq_len, d_model)"
   ]
  },
  {
   "cell_type": "markdown",
   "metadata": {
    "id": "uERO1y54cOKq"
   },
   "source": [
    "## Create the Image Transformer \n",
    "\n",
    "The Image Transformer consists of the encoder and a final linear layer. The output of the decoder is the input to the linear layer.\n",
    "\n",
    "Return the output of the final layer, as well as the attention weights of each Decoder Layer."
   ]
  },
  {
   "cell_type": "code",
   "execution_count": 20,
   "metadata": {
    "id": "PED3bIpOYkBu"
   },
   "outputs": [],
   "source": [
    "class ImageTransformer(tf.keras.Model):\n",
    "  def __init__(self, num_layers, d_model, num_heads, dff,\n",
    "               vocab_size, max_pos_encoding, rate=0.1):\n",
    "    super(ImageTransformer, self).__init__()\n",
    "\n",
    "    self.decoder = DecoderBlock(num_layers, d_model, num_heads, dff, \n",
    "                           vocab_size, max_pos_encoding, rate)\n",
    "\n",
    "    self.final_layer = tf.keras.layers.Dense(vocab_size)\n",
    "    \n",
    "  def call(self, inp, tar, training, mask):\n",
    "\n",
    "    enc_output, attention_weights = self.decoder(inp, training, mask)  # (batch_size, inp_seq_len, d_model)    \n",
    "    \n",
    "    final_output = self.final_layer(enc_output)  # (batch_size, tar_seq_len, target_vocab_size)\n",
    "    \n",
    "    return final_output, attention_weights"
   ]
  },
  {
   "cell_type": "code",
   "execution_count": 21,
   "metadata": {},
   "outputs": [
    {
     "data": {
      "text/plain": [
       "TensorShape([32, 783, 8])"
      ]
     },
     "execution_count": 21,
     "metadata": {},
     "output_type": "execute_result"
    }
   ],
   "source": [
    "sample_transformer = ImageTransformer(\n",
    "    num_layers=8, d_model=64, num_heads=2, dff=256,\n",
    "    vocab_size=8, max_pos_encoding=784)\n",
    "\n",
    "temp_input = tf.random.uniform((32, 783), dtype=tf.int64, minval=0, maxval=8)\n",
    "temp_target = tf.random.uniform((32, 783), dtype=tf.int64, minval=0, maxval=10)\n",
    "\n",
    "fn_out, _ = sample_transformer(temp_input, temp_target, training=False, mask=None)\n",
    "\n",
    "fn_out.shape  # (batch_size, tar_seq_len, target_vocab_size)\n",
    "# from keras.utils.vis_utils import plot_model\n",
    "# sample_transformer.summary()\n",
    "# plot_model(sample_transformer, layer_range=[\"decoder_block_8\", \"dense_423\"], expand_nested=True, show_shapes=True, show_layer_names=True)"
   ]
  },
  {
   "cell_type": "markdown",
   "metadata": {
    "id": "zVjWCxFNcgbt"
   },
   "source": [
    "## Set hyperparameters\n",
    "To keep this example small and relatively fast, the values for *num_layers, d_model, and dff* have been reduced. "
   ]
  },
  {
   "cell_type": "code",
   "execution_count": 22,
   "metadata": {
    "id": "lnJn5SLA2ahP"
   },
   "outputs": [],
   "source": [
    "num_layers = 8\n",
    "d_model = 64\n",
    "dff = 256\n",
    "num_heads = 4\n",
    "\n",
    "vocab_size = len(centroids) # num_centroids\n",
    "max_sequence_length = image_width * image_height\n",
    "dropout_rate = 0.1"
   ]
  },
  {
   "cell_type": "markdown",
   "metadata": {
    "id": "GOmWW--yP3zx"
   },
   "source": [
    "## Optimizer\n",
    "\n",
    "Use the Adam optimizer with a custom learning rate scheduler according to the formula in the [paper](https://arxiv.org/abs/1706.03762).\n",
    "\n",
    "$$\\Large{lrate = d_{model}^{-0.5} * min(step{\\_}num^{-0.5}, step{\\_}num * warmup{\\_}steps^{-1.5})}$$\n"
   ]
  },
  {
   "cell_type": "code",
   "execution_count": 23,
   "metadata": {
    "id": "iYQdOO1axwEI"
   },
   "outputs": [],
   "source": [
    "class CustomSchedule(tf.keras.optimizers.schedules.LearningRateSchedule):\n",
    "  def __init__(self, d_model, warmup_steps=2000):\n",
    "    super(CustomSchedule, self).__init__()\n",
    "    \n",
    "    self.d_model = d_model\n",
    "    self.d_model = tf.cast(self.d_model, tf.float32)\n",
    "\n",
    "    self.warmup_steps = warmup_steps\n",
    "    \n",
    "  def __call__(self, step):\n",
    "    arg1 = tf.math.rsqrt(step)\n",
    "    arg2 = step * (self.warmup_steps ** -1.5)\n",
    "    \n",
    "    return tf.math.rsqrt(self.d_model) * tf.math.minimum(arg1, arg2)"
   ]
  },
  {
   "cell_type": "code",
   "execution_count": 24,
   "metadata": {
    "id": "7r4scdulztRx"
   },
   "outputs": [],
   "source": [
    "learning_rate = CustomSchedule(d_model)\n",
    "\n",
    "optimizer = tf.keras.optimizers.Adam(learning_rate, beta_1=0.9, beta_2=0.95, \n",
    "                                     epsilon=1e-9)"
   ]
  },
  {
   "cell_type": "markdown",
   "metadata": {
    "id": "YgkDE7hzo8r5"
   },
   "source": [
    "## Loss and metrics"
   ]
  },
  {
   "cell_type": "markdown",
   "metadata": {
    "id": "oxGJtoDuYIHL"
   },
   "source": [
    "Since the target sequences are padded, it is important to apply a padding mask when calculating the loss."
   ]
  },
  {
   "cell_type": "code",
   "execution_count": 77,
   "metadata": {
    "id": "MlhsJMm0TW_B"
   },
   "outputs": [],
   "source": [
    "loss_object = tf.keras.losses.SparseCategoricalCrossentropy(\n",
    "    from_logits=True, reduction='sum_over_batch_size')"
   ]
  },
  {
   "cell_type": "code",
   "execution_count": 78,
   "metadata": {
    "id": "phlyxMnm-Tpx"
   },
   "outputs": [],
   "source": [
    "def loss_function(real, pred):\n",
    "  loss_ = loss_object(real, pred)  \n",
    "  return tf.reduce_mean(loss_)\n"
   ]
  },
  {
   "cell_type": "markdown",
   "metadata": {
    "id": "aeHumfr7zmMa"
   },
   "source": [
    "## Training and checkpointing\n",
    "\n",
    "Create a new Image Transformer."
   ]
  },
  {
   "cell_type": "code",
   "execution_count": 79,
   "metadata": {
    "id": "UiysUa--4tOU"
   },
   "outputs": [
    {
     "name": "stdout",
     "output_type": "stream",
     "text": [
      "num_layers: 8, d_model: 64, num_heads: 4, dff: 256, vocab_size: 8, max_pos_encoding: 784, rate: 0.1\n"
     ]
    },
    {
     "name": "stderr",
     "output_type": "stream",
     "text": [
      "2021-10-29 17:58:24.795649: W tensorflow/core/kernels/data/cache_dataset_ops.cc:768] The calling iterator did not fully read the dataset being cached. In order to avoid unexpected truncation of the dataset, the partially cached contents of the dataset  will be discarded. This can happen if you have an input pipeline similar to `dataset.cache().take(k).repeat()`. You should use `dataset.take(k).cache().repeat()` instead.\n"
     ]
    },
    {
     "name": "stdout",
     "output_type": "stream",
     "text": [
      "Model: \"image_transformer_11\"\n",
      "_________________________________________________________________\n",
      "Layer (type)                 Output Shape              Param #   \n",
      "=================================================================\n",
      "decoder_block_12 (DecoderBlo multiple                  450688    \n",
      "_________________________________________________________________\n",
      "dense_615 (Dense)            multiple                  520       \n",
      "=================================================================\n",
      "Total params: 451,208\n",
      "Trainable params: 451,208\n",
      "Non-trainable params: 0\n",
      "_________________________________________________________________\n"
     ]
    },
    {
     "data": {
      "image/png": "[encoded data removed]",
      "text/plain": [
       "<IPython.core.display.Image object>"
      ]
     },
     "execution_count": 79,
     "metadata": {},
     "output_type": "execute_result"
    }
   ],
   "source": [
    "transformer = ImageTransformer(num_layers, d_model, num_heads, dff, vocab_size,\n",
    "                          max_pos_encoding=max_sequence_length, \n",
    "                          rate=dropout_rate)\n",
    "print(f'num_layers: {num_layers}, d_model: {d_model}, num_heads: {num_heads}, dff: {dff}, vocab_size: {vocab_size}, max_pos_encoding: {max_sequence_length}, rate: {dropout_rate}')\n",
    "transformer(*next(iter(train_dataset)), mask=True)\n",
    "transformer.summary()\n",
    "from keras.utils.vis_utils import plot_model\n",
    "plot_model(transformer, expand_nested=True, show_shapes=True, show_layer_names=True)"
   ]
  },
  {
   "cell_type": "markdown",
   "metadata": {
    "id": "Fzuf06YZp66w"
   },
   "source": [
    "Create the checkpoint path and the checkpoint manager. This will be used to save checkpoints every `n` epochs."
   ]
  },
  {
   "cell_type": "code",
   "execution_count": 80,
   "metadata": {
    "id": "hNhuYfllndLZ",
    "tags": []
   },
   "outputs": [],
   "source": [
    "checkpoint_path = \"./checkpoints/train\"\n",
    "\n",
    "ckpt = tf.train.Checkpoint(transformer=transformer,\n",
    "                           optimizer=optimizer)\n",
    "\n",
    "ckpt_manager = tf.train.CheckpointManager(ckpt, checkpoint_path, max_to_keep=5)"
   ]
  },
  {
   "cell_type": "markdown",
   "metadata": {},
   "source": [
    "If a checkpoint exists, restore the latest checkpoint. Skip if you want to retrain the model from the beginning."
   ]
  },
  {
   "cell_type": "code",
   "execution_count": 36,
   "metadata": {},
   "outputs": [
    {
     "name": "stdout",
     "output_type": "stream",
     "text": [
      "Latest checkpoint restored!!\n"
     ]
    }
   ],
   "source": [
    "if ckpt_manager.latest_checkpoint:\n",
    " ckpt.restore(ckpt_manager.latest_checkpoint)\n",
    " print ('Latest checkpoint restored!!')"
   ]
  },
  {
   "cell_type": "code",
   "execution_count": 81,
   "metadata": {
    "id": "iJwmp9OE29oj"
   },
   "outputs": [],
   "source": [
    "# The @tf.function trace-compiles train_step into a TF graph for faster\n",
    "# execution. The function specializes to the precise shape of the argument\n",
    "# tensors. To avoid re-tracing due to the variable sequence lengths or variable\n",
    "# batch sizes (the last batch is smaller), use input_signature to specify\n",
    "# more generic shapes.\n",
    "\n",
    "train_step_signature = [\n",
    "    tf.TensorSpec(shape=(None, None), dtype=tf.int64),\n",
    "    tf.TensorSpec(shape=(None), dtype=tf.int64),\n",
    "]\n",
    "\n",
    "@tf.function(input_signature=train_step_signature)\n",
    "def train_step(inp, tar):  \n",
    "  # add start of sequence token\n",
    "  tar_inp = inp[:, :-1]\n",
    "  tar_real = inp[:, 1:]\n",
    "  \n",
    "  with tf.GradientTape() as tape:\n",
    "    predictions, _ = transformer(tar_inp, tar, \n",
    "                                 training=True, \n",
    "                                 mask=True)\n",
    "    loss = loss_object(tar_real, predictions)\n",
    "\n",
    "  gradients = tape.gradient(loss, transformer.trainable_variables)    \n",
    "  optimizer.apply_gradients(zip(gradients, transformer.trainable_variables))\n",
    "  \n",
    "  return loss"
   ]
  },
  {
   "cell_type": "code",
   "execution_count": 83,
   "metadata": {
    "id": "bbvmaKNiznHZ",
    "tags": []
   },
   "outputs": [
    {
     "data": {
      "application/vnd.jupyter.widget-view+json": {
       "model_id": "783d87477bdf4b5bab8d3861af9c78b5",
       "version_major": 2,
       "version_minor": 0
      },
      "text/plain": [
       "Training progress:   0%|          | 0/10 [00:00<?, ?it/s]"
      ]
     },
     "metadata": {},
     "output_type": "display_data"
    },
    {
     "data": {
      "application/vnd.jupyter.widget-view+json": {
       "model_id": "6afdab71b93f4e5eb0230d79af1c1162",
       "version_major": 2,
       "version_minor": 0
      },
      "text/plain": [
       "Epoch 1: 0it [00:00, ?it/s]"
      ]
     },
     "metadata": {},
     "output_type": "display_data"
    },
    {
     "ename": "KeyboardInterrupt",
     "evalue": "",
     "output_type": "error",
     "traceback": [
      "\u001b[0;31m---------------------------------------------------------------------------\u001b[0m",
      "\u001b[0;31mKeyboardInterrupt\u001b[0m                         Traceback (most recent call last)",
      "\u001b[0;32m/tmp/ipykernel_1130987/718586293.py\u001b[0m in \u001b[0;36m<module>\u001b[0;34m\u001b[0m\n\u001b[1;32m      7\u001b[0m   \u001b[0;32mfor\u001b[0m \u001b[0;34m(\u001b[0m\u001b[0mbatch\u001b[0m\u001b[0;34m,\u001b[0m \u001b[0;34m(\u001b[0m\u001b[0minp\u001b[0m\u001b[0;34m,\u001b[0m \u001b[0mtar\u001b[0m\u001b[0;34m)\u001b[0m\u001b[0;34m)\u001b[0m \u001b[0;32min\u001b[0m \u001b[0mbatch_pb\u001b[0m\u001b[0;34m:\u001b[0m\u001b[0;34m\u001b[0m\u001b[0;34m\u001b[0m\u001b[0m\n\u001b[1;32m      8\u001b[0m     \u001b[0mloss\u001b[0m \u001b[0;34m=\u001b[0m \u001b[0mtrain_step\u001b[0m\u001b[0;34m(\u001b[0m\u001b[0minp\u001b[0m\u001b[0;34m,\u001b[0m \u001b[0mtar\u001b[0m\u001b[0;34m)\u001b[0m\u001b[0;34m\u001b[0m\u001b[0;34m\u001b[0m\u001b[0m\n\u001b[0;32m----> 9\u001b[0;31m     \u001b[0mbatch_pb\u001b[0m\u001b[0;34m.\u001b[0m\u001b[0mset_postfix_str\u001b[0m\u001b[0;34m(\u001b[0m\u001b[0;34mf'Loss: {loss:.4f}, Learning rate: {optimizer._decayed_lr(tf.float32):.5f}'\u001b[0m\u001b[0;34m)\u001b[0m\u001b[0;34m\u001b[0m\u001b[0;34m\u001b[0m\u001b[0m\n\u001b[0m\u001b[1;32m     10\u001b[0m \u001b[0;34m\u001b[0m\u001b[0m\n\u001b[1;32m     11\u001b[0m   \u001b[0;32mif\u001b[0m \u001b[0;34m(\u001b[0m\u001b[0mepoch\u001b[0m \u001b[0;34m+\u001b[0m \u001b[0;36m1\u001b[0m\u001b[0;34m)\u001b[0m \u001b[0;34m%\u001b[0m \u001b[0;36m1\u001b[0m \u001b[0;34m==\u001b[0m \u001b[0;36m0\u001b[0m\u001b[0;34m:\u001b[0m\u001b[0;34m\u001b[0m\u001b[0;34m\u001b[0m\u001b[0m\n",
      "\u001b[0;32m~/conditional-mnist/env/lib/python3.8/site-packages/tensorflow/python/framework/ops.py\u001b[0m in \u001b[0;36m__format__\u001b[0;34m(self, format_spec)\u001b[0m\n\u001b[1;32m   1010\u001b[0m \u001b[0;34m\u001b[0m\u001b[0m\n\u001b[1;32m   1011\u001b[0m   \u001b[0;32mdef\u001b[0m \u001b[0m__format__\u001b[0m\u001b[0;34m(\u001b[0m\u001b[0mself\u001b[0m\u001b[0;34m,\u001b[0m \u001b[0mformat_spec\u001b[0m\u001b[0;34m)\u001b[0m\u001b[0;34m:\u001b[0m\u001b[0;34m\u001b[0m\u001b[0;34m\u001b[0m\u001b[0m\n\u001b[0;32m-> 1012\u001b[0;31m     \u001b[0;32mreturn\u001b[0m \u001b[0mself\u001b[0m\u001b[0;34m.\u001b[0m\u001b[0m_numpy\u001b[0m\u001b[0;34m(\u001b[0m\u001b[0;34m)\u001b[0m\u001b[0;34m.\u001b[0m\u001b[0m__format__\u001b[0m\u001b[0;34m(\u001b[0m\u001b[0mformat_spec\u001b[0m\u001b[0;34m)\u001b[0m\u001b[0;34m\u001b[0m\u001b[0;34m\u001b[0m\u001b[0m\n\u001b[0m\u001b[1;32m   1013\u001b[0m \u001b[0;34m\u001b[0m\u001b[0m\n\u001b[1;32m   1014\u001b[0m   \u001b[0;32mdef\u001b[0m \u001b[0m__reduce__\u001b[0m\u001b[0;34m(\u001b[0m\u001b[0mself\u001b[0m\u001b[0;34m)\u001b[0m\u001b[0;34m:\u001b[0m\u001b[0;34m\u001b[0m\u001b[0;34m\u001b[0m\u001b[0m\n",
      "\u001b[0;32m~/conditional-mnist/env/lib/python3.8/site-packages/tensorflow/python/framework/ops.py\u001b[0m in \u001b[0;36m_numpy\u001b[0;34m(self)\u001b[0m\n\u001b[1;32m   1058\u001b[0m   \u001b[0;32mdef\u001b[0m \u001b[0m_numpy\u001b[0m\u001b[0;34m(\u001b[0m\u001b[0mself\u001b[0m\u001b[0;34m)\u001b[0m\u001b[0;34m:\u001b[0m\u001b[0;34m\u001b[0m\u001b[0;34m\u001b[0m\u001b[0m\n\u001b[1;32m   1059\u001b[0m     \u001b[0;32mtry\u001b[0m\u001b[0;34m:\u001b[0m\u001b[0;34m\u001b[0m\u001b[0;34m\u001b[0m\u001b[0m\n\u001b[0;32m-> 1060\u001b[0;31m       \u001b[0;32mreturn\u001b[0m \u001b[0mself\u001b[0m\u001b[0;34m.\u001b[0m\u001b[0m_numpy_internal\u001b[0m\u001b[0;34m(\u001b[0m\u001b[0;34m)\u001b[0m\u001b[0;34m\u001b[0m\u001b[0;34m\u001b[0m\u001b[0m\n\u001b[0m\u001b[1;32m   1061\u001b[0m     \u001b[0;32mexcept\u001b[0m \u001b[0mcore\u001b[0m\u001b[0;34m.\u001b[0m\u001b[0m_NotOkStatusException\u001b[0m \u001b[0;32mas\u001b[0m \u001b[0me\u001b[0m\u001b[0;34m:\u001b[0m  \u001b[0;31m# pylint: disable=protected-access\u001b[0m\u001b[0;34m\u001b[0m\u001b[0;34m\u001b[0m\u001b[0m\n\u001b[1;32m   1062\u001b[0m       \u001b[0msix\u001b[0m\u001b[0;34m.\u001b[0m\u001b[0mraise_from\u001b[0m\u001b[0;34m(\u001b[0m\u001b[0mcore\u001b[0m\u001b[0;34m.\u001b[0m\u001b[0m_status_to_exception\u001b[0m\u001b[0;34m(\u001b[0m\u001b[0me\u001b[0m\u001b[0;34m.\u001b[0m\u001b[0mcode\u001b[0m\u001b[0;34m,\u001b[0m \u001b[0me\u001b[0m\u001b[0;34m.\u001b[0m\u001b[0mmessage\u001b[0m\u001b[0;34m)\u001b[0m\u001b[0;34m,\u001b[0m \u001b[0;32mNone\u001b[0m\u001b[0;34m)\u001b[0m  \u001b[0;31m# pylint: disable=protected-access\u001b[0m\u001b[0;34m\u001b[0m\u001b[0;34m\u001b[0m\u001b[0m\n",
      "\u001b[0;31mKeyboardInterrupt\u001b[0m: "
     ]
    }
   ],
   "source": [
    "EPOCHS = 10\n",
    "\n",
    "epoch_pb = tqdm(range(EPOCHS), desc=f'Training progress')\n",
    "for epoch in epoch_pb:  \n",
    "  \n",
    "  batch_pb = tqdm(enumerate(train_dataset), desc=f'Epoch {epoch+1}')\n",
    "  for (batch, (inp, tar)) in batch_pb:\n",
    "    loss = train_step(inp, tar)\n",
    "    batch_pb.set_postfix_str(f'Loss: {loss:.4f}, Learning rate: {optimizer._decayed_lr(tf.float32):.5f}')\n",
    "      \n",
    "  if (epoch + 1) % 1 == 0:\n",
    "    ckpt_save_path = ckpt_manager.save()"
   ]
  },
  {
   "cell_type": "markdown",
   "metadata": {},
   "source": [
    "## Evaluate\n",
    "Remove half of the image values and restore them iteratively by the outputs of the image transformer."
   ]
  },
  {
   "cell_type": "code",
   "execution_count": 84,
   "metadata": {
    "id": "5buvMlnvyrFm"
   },
   "outputs": [],
   "source": [
    "eval_step_signature = [\n",
    "    tf.TensorSpec(shape=(None, None), dtype=tf.int64),\n",
    "    tf.TensorSpec(shape=(None), dtype=tf.int64),\n",
    "]\n",
    "\n",
    "@tf.function(input_signature=eval_step_signature)\n",
    "def call_transformer(inp, tar):\n",
    "    return transformer(inp, tar, training=False, mask=True)\n",
    "\n",
    "def evaluate(inp_sequence):\n",
    "\n",
    "  # remove half of the input \n",
    "  idx = int(inp_sequence.shape[-1] / 2) \n",
    "  seq = inp_sequence[:, :idx]\n",
    "\n",
    "  # create target and transform to batched shape\n",
    "  target = tf.expand_dims(tf.cast([0], dtype=tf.int64), axis=0)\n",
    "  target = tf.tile(target, [seq.shape[0], 1])\n",
    "\n",
    "  for _ in tqdm(range(idx)):\n",
    "    logits, _ = call_transformer(seq, target)\n",
    "    # apply softmax on the logits and return the result\n",
    "    predictions = tf.random.categorical(logits[:, -1], 1, dtype=tf.int64)\n",
    "    # append prediction\n",
    "    seq = tf.concat([seq, predictions], axis=-1)\n",
    "\n",
    "  return seq\n",
    "\n",
    "def process_batch(inp_sequence):\n",
    "  idx = int(inp_sequence.shape[-1] / 2) \n",
    "  halfseq = inp_sequence[:, :idx]\n",
    "  showSeq(halfseq, (image_width//2, image_height), inp_sequence.shape[0], cmap='gray')\n",
    "  showSeq(inp_sequence, (image_width, image_height), inp_sequence.shape[0], cmap='gray')\n",
    "  result_seq = evaluate(inp_sequence)\n",
    "  showSeq(result_seq, (image_width, image_height), inp_sequence.shape[0], cmap='gray')"
   ]
  },
  {
   "cell_type": "code",
   "execution_count": 87,
   "metadata": {
    "id": "YsxrAlvFG8SZ",
    "tags": []
   },
   "outputs": [
    {
     "name": "stderr",
     "output_type": "stream",
     "text": [
      "2021-11-01 11:12:08.195746: W tensorflow/core/kernels/data/cache_dataset_ops.cc:768] The calling iterator did not fully read the dataset being cached. In order to avoid unexpected truncation of the dataset, the partially cached contents of the dataset  will be discarded. This can happen if you have an input pipeline similar to `dataset.cache().take(k).repeat()`. You should use `dataset.take(k).cache().repeat()` instead.\n",
      "2021-11-01 11:12:08.197794: W tensorflow/core/kernels/data/cache_dataset_ops.cc:768] The calling iterator did not fully read the dataset being cached. In order to avoid unexpected truncation of the dataset, the partially cached contents of the dataset  will be discarded. This can happen if you have an input pipeline similar to `dataset.cache().take(k).repeat()`. You should use `dataset.take(k).cache().repeat()` instead.\n"
     ]
    },
    {
     "data": {
      "image/png": "[encoded data removed]",
      "text/plain": [
       "<Figure size 2160x216 with 10 Axes>"
      ]
     },
     "metadata": {
      "needs_background": "light"
     },
     "output_type": "display_data"
    },
    {
     "data": {
      "image/png": "[encoded data removed]",
      "text/plain": [
       "<Figure size 2160x216 with 10 Axes>"
      ]
     },
     "metadata": {
      "needs_background": "light"
     },
     "output_type": "display_data"
    },
    {
     "data": {
      "application/vnd.jupyter.widget-view+json": {
       "model_id": "f8198114343747cb9054259f730d22f0",
       "version_major": 2,
       "version_minor": 0
      },
      "text/plain": [
       "  0%|          | 0/392 [00:00<?, ?it/s]"
      ]
     },
     "metadata": {},
     "output_type": "display_data"
    },
    {
     "data": {
      "image/png": "[encoded data removed]",
      "text/plain": [
       "<Figure size 2160x216 with 10 Axes>"
      ]
     },
     "metadata": {
      "needs_background": "light"
     },
     "output_type": "display_data"
    }
   ],
   "source": [
    "batch = next(iter(val_dataset))\n",
    "process_batch(batch[0][0:10])"
   ]
  },
  {
   "cell_type": "markdown",
   "metadata": {},
   "source": [
    "## What's next?\n",
    "\n",
    "To explore the model further you can examine one of the following points:\n",
    "\n",
    "- Change the hyperparameters: e.g. the number of layers from 8 to 24 - do not forget to adjust the batch size such that the model still fits into your memory.\n",
    "- Use a different dataset: e.g. 'cifar10' - do not forget to adjust the image size variables and recompute the centroids, change the centroids size to a bigger number (128).\n",
    "- Add a classification head: only the generative pretraining is implemented, yet. Add a final dense layer and a classification loss. First run the model with a generative loss only, than run it a second time with a mixed classification and generative loss to classify the inputs.\n",
    "- Use a different learning rate schedule or activation function: the original ImageGPT paper used a cosine schedule with no dropout and a gelu activation function."
   ]
  },
  {
   "cell_type": "markdown",
   "metadata": {},
   "source": [
    "## Further reading\n",
    "\n",
    "- [Transformers Tutorial](https://www.tensorflow.org/tutorials/text/transformer) - In depth tutorial on transformers in TF2.\n",
    "\n",
    "- [Illustrated Transformers Guide](http://jalammar.github.io/illustrated-transformer/) - Quick and intuitive explanation of transformers.\n",
    "\n",
    "- [Image GPT Blog](https://openai.com/blog/image-gpt/) - original ImageGPT by Chen et al.\n",
    "\n",
    "- [ImageGPT in PyTorch](https://github.com/teddykoker/image-gpt) - an implementation of the code above for PyTorch\n"
   ]
  },
  {
   "cell_type": "code",
   "execution_count": null,
   "metadata": {},
   "outputs": [],
   "source": []
  }
 ],
 "metadata": {
  "accelerator": "GPU",
  "colab": {
   "collapsed_sections": [
    "s_qNSzzyaCbD"
   ],
   "name": "transformer.ipynb",
   "toc_visible": true
  },
  "kernelspec": {
   "display_name": "Python 3 (ipykernel)",
   "language": "python",
   "name": "python3"
  },
  "language_info": {
   "codemirror_mode": {
    "name": "ipython",
    "version": 3
   },
   "file_extension": ".py",
   "mimetype": "text/x-python",
   "name": "python",
   "nbconvert_exporter": "python",
   "pygments_lexer": "ipython3",
   "version": "3.8.12"
  }
 },
 "nbformat": 4,
 "nbformat_minor": 4
}
