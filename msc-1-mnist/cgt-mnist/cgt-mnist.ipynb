{
 "cells": [
  {
   "cell_type": "markdown",
   "id": "6dee3ae3-fbbe-42aa-abd2-96ff6bcf38e4",
   "metadata": {},
   "source": [
    "# Conditional generative transformer: MNIST demo\n",
    "\n",
    "Based off https://github.com/GregorKobsik/ImageTransformer\n",
    "\n",
    "- mnist dataset\n",
    "    - quantize to 8 values\n",
    "    - random masking\n",
    "- model\n",
    "    - attention mask so that each pixel doesn't get itself as input?\n",
    "    - predict output distribution for particular pixel\n",
    "- training\n",
    "    - learning rate schedule"
   ]
  },
  {
   "cell_type": "code",
   "execution_count": 1,
   "id": "4c53df5c-78a7-4707-9552-7c9171e32ed9",
   "metadata": {},
   "outputs": [
    {
     "name": "stdin",
     "output_type": "stream",
     "text": [
      " 3gpu\n"
     ]
    },
    {
     "name": "stdout",
     "output_type": "stream",
     "text": [
      "\n"
     ]
    }
   ],
   "source": [
    "model_name = input()\n",
    "print()\n",
    "new_kernel = True\n",
    "\n",
    "use_wandb = True\n",
    "if use_wandb:"
   ]
  },
  {
   "cell_type": "code",
   "execution_count": 2,
   "id": "5740aeb7-c7ad-4af0-8f85-525a98cc44f5",
   "metadata": {},
   "outputs": [],
   "source": [
    "config = {\n",
    "    'minibatch_size': 128,\n",
    "    'num_devices': 3,\n",
    "    'test_minibatch_size': 10,\n",
    "    'n_colors': 3,\n",
    "    'model': {\n",
    "        'n_enc_a_layers': 8,\n",
    "        'ffl_dim': 200,\n",
    "        'embd_dim': 128,\n",
    "        'n_heads': 4,\n",
    "        'dropout_rate': 0.1,\n",
    "        'use_idxs_input': True,\n",
    "    },\n",
    "    'dataset': {\n",
    "        'buffer_size': 10000,\n",
    "    },\n",
    "    'lr_schedule': 'exponential',\n",
    "    'lr_warmup_steps': 300,\n",
    "    'max_lr': 0.004,\n",
    "    'min_lr': 0.000001,\n",
    "    'batch_size_schedule': None,\n",
    "    'start_accum_steps': 1,\n",
    "    'end_accum_steps': 4,\n",
    "    'steps_per_epoch': 300,\n",
    "    'n_epochs': 400,\n",
    "    'seq_length': 784,\n",
    "    'wandb_log_interval': 10,\n",
    "}"
   ]
  },
  {
   "cell_type": "code",
   "execution_count": 3,
   "id": "8541efbc-9c69-4d57-89e4-ebdeab69d710",
   "metadata": {},
   "outputs": [
    {
     "name": "stderr",
     "output_type": "stream",
     "text": [
      "\u001b[34m\u001b[1mwandb\u001b[0m: Currently logged in as: \u001b[33mmaxeonyx\u001b[0m (use `wandb login --relogin` to force relogin)\n",
      "/am/monterey/home1/clarkemaxw/.cache/pypoetry/virtualenvs/msc-4QRxScII-py3.8/lib/python3.8/site-packages/IPython/html.py:12: ShimWarning: The `IPython.html` package has been deprecated since IPython 4.0. You should import from `notebook` instead. `IPython.html.widgets` has moved to `ipywidgets`.\n",
      "  warn(\"The `IPython.html` package has been deprecated since IPython 4.0. \"\n",
      "\u001b[34m\u001b[1mwandb\u001b[0m: wandb version 0.12.6 is available!  To upgrade, please run:\n",
      "\u001b[34m\u001b[1mwandb\u001b[0m:  $ pip install wandb --upgrade\n"
     ]
    },
    {
     "data": {
      "text/html": [
       "\n",
       "                    Syncing run <strong><a href=\"https://wandb.ai/maxeonyx/cgt-mnist/runs/2hskfjb9\" target=\"_blank\">3gpu-2n6o2hym</a></strong> to <a href=\"https://wandb.ai/maxeonyx/cgt-mnist\" target=\"_blank\">Weights & Biases</a> (<a href=\"https://docs.wandb.com/integrations/jupyter.html\" target=\"_blank\">docs</a>).<br/>\n",
       "\n",
       "                "
      ],
      "text/plain": [
       "<IPython.core.display.HTML object>"
      ]
     },
     "metadata": {},
     "output_type": "display_data"
    }
   ],
   "source": [
    "if use_wandb:\n",
    "    resume = not new_kernel\n",
    "    wandb.init(project='cgt-mnist', entity='maxeonyx', name=model_name + '-' + wandb_id, config=config, resume=resume)"
   ]
  },
  {
   "cell_type": "code",
   "execution_count": 4,
   "id": "43453531-6931-4e17-bd71-4a32007b6b5d",
   "metadata": {},
   "outputs": [
    {
     "name": "stdout",
     "output_type": "stream",
     "text": [
      "[PhysicalDevice(name='/physical_device:GPU:0', device_type='GPU'), PhysicalDevice(name='/physical_device:GPU:1', device_type='GPU'), PhysicalDevice(name='/physical_device:GPU:2', device_type='GPU')]\n"
     ]
    }
   ],
   "source": [
    "import os\n",
    "\n",
    "import tensorflow as tf\n",
    "# https://stackoverflow.com/a/60699372/7989988\n",
    "physical_devices = tf.config.list_physical_devices('GPU')\n",
    "print(physical_devices)\n",
    "assert len(physical_devices) == 3\n",
    "tf.config.experimental.set_memory_growth(physical_devices[0], True)\n",
    "tf.config.experimental.set_memory_growth(physical_devices[1], True)\n",
    "tf.config.experimental.set_memory_growth(physical_devices[2], True)\n",
    "import numpy as np\n",
    "from tensorflow import keras\n",
    "from tensorflow.keras import Model, Input, layers\n",
    "from IPython.display import display\n",
    "import tensorflow_datasets as tfds\n",
    "import time\n",
    "import matplotlib.pyplot as plt\n",
    "import enlighten\n",
    "import tensorflow_probability as tfp"
   ]
  },
  {
   "cell_type": "code",
   "execution_count": 5,
   "id": "b798f404-f9b6-4145-b04d-e518ef47f6d6",
   "metadata": {},
   "outputs": [
    {
     "name": "stderr",
     "output_type": "stream",
     "text": [
      "2021-11-12 13:33:31.967175: I tensorflow/core/platform/cpu_feature_guard.cc:142] This TensorFlow binary is optimized with oneAPI Deep Neural Network Library (oneDNN) to use the following CPU instructions in performance-critical operations:  AVX2 AVX512F FMA\n",
      "To enable them in other operations, rebuild TensorFlow with the appropriate compiler flags.\n",
      "2021-11-12 13:33:32.466342: I tensorflow/core/common_runtime/gpu/gpu_device.cc:1510] Created device /job:localhost/replica:0/task:0/device:GPU:0 with 22360 MB memory:  -> device: 0, name: NVIDIA RTX A5000, pci bus id: 0000:3b:00.0, compute capability: 8.6\n",
      "2021-11-12 13:33:32.540313: I tensorflow/compiler/mlir/mlir_graph_optimization_pass.cc:185] None of the MLIR Optimization Passes are enabled (registered 2)\n",
      "2021-11-12 13:33:32.577746: W tensorflow/core/kernels/data/cache_dataset_ops.cc:768] The calling iterator did not fully read the dataset being cached. In order to avoid unexpected truncation of the dataset, the partially cached contents of the dataset  will be discarded. This can happen if you have an input pipeline similar to `dataset.cache().take(k).repeat()`. You should use `dataset.take(k).cache().repeat()` instead.\n"
     ]
    },
    {
     "data": {
      "image/png": "[encoded data removed]",
      "text/plain": [
       "<Figure size 648x648 with 3 Axes>"
      ]
     },
     "metadata": {},
     "output_type": "display_data"
    },
    {
     "name": "stderr",
     "output_type": "stream",
     "text": [
      "2021-11-12 13:33:32.829752: W tensorflow/core/kernels/data/cache_dataset_ops.cc:768] The calling iterator did not fully read the dataset being cached. In order to avoid unexpected truncation of the dataset, the partially cached contents of the dataset  will be discarded. This can happen if you have an input pipeline similar to `dataset.cache().take(k).repeat()`. You should use `dataset.take(k).cache().repeat()` instead.\n"
     ]
    },
    {
     "data": {
      "image/png": "[encoded data removed]",
      "text/plain": [
       "<Figure size 648x648 with 3 Axes>"
      ]
     },
     "metadata": {},
     "output_type": "display_data"
    }
   ],
   "source": [
    "dataset, metadata = tfds.load('mnist', with_info=True, as_supervised=True)\n",
    "\n",
    "dataset_train_original = dataset['train']\n",
    "dataset_test_original = dataset['test']\n",
    "\n",
    "image_width=28\n",
    "image_height=28\n",
    "\n",
    "fig = tfds.show_examples(dataset_train_original.take(3), metadata)\n",
    "fig = tfds.show_examples(dataset_test_original.take(3), metadata)"
   ]
  },
  {
   "cell_type": "code",
   "execution_count": 36,
   "id": "c833c8c7-cd8a-4d0f-bdf0-a5b11dc4ab44",
   "metadata": {},
   "outputs": [
    {
     "data": {
      "text/html": [
       "<style>\n",
       "</style>\n",
       "<div class=\"enlighten\">\n",
       "  <div class=\"enlighten-bar\">\n",
       "    <pre>                          K-Means clustering to make 3-color MNIST Dataset                          </pre>\n",
       "  </div>\n",
       "  <div class=\"enlighten-bar\">\n",
       "    <pre>cen. 0    cen. 1    cen. 2                                                                          </pre>\n",
       "  </div>\n",
       "  <div class=\"enlighten-bar\">\n",
       "    <pre>0.004     0.476     0.949                                                                           </pre>\n",
       "  </div>\n",
       "  <div class=\"enlighten-bar\">\n",
       "    <pre>Discretize to 8 colors 100%|███████████████████████████████| 60/60 [00:18&lt;00:00, 3.25 minibatches/s]</pre>\n",
       "  </div>\n",
       "</div>\n"
      ],
      "text/plain": [
       "<IPython.core.display.HTML object>"
      ]
     },
     "metadata": {},
     "output_type": "display_data"
    },
    {
     "name": "stdout",
     "output_type": "stream",
     "text": [
      "(3, 1)\n"
     ]
    }
   ],
   "source": [
    "from sklearn.cluster import MiniBatchKMeans\n",
    "\n",
    "def normalize_image(image, label):\n",
    "    return tf.cast(image, dtype=tf.float16) / 255.0, label\n",
    "\n",
    "def find_centroids(ds_train, num_clusters, batch_size):\n",
    "    kmeans = MiniBatchKMeans(n_clusters=num_clusters, random_state=0, batch_size=batch_size, verbose=True)\n",
    "    ds_batched = ds_train.batch(batch_size)\n",
    "    with enlighten.get_manager() as manager:\n",
    "        title = manager.status_bar(f\"K-Means clustering to make {num_clusters}-color MNIST Dataset\", justify=enlighten.Justify.CENTER)\n",
    "        clusters_names = manager.status_bar(''.join('{:<10}'.format(f\"cen. {i}\") for i in range(num_clusters)))\n",
    "        clusters_status = manager.status_bar(''.join('{:<10}'.format('??????') for _ in range(num_clusters)))\n",
    "        pbar = manager.counter(total=60000//batch_size, desc='Discretize to 8 colors', unit='minibatches')\n",
    "        for img, _ in pbar(iter(ds_batched)):\n",
    "            pixels = img.numpy().reshape(-1, 1)\n",
    "            kmeans.partial_fit(pixels)\n",
    "            clusters_status.update(''.join('{:<10.3f}'.format(x[0]) for x in np.sort(kmeans.cluster_centers_, axis=0)))\n",
    "\n",
    "        return kmeans.cluster_centers_\n",
    "\n",
    "centroids = find_centroids(dataset_train_original.map(normalize_image), num_clusters=config['n_colors'], batch_size=1000)\n",
    "centroids = tf.convert_to_tensor(np.sort(centroids, axis=0), dtype=tf.float16)\n",
    "print(centroids.shape)"
   ]
  },
  {
   "cell_type": "code",
   "execution_count": 37,
   "id": "a7af27be-07b7-4920-9fc1-83794ae8b430",
   "metadata": {},
   "outputs": [
    {
     "name": "stdout",
     "output_type": "stream",
     "text": [
      "tf.Tensor(\n",
      "[305 132  42 199 144 599 577  81 472  20 103 272  29 114  19 178  79  35\n",
      " 171 344  79  47 200 405 113  24  94  33 522 152  54  85 218  42 286  61\n",
      "  54 323 172  31  28 128 234  19 273   1 340 200  70  26 628  48 338 168\n",
      "  36  42 211 159 258 149 185  57 246  59 152 563 130 392  19 115 371  61\n",
      " 177  19 305  22   2  79  31 229  65  90 248 253  13 142  53  51  23  70\n",
      " 166  25 426 420  85  39  17  74 119 178], shape=(100,), dtype=int32)\n"
     ]
    },
    {
     "name": "stderr",
     "output_type": "stream",
     "text": [
      "/tmp/ipykernel_3748/2074296751.py:17: UserWarning: Matplotlib is currently using module://matplotlib_inline.backend_inline, which is a non-GUI backend, so cannot show the figure.\n",
      "  fig.show()\n",
      "/tmp/ipykernel_3748/2074296751.py:9: UserWarning: Matplotlib is currently using module://matplotlib_inline.backend_inline, which is a non-GUI backend, so cannot show the figure.\n",
      "  fig.show()\n"
     ]
    },
    {
     "data": {
      "image/png": "[encoded data removed]",
      "text/plain": [
       "<Figure size 432x288 with 1 Axes>"
      ]
     },
     "metadata": {
      "needs_background": "light"
     },
     "output_type": "display_data"
    },
    {
     "data": {
      "image/png": "[encoded data removed]",
      "text/plain": [
       "<Figure size 432x288 with 1 Axes>"
      ]
     },
     "metadata": {
      "needs_background": "light"
     },
     "output_type": "display_data"
    }
   ],
   "source": [
    "\n",
    "gamma = tfp.distributions.Gamma(concentration=1.2, rate=0.007)\n",
    "\n",
    "def plot_cdf(dist, name):\n",
    "    x = tf.range(784, dtype=tf.float32)\n",
    "    cdf = dist.cdf(x)\n",
    "    fig, ax = plt.subplots()\n",
    "    ax.plot(tf.range(784), cdf)\n",
    "    ax.set_title(f\"{name} CDF, , distribution of examples by number of pixels.\")\n",
    "    fig.show()\n",
    "\n",
    "def plot_pdf(dist, name):\n",
    "    x = tf.range(784, dtype=tf.float32)\n",
    "    pdf = dist.prob(x)\n",
    "    fig, ax = plt.subplots()\n",
    "    ax.plot(tf.range(784), pdf)\n",
    "    ax.set_title(f\"{name} PDF, , distribution of examples by number of pixels.\")\n",
    "    fig.show()\n",
    "\n",
    "def test_sample(dist):\n",
    "    \n",
    "    return tf.cast(tf.math.minimum(tf.math.round(dist.sample(sample_shape=[100])), 783), tf.int32)\n",
    "\n",
    "plot_pdf(gamma, \"Gamma (alpha=1.2, beta=0.007)\")\n",
    "plot_cdf(gamma, \"Gamma (alpha=1.2, beta=0.007)\")\n",
    "print(test_sample(gamma))"
   ]
  },
  {
   "cell_type": "code",
   "execution_count": 38,
   "id": "bc6d2879-99a8-4ecd-b0d2-fef0a0155c55",
   "metadata": {},
   "outputs": [
    {
     "name": "stdout",
     "output_type": "stream",
     "text": [
      "WARNING:tensorflow:@custom_gradient grad_fn has 'variables' in signature, but no ResourceVariables were used on the forward pass.\n"
     ]
    },
    {
     "name": "stderr",
     "output_type": "stream",
     "text": [
      "WARNING:tensorflow:@custom_gradient grad_fn has 'variables' in signature, but no ResourceVariables were used on the forward pass.\n"
     ]
    }
   ],
   "source": [
    "def squared_euclidean_distance(a, b):\n",
    "    b = tf.transpose(b)        \n",
    "    a2 = tf.math.reduce_sum(tf.math.square(a), axis=1, keepdims=True)\n",
    "    b2 = tf.math.reduce_sum(tf.math.square(b), axis=0, keepdims=True)\n",
    "    ab = tf.linalg.matmul(a, b)\n",
    "    return a2 - 2 * ab + b2\n",
    "\n",
    "def flatten(image, label):\n",
    "    shape = tf.shape(image) # (height, width, color)\n",
    "    sequence = tf.reshape(image, (-1, shape[2])) # (height * width, color)\n",
    "    return sequence, label\n",
    "\n",
    "def quantize(sequence, label):\n",
    "    d = squared_euclidean_distance(sequence, centroids) # (height * width, centroids)\n",
    "    sequence = tf.math.argmin(d, axis=1, output_type=tf.int32)  # (height * width)\n",
    "    return sequence, label\n",
    "\n",
    "def unquantize(x):\n",
    "    x_one_hot = tf.cast(tf.one_hot(x, depth=len(centroids)), dtype=tf.float16)  # (seq, num_centroids)\n",
    "    return tf.linalg.matmul(x_one_hot,centroids)  # (seq, num_features)\n",
    "\n",
    "def shuffle_and_add_indices(sequence, label):\n",
    "    \n",
    "    idxs = tf.range(config['seq_length'], dtype=tf.int32)\n",
    "    idxs = tf.random.shuffle(idxs)\n",
    "    \n",
    "    sequence = tf.gather(sequence, idxs)\n",
    "    \n",
    "    return sequence, idxs, label\n",
    "\n",
    "\n",
    "def add_n_from_distribution(dist):\n",
    "    \n",
    "    def call(batch_sequences, batch_idxs, batch_labels):\n",
    "        # sample single integer between 0 and 783 from given distribution\n",
    "        n = tf.cast(tf.math.minimum(tf.math.round(dist.sample(sample_shape=[])), config['seq_length'] - 1), tf.int32)\n",
    "    \n",
    "        return batch_sequences, batch_idxs, batch_labels, n\n",
    "    \n",
    "    return call\n",
    "\n",
    "def add_indices(sequence, label):\n",
    "    \n",
    "    idxs = tf.range(config['seq_length'], dtype=tf.int32)\n",
    "    \n",
    "    return sequence, idxs, label\n",
    "\n",
    "global_batch_size = config['minibatch_size'] * config['num_devices']\n",
    "\n",
    "dataset_train = (\n",
    "    dataset_train_original\n",
    "    .map(normalize_image)\n",
    "    .map(flatten)\n",
    "    .map(quantize)\n",
    "    .map(shuffle_and_add_indices)\n",
    "    .cache()\n",
    "    .repeat()\n",
    "    .shuffle(config['dataset']['buffer_size'])\n",
    "    .batch(global_batch_size, drop_remainder=True)\n",
    "    # split input and target according to gamma distribution shown above\n",
    "    .map(add_n_from_distribution(gamma))\n",
    "    .prefetch(tf.data.experimental.AUTOTUNE)\n",
    ")\n",
    "dataset_test = (\n",
    "    dataset_test_original\n",
    "    .map(normalize_image)\n",
    "    .map(flatten)\n",
    "    .map(quantize)\n",
    "    .map(add_indices)\n",
    "    .cache()\n",
    "    .batch(config['test_minibatch_size'], drop_remainder=True)\n",
    "    .prefetch(tf.data.experimental.AUTOTUNE)\n",
    ")\n",
    "dataset_test_shuffled = (\n",
    "    dataset_test_original\n",
    "    .map(normalize_image)\n",
    "    .map(flatten)\n",
    "    .map(quantize)\n",
    "    .map(shuffle_and_add_indices)\n",
    "    .cache()\n",
    "    .batch(config['test_minibatch_size'], drop_remainder=True)\n",
    "    .prefetch(tf.data.experimental.AUTOTUNE)\n",
    ")"
   ]
  },
  {
   "cell_type": "code",
   "execution_count": 39,
   "id": "5468d963-4285-4eed-97fc-40178e4f78a7",
   "metadata": {},
   "outputs": [
    {
     "name": "stdout",
     "output_type": "stream",
     "text": [
      "quantized:\n"
     ]
    },
    {
     "name": "stderr",
     "output_type": "stream",
     "text": [
      "2021-11-11 15:26:16.931916: W tensorflow/core/kernels/data/cache_dataset_ops.cc:768] The calling iterator did not fully read the dataset being cached. In order to avoid unexpected truncation of the dataset, the partially cached contents of the dataset  will be discarded. This can happen if you have an input pipeline similar to `dataset.cache().take(k).repeat()`. You should use `dataset.take(k).cache().repeat()` instead.\n"
     ]
    },
    {
     "data": {
      "image/png": "[encoded data removed]",
      "text/plain": [
       "<Figure size 2160x216 with 10 Axes>"
      ]
     },
     "metadata": {
      "needs_background": "light"
     },
     "output_type": "display_data"
    },
    {
     "name": "stdout",
     "output_type": "stream",
     "text": [
      "unquantized:\n"
     ]
    },
    {
     "name": "stderr",
     "output_type": "stream",
     "text": [
      "2021-11-11 15:26:17.454079: W tensorflow/core/kernels/data/cache_dataset_ops.cc:768] The calling iterator did not fully read the dataset being cached. In order to avoid unexpected truncation of the dataset, the partially cached contents of the dataset  will be discarded. This can happen if you have an input pipeline similar to `dataset.cache().take(k).repeat()`. You should use `dataset.take(k).cache().repeat()` instead.\n"
     ]
    },
    {
     "data": {
      "image/png": "[encoded data removed]",
      "text/plain": [
       "<Figure size 2160x216 with 10 Axes>"
      ]
     },
     "metadata": {
      "needs_background": "light"
     },
     "output_type": "display_data"
    },
    {
     "name": "stdout",
     "output_type": "stream",
     "text": [
      "shuffled:\n"
     ]
    },
    {
     "name": "stderr",
     "output_type": "stream",
     "text": [
      "2021-11-11 15:26:17.921449: W tensorflow/core/kernels/data/cache_dataset_ops.cc:768] The calling iterator did not fully read the dataset being cached. In order to avoid unexpected truncation of the dataset, the partially cached contents of the dataset  will be discarded. This can happen if you have an input pipeline similar to `dataset.cache().take(k).repeat()`. You should use `dataset.take(k).cache().repeat()` instead.\n"
     ]
    },
    {
     "data": {
      "image/png": "[encoded data removed]",
      "text/plain": [
       "<Figure size 2160x216 with 10 Axes>"
      ]
     },
     "metadata": {
      "needs_background": "light"
     },
     "output_type": "display_data"
    },
    {
     "name": "stdout",
     "output_type": "stream",
     "text": [
      "unshuffled:\n"
     ]
    },
    {
     "name": "stderr",
     "output_type": "stream",
     "text": [
      "2021-11-11 15:26:18.786985: W tensorflow/core/kernels/data/cache_dataset_ops.cc:768] The calling iterator did not fully read the dataset being cached. In order to avoid unexpected truncation of the dataset, the partially cached contents of the dataset  will be discarded. This can happen if you have an input pipeline similar to `dataset.cache().take(k).repeat()`. You should use `dataset.take(k).cache().repeat()` instead.\n"
     ]
    },
    {
     "data": {
      "image/png": "[encoded data removed]",
      "text/plain": [
       "<Figure size 2160x216 with 10 Axes>"
      ]
     },
     "metadata": {
      "needs_background": "light"
     },
     "output_type": "display_data"
    },
    {
     "data": {
      "image/png": "[encoded data removed]",
      "text/plain": [
       "<Figure size 2160x216 with 10 Axes>"
      ]
     },
     "execution_count": 39,
     "metadata": {},
     "output_type": "execute_result"
    }
   ],
   "source": [
    "def np_showSeq(seq, size, max_images=3, cmap=None):\n",
    "    \"\"\" Show one or more images encoded as sequence. (numpy version)\n",
    "\n",
    "        seq: numpy array of sequences which encode the image. Either a single sequence or multiple sequences.\n",
    "        size: the image size. e.g. (28, 28) for `mnist` images.\n",
    "        max_images: the maximum number of images to display.\n",
    "    \"\"\" \n",
    "    batch = seq.shape[0]\n",
    "    num_show_img = min(max_images, seq.shape[0])\n",
    "    img = np.reshape(seq, (batch, *size, -1))\n",
    "    if img.shape[-1] == 1:\n",
    "        img = np.squeeze(img, axis=-1)    \n",
    "    \n",
    "    fig=plt.figure(figsize=(3*num_show_img, 3))\n",
    "    for i in range(num_show_img):\n",
    "        ax = fig.add_subplot(1, num_show_img, i+1)\n",
    "        ax.set_axis_off()\n",
    "        plt.imshow(img[i], cmap=cmap)\n",
    "    plt.show()\n",
    "    return fig\n",
    "\n",
    "def showSeq(seq, idxs, size, max_images=3, cmap='gray', unshuffle=False, do_unquantize=True):\n",
    "    \"\"\" Show one or more images encoded as sequence. (tensorflow version)\n",
    "\n",
    "        seq: tensor of sequences which encode the image. Either a single sequence or multiple sequences.\n",
    "        size: the image size. e.g. (28, 28) for `mnist` images.\n",
    "        max_images: the maximum number of images to display.\n",
    "    \"\"\"\n",
    "    batch_size = idxs.shape[0]\n",
    "    seq_length = idxs.shape[1]\n",
    "    img_length = size[0]*size[1]\n",
    "    if unshuffle:\n",
    "        batch_idxs = tf.tile(tf.expand_dims(tf.range(batch_size), -1), [1, seq_length])\n",
    "        idxs_nd = tf.concat([tf.expand_dims(batch_idxs, -1), tf.expand_dims(idxs, -1)], axis=-1)\n",
    "        seq = tf.scatter_nd(idxs_nd, seq, [batch_size, img_length])\n",
    "    \n",
    "    if do_unquantize:\n",
    "        seq = tf.map_fn(fn=unquantize, elems=seq, fn_output_signature=tf.float16)\n",
    "    seq = tf.cast(seq, float).numpy()\n",
    "\n",
    "    return np_showSeq(seq, size, max_images, cmap)\n",
    "\n",
    "\n",
    "NUM_SAMPLES = 10\n",
    "\n",
    "ds_test_unquantized = (\n",
    "    dataset_test_original\n",
    "    .map(normalize_image)\n",
    "    .map(flatten)\n",
    "    .map(add_indices)\n",
    "    .batch(NUM_SAMPLES)\n",
    ")\n",
    "ds_test_quantized = (\n",
    "    dataset_test_original\n",
    "    .map(normalize_image)\n",
    "    .map(flatten)\n",
    "    .map(quantize)\n",
    "    .map(add_indices)\n",
    "    .batch(NUM_SAMPLES)\n",
    ")\n",
    "ds_test_shuffled = (\n",
    "    dataset_test_original\n",
    "    .map(normalize_image)\n",
    "    .map(flatten)\n",
    "    .map(quantize)\n",
    "    .map(shuffle_and_add_indices)\n",
    "    .batch(NUM_SAMPLES)\n",
    ")"
   ]
  },
  {
   "cell_type": "code",
   "execution_count": 40,
   "id": "80757007-8c09-4207-8d4f-37db1ff4e45c",
   "metadata": {},
   "outputs": [
    {
     "name": "stdout",
     "output_type": "stream",
     "text": [
      "backward\n",
      "tf.Tensor(\n",
      "[[1. 1. 1. 1. 1. 1. 1.]\n",
      " [0. 1. 1. 1. 1. 1. 1.]\n",
      " [0. 0. 1. 1. 1. 1. 1.]\n",
      " [0. 0. 0. 1. 1. 1. 1.]\n",
      " [0. 0. 0. 0. 1. 1. 1.]\n",
      " [0. 0. 0. 0. 0. 1. 1.]\n",
      " [0. 0. 0. 0. 0. 0. 1.]], shape=(7, 7), dtype=float32)\n",
      "\n",
      "backward_equal\n",
      "tf.Tensor(\n",
      "[[0. 1. 1. 1. 1. 1. 1.]\n",
      " [0. 0. 1. 1. 1. 1. 1.]\n",
      " [0. 0. 0. 1. 1. 1. 1.]\n",
      " [0. 0. 0. 0. 1. 1. 1.]\n",
      " [0. 0. 0. 0. 0. 1. 1.]\n",
      " [0. 0. 0. 0. 0. 0. 1.]\n",
      " [0. 0. 0. 0. 0. 0. 0.]], shape=(7, 7), dtype=float32)\n",
      "\n",
      "forward\n",
      "tf.Tensor(\n",
      "[[1. 0. 0. 0. 0. 0. 0.]\n",
      " [1. 1. 0. 0. 0. 0. 0.]\n",
      " [1. 1. 1. 0. 0. 0. 0.]\n",
      " [1. 1. 1. 1. 0. 0. 0.]\n",
      " [1. 1. 1. 1. 1. 0. 0.]\n",
      " [1. 1. 1. 1. 1. 1. 0.]\n",
      " [1. 1. 1. 1. 1. 1. 1.]], shape=(7, 7), dtype=float32)\n",
      "\n",
      "forward_equal\n",
      "tf.Tensor(\n",
      "[[0. 0. 0. 0. 0. 0. 0.]\n",
      " [1. 0. 0. 0. 0. 0. 0.]\n",
      " [1. 1. 0. 0. 0. 0. 0.]\n",
      " [1. 1. 1. 0. 0. 0. 0.]\n",
      " [1. 1. 1. 1. 0. 0. 0.]\n",
      " [1. 1. 1. 1. 1. 0. 0.]\n",
      " [1. 1. 1. 1. 1. 1. 0.]], shape=(7, 7), dtype=float32)\n",
      "\n"
     ]
    }
   ],
   "source": [
    "def create_look_backward_equal_mask(size_q, size_k):\n",
    "    mask = 1 - tf.linalg.band_part(tf.ones((size_q, size_k)), -1, 0)\n",
    "    return mask  # (size_q, size_k)\n",
    "\n",
    "def create_look_backward_mask(size_q, size_k):\n",
    "    mask = tf.linalg.band_part(tf.ones((size_q, size_k)), 0, -1)\n",
    "    return mask  # (size_q, size_k)\n",
    "\n",
    "def create_look_forward_mask(size_q, size_k):\n",
    "    return tf.transpose(create_look_backward_mask(size_k, size_q))\n",
    "\n",
    "def create_look_forward_equal_mask(size_q, size_k):\n",
    "    return tf.transpose(create_look_backward_equal_mask(size_k, size_q))\n",
    "\n",
    "# No masking. Use for evaluation when input and target have no overlap\n",
    "MASK_NONE = tf.constant(0, dtype=tf.int32)\n",
    "# Normal masking, each token only has access to previous tokens\n",
    "MASK_BACKWARD = tf.constant(1, dtype=tf.int32)\n",
    "# Use for non-offset self-attention, token has access to previous *and* itself\n",
    "MASK_BACKWARD_EQUAL = tf.constant(2, dtype=tf.int32)\n",
    "# Use inside target idx encoder\n",
    "MASK_FORWARD = tf.constant(3, dtype=tf.int32)\n",
    "# Use inside target idx encoder\n",
    "MASK_FORWARD_EQUAL = tf.constant(4, dtype=tf.int32)\n",
    "\n",
    "@tf.function\n",
    "def get_mask(mask_type, seq_len_kv, seq_len_q):\n",
    "    if mask_type == MASK_BACKWARD:\n",
    "        return create_look_backward_mask(seq_len_q, seq_len_kv)\n",
    "    elif mask_type == MASK_BACKWARD_EQUAL:\n",
    "        return create_look_backward_equal_mask(seq_len_q, seq_len_kv)\n",
    "    elif mask_type == MASK_FORWARD:\n",
    "        return create_look_forward_mask(seq_len_q, seq_len_kv)\n",
    "    elif mask_type == MASK_FORWARD_EQUAL:\n",
    "        return create_look_forward_equal_mask(seq_len_q, seq_len_kv)\n",
    "    else:\n",
    "        return tf.zeros((seq_len_q, seq_len_kv))\n",
    "\n",
    "print(\"backward\")\n",
    "print(create_look_backward_mask(7,7))\n",
    "print()\n",
    "print(\"backward_equal\")\n",
    "print(create_look_backward_equal_mask(7,7))\n",
    "print()\n",
    "print(\"forward\")\n",
    "print(create_look_forward_mask(7,7))\n",
    "print()\n",
    "print(\"forward_equal\")\n",
    "print(create_look_forward_equal_mask(7,7))\n",
    "print()"
   ]
  },
  {
   "cell_type": "code",
   "execution_count": 41,
   "id": "1b8ccd56-8f1c-4773-abc3-6c39f478d315",
   "metadata": {},
   "outputs": [],
   "source": [
    "\n",
    "\n",
    "# scale is the max-min of vals\n",
    "# for mnist it's 28 because thats the width and height of the images\n",
    "def dual_positional_encoding(n_dims, length):\n",
    "    one_axis_dim = n_dims//2\n",
    "    i = tf.range(n_dims//4, dtype=tf.float32)\n",
    "    i = tf.expand_dims(i, -2)\n",
    "    scale = tf.pow(length, 2.*i/one_axis_dim)\n",
    "    \n",
    "    def pos_enc(vals):\n",
    "        vals = tf.expand_dims(vals, -1)\n",
    "\n",
    "        # the bit inside the sin / cos\n",
    "        rate = vals / scale\n",
    "        sin = tf.sin(rate)\n",
    "        cos = tf.cos(rate)\n",
    "        encoding = tf.concat([sin, cos], axis=-1)\n",
    "        return encoding\n",
    "    \n",
    "    def call(idxs):\n",
    "        rows = idxs // 28\n",
    "        cols = idxs % 28\n",
    "        \n",
    "        row_enc = pos_enc(rows)\n",
    "        col_enc = pos_enc(cols)\n",
    "        \n",
    "        encoding = tf.concat([row_enc, col_enc], axis=-1)\n",
    "        return encoding\n",
    "        \n",
    "    return call\n",
    "\n",
    "\n",
    "def scaled_dot_product_attention(k, q, v, mask):\n",
    "    batch_size = tf.shape(k)[0]\n",
    "    seq_len_kv = tf.shape(k)[-2]\n",
    "    kq_dim = tf.shape(k)[-1]\n",
    "    seq_len_q = tf.shape(q)[-2]\n",
    "    v_dim = tf.shape(v)[-1]\n",
    "    \n",
    "    matmul_qk = tf.matmul(q, k, transpose_b=True)\n",
    "    # shape: (batch_size, n_heads, seq_len_q, seq_len_kv)\n",
    "    \n",
    "    dk = tf.cast(kq_dim, tf.float32)\n",
    "    scaled_attention_logits = matmul_qk / tf.math.sqrt(dk)\n",
    "    \n",
    "    scaled_attention_logits += mask * -1e9 # batch dim broadcast\n",
    "    \n",
    "    attention_weights = tf.nn.softmax(scaled_attention_logits, axis=-1) # sums to 1 along last axis\n",
    "    # shape: (batch_size, seq_len_q, seq_len_kv)\n",
    "    \n",
    "    output = tf.matmul(attention_weights, v)\n",
    "    # shape: (batch_size, seq_len_q, v_dim)\n",
    "    \n",
    "    return output, attention_weights\n",
    "\n",
    "def multi_head_attention(embd_dim, n_heads):\n",
    "    \n",
    "    wk = layers.Dense(embd_dim)\n",
    "    wq = layers.Dense(embd_dim)\n",
    "    wv = layers.Dense(embd_dim)\n",
    "    dense = layers.Dense(embd_dim)\n",
    "    \n",
    "    assert embd_dim % n_heads == 0, \"embd_dim must divide evenly into n_heads\"\n",
    "    head_width = embd_dim//n_heads\n",
    "    \n",
    "    def split_heads(x, batch_size):\n",
    "        # reshape from (batch_size, seq_length, embd_dim) to (batch_size, num_heads, seq_len, head_width)\n",
    "        x = tf.reshape(x, (batch_size, -1, n_heads, head_width))\n",
    "        return tf.transpose(x, perm=[0, 2, 1, 3])\n",
    "    \n",
    "    def call(k, q, v, mask):\n",
    "        batch_size = tf.shape(k)[0]\n",
    "        \n",
    "        k = wk(k)\n",
    "        q = wk(q)\n",
    "        v = wk(v)\n",
    "        # shape: (batch_size, seq_len_*, embd_dim)\n",
    "        \n",
    "        k = split_heads(k, batch_size)\n",
    "        q = split_heads(q, batch_size)\n",
    "        v = split_heads(v, batch_size)\n",
    "        # shape: (batch_size, num_heads, seq_len_*, head_width)\n",
    "        \n",
    "        scaled_attention, attention_weights = scaled_dot_product_attention(k, q, v, mask)\n",
    "        scaled_attention = tf.transpose(scaled_attention, perm=[0, 2, 1, 3])\n",
    "        # (batch_size, seq_len, num_heads, depth)\n",
    "        concat_attention = tf.reshape(scaled_attention, (batch_size, -1, embd_dim))\n",
    "        output = dense(concat_attention)\n",
    "        return output, attention_weights\n",
    "    return call\n",
    "    \n",
    "def pointwise_feedforward_layer(hidden_dim, out_dim):\n",
    "    dense1 = layers.Dense(hidden_dim, activation='relu')\n",
    "    dense2 = layers.Dense(out_dim)\n",
    "    def call(x):\n",
    "        x = dense1(x)\n",
    "        x = dense2(x)\n",
    "        return x\n",
    "    return call\n",
    "        \n",
    "\n",
    "def transformer(n_colors, seq_length, embd_dim, ffl_dim, n_heads, n_enc_a_layers, dropout_rate, use_idxs_input):\n",
    "    def transformer_layer():\n",
    "        mha = multi_head_attention(embd_dim, n_heads)\n",
    "        ffl = pointwise_feedforward_layer(ffl_dim, embd_dim)\n",
    "        layernorm1 = layers.LayerNormalization(epsilon=1e-6)\n",
    "        layernorm2 = layers.LayerNormalization(epsilon=1e-6)\n",
    "        dropout1 = layers.Dropout(dropout_rate)\n",
    "        dropout2 = layers.Dropout(dropout_rate)\n",
    "        def call(kv_embd, q_embd, mask):\n",
    "            x = q_embd\n",
    "            out1 = layernorm1(dropout1(kv_embd)) # prenorm\n",
    "            attn_out, attn_weights = mha(out1, q_embd, out1, mask)\n",
    "            x += attn_out\n",
    "            \n",
    "            out2 = layernorm2(dropout2(x)) # prenorm\n",
    "            ffl_out = ffl(out2)\n",
    "            x += ffl_out\n",
    "            \n",
    "            return x\n",
    "        return call\n",
    "    \n",
    "    def transformer_3sep_layer():\n",
    "        mha = multi_head_attention(embd_dim, n_heads)\n",
    "        ffl = pointwise_feedforward_layer(ffl_dim, embd_dim)\n",
    "        layernorm1 = layers.LayerNormalization(epsilon=1e-6)\n",
    "        layernorm2 = layers.LayerNormalization(epsilon=1e-6)\n",
    "        dropout1 = layers.Dropout(dropout_rate)\n",
    "        dropout2 = layers.Dropout(dropout_rate)\n",
    "        def call(key, query, val, mask):\n",
    "            key = layernorm1(dropout1(key)) # prenorm\n",
    "            val = layernorm1(dropout1(val)) # prenorm\n",
    "            attn_out, attn_weights = mha(key, query, val, mask)\n",
    "            x = query + attn_out\n",
    "            \n",
    "            out2 = layernorm2(dropout2(x)) # prenorm\n",
    "            ffl_out = ffl(out2)\n",
    "            x += ffl_out\n",
    "            \n",
    "            return x\n",
    "        return call\n",
    "    \n",
    "    # attentive neural process\n",
    "    def anp_architecture():\n",
    "        enc_a_layers = [transformer_layer() for _ in range(n_enc_a_layers)]\n",
    "        dec_layer = transformer_3sep_layer()\n",
    "        x_encoder = pointwise_feedforward_layer(ffl_dim, embd_dim)\n",
    "        def call(inp_xy, inp_x, tar_x, enc_a_mask, dec_mask):\n",
    "            inp_x = x_encoder(inp_x)\n",
    "            tar_x = x_encoder(tar_x)\n",
    "            for enc_layer in enc_a_layers:\n",
    "                inp_xy += enc_layer(inp_xy, inp_xy, mask=enc_a_mask)\n",
    "            outs = dec_layer(key=inp_x, query=tar_x, val=inp_xy, mask=dec_mask)\n",
    "            return outs\n",
    "        return call\n",
    "    \n",
    "    # custom attentive neural process\n",
    "    def canp_architecture():\n",
    "        enc_a_layers = [transformer_layer() for _ in range(n_enc_a_layers)]\n",
    "        dec_layer = transformer_layer()\n",
    "        def call(xa, xb, enc_a_mask, dec_mask):\n",
    "            for enc_layer in enc_a_layers:\n",
    "                xa += enc_layer(xa, xa, mask=enc_a_mask)\n",
    "            outs = dec_layer(xa, xb, mask=dec_mask)\n",
    "            return outs\n",
    "        return call\n",
    "    \n",
    "    colors = Input([None])\n",
    "    inp_idxs = Input([None])\n",
    "    tar_idxs = Input([None])\n",
    "    # use type_spec argument because we don't want batch dim for these inputs\n",
    "    enc_a_mask = Input(type_spec=tf.TensorSpec(shape=[None, None]))\n",
    "    dec_mask = Input(type_spec=tf.TensorSpec(shape=[None, None]))\n",
    "    \n",
    "    col_embd = layers.Embedding(n_colors, embd_dim)(colors)\n",
    "    # set length to somewhat bigger than the image width/height\n",
    "    position_embedding = dual_positional_encoding(n_dims=embd_dim, length=100)\n",
    "    \n",
    "    inp_pos_embd = position_embedding(inp_idxs)\n",
    "    tar_pos_embd = position_embedding(tar_idxs)\n",
    "    \n",
    "    dropout = layers.Dropout(dropout_rate)\n",
    "    layer_norm = layers.LayerNormalization(epsilon=1e-6)\n",
    "    \n",
    "    xa = col_embd + inp_pos_embd\n",
    "    xb = tar_pos_embd\n",
    "    \n",
    "    y = anp_architecture()(xa, inp_pos_embd, tar_pos_embd,  enc_a_mask, dec_mask)\n",
    "    \n",
    "    y = layer_norm(dropout(y))\n",
    "    \n",
    "    final_layer = layers.Dense(n_colors)(y)\n",
    "    \n",
    "    return Model(inputs=[colors, inp_idxs, tar_idxs, enc_a_mask, dec_mask], outputs=[final_layer])\n",
    "\n"
   ]
  },
  {
   "cell_type": "code",
   "execution_count": 42,
   "id": "23adc812-dee5-4015-b446-23cb2e23257e",
   "metadata": {},
   "outputs": [
    {
     "name": "stdout",
     "output_type": "stream",
     "text": [
      "Model Config\n",
      "n_enc_a_layers: 8, ffl_dim: 200, embd_dim: 128, n_heads: 4, dropout_rate: 0.1, use_idxs_input: True\n",
      "\n"
     ]
    }
   ],
   "source": [
    "\n",
    "\n",
    "model = transformer(\n",
    "    config['n_colors'],\n",
    "    seq_length=783,\n",
    "    **config['model'],\n",
    ")\n",
    "print('Model Config')\n",
    "print(', '.join(f'{k}: {v}' for k, v in config['model'].items()))\n",
    "print()\n",
    "\n",
    "# model.summary()\n",
    "\n",
    "# from tf.keras.utils.vis_utils import plot_model\n",
    "\n",
    "# plot_model(model, to_file=\"model.png\", expand_nested=True, show_shapes=True, show_layer_names=True)\n"
   ]
  },
  {
   "cell_type": "code",
   "execution_count": 43,
   "id": "b081a9a5-e3e0-4f7e-ae74-ee4662bb9a52",
   "metadata": {},
   "outputs": [
    {
     "data": {
      "image/png": "[encoded data removed]",
      "text/plain": [
       "<Figure size 1440x1440 with 5 Axes>"
      ]
     },
     "metadata": {
      "needs_background": "light"
     },
     "output_type": "display_data"
    },
    {
     "data": {
      "image/png": "[encoded data removed]",
      "text/plain": [
       "<Figure size 1440x864 with 3 Axes>"
      ]
     },
     "metadata": {
      "needs_background": "light"
     },
     "output_type": "display_data"
    }
   ],
   "source": [
    "\n",
    "total_steps = config['n_epochs'] * config['steps_per_epoch']\n",
    "\n",
    "class WarmupInvSquare(tf.keras.optimizers.schedules.LearningRateSchedule):\n",
    "    def __init__(self, embd_dim, warmup_steps):\n",
    "        super(WarmupInvSquare, self).__init__()\n",
    "\n",
    "        self.d_model = embd_dim\n",
    "        self.d_model = tf.cast(self.d_model, tf.float32)\n",
    "\n",
    "        self.warmup_steps = warmup_steps\n",
    "\n",
    "    def __call__(self, step):\n",
    "        arg1 = step * (self.warmup_steps ** -1.5)\n",
    "        arg2 = tf.math.rsqrt(step)\n",
    "\n",
    "        return tf.math.rsqrt(self.d_model) * tf.math.minimum(arg1, arg2)\n",
    "\n",
    "class WarmupLinear(tf.keras.optimizers.schedules.LearningRateSchedule):\n",
    "    def __init__(self, peak_lr, warmup_steps):\n",
    "        super(WarmupLinear, self).__init__()\n",
    "        \n",
    "        self.peak_lr = peak_lr\n",
    "        self.total_steps = total_steps\n",
    "        self.warmup_steps = warmup_steps\n",
    "\n",
    "    def __call__(self, step):\n",
    "        arg1 = step/self.warmup_steps\n",
    "        arg2 = 1 - (step-self.warmup_steps)/(self.total_steps - self.warmup_steps)\n",
    "        \n",
    "        return self.peak_lr * tf.math.minimum(arg1, arg2)\n",
    "\n",
    "class Constant(tf.keras.optimizers.schedules.LearningRateSchedule):\n",
    "    def __init__(self, rate):\n",
    "        super(Constant, self).__init__()\n",
    "        self.rate = rate\n",
    "    \n",
    "    def __call__(self, step):\n",
    "        return tf.ones_like(step)*self.rate\n",
    "\n",
    "class WarmupExponential(tf.keras.optimizers.schedules.LearningRateSchedule):\n",
    "    def __init__(self, warmup_steps, peak_lr, final_lr):\n",
    "        super(WarmupExponential, self).__init__()\n",
    "        self.scale = tf.cast(peak_lr, tf.float64)\n",
    "        self.rate = tf.cast(total_steps/tf.math.log(peak_lr/final_lr), tf.float64)\n",
    "        self.warmup_steps = warmup_steps\n",
    "    \n",
    "    def __call__(self, step):\n",
    "        step = tf.cast(step, tf.float64)\n",
    "        decay_step = tf.cast(step-self.warmup_steps, tf.float64)\n",
    "        arg1 = step/self.warmup_steps\n",
    "        arg2 = tf.math.exp(-decay_step / self.rate)\n",
    "        return self.scale * tf.math.minimum(arg1, arg2)\n",
    "\n",
    "\n",
    "class Exponential(tf.keras.optimizers.schedules.LearningRateSchedule):\n",
    "    def __init__(self, peak_lr, final_lr):\n",
    "        super(Exponential, self).__init__()\n",
    "        self.scale = tf.cast(peak_lr, tf.float64)\n",
    "        self.rate = tf.cast(total_steps/tf.math.log(peak_lr/final_lr), tf.float64)\n",
    "    \n",
    "    def __call__(self, step):\n",
    "        step = tf.cast(step, tf.float64)\n",
    "        arg1 = tf.math.exp(-step / self.rate)\n",
    "        return self.scale * arg1\n",
    "    \n",
    "def exponential_batch_size(initial, final):\n",
    "    \n",
    "    scale = tf.cast(initial, tf.float64)\n",
    "    rate = tf.cast(total_steps/tf.math.log(initial/final), tf.float64)\n",
    "    \n",
    "    def call(step):\n",
    "        step = tf.cast(step, tf.float64)\n",
    "        return tf.cast(tf.math.round(scale * tf.math.exp(-step / rate)), dtype=tf.int32)\n",
    "    return call\n",
    "                             \n",
    "def const_batch_size(batch_size):\n",
    "    def call(step):\n",
    "        return batch_size*tf.ones_like(step)\n",
    "    return call\n",
    "    \n",
    "lr_schedules = {\n",
    "    'constant': Constant(config['max_lr']),\n",
    "    'exponential': Exponential(config['max_lr'], config['min_lr']),\n",
    "    'warmup_exponential': WarmupExponential(config['lr_warmup_steps'], config['max_lr'], config['min_lr']),\n",
    "    'warmup_inv_square': WarmupInvSquare(config['model']['embd_dim'], config['lr_warmup_steps']),\n",
    "    'warmup_linear': WarmupLinear(config['max_lr'], config['lr_warmup_steps']),\n",
    "}\n",
    "batch_size_schedules = {\n",
    "    'exponential': exponential_batch_size(config['start_accum_steps'], config['end_accum_steps']),\n",
    "    'constant': const_batch_size(config['start_accum_steps']),\n",
    "    'dynamic': None,\n",
    "}\n",
    "\n",
    "fig, axes = plt.subplots(len(lr_schedules), 1, figsize=(20,4*len(lr_schedules)))\n",
    "fig.suptitle(\"Learning Rate Schedules\")\n",
    "x = tf.range(0, total_steps, 10, dtype=tf.float32)\n",
    "for ax, (name, lr_schedule) in zip(axes, lr_schedules.items()):\n",
    "    ax.set_title(name)\n",
    "    ax.plot(x, lr_schedule(x))\n",
    "fig, axes = plt.subplots(len(batch_size_schedules), 1, figsize=(20,4*len(batch_size_schedules)))\n",
    "fig.suptitle(\"Batch Size Schedules (incl minibatch size)\")\n",
    "for ax, (name, bs_schedule) in zip(axes, batch_size_schedules.items()):\n",
    "    if bs_schedule is None:\n",
    "        continue\n",
    "    ax.set_title(name)\n",
    "    ax.plot(x, config['minibatch_size']*bs_schedule(x))\n",
    "plt.show()"
   ]
  },
  {
   "cell_type": "code",
   "execution_count": 44,
   "id": "c804721a-eb63-4b93-82b4-49ee7b0e5394",
   "metadata": {},
   "outputs": [],
   "source": [
    "\n",
    "# params taken from the linked notebook\n",
    "optimizer = keras.optimizers.Adam(learning_rate=lr_schedules[config['lr_schedule']], beta_1=0.9, beta_2=0.95, epsilon=1e-9)\n",
    "loss_function = keras.losses.SparseCategoricalCrossentropy(from_logits=True, reduction='sum_over_batch_size')\n",
    "if config['batch_size_schedule'] is not None:\n",
    "    bs_schedule = batch_size_schedules[config['batch_size_schedule']]\n",
    "\n",
    "\n",
    "@tf.function\n",
    "def train_step_grad_accum(dataset_iterator, accum_steps):\n",
    "    float_steps = tf.cast(accum_steps, tf.float32)\n",
    "    accum_gradients = [tf.zeros_like(weights, dtype=tf.float32) for weights in model.trainable_variables]\n",
    "    accum_loss = tf.constant(0, tf.float32)\n",
    "    for step in tf.range(accum_steps):\n",
    "        colors, idxs, labels, n = next(dataset_iterator)\n",
    "        loss, gradients = train_step_inner(colors, idxs, n)\n",
    "        accum_gradients = [accum_grad+grad for accum_grad, grad in zip(accum_gradients, gradients)]\n",
    "        accum_loss += loss\n",
    "    accum_gradients = [accum_grad / float_steps for accum_grad in accum_gradients]\n",
    "    optimizer.apply_gradients(zip(accum_gradients, model.trainable_variables))\n",
    "    accum_loss /= float_steps\n",
    "    return accum_loss\n",
    "        \n",
    "@tf.function(input_signature=[\n",
    "    tf.TensorSpec(shape=(None, None), dtype=tf.int32),\n",
    "    tf.TensorSpec(shape=(None, None), dtype=tf.int32),\n",
    "    tf.TensorSpec(shape=(), dtype=tf.int32),\n",
    "    \n",
    "])\n",
    "def train_step_inner(colors, idxs, n):\n",
    "    x_inp = colors[:, :n]\n",
    "    x_tar = colors[:, n:]\n",
    "    i_inp = idxs[:, :n]\n",
    "    i_tar = idxs[:, n:]\n",
    "    inp_seq_len = tf.shape(i_inp)[-1]\n",
    "    tar_seq_len = tf.shape(i_tar)[-1]\n",
    "    enc_a_mask = get_mask(MASK_NONE, inp_seq_len, inp_seq_len)\n",
    "    dec_mask = get_mask(MASK_NONE, inp_seq_len, tar_seq_len)\n",
    "    with tf.GradientTape() as tape:\n",
    "        x_out = model([x_inp, i_inp, i_tar, enc_a_mask, dec_mask], training=True)\n",
    "        loss = loss_function(x_tar, x_out)\n",
    "        gradients = tape.gradient(loss, model.trainable_variables)\n",
    "    return loss, gradients\n",
    "\n",
    "@tf.function\n",
    "def train_step_normal(dataset_iterator):\n",
    "    colors, idxs, labels, n = next(dataset_iterator)\n",
    "    loss, gradients = train_step_inner(colors, idxs, n)\n",
    "    optimizer.apply_gradients(zip(gradients, model.trainable_variables))\n",
    "    return loss\n",
    "\n",
    "@tf.function(input_signature=[\n",
    "    tf.TensorSpec(shape=(None, None), dtype=tf.int32),\n",
    "    tf.TensorSpec(shape=(None, None), dtype=tf.int32),\n",
    "    tf.TensorSpec(shape=(None, None), dtype=tf.int32),\n",
    "])\n",
    "def eval_step(inp_colors, inp_idxs, tar_idxs):\n",
    "    inp_seq_len = tf.shape(inp_idxs)[-1]\n",
    "    tar_seq_len = tf.shape(tar_idxs)[-1]\n",
    "    enc_a_mask = get_mask(MASK_BACKWARD_EQUAL, inp_seq_len, inp_seq_len)\n",
    "    dec_mask = get_mask(MASK_NONE, inp_seq_len, tar_seq_len)\n",
    "    return model([inp_colors, inp_idxs, tar_idxs, enc_a_mask, dec_mask], training=False)\n",
    "\n",
    "def evaluate(inp_colors, all_idxs, manager=None):\n",
    "    n = inp_colors.shape[-1]\n",
    "    n_total = all_idxs.shape[-1]\n",
    "    out_colors = inp_colors\n",
    "\n",
    "    if manager is None:\n",
    "        manager = enlighten.get_manager()\n",
    "    evaluate_counter = manager.counter(total=n, desc=\"Evaluating\", unit='pixels', leave=False)\n",
    "    for i in evaluate_counter(range(n, n_total)):\n",
    "        \n",
    "        inp_idxs = all_idxs[:, :i]\n",
    "        tar_idxs = all_idxs[:, i:]\n",
    "        \n",
    "        logits = eval_step(out_colors, inp_idxs, tar_idxs)\n",
    "        # shape: (batch_size, tar_seq_length, n_colors)\n",
    "        \n",
    "        # apply softmax on the logits and sample from the distribution\n",
    "        predictions = tf.random.categorical(logits[:, 0], 1, dtype=tf.int32)\n",
    "        # append prediction\n",
    "        out_colors = tf.concat([out_colors, predictions], axis=-1)\n",
    "    \n",
    "    evaluate_counter.close()\n",
    "    return out_colors\n",
    "\n",
    "def process_batch(all_colors, all_idxs, show_input=True, show_output=True, manager=None):\n",
    "    batch_size = all_colors.shape[0]\n",
    "    n = all_colors.shape[-1] // 2 \n",
    "    half_colors = all_colors[:, :n]\n",
    "    half_idxs = all_idxs[:, :n]\n",
    "    if show_input:\n",
    "        showSeq(half_colors, half_idxs, (image_width, image_height), batch_size, unshuffle=True)\n",
    "        showSeq(all_colors, all_idxs, (image_width, image_height), batch_size, unshuffle=True)\n",
    "    if show_output:\n",
    "        result_colors = evaluate(half_colors, all_idxs, manager=manager)\n",
    "        return showSeq(result_colors, all_idxs, (image_width, image_height), batch_size, unshuffle=True)\n"
   ]
  },
  {
   "cell_type": "code",
   "execution_count": 45,
   "id": "46d7bb74-1738-4364-b9d4-44f1e4cdaaa5",
   "metadata": {},
   "outputs": [
    {
     "name": "stderr",
     "output_type": "stream",
     "text": [
      "2021-11-11 15:26:22.754852: W tensorflow/core/kernels/data/cache_dataset_ops.cc:768] The calling iterator did not fully read the dataset being cached. In order to avoid unexpected truncation of the dataset, the partially cached contents of the dataset  will be discarded. This can happen if you have an input pipeline similar to `dataset.cache().take(k).repeat()`. You should use `dataset.take(k).cache().repeat()` instead.\n",
      "2021-11-11 15:26:22.755398: W tensorflow/core/kernels/data/cache_dataset_ops.cc:768] The calling iterator did not fully read the dataset being cached. In order to avoid unexpected truncation of the dataset, the partially cached contents of the dataset  will be discarded. This can happen if you have an input pipeline similar to `dataset.cache().take(k).repeat()`. You should use `dataset.take(k).cache().repeat()` instead.\n",
      "2021-11-11 15:26:22.832769: W tensorflow/core/kernels/data/cache_dataset_ops.cc:768] The calling iterator did not fully read the dataset being cached. In order to avoid unexpected truncation of the dataset, the partially cached contents of the dataset  will be discarded. This can happen if you have an input pipeline similar to `dataset.cache().take(k).repeat()`. You should use `dataset.take(k).cache().repeat()` instead.\n",
      "2021-11-11 15:26:22.832916: W tensorflow/core/kernels/data/cache_dataset_ops.cc:768] The calling iterator did not fully read the dataset being cached. In order to avoid unexpected truncation of the dataset, the partially cached contents of the dataset  will be discarded. This can happen if you have an input pipeline similar to `dataset.cache().take(k).repeat()`. You should use `dataset.take(k).cache().repeat()` instead.\n"
     ]
    },
    {
     "data": {
      "image/png": "[encoded data removed]",
      "text/plain": [
       "<Figure size 2160x216 with 10 Axes>"
      ]
     },
     "metadata": {
      "needs_background": "light"
     },
     "output_type": "display_data"
    },
    {
     "data": {
      "image/png": "[encoded data removed]",
      "text/plain": [
       "<Figure size 2160x216 with 10 Axes>"
      ]
     },
     "metadata": {
      "needs_background": "light"
     },
     "output_type": "display_data"
    }
   ],
   "source": [
    "unshuffled_colors, unshuffled_idxs, _ = next(iter(dataset_test))\n",
    "shuffled_colors, shuffled_idxs, _ = next(iter(dataset_test_shuffled))\n",
    "test_colors = tf.concat([unshuffled_colors[:5], shuffled_colors[:5]], axis=0)\n",
    "test_idxs = tf.concat([unshuffled_idxs[:5], shuffled_idxs[:5]], axis=0)\n",
    "process_batch(test_colors, test_idxs, show_output=False)\n",
    "\n",
    "n_epochs, steps_per_epoch = config['n_epochs'], config['steps_per_epoch']\n",
    "last_eval_loss = None\n",
    "loss_history = np.zeros([n_epochs*steps_per_epoch])\n",
    "\n",
    "dataset_iterator = iter(dataset_train)\n",
    "\n",
    "def train(n_epochs, steps_per_epoch, do_eval):\n",
    "    global last_eval_loss, loss_history\n",
    "    window_size = 200\n",
    "\n",
    "    with enlighten.get_manager() as manager:\n",
    "        status = manager.status_bar(f\"Training model '{model_name}'\", justify=enlighten.Justify.CENTER)\n",
    "        info = manager.status_bar('Loss: ??????, Learning Rate: ???????, Batch Size: ???*?????')\n",
    "        def update_infobar(loss, learning_rate, minibatch_size, batch_size):\n",
    "            info.update(f'Loss ({window_size} step avg.): {loss:.5f}, Learning Rate: {learning_rate:.6f}, Batch Size: {minibatch_size:>3}*{batch_size:<5}')\n",
    "        epochs = manager.counter(total=n_epochs, desc='Epochs', color='green', unit='epochs')\n",
    "        last_eval_step = 0\n",
    "        last_log_index = 0\n",
    "        accum_steps = config['start_accum_steps']\n",
    "        for epoch in epochs(tf.range(n_epochs)):\n",
    "            steps = manager.counter(total=steps_per_epoch, desc=f'Epoch {epoch:<3}', color='blue', unit='steps')\n",
    "            for step in steps(tf.range(steps_per_epoch)):\n",
    "                step_index = epoch*steps_per_epoch + step\n",
    "                \n",
    "                if config['batch_size_schedule'] is None:\n",
    "                    loss = train_step_normal(dataset_iterator)\n",
    "                    accum_steps = 1\n",
    "                else:\n",
    "                    if config['batch_size_schedule'] == 'dynamic':\n",
    "                        # dynamic batch size\n",
    "                        # increase batch size whenever the 200-step average loss goes up\n",
    "                        if step_index > 1 and running_mean > prev_running_mean and accum_steps < config['end_accum_steps']:\n",
    "                            accum_steps += 1\n",
    "                    else:\n",
    "                        accum_steps = bs_schedule(step_index)\n",
    "                    loss = train_step_grad_accum(dataset_iterator, accum_steps)\n",
    "                loss_history[step_index] = loss\n",
    "                if step_index > 0:\n",
    "                    prev_running_mean = running_mean\n",
    "                running_mean = np.mean(loss_history[max(0, step_index-window_size) : step_index+1])\n",
    "                \n",
    "                \n",
    "                update_infobar(running_mean, optimizer._decayed_lr(tf.float32), config['minibatch_size'], accum_steps)\n",
    "                if do_eval:\n",
    "                    if last_eval_loss is None or (running_mean < 1 and running_mean <= last_eval_loss * 0.9 and step_index >= last_eval_step + 30):\n",
    "                        last_eval_loss = running_mean\n",
    "                        last_eval_step = step_index\n",
    "                        print(f\"Step {step_index}, Loss ({window_size} step avg.): {last_eval_loss}\")\n",
    "                        fig = process_batch(test_colors, test_idxs, show_input=False, manager=manager)\n",
    "                        if use_wandb:\n",
    "                            last_log_index = step_index\n",
    "                            wandb.log({'loss': running_mean, 'learning_rate': optimizer._decayed_lr(tf.float32), 'image_eval': wandb.Image(fig)}, step=step_index)\n",
    "                if use_wandb and step_index > last_log_index + config['wandb_log_interval']:\n",
    "                    last_log_index = step_index\n",
    "                    wandb.log({'loss': running_mean, 'learning_rate': optimizer._decayed_lr(tf.float32)}, step=step_index)"
   ]
  },
  {
   "cell_type": "code",
   "execution_count": null,
   "id": "56e8fd21-7a5b-4d76-9946-8476c45c0a40",
   "metadata": {
    "tags": []
   },
   "outputs": [
    {
     "data": {
      "text/html": [
       "<style>\n",
       ".enlighten-fg-green {\n",
       "  color: #00cd00;\n",
       "}\n",
       ".enlighten-fg-blue {\n",
       "  color: #0000ee;\n",
       "}\n",
       "</style>\n",
       "<div class=\"enlighten\">\n",
       "  <div class=\"enlighten-bar\">\n",
       "    <pre>                                  Training model 'anp-deep-3color'                                  </pre>\n",
       "  </div>\n",
       "  <div class=\"enlighten-bar\">\n",
       "    <pre>Loss (200 step avg.): 0.22624, Learning Rate: 0.000392, Batch Size: 128*1                           </pre>\n",
       "  </div>\n",
       "  <div class=\"enlighten-bar\">\n",
       "    <pre>Epochs  28%|<span class=\"enlighten-fg-green\">████████████▎                               </span>| 111/400 [1h 20:60&lt;3h 30:53, 0.02 epochs/s]</pre>\n",
       "  </div>\n",
       "  <div class=\"enlighten-bar\">\n",
       "    <pre>Epoch 0   100%|<span class=\"enlighten-fg-blue\">█████████████████████████████████████████████</span>| 300/300 [1h 20:60&lt;00:00, 0.06 steps/s]</pre>\n",
       "  </div>\n",
       "  <div class=\"enlighten-bar\">\n",
       "    <pre>Epoch 1   100%|<span class=\"enlighten-fg-blue\">█████████████████████████████████████████████</span>| 300/300 [1h 18:23&lt;00:00, 0.06 steps/s]</pre>\n",
       "  </div>\n",
       "  <div class=\"enlighten-bar\">\n",
       "    <pre>Epoch 2   100%|<span class=\"enlighten-fg-blue\">█████████████████████████████████████████████</span>| 300/300 [1h 17:13&lt;00:00, 0.06 steps/s]</pre>\n",
       "  </div>\n",
       "  <div class=\"enlighten-bar\">\n",
       "    <pre>Epoch 3   100%|<span class=\"enlighten-fg-blue\">█████████████████████████████████████████████</span>| 300/300 [1h 16:16&lt;00:00, 0.07 steps/s]</pre>\n",
       "  </div>\n",
       "  <div class=\"enlighten-bar\">\n",
       "    <pre>Epoch 4   100%|<span class=\"enlighten-fg-blue\">█████████████████████████████████████████████</span>| 300/300 [1h 15:35&lt;00:00, 0.07 steps/s]</pre>\n",
       "  </div>\n",
       "  <div class=\"enlighten-bar\">\n",
       "    <pre>Epoch 5   100%|<span class=\"enlighten-fg-blue\">█████████████████████████████████████████████</span>| 300/300 [1h 14:53&lt;00:00, 0.07 steps/s]</pre>\n",
       "  </div>\n",
       "  <div class=\"enlighten-bar\">\n",
       "    <pre>Epoch 6   100%|<span class=\"enlighten-fg-blue\">█████████████████████████████████████████████</span>| 300/300 [1h 14:12&lt;00:00, 0.07 steps/s]</pre>\n",
       "  </div>\n",
       "  <div class=\"enlighten-bar\">\n",
       "    <pre>Epoch 7   100%|<span class=\"enlighten-fg-blue\">█████████████████████████████████████████████</span>| 300/300 [1h 13:30&lt;00:00, 0.07 steps/s]</pre>\n",
       "  </div>\n",
       "  <div class=\"enlighten-bar\">\n",
       "    <pre>Epoch 8   100%|<span class=\"enlighten-fg-blue\">█████████████████████████████████████████████</span>| 300/300 [1h 12:47&lt;00:00, 0.07 steps/s]</pre>\n",
       "  </div>\n",
       "  <div class=\"enlighten-bar\">\n",
       "    <pre>Epoch 9   100%|<span class=\"enlighten-fg-blue\">█████████████████████████████████████████████</span>| 300/300 [1h 12:03&lt;00:00, 0.07 steps/s]</pre>\n",
       "  </div>\n",
       "  <div class=\"enlighten-bar\">\n",
       "    <pre>Epoch 10  100%|<span class=\"enlighten-fg-blue\">█████████████████████████████████████████████</span>| 300/300 [1h 11:19&lt;00:00, 0.07 steps/s]</pre>\n",
       "  </div>\n",
       "  <div class=\"enlighten-bar\">\n",
       "    <pre>Epoch 11  100%|<span class=\"enlighten-fg-blue\">█████████████████████████████████████████████</span>| 300/300 [1h 10:36&lt;00:00, 0.07 steps/s]</pre>\n",
       "  </div>\n",
       "  <div class=\"enlighten-bar\">\n",
       "    <pre>Epoch 12  100%|<span class=\"enlighten-fg-blue\">█████████████████████████████████████████████</span>| 300/300 [1h 09:54&lt;00:00, 0.07 steps/s]</pre>\n",
       "  </div>\n",
       "  <div class=\"enlighten-bar\">\n",
       "    <pre>Epoch 13  100%|<span class=\"enlighten-fg-blue\">█████████████████████████████████████████████</span>| 300/300 [1h 09:12&lt;00:00, 0.07 steps/s]</pre>\n",
       "  </div>\n",
       "  <div class=\"enlighten-bar\">\n",
       "    <pre>Epoch 14  100%|<span class=\"enlighten-fg-blue\">█████████████████████████████████████████████</span>| 300/300 [1h 08:29&lt;00:00, 0.07 steps/s]</pre>\n",
       "  </div>\n",
       "  <div class=\"enlighten-bar\">\n",
       "    <pre>Epoch 15  100%|<span class=\"enlighten-fg-blue\">█████████████████████████████████████████████</span>| 300/300 [1h 07:45&lt;00:00, 0.07 steps/s]</pre>\n",
       "  </div>\n",
       "  <div class=\"enlighten-bar\">\n",
       "    <pre>Epoch 16  100%|<span class=\"enlighten-fg-blue\">█████████████████████████████████████████████</span>| 300/300 [1h 07:05&lt;00:00, 0.07 steps/s]</pre>\n",
       "  </div>\n",
       "  <div class=\"enlighten-bar\">\n",
       "    <pre>Epoch 17  100%|<span class=\"enlighten-fg-blue\">█████████████████████████████████████████████</span>| 300/300 [1h 06:22&lt;00:00, 0.08 steps/s]</pre>\n",
       "  </div>\n",
       "  <div class=\"enlighten-bar\">\n",
       "    <pre>Epoch 18  100%|<span class=\"enlighten-fg-blue\">█████████████████████████████████████████████</span>| 300/300 [1h 05:41&lt;00:00, 0.08 steps/s]</pre>\n",
       "  </div>\n",
       "  <div class=\"enlighten-bar\">\n",
       "    <pre>Epoch 19  100%|<span class=\"enlighten-fg-blue\">█████████████████████████████████████████████</span>| 300/300 [1h 04:41&lt;00:00, 0.08 steps/s]</pre>\n",
       "  </div>\n",
       "  <div class=\"enlighten-bar\">\n",
       "    <pre>Epoch 20  100%|<span class=\"enlighten-fg-blue\">█████████████████████████████████████████████</span>| 300/300 [1h 03:60&lt;00:00, 0.08 steps/s]</pre>\n",
       "  </div>\n",
       "  <div class=\"enlighten-bar\">\n",
       "    <pre>Epoch 21  100%|<span class=\"enlighten-fg-blue\">█████████████████████████████████████████████</span>| 300/300 [1h 03:16&lt;00:00, 0.08 steps/s]</pre>\n",
       "  </div>\n",
       "  <div class=\"enlighten-bar\">\n",
       "    <pre>Epoch 22  100%|<span class=\"enlighten-fg-blue\">█████████████████████████████████████████████</span>| 300/300 [1h 02:36&lt;00:00, 0.08 steps/s]</pre>\n",
       "  </div>\n",
       "  <div class=\"enlighten-bar\">\n",
       "    <pre>Epoch 23  100%|<span class=\"enlighten-fg-blue\">█████████████████████████████████████████████</span>| 300/300 [1h 01:54&lt;00:00, 0.08 steps/s]</pre>\n",
       "  </div>\n",
       "  <div class=\"enlighten-bar\">\n",
       "    <pre>Epoch 24  100%|<span class=\"enlighten-fg-blue\">█████████████████████████████████████████████</span>| 300/300 [1h 01:13&lt;00:00, 0.08 steps/s]</pre>\n",
       "  </div>\n",
       "  <div class=\"enlighten-bar\">\n",
       "    <pre>Epoch 25  100%|<span class=\"enlighten-fg-blue\">█████████████████████████████████████████████</span>| 300/300 [1h 00:31&lt;00:00, 0.08 steps/s]</pre>\n",
       "  </div>\n",
       "  <div class=\"enlighten-bar\">\n",
       "    <pre>Epoch 26  100%|<span class=\"enlighten-fg-blue\">████████████████████████████████████████████████</span>| 300/300 [59:46&lt;00:00, 0.08 steps/s]</pre>\n",
       "  </div>\n",
       "  <div class=\"enlighten-bar\">\n",
       "    <pre>Epoch 27  100%|<span class=\"enlighten-fg-blue\">████████████████████████████████████████████████</span>| 300/300 [59:02&lt;00:00, 0.08 steps/s]</pre>\n",
       "  </div>\n",
       "  <div class=\"enlighten-bar\">\n",
       "    <pre>Epoch 28  100%|<span class=\"enlighten-fg-blue\">████████████████████████████████████████████████</span>| 300/300 [58:18&lt;00:00, 0.09 steps/s]</pre>\n",
       "  </div>\n",
       "  <div class=\"enlighten-bar\">\n",
       "    <pre>Epoch 29  100%|<span class=\"enlighten-fg-blue\">████████████████████████████████████████████████</span>| 300/300 [57:37&lt;00:00, 0.09 steps/s]</pre>\n",
       "  </div>\n",
       "  <div class=\"enlighten-bar\">\n",
       "    <pre>Epoch 30  100%|<span class=\"enlighten-fg-blue\">████████████████████████████████████████████████</span>| 300/300 [56:57&lt;00:00, 0.09 steps/s]</pre>\n",
       "  </div>\n",
       "  <div class=\"enlighten-bar\">\n",
       "    <pre>Epoch 31  100%|<span class=\"enlighten-fg-blue\">████████████████████████████████████████████████</span>| 300/300 [56:16&lt;00:00, 0.09 steps/s]</pre>\n",
       "  </div>\n",
       "  <div class=\"enlighten-bar\">\n",
       "    <pre>Epoch 32  100%|<span class=\"enlighten-fg-blue\">████████████████████████████████████████████████</span>| 300/300 [55:37&lt;00:00, 0.09 steps/s]</pre>\n",
       "  </div>\n",
       "  <div class=\"enlighten-bar\">\n",
       "    <pre>Epoch 33  100%|<span class=\"enlighten-fg-blue\">████████████████████████████████████████████████</span>| 300/300 [54:52&lt;00:00, 0.09 steps/s]</pre>\n",
       "  </div>\n",
       "  <div class=\"enlighten-bar\">\n",
       "    <pre>Epoch 34  100%|<span class=\"enlighten-fg-blue\">████████████████████████████████████████████████</span>| 300/300 [54:09&lt;00:00, 0.09 steps/s]</pre>\n",
       "  </div>\n",
       "  <div class=\"enlighten-bar\">\n",
       "    <pre>Epoch 35  100%|<span class=\"enlighten-fg-blue\">████████████████████████████████████████████████</span>| 300/300 [53:25&lt;00:00, 0.09 steps/s]</pre>\n",
       "  </div>\n",
       "  <div class=\"enlighten-bar\">\n",
       "    <pre>Epoch 36  100%|<span class=\"enlighten-fg-blue\">████████████████████████████████████████████████</span>| 300/300 [52:44&lt;00:00, 0.09 steps/s]</pre>\n",
       "  </div>\n",
       "  <div class=\"enlighten-bar\">\n",
       "    <pre>Epoch 37  100%|<span class=\"enlighten-fg-blue\">████████████████████████████████████████████████</span>| 300/300 [52:01&lt;00:00, 0.10 steps/s]</pre>\n",
       "  </div>\n",
       "  <div class=\"enlighten-bar\">\n",
       "    <pre>Epoch 38  100%|<span class=\"enlighten-fg-blue\">████████████████████████████████████████████████</span>| 300/300 [51:20&lt;00:00, 0.10 steps/s]</pre>\n",
       "  </div>\n",
       "  <div class=\"enlighten-bar\">\n",
       "    <pre>Epoch 39  100%|<span class=\"enlighten-fg-blue\">████████████████████████████████████████████████</span>| 300/300 [50:35&lt;00:00, 0.10 steps/s]</pre>\n",
       "  </div>\n",
       "  <div class=\"enlighten-bar\">\n",
       "    <pre>Epoch 40  100%|<span class=\"enlighten-fg-blue\">████████████████████████████████████████████████</span>| 300/300 [49:53&lt;00:00, 0.10 steps/s]</pre>\n",
       "  </div>\n",
       "  <div class=\"enlighten-bar\">\n",
       "    <pre>Epoch 41  100%|<span class=\"enlighten-fg-blue\">████████████████████████████████████████████████</span>| 300/300 [49:10&lt;00:00, 0.10 steps/s]</pre>\n",
       "  </div>\n",
       "  <div class=\"enlighten-bar\">\n",
       "    <pre>Epoch 42  100%|<span class=\"enlighten-fg-blue\">████████████████████████████████████████████████</span>| 300/300 [48:26&lt;00:00, 0.10 steps/s]</pre>\n",
       "  </div>\n",
       "  <div class=\"enlighten-bar\">\n",
       "    <pre>Epoch 43  100%|<span class=\"enlighten-fg-blue\">████████████████████████████████████████████████</span>| 300/300 [47:44&lt;00:00, 0.10 steps/s]</pre>\n",
       "  </div>\n",
       "  <div class=\"enlighten-bar\">\n",
       "    <pre>Epoch 44  100%|<span class=\"enlighten-fg-blue\">████████████████████████████████████████████████</span>| 300/300 [47:03&lt;00:00, 0.11 steps/s]</pre>\n",
       "  </div>\n",
       "  <div class=\"enlighten-bar\">\n",
       "    <pre>Epoch 45  100%|<span class=\"enlighten-fg-blue\">████████████████████████████████████████████████</span>| 300/300 [46:21&lt;00:00, 0.11 steps/s]</pre>\n",
       "  </div>\n",
       "  <div class=\"enlighten-bar\">\n",
       "    <pre>Epoch 46  100%|<span class=\"enlighten-fg-blue\">████████████████████████████████████████████████</span>| 300/300 [45:38&lt;00:00, 0.11 steps/s]</pre>\n",
       "  </div>\n",
       "  <div class=\"enlighten-bar\">\n",
       "    <pre>Epoch 47  100%|<span class=\"enlighten-fg-blue\">████████████████████████████████████████████████</span>| 300/300 [44:57&lt;00:00, 0.11 steps/s]</pre>\n",
       "  </div>\n",
       "  <div class=\"enlighten-bar\">\n",
       "    <pre>Epoch 48  100%|<span class=\"enlighten-fg-blue\">████████████████████████████████████████████████</span>| 300/300 [44:16&lt;00:00, 0.11 steps/s]</pre>\n",
       "  </div>\n",
       "  <div class=\"enlighten-bar\">\n",
       "    <pre>Epoch 49  100%|<span class=\"enlighten-fg-blue\">████████████████████████████████████████████████</span>| 300/300 [43:34&lt;00:00, 0.11 steps/s]</pre>\n",
       "  </div>\n",
       "  <div class=\"enlighten-bar\">\n",
       "    <pre>Epoch 50  100%|<span class=\"enlighten-fg-blue\">████████████████████████████████████████████████</span>| 300/300 [42:51&lt;00:00, 0.12 steps/s]</pre>\n",
       "  </div>\n",
       "  <div class=\"enlighten-bar\">\n",
       "    <pre>Epoch 51  100%|<span class=\"enlighten-fg-blue\">████████████████████████████████████████████████</span>| 300/300 [42:11&lt;00:00, 0.12 steps/s]</pre>\n",
       "  </div>\n",
       "  <div class=\"enlighten-bar\">\n",
       "    <pre>Epoch 52  100%|<span class=\"enlighten-fg-blue\">████████████████████████████████████████████████</span>| 300/300 [41:29&lt;00:00, 0.12 steps/s]</pre>\n",
       "  </div>\n",
       "  <div class=\"enlighten-bar\">\n",
       "    <pre>Epoch 53  100%|<span class=\"enlighten-fg-blue\">████████████████████████████████████████████████</span>| 300/300 [40:46&lt;00:00, 0.12 steps/s]</pre>\n",
       "  </div>\n",
       "  <div class=\"enlighten-bar\">\n",
       "    <pre>Epoch 54  100%|<span class=\"enlighten-fg-blue\">████████████████████████████████████████████████</span>| 300/300 [40:06&lt;00:00, 0.12 steps/s]</pre>\n",
       "  </div>\n",
       "  <div class=\"enlighten-bar\">\n",
       "    <pre>Epoch 55  100%|<span class=\"enlighten-fg-blue\">████████████████████████████████████████████████</span>| 300/300 [39:26&lt;00:00, 0.13 steps/s]</pre>\n",
       "  </div>\n",
       "  <div class=\"enlighten-bar\">\n",
       "    <pre>Epoch 56  100%|<span class=\"enlighten-fg-blue\">████████████████████████████████████████████████</span>| 300/300 [38:41&lt;00:00, 0.13 steps/s]</pre>\n",
       "  </div>\n",
       "  <div class=\"enlighten-bar\">\n",
       "    <pre>Epoch 57  100%|<span class=\"enlighten-fg-blue\">████████████████████████████████████████████████</span>| 300/300 [38:00&lt;00:00, 0.13 steps/s]</pre>\n",
       "  </div>\n",
       "  <div class=\"enlighten-bar\">\n",
       "    <pre>Epoch 58  100%|<span class=\"enlighten-fg-blue\">████████████████████████████████████████████████</span>| 300/300 [37:19&lt;00:00, 0.13 steps/s]</pre>\n",
       "  </div>\n",
       "  <div class=\"enlighten-bar\">\n",
       "    <pre>Epoch 59  100%|<span class=\"enlighten-fg-blue\">████████████████████████████████████████████████</span>| 300/300 [36:36&lt;00:00, 0.14 steps/s]</pre>\n",
       "  </div>\n",
       "  <div class=\"enlighten-bar\">\n",
       "    <pre>Epoch 60  100%|<span class=\"enlighten-fg-blue\">████████████████████████████████████████████████</span>| 300/300 [35:52&lt;00:00, 0.14 steps/s]</pre>\n",
       "  </div>\n",
       "  <div class=\"enlighten-bar\">\n",
       "    <pre>Epoch 61  100%|<span class=\"enlighten-fg-blue\">████████████████████████████████████████████████</span>| 300/300 [35:08&lt;00:00, 0.14 steps/s]</pre>\n",
       "  </div>\n",
       "  <div class=\"enlighten-bar\">\n",
       "    <pre>Epoch 62  100%|<span class=\"enlighten-fg-blue\">████████████████████████████████████████████████</span>| 300/300 [34:10&lt;00:00, 0.15 steps/s]</pre>\n",
       "  </div>\n",
       "  <div class=\"enlighten-bar\">\n",
       "    <pre>Epoch 63  100%|<span class=\"enlighten-fg-blue\">████████████████████████████████████████████████</span>| 300/300 [33:27&lt;00:00, 0.15 steps/s]</pre>\n",
       "  </div>\n",
       "  <div class=\"enlighten-bar\">\n",
       "    <pre>Epoch 64  100%|<span class=\"enlighten-fg-blue\">████████████████████████████████████████████████</span>| 300/300 [32:46&lt;00:00, 0.15 steps/s]</pre>\n",
       "  </div>\n",
       "  <div class=\"enlighten-bar\">\n",
       "    <pre>Epoch 65  100%|<span class=\"enlighten-fg-blue\">████████████████████████████████████████████████</span>| 300/300 [32:05&lt;00:00, 0.16 steps/s]</pre>\n",
       "  </div>\n",
       "  <div class=\"enlighten-bar\">\n",
       "    <pre>Epoch 66  100%|<span class=\"enlighten-fg-blue\">████████████████████████████████████████████████</span>| 300/300 [31:24&lt;00:00, 0.16 steps/s]</pre>\n",
       "  </div>\n",
       "  <div class=\"enlighten-bar\">\n",
       "    <pre>Epoch 67  100%|<span class=\"enlighten-fg-blue\">████████████████████████████████████████████████</span>| 300/300 [30:44&lt;00:00, 0.16 steps/s]</pre>\n",
       "  </div>\n",
       "  <div class=\"enlighten-bar\">\n",
       "    <pre>Epoch 68  100%|<span class=\"enlighten-fg-blue\">████████████████████████████████████████████████</span>| 300/300 [30:02&lt;00:00, 0.17 steps/s]</pre>\n",
       "  </div>\n",
       "  <div class=\"enlighten-bar\">\n",
       "    <pre>Epoch 69  100%|<span class=\"enlighten-fg-blue\">████████████████████████████████████████████████</span>| 300/300 [29:23&lt;00:00, 0.17 steps/s]</pre>\n",
       "  </div>\n",
       "  <div class=\"enlighten-bar\">\n",
       "    <pre>Epoch 70  100%|<span class=\"enlighten-fg-blue\">████████████████████████████████████████████████</span>| 300/300 [28:39&lt;00:00, 0.17 steps/s]</pre>\n",
       "  </div>\n",
       "  <div class=\"enlighten-bar\">\n",
       "    <pre>Epoch 71  100%|<span class=\"enlighten-fg-blue\">████████████████████████████████████████████████</span>| 300/300 [27:55&lt;00:00, 0.18 steps/s]</pre>\n",
       "  </div>\n",
       "  <div class=\"enlighten-bar\">\n",
       "    <pre>Epoch 72  100%|<span class=\"enlighten-fg-blue\">████████████████████████████████████████████████</span>| 300/300 [27:12&lt;00:00, 0.18 steps/s]</pre>\n",
       "  </div>\n",
       "  <div class=\"enlighten-bar\">\n",
       "    <pre>Epoch 73  100%|<span class=\"enlighten-fg-blue\">████████████████████████████████████████████████</span>| 300/300 [26:28&lt;00:00, 0.19 steps/s]</pre>\n",
       "  </div>\n",
       "  <div class=\"enlighten-bar\">\n",
       "    <pre>Epoch 74  100%|<span class=\"enlighten-fg-blue\">████████████████████████████████████████████████</span>| 300/300 [25:45&lt;00:00, 0.19 steps/s]</pre>\n",
       "  </div>\n",
       "  <div class=\"enlighten-bar\">\n",
       "    <pre>Epoch 75  100%|<span class=\"enlighten-fg-blue\">████████████████████████████████████████████████</span>| 300/300 [25:07&lt;00:00, 0.20 steps/s]</pre>\n",
       "  </div>\n",
       "  <div class=\"enlighten-bar\">\n",
       "    <pre>Epoch 76  100%|<span class=\"enlighten-fg-blue\">████████████████████████████████████████████████</span>| 300/300 [24:24&lt;00:00, 0.20 steps/s]</pre>\n",
       "  </div>\n",
       "  <div class=\"enlighten-bar\">\n",
       "    <pre>Epoch 77  100%|<span class=\"enlighten-fg-blue\">████████████████████████████████████████████████</span>| 300/300 [23:44&lt;00:00, 0.21 steps/s]</pre>\n",
       "  </div>\n",
       "  <div class=\"enlighten-bar\">\n",
       "    <pre>Epoch 78  100%|<span class=\"enlighten-fg-blue\">████████████████████████████████████████████████</span>| 300/300 [23:05&lt;00:00, 0.22 steps/s]</pre>\n",
       "  </div>\n",
       "  <div class=\"enlighten-bar\">\n",
       "    <pre>Epoch 79  100%|<span class=\"enlighten-fg-blue\">████████████████████████████████████████████████</span>| 300/300 [22:25&lt;00:00, 0.22 steps/s]</pre>\n",
       "  </div>\n",
       "  <div class=\"enlighten-bar\">\n",
       "    <pre>Epoch 80  100%|<span class=\"enlighten-fg-blue\">████████████████████████████████████████████████</span>| 300/300 [21:42&lt;00:00, 0.23 steps/s]</pre>\n",
       "  </div>\n",
       "  <div class=\"enlighten-bar\">\n",
       "    <pre>Epoch 81  100%|<span class=\"enlighten-fg-blue\">████████████████████████████████████████████████</span>| 300/300 [20:59&lt;00:00, 0.24 steps/s]</pre>\n",
       "  </div>\n",
       "  <div class=\"enlighten-bar\">\n",
       "    <pre>Epoch 82  100%|<span class=\"enlighten-fg-blue\">████████████████████████████████████████████████</span>| 300/300 [20:15&lt;00:00, 0.25 steps/s]</pre>\n",
       "  </div>\n",
       "  <div class=\"enlighten-bar\">\n",
       "    <pre>Epoch 83  100%|<span class=\"enlighten-fg-blue\">████████████████████████████████████████████████</span>| 300/300 [19:36&lt;00:00, 0.26 steps/s]</pre>\n",
       "  </div>\n",
       "  <div class=\"enlighten-bar\">\n",
       "    <pre>Epoch 84  100%|<span class=\"enlighten-fg-blue\">████████████████████████████████████████████████</span>| 300/300 [18:54&lt;00:00, 0.26 steps/s]</pre>\n",
       "  </div>\n",
       "  <div class=\"enlighten-bar\">\n",
       "    <pre>Epoch 85  100%|<span class=\"enlighten-fg-blue\">████████████████████████████████████████████████</span>| 300/300 [18:12&lt;00:00, 0.27 steps/s]</pre>\n",
       "  </div>\n",
       "  <div class=\"enlighten-bar\">\n",
       "    <pre>Epoch 86  100%|<span class=\"enlighten-fg-blue\">████████████████████████████████████████████████</span>| 300/300 [17:31&lt;00:00, 0.29 steps/s]</pre>\n",
       "  </div>\n",
       "  <div class=\"enlighten-bar\">\n",
       "    <pre>Epoch 87  100%|<span class=\"enlighten-fg-blue\">████████████████████████████████████████████████</span>| 300/300 [16:50&lt;00:00, 0.30 steps/s]</pre>\n",
       "  </div>\n",
       "  <div class=\"enlighten-bar\">\n",
       "    <pre>Epoch 88  100%|<span class=\"enlighten-fg-blue\">████████████████████████████████████████████████</span>| 300/300 [16:07&lt;00:00, 0.31 steps/s]</pre>\n",
       "  </div>\n",
       "  <div class=\"enlighten-bar\">\n",
       "    <pre>Epoch 89  100%|<span class=\"enlighten-fg-blue\">████████████████████████████████████████████████</span>| 300/300 [15:21&lt;00:00, 0.33 steps/s]</pre>\n",
       "  </div>\n",
       "  <div class=\"enlighten-bar\">\n",
       "    <pre>Epoch 90  100%|<span class=\"enlighten-fg-blue\">████████████████████████████████████████████████</span>| 300/300 [14:40&lt;00:00, 0.34 steps/s]</pre>\n",
       "  </div>\n",
       "  <div class=\"enlighten-bar\">\n",
       "    <pre>Epoch 91  100%|<span class=\"enlighten-fg-blue\">████████████████████████████████████████████████</span>| 300/300 [13:59&lt;00:00, 0.36 steps/s]</pre>\n",
       "  </div>\n",
       "  <div class=\"enlighten-bar\">\n",
       "    <pre>Epoch 92  100%|<span class=\"enlighten-fg-blue\">████████████████████████████████████████████████</span>| 300/300 [13:17&lt;00:00, 0.38 steps/s]</pre>\n",
       "  </div>\n",
       "  <div class=\"enlighten-bar\">\n",
       "    <pre>Epoch 93  100%|<span class=\"enlighten-fg-blue\">████████████████████████████████████████████████</span>| 300/300 [12:38&lt;00:00, 0.40 steps/s]</pre>\n",
       "  </div>\n",
       "  <div class=\"enlighten-bar\">\n",
       "    <pre>Epoch 94  100%|<span class=\"enlighten-fg-blue\">████████████████████████████████████████████████</span>| 300/300 [11:55&lt;00:00, 0.42 steps/s]</pre>\n",
       "  </div>\n",
       "  <div class=\"enlighten-bar\">\n",
       "    <pre>Epoch 95  100%|<span class=\"enlighten-fg-blue\">████████████████████████████████████████████████</span>| 300/300 [11:15&lt;00:00, 0.44 steps/s]</pre>\n",
       "  </div>\n",
       "  <div class=\"enlighten-bar\">\n",
       "    <pre>Epoch 96  100%|<span class=\"enlighten-fg-blue\">████████████████████████████████████████████████</span>| 300/300 [10:36&lt;00:00, 0.47 steps/s]</pre>\n",
       "  </div>\n",
       "  <div class=\"enlighten-bar\">\n",
       "    <pre>Epoch 97  100%|<span class=\"enlighten-fg-blue\">████████████████████████████████████████████████</span>| 300/300 [09:54&lt;00:00, 0.50 steps/s]</pre>\n",
       "  </div>\n",
       "  <div class=\"enlighten-bar\">\n",
       "    <pre>Epoch 98  100%|<span class=\"enlighten-fg-blue\">████████████████████████████████████████████████</span>| 300/300 [09:13&lt;00:00, 0.54 steps/s]</pre>\n",
       "  </div>\n",
       "  <div class=\"enlighten-bar\">\n",
       "    <pre>Epoch 99  100%|<span class=\"enlighten-fg-blue\">████████████████████████████████████████████████</span>| 300/300 [08:31&lt;00:00, 0.59 steps/s]</pre>\n",
       "  </div>\n",
       "  <div class=\"enlighten-bar\">\n",
       "    <pre>Epoch 100 100%|<span class=\"enlighten-fg-blue\">████████████████████████████████████████████████</span>| 300/300 [07:46&lt;00:00, 0.64 steps/s]</pre>\n",
       "  </div>\n",
       "  <div class=\"enlighten-bar\">\n",
       "    <pre>Epoch 101 100%|<span class=\"enlighten-fg-blue\">████████████████████████████████████████████████</span>| 300/300 [07:01&lt;00:00, 0.71 steps/s]</pre>\n",
       "  </div>\n",
       "  <div class=\"enlighten-bar\">\n",
       "    <pre>Epoch 102 100%|<span class=\"enlighten-fg-blue\">████████████████████████████████████████████████</span>| 300/300 [06:17&lt;00:00, 0.80 steps/s]</pre>\n",
       "  </div>\n",
       "  <div class=\"enlighten-bar\">\n",
       "    <pre>Epoch 103 100%|<span class=\"enlighten-fg-blue\">████████████████████████████████████████████████</span>| 300/300 [05:34&lt;00:00, 0.90 steps/s]</pre>\n",
       "  </div>\n",
       "  <div class=\"enlighten-bar\">\n",
       "    <pre>Epoch 104 100%|<span class=\"enlighten-fg-blue\">████████████████████████████████████████████████</span>| 300/300 [04:53&lt;00:00, 1.03 steps/s]</pre>\n",
       "  </div>\n",
       "  <div class=\"enlighten-bar\">\n",
       "    <pre>Epoch 105 100%|<span class=\"enlighten-fg-blue\">████████████████████████████████████████████████</span>| 300/300 [04:11&lt;00:00, 1.19 steps/s]</pre>\n",
       "  </div>\n",
       "  <div class=\"enlighten-bar\">\n",
       "    <pre>Epoch 106 100%|<span class=\"enlighten-fg-blue\">████████████████████████████████████████████████</span>| 300/300 [03:30&lt;00:00, 1.43 steps/s]</pre>\n",
       "  </div>\n",
       "  <div class=\"enlighten-bar\">\n",
       "    <pre>Epoch 107 100%|<span class=\"enlighten-fg-blue\">████████████████████████████████████████████████</span>| 300/300 [02:48&lt;00:00, 1.78 steps/s]</pre>\n",
       "  </div>\n",
       "  <div class=\"enlighten-bar\">\n",
       "    <pre>Epoch 108 100%|<span class=\"enlighten-fg-blue\">████████████████████████████████████████████████</span>| 300/300 [02:08&lt;00:00, 2.35 steps/s]</pre>\n",
       "  </div>\n",
       "  <div class=\"enlighten-bar\">\n",
       "    <pre>Epoch 109 100%|<span class=\"enlighten-fg-blue\">████████████████████████████████████████████████</span>| 300/300 [01:25&lt;00:00, 3.53 steps/s]</pre>\n",
       "  </div>\n",
       "  <div class=\"enlighten-bar\">\n",
       "    <pre>Epoch 110 100%|<span class=\"enlighten-fg-blue\">████████████████████████████████████████████████</span>| 300/300 [00:43&lt;00:00, 6.99 steps/s]</pre>\n",
       "  </div>\n",
       "  <div class=\"enlighten-bar\">\n",
       "    <pre>Epoch 111  99%|<span class=\"enlighten-fg-blue\">███████████████████████████████████████████████▍</span>| 296/300 [00:43&lt;00:01, 6.88 steps/s]</pre>\n",
       "  </div>\n",
       "</div>\n"
      ],
      "text/plain": [
       "<IPython.core.display.HTML object>"
      ]
     },
     "metadata": {},
     "output_type": "display_data"
    },
    {
     "name": "stdout",
     "output_type": "stream",
     "text": [
      "Step 0, Loss (200 step avg.): 2.8205628395080566\n"
     ]
    },
    {
     "data": {
      "image/png": "[encoded data removed]",
      "text/plain": [
       "<Figure size 2160x216 with 10 Axes>"
      ]
     },
     "metadata": {
      "needs_background": "light"
     },
     "output_type": "display_data"
    },
    {
     "name": "stdout",
     "output_type": "stream",
     "text": [
      "Step 30, Loss (200 step avg.): 0.7329276454064154\n"
     ]
    },
    {
     "data": {
      "image/png": "[encoded data removed]",
      "text/plain": [
       "<Figure size 2160x216 with 10 Axes>"
      ]
     },
     "metadata": {
      "needs_background": "light"
     },
     "output_type": "display_data"
    },
    {
     "name": "stdout",
     "output_type": "stream",
     "text": [
      "Step 60, Loss (200 step avg.): 0.5687823476361447\n"
     ]
    },
    {
     "data": {
      "image/png": "[encoded data removed]",
      "text/plain": [
       "<Figure size 2160x216 with 10 Axes>"
      ]
     },
     "metadata": {
      "needs_background": "light"
     },
     "output_type": "display_data"
    },
    {
     "name": "stdout",
     "output_type": "stream",
     "text": [
      "Step 90, Loss (200 step avg.): 0.5091122015491947\n"
     ]
    },
    {
     "data": {
      "image/png": "[encoded data removed]",
      "text/plain": [
       "<Figure size 2160x216 with 10 Axes>"
      ]
     },
     "metadata": {
      "needs_background": "light"
     },
     "output_type": "display_data"
    },
    {
     "name": "stdout",
     "output_type": "stream",
     "text": [
      "Step 153, Loss (200 step avg.): 0.4577813551023409\n"
     ]
    },
    {
     "data": {
      "image/png": "[encoded data removed]",
      "text/plain": [
       "<Figure size 2160x216 with 10 Axes>"
      ]
     },
     "metadata": {
      "needs_background": "light"
     },
     "output_type": "display_data"
    },
    {
     "name": "stdout",
     "output_type": "stream",
     "text": [
      "Step 204, Loss (200 step avg.): 0.40822372389076955\n"
     ]
    },
    {
     "data": {
      "image/png": "[encoded data removed]",
      "text/plain": [
       "<Figure size 2160x216 with 10 Axes>"
      ]
     },
     "metadata": {
      "needs_background": "light"
     },
     "output_type": "display_data"
    },
    {
     "name": "stdout",
     "output_type": "stream",
     "text": [
      "Step 272, Loss (200 step avg.): 0.36728672290322795\n"
     ]
    },
    {
     "data": {
      "image/png": "[encoded data removed]",
      "text/plain": [
       "<Figure size 2160x216 with 10 Axes>"
      ]
     },
     "metadata": {
      "needs_background": "light"
     },
     "output_type": "display_data"
    },
    {
     "name": "stdout",
     "output_type": "stream",
     "text": [
      "Step 371, Loss (200 step avg.): 0.33004172324244657\n"
     ]
    },
    {
     "data": {
      "image/png": "[encoded data removed]",
      "text/plain": [
       "<Figure size 2160x216 with 10 Axes>"
      ]
     },
     "metadata": {
      "needs_background": "light"
     },
     "output_type": "display_data"
    },
    {
     "name": "stdout",
     "output_type": "stream",
     "text": [
      "Step 481, Loss (200 step avg.): 0.2966409642898028\n"
     ]
    },
    {
     "data": {
      "image/png": "[encoded data removed]",
      "text/plain": [
       "<Figure size 2160x216 with 10 Axes>"
      ]
     },
     "metadata": {
      "needs_background": "light"
     },
     "output_type": "display_data"
    },
    {
     "name": "stdout",
     "output_type": "stream",
     "text": [
      "Step 825, Loss (200 step avg.): 0.2664673782106656\n"
     ]
    },
    {
     "data": {
      "image/png": "[encoded data removed]",
      "text/plain": [
       "<Figure size 2160x216 with 10 Axes>"
      ]
     },
     "metadata": {
      "needs_background": "light"
     },
     "output_type": "display_data"
    },
    {
     "name": "stdout",
     "output_type": "stream",
     "text": [
      "Step 5549, Loss (200 step avg.): 0.23971761255270213\n"
     ]
    },
    {
     "data": {
      "image/png": "[encoded data removed]",
      "text/plain": [
       "<Figure size 2160x216 with 10 Axes>"
      ]
     },
     "metadata": {
      "needs_background": "light"
     },
     "output_type": "display_data"
    },
    {
     "name": "stdout",
     "output_type": "stream",
     "text": [
      "Step 18420, Loss (200 step avg.): 0.21539503647320307\n"
     ]
    },
    {
     "data": {
      "image/png": "[encoded data removed]",
      "text/plain": [
       "<Figure size 2160x216 with 10 Axes>"
      ]
     },
     "metadata": {
      "needs_background": "light"
     },
     "output_type": "display_data"
    }
   ],
   "source": [
    "train(n_epochs, steps_per_epoch, do_eval=True)"
   ]
  },
  {
   "cell_type": "code",
   "execution_count": null,
   "id": "b366344b-270e-458d-9da6-343959e74ba1",
   "metadata": {},
   "outputs": [],
   "source": [
    "strategy_scope.__exit__()"
   ]
  },
  {
   "cell_type": "code",
   "execution_count": null,
   "id": "d85278c3-264b-44f0-9b9b-6baffedf92d2",
   "metadata": {},
   "outputs": [],
   "source": [
    "process_batch(test_colors, test_idxs, show_input=True)"
   ]
  },
  {
   "cell_type": "code",
   "execution_count": null,
   "id": "990e1d59-dd54-4c33-8540-84e33b7dabfd",
   "metadata": {},
   "outputs": [],
   "source": [
    "model.save(f'models/{model_name}')"
   ]
  },
  {
   "cell_type": "code",
   "execution_count": null,
   "id": "02d717c1-389a-4398-a7d1-76e6b88e8b27",
   "metadata": {},
   "outputs": [],
   "source": [
    "fig, ax= plt.subplots(figsize=(16, 5))\n",
    "ax.plot(np.arange(len(loss_history)), loss_history)\n",
    "ax.set_title(\"loss_history\")\n",
    "plt.show()"
   ]
  },
  {
   "cell_type": "code",
   "execution_count": null,
   "id": "4c8cfe23-ba01-49ab-85ca-ab9e8068a003",
   "metadata": {},
   "outputs": [],
   "source": [
    "model = tf.keras.models.load_model(f'models/{model_name}')"
   ]
  },
  {
   "cell_type": "code",
   "execution_count": null,
   "id": "3b82eef3-450c-4778-9b33-3d044fc2260a",
   "metadata": {},
   "outputs": [],
   "source": []
  }
 ],
 "metadata": {
  "kernelspec": {
   "display_name": "Python 3 (ipykernel)",
   "language": "python",
   "name": "python3"
  },
  "language_info": {
   "codemirror_mode": {
    "name": "ipython",
    "version": 3
   },
   "file_extension": ".py",
   "mimetype": "text/x-python",
   "name": "python",
   "nbconvert_exporter": "python",
   "pygments_lexer": "ipython3",
   "version": "3.8.12"
  }
 },
 "nbformat": 4,
 "nbformat_minor": 5
}
