{
 "cells": [
  {
   "cell_type": "code",
   "execution_count": 1,
   "id": "a247b8c3-1a9d-42c1-bc9a-41c99ed78357",
   "metadata": {},
   "outputs": [
    {
     "name": "stdout",
     "output_type": "stream",
     "text": [
      "[PhysicalDevice(name='/physical_device:GPU:0', device_type='GPU'), PhysicalDevice(name='/physical_device:GPU:1', device_type='GPU'), PhysicalDevice(name='/physical_device:GPU:2', device_type='GPU')]\n"
     ]
    }
   ],
   "source": [
    "import os\n",
    "\n",
    "os.environ['CUDA_VISIBLE_DEVICES'] = '0,1,2'\n",
    "import tensorflow as tf\n",
    "physical_devices = tf.config.list_physical_devices('GPU')\n",
    "print(physical_devices)\n",
    "assert len(physical_devices) == 3\n",
    "# to allow other tensorflow processes to use the gpu\n",
    "# https://stackoverflow.com/a/60699372/7989988\n",
    "tf.config.experimental.set_memory_growth(physical_devices[0], True)\n",
    "tf.config.experimental.set_memory_growth(physical_devices[1], True)\n",
    "tf.config.experimental.set_memory_growth(physical_devices[2], True)\n",
    "\n",
    "import numpy as np\n",
    "from tensorflow import keras\n",
    "from tensorflow.keras import Model, Input, layers\n",
    "from IPython.display import display\n",
    "import tensorflow_datasets as tfds\n",
    "import time\n",
    "import matplotlib.pyplot as plt\n",
    "import enlighten\n",
    "import tensorflow_probability as tfp\n",
    "from dotmap import DotMap"
   ]
  },
  {
   "cell_type": "code",
   "execution_count": 2,
   "id": "0e9d8b7f-1fa3-4787-8eb7-a341e673ce60",
   "metadata": {},
   "outputs": [],
   "source": [
    "import models\n",
    "import training\n",
    "import datasets\n",
    "import vizualization\n",
    "import schedules\n",
    "\n",
    "# todo\n",
    "# - combine shuffled and unshuffled datasets into same thing\n",
    "# - add extra shuffled indices and noise\n",
    "# - add \"noise fraction\" parameter which can be changed the same way as the \"n\" parameter.\n",
    "# - add different amounts of noise to the data and see what happens"
   ]
  },
  {
   "cell_type": "code",
   "execution_count": null,
   "id": "03f5e919-0e3b-472e-afd4-6b24405bc09c",
   "metadata": {},
   "outputs": [],
   "source": [
    "\n"
   ]
  },
  {
   "cell_type": "code",
   "execution_count": 3,
   "id": "9664a41e-2373-4007-ad5b-04367635212a",
   "metadata": {},
   "outputs": [],
   "source": [
    "config = DotMap({\n",
    "    'ds': 'mnist',\n",
    "    'distributed': True,\n",
    "    'shuffle': True,\n",
    "    'minibatch_size': 24,\n",
    "    'n_steps': 120001,\n",
    "    'test_size': 300,\n",
    "    'test_minibatch_size': 25,\n",
    "    'test_interval': 500,\n",
    "    'test_n_shuf': [392, 1, 64, 128, 256],\n",
    "    'test_n_seq': [392, 1, 128, 256, 512],\n",
    "    'test_autoregressive': False,\n",
    "    'noise_fraction': None,\n",
    "    'display_images': True,\n",
    "    'display_image_interval': 500,\n",
    "    'dont_display_until_loss': 0.48,\n",
    "    'bg_color': [1.0, 0.4, 0.6],\n",
    "    'lr_schedule': ['constant', 0.0004],\n",
    "    'lr_warmup': 100,\n",
    "    'grad_accum_steps': None, #['exponential', 1, 4],\n",
    "    'max_accum_steps': 4,\n",
    "    'use_wandb': True,\n",
    "    'wandb_log_interval': 10,\n",
    "    'loss_window_size': 80,\n",
    "    'kmeans_batch_size': 1000,\n",
    "    'mixed_float': False,\n",
    "    'continuous': False,\n",
    "    'n_logistic_mix_components': 1,\n",
    "})\n",
    "\n",
    "config.discrete = not config.continuous\n",
    "\n",
    "# need to change for multiworkerstrategy\n",
    "if config.distributed:\n",
    "    config.num_devices = len(physical_devices)\n",
    "else:\n",
    "    config.num_devices = 1\n",
    "config.global_batch_size = config.minibatch_size * config.num_devices"
   ]
  },
  {
   "cell_type": "code",
   "execution_count": 4,
   "id": "fee847f8-c7e5-4889-af95-b4e635213d46",
   "metadata": {},
   "outputs": [
    {
     "name": "stdout",
     "output_type": "stream",
     "text": [
      "Example integers sampled from gamma distribution.\n",
      "tf.Tensor(\n",
      "[361 135  91 334 128 428 215  38 172 112   9  96  14 383 113  70 399 159\n",
      " 291 285 125 128  61  60 307 170  39 240  50  48 117  62 193 135 227 199\n",
      "  39  95 276 365 762  20  50 104   9  93 197 308 187 407 269  50  10  59\n",
      "   7 108 310 225  54  72  53 393 338  58 216 205 486  86 222  66 193   3\n",
      " 191 101 269 149  32 104 344  21 136  96 150  20 150  19 209  26 341 286\n",
      " 412 128 388  26  56 180  14 102 274 108], shape=(100,), dtype=int32)\n",
      "Init 1/3 with method k-means++\n",
      "Inertia for init 1/3: 0.9286274917489564\n",
      "Init 2/3 with method k-means++\n",
      "Inertia for init 2/3: 0.874171501830961\n",
      "Init 3/3 with method k-means++\n",
      "Inertia for init 3/3: 1.2446752530391316\n",
      "Minibatch step 1/100: mean batch inertia: 0.000880587576473289\n",
      "Minibatch step 2/100: mean batch inertia: 0.0008991699353384014, ewa inertia: 0.0008991699353384014\n",
      "Minibatch step 3/100: mean batch inertia: 0.0006180408653496062, ewa inertia: 0.0006180408653496062\n",
      "Minibatch step 4/100: mean batch inertia: 0.0006503968536105811, ewa inertia: 0.0006503968536105811\n",
      "Minibatch step 5/100: mean batch inertia: 0.0010069018874503135, ewa inertia: 0.0010069018874503135\n",
      "Minibatch step 6/100: mean batch inertia: 0.0007395190504477825, ewa inertia: 0.0007395190504477825\n",
      "Minibatch step 7/100: mean batch inertia: 0.0008160938140279235, ewa inertia: 0.0008160938140279235\n",
      "Minibatch step 8/100: mean batch inertia: 0.001111092831798516, ewa inertia: 0.001111092831798516\n",
      "Minibatch step 9/100: mean batch inertia: 0.0005964470495913072, ewa inertia: 0.0005964470495913072\n",
      "Minibatch step 10/100: mean batch inertia: 0.0007608930201449472, ewa inertia: 0.0007608930201449472\n",
      "Minibatch step 11/100: mean batch inertia: 0.0008077589634602917, ewa inertia: 0.0008077589634602917\n",
      "Minibatch step 12/100: mean batch inertia: 0.0006526267960800273, ewa inertia: 0.0006526267960800273\n",
      "Minibatch step 13/100: mean batch inertia: 0.0005809080639495705, ewa inertia: 0.0005809080639495705\n",
      "Minibatch step 14/100: mean batch inertia: 0.0008586142867456559, ewa inertia: 0.0008586142867456559\n",
      "Minibatch step 15/100: mean batch inertia: 0.0006001536088906739, ewa inertia: 0.0006001536088906739\n",
      "Minibatch step 16/100: mean batch inertia: 0.0009665024547495385, ewa inertia: 0.0009665024547495385\n",
      "Minibatch step 17/100: mean batch inertia: 0.000740733101197737, ewa inertia: 0.000740733101197737\n",
      "Minibatch step 18/100: mean batch inertia: 0.0009068468410744377, ewa inertia: 0.0009068468410744377\n",
      "Minibatch step 19/100: mean batch inertia: 0.0006149552339986612, ewa inertia: 0.0006149552339986612\n",
      "Minibatch step 20/100: mean batch inertia: 0.0007486904261191096, ewa inertia: 0.0007486904261191096\n",
      "Minibatch step 21/100: mean batch inertia: 0.0009619714945355799, ewa inertia: 0.0009619714945355799\n",
      "Minibatch step 22/100: mean batch inertia: 0.0010405124950510674, ewa inertia: 0.0010405124950510674\n",
      "Minibatch step 23/100: mean batch inertia: 0.0005779035719383643, ewa inertia: 0.0005779035719383643\n",
      "Minibatch step 24/100: mean batch inertia: 0.0006673391275399245, ewa inertia: 0.0006673391275399245\n",
      "Minibatch step 25/100: mean batch inertia: 0.0009198853998727801, ewa inertia: 0.0009198853998727801\n",
      "Minibatch step 26/100: mean batch inertia: 0.0008586472225150265, ewa inertia: 0.0008586472225150265\n",
      "Minibatch step 27/100: mean batch inertia: 0.0008322545032599169, ewa inertia: 0.0008322545032599169\n",
      "Minibatch step 28/100: mean batch inertia: 0.0008667997991431411, ewa inertia: 0.0008667997991431411\n",
      "Minibatch step 29/100: mean batch inertia: 0.000836995159134191, ewa inertia: 0.000836995159134191\n",
      "Minibatch step 30/100: mean batch inertia: 0.0008081000497793195, ewa inertia: 0.0008081000497793195\n",
      "Minibatch step 31/100: mean batch inertia: 0.0008807418939273602, ewa inertia: 0.0008807418939273602\n",
      "Minibatch step 32/100: mean batch inertia: 0.0007274288566579127, ewa inertia: 0.0007274288566579127\n",
      "Minibatch step 33/100: mean batch inertia: 0.0007192909965733563, ewa inertia: 0.0007192909965733563\n",
      "Converged (lack of improvement in inertia) at step 33/100\n",
      "centroids.shape (4, 1)\n",
      "before quant (784, 1)\n",
      "after  quant (784,)\n",
      "before quant (784, 1)\n",
      "after  quant (784,)\n",
      "WARNING:tensorflow:@custom_gradient grad_fn has 'variables' in signature, but no ResourceVariables were used on the forward pass.\n"
     ]
    },
    {
     "name": "stderr",
     "output_type": "stream",
     "text": [
      "WARNING:tensorflow:@custom_gradient grad_fn has 'variables' in signature, but no ResourceVariables were used on the forward pass.\n"
     ]
    },
    {
     "name": "stdout",
     "output_type": "stream",
     "text": [
      "Not using gradient accumulation\n"
     ]
    },
    {
     "data": {
      "image/png": "[encoded data removed]",
      "text/plain": [
       "<Figure size 432x288 with 1 Axes>"
      ]
     },
     "metadata": {
      "needs_background": "light"
     },
     "output_type": "display_data"
    },
    {
     "data": {
      "image/png": "[encoded data removed]",
      "text/plain": [
       "<Figure size 432x288 with 1 Axes>"
      ]
     },
     "metadata": {
      "needs_background": "light"
     },
     "output_type": "display_data"
    }
   ],
   "source": [
    "# idea is to not have to re-run this cell for subsequent training runs unless the centroids change\n",
    "\n",
    "ds_configs = DotMap({\n",
    "    'mnist': {\n",
    "        'buffer_size': 60000,\n",
    "        'name': 'mnist',\n",
    "        'n_colors': 4,\n",
    "        'n_color_dims': 1,\n",
    "        'image_size': (28, 28),\n",
    "    },\n",
    "    'mnist_7x7': {\n",
    "        'buffer_size': 60000,\n",
    "        'name': 'mnist',\n",
    "        'n_colors': 4,\n",
    "        'n_color_dims': 1,\n",
    "        'rescale': (7, 7),\n",
    "    },\n",
    "    'mnist_binary_7x7': {\n",
    "        'buffer_size': 60000,\n",
    "        'name': 'mnist',\n",
    "        'n_colors': 2,\n",
    "        'n_color_dims': 1,\n",
    "        'rescale': (7, 7),\n",
    "    },\n",
    "    'celeb': {\n",
    "        'name': 'celeb_a',\n",
    "        'buffer_size': 10000,\n",
    "        'n_colors': 16,\n",
    "        'n_color_dims': 3,\n",
    "        'image_size': (218, 178),\n",
    "        'rescale': (32, 39),\n",
    "    }\n",
    "})\n",
    "\n",
    "config.dataset = ds_configs[config.ds]\n",
    "config.dataset.seq_length = config.dataset.image_size[0]*config.dataset.image_size[1]*config.dataset.n_color_dims\n",
    "gamma_dist, gamma_name = datasets.mnist_gamma_distribution()\n",
    "datasets.plot_distribution(config, gamma_dist, gamma_name)\n",
    "\n",
    "dataset, metadata = tfds.load(config.dataset.name, with_info=True, as_supervised=True)\n",
    "\n",
    "ds_train_original = dataset['train']\n",
    "ds_test_original = dataset['test']\n",
    "\n",
    "centroids = datasets.find_centroids(config, ds_train_original)\n",
    "\n",
    "ds = datasets.Datasets(config, ds_train_original, ds_test_original, centroids, gamma_dist)\n",
    "viz = vizualization.Viz(config, ds, centroids)\n",
    "ds_train, ds_test = ds.make_datasets()\n"
   ]
  },
  {
   "cell_type": "code",
   "execution_count": 5,
   "id": "462f03d4-5dbc-4c9e-b1a5-2f70381fbd94",
   "metadata": {},
   "outputs": [
    {
     "data": {
      "image/png": "[encoded data removed]",
      "text/plain": [
       "<Figure size 1944x216 with 9 Axes>"
      ]
     },
     "metadata": {
      "needs_background": "light"
     },
     "output_type": "display_data"
    }
   ],
   "source": [
    "display_colors, display_idxs, *_ = next(iter(ds_train))\n",
    "if config.grad_accum_steps:\n",
    "    display_colors,display_idxs = display_colors[0],display_idxs[0]\n",
    "if config.continuous:\n",
    "    display_colors = ds.reinvent_color_dim(display_colors)\n",
    "viz.showSeq(display_colors, display_idxs, config.dataset.image_size, do_unquantize=config.discrete, max_images=9)"
   ]
  },
  {
   "cell_type": "code",
   "execution_count": 7,
   "id": "cffaf944-1a78-4029-99bd-04c99a9fbf45",
   "metadata": {},
   "outputs": [
    {
     "data": {
      "image/png": "[encoded data removed]",
      "text/plain": [
       "<Figure size 1728x216 with 8 Axes>"
      ]
     },
     "metadata": {
      "needs_background": "light"
     },
     "output_type": "display_data"
    },
    {
     "data": {
      "image/png": "[encoded data removed]",
      "text/plain": [
       "<Figure size 1728x216 with 8 Axes>"
      ]
     },
     "metadata": {
      "needs_background": "light"
     },
     "output_type": "display_data"
    },
    {
     "data": {
      "image/png": "[encoded data removed]",
      "text/plain": [
       "<Figure size 1728x216 with 8 Axes>"
      ]
     },
     "metadata": {
      "needs_background": "light"
     },
     "output_type": "display_data"
    },
    {
     "data": {
      "image/png": "[encoded data removed]",
      "text/plain": [
       "<Figure size 1728x216 with 8 Axes>"
      ]
     },
     "metadata": {
      "needs_background": "light"
     },
     "output_type": "display_data"
    }
   ],
   "source": [
    "x_idx = tf.range(784)\n",
    "pos_enc = models.pos_enc(n_dims=16, scale=100)\n",
    "x = models.dual_positional_encoding((28,28), pos_enc)(x_idx)\n",
    "x = x / 2. + 0.5\n",
    "x = tf.expand_dims(tf.transpose(x), -1)\n",
    "x_idx = tf.tile(x_idx[None, :], [16, 1])\n",
    "viz.showSeq(x[:8], x_idx[:8], (28, 28), 8)\n",
    "viz.showSeq(x[8:16], x_idx[8:16], (28, 28), 8)\n",
    "viz.showSeq(x[16:24], x_idx[16:24], (28, 28), 8)\n",
    "viz.showSeq(x[24:], x_idx[24:], (28, 28), 8)"
   ]
  },
  {
   "cell_type": "code",
   "execution_count": null,
   "id": "636a3bbc-bc94-4fa4-9966-45fd3e96fa02",
   "metadata": {
    "tags": []
   },
   "outputs": [],
   "source": [
    "\n",
    "\n",
    "# model config\n",
    "config.model = DotMap({\n",
    "    'n_colors': config.dataset.n_colors,\n",
    "    'n_color_dims': config.dataset.n_color_dims,\n",
    "    'image_size': config.dataset.image_size,\n",
    "    'seq_len': config.dataset.image_size[0] * config.dataset.image_size[1],\n",
    "    'n_enc_a_layers': 6,\n",
    "    'n_enc_b_layers': 3,\n",
    "    'ffl_dim': 512,\n",
    "    'embd_dim': 512,\n",
    "    'n_dec_layers': 1,\n",
    "    'dec_dim': 400,\n",
    "    'n_heads': 8,\n",
    "    'dropout_rate': 0.1,\n",
    "    'use_idxs_input': True,\n",
    "    'architecture': 'deberta_anp',\n",
    "    'position_embedding': 'pos_enc',\n",
    "    'use_relative_positions': False,\n",
    "    'activation': 'swish',\n",
    "    'n_logistic_mix_components': config.n_logistic_mix_components\n",
    "})\n",
    "\n",
    "if config.distributed == False:\n",
    "    strategy = tf.distribute.get_strategy()\n",
    "else:\n",
    "    strategy = tf.distribute.MirroredStrategy()\n",
    "\n",
    "with strategy.scope():\n",
    "    model = models.transformer(config.model)\n",
    "    # Adam params taken from the linked notebook\n",
    "    optimizer = keras.optimizers.Adam(learning_rate=schedules.learning_rate_schedule(config))\n",
    "\n",
    "if config.distributed:\n",
    "    ds_train = strategy.experimental_distribute_dataset(ds_train)\n",
    "\n",
    "config.training_mode = 'full_combination'\n",
    "\n",
    "import socket\n",
    "model_name = models.model_name(config)\n",
    "print(model_name)\n",
    "# model.summary()"
   ]
  },
  {
   "cell_type": "code",
   "execution_count": null,
   "id": "d62aed9f-9442-46ac-884e-2dd4be134cbc",
   "metadata": {},
   "outputs": [],
   "source": [
    "evaler = training.Evaluator(config, model, optimizer, viz, ds, ds_train, ds_test)\n",
    "\n",
    "training_loop = training.TrainingLoop(config, evaler, model_name)"
   ]
  },
  {
   "cell_type": "code",
   "execution_count": null,
   "id": "d75d115b-dc33-4894-aa46-824a0446e2d5",
   "metadata": {
    "tags": []
   },
   "outputs": [],
   "source": [
    "\n",
    "\n",
    "with strategy.scope():\n",
    "    training_loop.train()"
   ]
  },
  {
   "cell_type": "code",
   "execution_count": null,
   "id": "5666655d-f24d-43c1-a085-a13d6df25fd6",
   "metadata": {},
   "outputs": [],
   "source": [
    "model.save(f\"models/{model_name}\")"
   ]
  },
  {
   "cell_type": "code",
   "execution_count": null,
   "id": "abec3144-404e-4772-92f1-7038a1772270",
   "metadata": {
    "tags": []
   },
   "outputs": [],
   "source": [
    "evaler.process_batch(show_input=True)\n",
    "evaler.new_test_batch()\n",
    "evaler.process_batch(show_input=True)"
   ]
  },
  {
   "cell_type": "code",
   "execution_count": null,
   "id": "e7c19055-3dc4-460b-bc73-7555ddf1b3e2",
   "metadata": {},
   "outputs": [],
   "source": []
  },
  {
   "cell_type": "code",
   "execution_count": null,
   "id": "37ffeacb-7ace-440f-9338-80db930ccf0a",
   "metadata": {},
   "outputs": [],
   "source": []
  },
  {
   "cell_type": "markdown",
   "id": "5a110310-ed51-43cc-9a8c-e56544e98d55",
   "metadata": {},
   "source": [
    "#### "
   ]
  }
 ],
 "metadata": {
  "kernelspec": {
   "display_name": "Python 3 (ipykernel)",
   "language": "python",
   "name": "python3"
  },
  "language_info": {
   "codemirror_mode": {
    "name": "ipython",
    "version": 3
   },
   "file_extension": ".py",
   "mimetype": "text/x-python",
   "name": "python",
   "nbconvert_exporter": "python",
   "pygments_lexer": "ipython3",
   "version": "3.8.12"
  }
 },
 "nbformat": 4,
 "nbformat_minor": 5
}
